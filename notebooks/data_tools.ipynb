{
 "cells": [
  {
   "cell_type": "markdown",
   "metadata": {},
   "source": [
    "# Importing Files"
   ]
  },
  {
   "cell_type": "code",
   "execution_count": 1,
   "metadata": {
    "collapsed": false
   },
   "outputs": [],
   "source": [
    "import sys\n",
    "sys.path.insert(0, '../modules')\n",
    "from pprint import pprint\n",
    "from hits import CDCHits, CTHHits, CyDetHits, FlatHits"
   ]
  },
  {
   "cell_type": "code",
   "execution_count": 2,
   "metadata": {
    "collapsed": true
   },
   "outputs": [],
   "source": [
    "# Dictionary of cuts to make as we import\n",
    "def data_get_cuts(needed_cuts, signal=False):\n",
    "    \"\"\"\n",
    "    Naming the cuts in a dictionary to use when importing the file\n",
    "    \n",
    "    Allowed cuts:\n",
    "        Track = Pass Track quality cuy\n",
    "        Trig = Pass CTH trigger\n",
    "        500 = 500 ns lower window\n",
    "        700 = 700 ns lower window\n",
    "    \"\"\"\n",
    "    cuts = dict()\n",
    "    geoms = [\"CDC\", \"CTH\"]\n",
    "    t_names = [\"DetectedTime\", \"MCPos.fE\"]\n",
    "    if needed_cuts is None:\n",
    "        cuts = {\"CDC\":None, \n",
    "                \"CTH\":None}\n",
    "        return cuts\n",
    "    # This is getting more complicated than its worth...\n",
    "    for key, time_name in zip(geoms, t_names):\n",
    "        prefix = key +\"Hit.f\"\n",
    "        time_name = prefix + time_name\n",
    "        cuts[key] = dict()\n",
    "        # We already know about signal and triggering\n",
    "        if signal:\n",
    "            for key_cut in [\"Track\", \"Trig\"]:\n",
    "                cuts[key][key_cut] = \"{}Good{} == 1\".format(prefix, key_cut)\n",
    "        # Here are some timing cuts\n",
    "        for key_time in [\"500\", \"700\"]:\n",
    "            cuts[key][key_time] = \"{} < 1620 && \".format(time_name)+\\\n",
    "                                  \"{} > {}\".format(time_name,key_time)\n",
    "    for geo in geoms:\n",
    "        cuts[geo] = \" && \".join([cuts[geo].get(cut,\"1 == 1\") for cut in needed_cuts])\n",
    "    print(\"Using cuts\")\n",
    "    pprint(cuts, indent=2)\n",
    "    return cuts"
   ]
  },
  {
   "cell_type": "code",
   "execution_count": 4,
   "metadata": {
    "collapsed": false
   },
   "outputs": [],
   "source": [
    "def data_import_file(file_name, signal=True, use_cuts=None, \n",
    "                     branches=None, empty_branches=None):\n",
    "    \"\"\"\n",
    "    Import a signal file, with both CTH and CDC hits\n",
    "    \n",
    "    :param file_name: name of the required file\n",
    "    :use_cuts: name of cuts in cuts dictionary to use\n",
    "    :branches: branches to import from each tree\n",
    "  \n",
    "    Allowed cuts:\n",
    "        Track = Pass Track quality cuy\n",
    "        Trig = Pass CTH trigger\n",
    "        500 = 500 ns lower window\n",
    "        700 = 700 ns lower window\n",
    "    \"\"\"\n",
    "    # Get the cuts we asked for\n",
    "    some_cuts = data_get_cuts(use_cuts, signal=signal)\n",
    "    if not isinstance(branches, dict) and branches is not None:\n",
    "        branches = dict()\n",
    "    # Import the files with the cuts\n",
    "    print(\"Getting branches\")\n",
    "    pprint(branches)\n",
    "    cdc_sample = CDCHits(file_name, \n",
    "                         tree=\"CDCHitTree\",\n",
    "                         selection=some_cuts[\"CDC\"],\n",
    "                         branches=branches.get(\"CDC\",None),\n",
    "                         empty_branches=empty_branches)\n",
    "    cth_sample = CTHHits(file_name, \n",
    "                         tree=\"CTHHitTree\",\n",
    "                         selection=some_cuts[\"CTH\"],\n",
    "                         branches=branches.get(\"CTH\",None))\n",
    "    hit_samp = CyDetHits(cdc_sample, cth_sample)\n",
    "    # Set the trigger time\n",
    "    if signal:\n",
    "        hit_samp.cth.set_trigger_time()\n",
    "    # Remove the smear branch\n",
    "    return hit_samp"
   ]
  },
  {
   "cell_type": "code",
   "execution_count": 7,
   "metadata": {
    "collapsed": true
   },
   "outputs": [],
   "source": [
    "def data_import_sample(this_signal, this_background, \n",
    "                       these_cuts=None, branches=None,\n",
    "                       empty_branches=None):\n",
    "    \"\"\"\n",
    "    Import both files and keep the number of events in the background sample\n",
    "    NOTE: we assume the signal sample is larger\n",
    "    \n",
    "    Allowed cuts:\n",
    "        Track = Pass Track quality cuy\n",
    "        Trig = Pass CTH trigger\n",
    "        500 = 500 ns lower window\n",
    "        700 = 700 ns lower window\n",
    "    \"\"\"\n",
    "    # Import the files\n",
    "    back_hits = data_import_file(this_background, signal=False, \n",
    "                                 use_cuts=these_cuts, branches=branches,\n",
    "                                 empty_branches=empty_branches)\n",
    "    sig_hits = data_import_file(this_signal, signal=True,\n",
    "                                use_cuts=these_cuts, branches=branches,\n",
    "                                empty_branches=empty_branches)\n",
    "    # Trim the uncommon events\n",
    "    sig_hits.keep_common_events()\n",
    "    back_hits.keep_common_events()\n",
    "    # Keep a random number of events\n",
    "    more_events = max(sig_hits.n_events, back_hits.n_events)\n",
    "    less_events = min(sig_hits.n_events, back_hits.n_events)\n",
    "    events_to_keep = np.random.permutation(np.arange(0, more_events))[:less_events]\n",
    "    # Trim the larger set\n",
    "    if more_events == sig_hits.n_events:\n",
    "        print(\"Trimming Signal Events\")\n",
    "        event_numbers = np.unique(sig_hits.cdc.get_events()[sig_hits.cdc.key_name])[events_to_keep]\n",
    "        sig_hits.cdc.trim_events(event_numbers) \n",
    "        sig_hits.cth.trim_events(event_numbers) \n",
    "    else:\n",
    "        print(\"Trimming Background Events\")\n",
    "        event_numbers = np.unique(back_hits.cdc.get_events()[back_hits.cdc.key_name])[events_to_keep]\n",
    "        back_hits.cdc.trim_events(event_numbers) \n",
    "        back_hits.cth.trim_events(event_numbers) \n",
    "    print((\"CTH Sig Events {} \".format(sig_hits.cth.n_events)))\n",
    "    print((\"CTH Back Events {} \".format(back_hits.cth.n_events)))\n",
    "    print((\"CDC Sig Events {} \".format(sig_hits.cth.n_events)))\n",
    "    print((\"CDC Back Events {} \".format(back_hits.cth.n_events)))\n",
    "    back_hits.cdc.add_hits(sig_hits.cdc.data)\n",
    "    back_hits.cth.add_hits(sig_hits.cth.data)\n",
    "    back_hits.set_trigger_time()\n",
    "    back_hits.n_events = back_hits.cdc.n_events\n",
    "    return back_hits"
   ]
  },
  {
   "cell_type": "code",
   "execution_count": null,
   "metadata": {
    "collapsed": true
   },
   "outputs": [],
   "source": [
    "def data_remove_coincidence(sample):\n",
    "    # Get the energy deposition summed\n",
    "    all_events = np.arange(sample.cdc.n_events)\n",
    "    edep_sparse = scipy.sparse.lil_matrix((sample.cdc.n_events, sample.cdc.geom.n_points))\n",
    "    for evt in all_events:\n",
    "        meas = sample.cdc.get_events(evt)[sample.cdc.edep_name]\n",
    "        # Get the wire_ids of the hit data\n",
    "        wire_ids = sample.cdc.get_hit_vols(evt, unique=False)\n",
    "        edep_sparse[evt,wire_ids] += meas\n",
    "    # Sort by hit type name to keep signal hits preferentiably\n",
    "    sample.cdc.sort_hits(sample.cdc.hit_type_name, ascending=False, reset_index=True)\n",
    "    hit_indexes = sample.cdc.get_measurement(sample.cdc.hits_index_name, all_events)\n",
    "    # Remove the hits that are not needed\n",
    "    sample.cdc.trim_hits(sample.cdc.hits_index_name, values=hit_indexes)\n",
    "    all_events = np.arange(sample.cdc.n_events)\n",
    "    # Get the wire_ids and event_ids of the hit data\n",
    "    wire_ids = sample.cdc.get_hit_vols(all_events, unique=False)\n",
    "    # Map the evnt_ids to the minimal continous set\n",
    "    evnt_ids = np.repeat(np.arange(all_events.size),\n",
    "                         sample.cdc.event_to_n_hits[all_events])\n",
    "    # Force the new edep values onto the sample\n",
    "    hit_indexes = sample.cdc.get_measurement(sample.cdc.hits_index_name, all_events).astype(int)\n",
    "    sample.cdc.data[sample.cdc.edep_name][hit_indexes] = edep_sparse[evnt_ids, wire_ids].toarray()"
   ]
  },
  {
   "cell_type": "code",
   "execution_count": 1,
   "metadata": {
    "collapsed": true
   },
   "outputs": [],
   "source": [
    "def data_get_measurment_and_neighbours(hit_sample, measurement, events=None, digitize=False, bins=None,\n",
    "                                       **kwargs):\n",
    "    \"\"\"\n",
    "    Get the measurement on the wire and its neighbours in a classification-friendly way\n",
    "    \n",
    "    :return: a list of three numpy arrays of measurement 1) on wire, 2) to left, 3) to right\n",
    "    \"\"\"\n",
    "    if digitize:\n",
    "        return [np.digitize(hit_sample.get_measurement(measurement, \n",
    "                                       events, \n",
    "                                       shift=i, \n",
    "                                       only_hits=True, \n",
    "                                       flatten=True, **kwargs), bins=bins) \n",
    "                for i in [0,-1,1]]\n",
    "    else:\n",
    "        return [hit_sample.get_measurement(measurement, \n",
    "                                           events, \n",
    "                                           shift=i, \n",
    "                                           only_hits=True, \n",
    "                                           flatten=True, **kwargs) \n",
    "                    for i in [0,-1,1]]"
   ]
  },
  {
   "cell_type": "code",
   "execution_count": 2,
   "metadata": {
    "collapsed": true
   },
   "outputs": [],
   "source": [
    "def data_get_occupancy(cdc_sample):\n",
    "    \"\"\"\n",
    "    Returns sig_occ, back_occ, total_occ\n",
    "    \"\"\"\n",
    "    sig_occ, back_occ, occ = list(), list(), list()\n",
    "    for event in range(cdc_sample.n_events):\n",
    "        sig_occ += [len(np.unique(cdc_sample.get_signal_hits(event)[cdc_sample.flat_name]))]\n",
    "        back_occ += [len(np.unique(cdc_sample.get_background_hits(event)[cdc_sample.flat_name]))]\n",
    "        occ += [len(np.unique(cdc_sample.get_events(event)[cdc_sample.flat_name]))]  \n",
    "        \n",
    "    # print some infor\n",
    "    avg_n_hits = np.average(cdc_sample.event_to_n_hits)\n",
    "    avg_occ = np.average(occ)\n",
    "    print((\"Sig Occ: {} , Back Occ : {}\".format(np.average(sig_occ), np.average(back_occ))))\n",
    "    print((\"All Occ: {}, {}\".format(avg_occ, avg_occ/4482.)))\n",
    "    print((\"NumHits: {}\".format(avg_n_hits)))\n",
    "    print((\"MinChansMultiHit: {}\".format((avg_n_hits - avg_occ)/float(avg_occ))))\n",
    "    \n",
    "    return sig_occ, back_occ, occ"
   ]
  },
  {
   "cell_type": "code",
   "execution_count": null,
   "metadata": {
    "collapsed": true
   },
   "outputs": [],
   "source": []
  }
 ],
 "metadata": {
  "kernelspec": {
   "display_name": "Python 3",
   "language": "python",
   "name": "python3"
  },
  "language_info": {
   "codemirror_mode": {
    "name": "ipython",
    "version": 3
   },
   "file_extension": ".py",
   "mimetype": "text/x-python",
   "name": "python",
   "nbconvert_exporter": "python",
   "pygments_lexer": "ipython3",
   "version": "3.4.5"
  },
  "varInspector": {
   "cols": {
    "lenName": 16,
    "lenType": 16,
    "lenVar": 40
   },
   "kernels_config": {
    "python": {
     "delete_cmd_postfix": "",
     "delete_cmd_prefix": "del ",
     "library": "var_list.py",
     "varRefreshCmd": "print(var_dic_list())"
    },
    "r": {
     "delete_cmd_postfix": ") ",
     "delete_cmd_prefix": "rm(",
     "library": "var_list.r",
     "varRefreshCmd": "cat(var_dic_list()) "
    }
   },
   "types_to_exclude": [
    "module",
    "function",
    "builtin_function_or_method",
    "instance",
    "_Feature"
   ],
   "window_display": false
  }
 },
 "nbformat": 4,
 "nbformat_minor": 1
}
