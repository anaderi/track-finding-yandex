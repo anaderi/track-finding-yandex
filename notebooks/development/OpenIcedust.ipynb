{
 "cells": [
  {
   "cell_type": "code",
   "execution_count": 5,
   "metadata": {},
   "outputs": [
    {
     "data": {
      "text/plain": [
       "1"
      ]
     },
     "execution_count": 5,
     "metadata": {},
     "output_type": "execute_result"
    }
   ],
   "source": [
    "import ROOT\n",
    "ROOT.gSystem.Load(ROOT.gSystem.DynamicPathName(\"libGeom.so\"));\n",
    "ROOT.gSystem.Load(ROOT.gSystem.DynamicPathName(\"libPhysics.so\"));\n",
    "ROOT.gSystem.Load(ROOT.gSystem.DynamicPathName(\"libTree.so\"));\n",
    "ROOT.gSystem.Load(ROOT.gSystem.DynamicPathName(\"libHist.so\"));\n",
    "ROOT.gSystem.Load(\"$OAEVENTROOT/$OAEVENTCONFIG/liboaEvent\")\n",
    "ROOT.gSystem.Load(\"$OARUNTIMEPARAMETERSROOT/$OARUNTIMEPARAMETERSCONFIG/liboaRuntimeParameters\")\n",
    "ROOT.gSystem.Load(\"$OAROOTRACKERROOT/$OAROOTRACKERCONFIG/liboaRooTracker\")\n",
    "ROOT.gSystem.Load(\"$ANALYSISBASEROOT/$ANALYSISBASECONFIG/libAnalysisBase\")"
   ]
  },
  {
   "cell_type": "code",
   "execution_count": 6,
   "metadata": {},
   "outputs": [],
   "source": [
    "from ROOT import COMET"
   ]
  },
  {
   "cell_type": "code",
   "execution_count": 7,
   "metadata": {},
   "outputs": [
    {
     "data": {
      "text/plain": [
       "True"
      ]
     },
     "execution_count": 7,
     "metadata": {},
     "output_type": "execute_result"
    }
   ],
   "source": [
    "input_file = COMET.ICOMETInput(\"smallFile.root\")\n",
    "input_file.IsAttached()"
   ]
  },
  {
   "cell_type": "code",
   "execution_count": 9,
   "metadata": {},
   "outputs": [],
   "source": [
    "first_event = input_file.ReadEvent(0)\n",
    "tracks = first_event.FindDatum(\"truth\")"
   ]
  },
  {
   "cell_type": "code",
   "execution_count": 10,
   "metadata": {},
   "outputs": [
    {
     "name": "stdout",
     "output_type": "stream",
     "text": [
      "BackWallCentre_pv_4_0\n"
     ]
    }
   ],
   "source": [
    "m1 = ROOT.TGeoManager.Import(\"smallFile.root\")\n",
    "ROOT.gGeoManager = m1\n",
    "m1.PushPath()\n",
    "m1.GetTopNode().cd()\n",
    "title = m1.FindNode(0, 0, 1000).GetName()\n",
    "m1.PopPath()\n",
    "print(title)"
   ]
  }
 ],
 "metadata": {
  "kernelspec": {
   "display_name": "Python 2",
   "language": "python",
   "name": "python2"
  },
  "language_info": {
   "codemirror_mode": {
    "name": "ipython",
    "version": 2
   },
   "file_extension": ".py",
   "mimetype": "text/x-python",
   "name": "python",
   "nbconvert_exporter": "python",
   "pygments_lexer": "ipython2",
   "version": "2.7.13"
  },
  "varInspector": {
   "cols": {
    "lenName": 16,
    "lenType": 16,
    "lenVar": 40
   },
   "kernels_config": {
    "python": {
     "delete_cmd_postfix": "",
     "delete_cmd_prefix": "del ",
     "library": "var_list.py",
     "varRefreshCmd": "print(var_dic_list())"
    },
    "r": {
     "delete_cmd_postfix": ") ",
     "delete_cmd_prefix": "rm(",
     "library": "var_list.r",
     "varRefreshCmd": "cat(var_dic_list()) "
    }
   },
   "types_to_exclude": [
    "module",
    "function",
    "builtin_function_or_method",
    "instance",
    "_Feature"
   ],
   "window_display": false
  }
 },
 "nbformat": 4,
 "nbformat_minor": 2
}
