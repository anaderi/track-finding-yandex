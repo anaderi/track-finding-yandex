{
 "cells": [
  {
   "cell_type": "code",
   "execution_count": null,
   "metadata": {
    "collapsed": true
   },
   "outputs": [],
   "source": [
    "n_sig_hits = np.zeros(sig_hits.n_events)\n",
    "evt_list = []\n",
    "for event in range(sig_hits.n_events):\n",
    "    n_hits = len(sig_hits.get_sig_wires(event))\n",
    "    if n_hits >= 20:\n",
    "        n_sig_hits[event] = n_hits\n",
    "        evt_list.append(event)\n",
    "    \n",
    "print len(evt_list)"
   ]
  },
  {
   "cell_type": "code",
   "execution_count": null,
   "metadata": {
    "collapsed": true
   },
   "outputs": [],
   "source": [
    "n_sig_hits = np.trim_zeros(np.sort(n_sig_hits))\n",
    "plt.hist(n_sig_hits, bins=1000)\n",
    "plt.show()"
   ]
  },
  {
   "cell_type": "code",
   "execution_count": null,
   "metadata": {
    "collapsed": true
   },
   "outputs": [],
   "source": [
    "for event in evt_list[:20]:\n",
    "    sig_plot = sig_hits.get_measurement(event, \"CdcCell_hittype\")\n",
    "    bkg_plot = bkg_hits.get_measurement(event, \"CdcCell_hittype\")\n",
    "    print \"Set in signal plot: \"+ str(set(sig_plot))\n",
    "    sig_plot = sig_hits.get_hit_types(event)\n",
    "    bkg_plot = bkg_hits.get_hit_types(event)\n",
    "    print \"N signal \" + str(len(sig_hits.get_sig_wires(event)))\n",
    "    # Plot signal\n",
    "    plot_output(sig_plot, sig_hits.cydet)\n",
    "    show()\n",
    "\n",
    "    # Plot background\n",
    "    plot_output(bkg_plot, bkg_hits.cydet)\n",
    "    show()"
   ]
  }
 ],
 "metadata": {
  "kernelspec": {
   "display_name": "Python 2",
   "language": "python",
   "name": "python2"
  },
  "language_info": {
   "codemirror_mode": {
    "name": "ipython",
    "version": 2
   },
   "file_extension": ".py",
   "mimetype": "text/x-python",
   "name": "python",
   "nbconvert_exporter": "python",
   "pygments_lexer": "ipython2",
   "version": "2.7.5"
  }
 },
 "nbformat": 4,
 "nbformat_minor": 0
}
