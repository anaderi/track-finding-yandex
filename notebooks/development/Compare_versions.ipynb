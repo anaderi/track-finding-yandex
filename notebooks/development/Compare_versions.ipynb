{
 "cells": [
  {
   "cell_type": "code",
   "execution_count": 1,
   "metadata": {
    "collapsed": false
   },
   "outputs": [
    {
     "name": "stdout",
     "output_type": "stream",
     "text": [
      "Populating the interactive namespace from numpy and matplotlib\n"
     ]
    },
    {
     "ename": "ImportError",
     "evalue": "/home/elg112/.local/lib/python2.7/site-packages/root_numpy/_librootnumpy.so: undefined symbol: _ZN10TClassEdit14ResolveTypedefEPKcb",
     "output_type": "error",
     "traceback": [
      "\u001b[1;31m---------------------------------------------------------------------------\u001b[0m",
      "\u001b[1;31mImportError\u001b[0m                               Traceback (most recent call last)",
      "\u001b[1;32m<ipython-input-1-8c6e2b2a07bb>\u001b[0m in \u001b[0;36m<module>\u001b[1;34m()\u001b[0m\n\u001b[0;32m      1\u001b[0m \u001b[0mget_ipython\u001b[0m\u001b[1;33m(\u001b[0m\u001b[1;33m)\u001b[0m\u001b[1;33m.\u001b[0m\u001b[0mmagic\u001b[0m\u001b[1;33m(\u001b[0m\u001b[1;34mu'run visualizations.ipynb'\u001b[0m\u001b[1;33m)\u001b[0m\u001b[1;33m\u001b[0m\u001b[0m\n\u001b[0;32m      2\u001b[0m \u001b[1;32mimport\u001b[0m \u001b[0msys\u001b[0m\u001b[1;33m\u001b[0m\u001b[0m\n\u001b[1;32m----> 3\u001b[1;33m \u001b[1;32mfrom\u001b[0m \u001b[0mhits\u001b[0m \u001b[1;32mimport\u001b[0m \u001b[0mCyDetHits\u001b[0m\u001b[1;33m,\u001b[0m \u001b[0mCTHHits\u001b[0m\u001b[1;33m,\u001b[0m \u001b[0mCDCHits\u001b[0m\u001b[1;33m,\u001b[0m \u001b[0mFlatHits\u001b[0m\u001b[1;33m\u001b[0m\u001b[0m\n\u001b[0m\u001b[0;32m      4\u001b[0m \u001b[1;32mfrom\u001b[0m \u001b[0mmemory_profiler\u001b[0m \u001b[1;32mimport\u001b[0m \u001b[0mmemory_usage\u001b[0m\u001b[1;33m\u001b[0m\u001b[0m\n\u001b[0;32m      5\u001b[0m \u001b[1;32mfrom\u001b[0m \u001b[0mpprint\u001b[0m \u001b[1;32mimport\u001b[0m \u001b[0mpprint\u001b[0m\u001b[1;33m\u001b[0m\u001b[0m\n",
      "\u001b[1;32m/home/elg112/ICEDUST/OfflineProject/packages/ReconTrackFinding/track_finding_standalone/track_finding_yandex/modules/hits.py\u001b[0m in \u001b[0;36m<module>\u001b[1;34m()\u001b[0m\n\u001b[0;32m      1\u001b[0m \u001b[1;32mimport\u001b[0m \u001b[0mnumpy\u001b[0m \u001b[1;32mas\u001b[0m \u001b[0mnp\u001b[0m\u001b[1;33m\u001b[0m\u001b[0m\n\u001b[0;32m      2\u001b[0m \u001b[1;32mimport\u001b[0m \u001b[0mnumpy\u001b[0m\u001b[1;33m.\u001b[0m\u001b[0mlib\u001b[0m\u001b[1;33m.\u001b[0m\u001b[0mrecfunctions\u001b[0m\u001b[1;33m\u001b[0m\u001b[0m\n\u001b[1;32m----> 3\u001b[1;33m \u001b[1;32mfrom\u001b[0m \u001b[0mroot_numpy\u001b[0m \u001b[1;32mimport\u001b[0m \u001b[0mroot2array\u001b[0m\u001b[1;33m\u001b[0m\u001b[0m\n\u001b[0m\u001b[0;32m      4\u001b[0m \u001b[1;32mfrom\u001b[0m \u001b[0mcylinder\u001b[0m \u001b[1;32mimport\u001b[0m \u001b[0mCyDet\u001b[0m\u001b[1;33m,\u001b[0m \u001b[0mCTH\u001b[0m\u001b[1;33m\u001b[0m\u001b[0m\n\u001b[0;32m      5\u001b[0m \u001b[1;32mfrom\u001b[0m \u001b[0mrandom\u001b[0m \u001b[1;32mimport\u001b[0m \u001b[0mRandom\u001b[0m\u001b[1;33m\u001b[0m\u001b[0m\n",
      "\u001b[1;32m/home/elg112/.local/lib/python2.7/site-packages/root_numpy/__init__.py\u001b[0m in \u001b[0;36m<module>\u001b[1;34m()\u001b[0m\n\u001b[1;32m----> 1\u001b[1;33m from ._tree import (\n\u001b[0m\u001b[0;32m      2\u001b[0m     \u001b[0mroot2array\u001b[0m\u001b[1;33m,\u001b[0m \u001b[0mroot2rec\u001b[0m\u001b[1;33m,\u001b[0m\u001b[1;33m\u001b[0m\u001b[0m\n\u001b[0;32m      3\u001b[0m     \u001b[0mtree2array\u001b[0m\u001b[1;33m,\u001b[0m \u001b[0mtree2rec\u001b[0m\u001b[1;33m,\u001b[0m\u001b[1;33m\u001b[0m\u001b[0m\n\u001b[0;32m      4\u001b[0m     \u001b[0marray2tree\u001b[0m\u001b[1;33m,\u001b[0m \u001b[0marray2root\u001b[0m\u001b[1;33m,\u001b[0m\u001b[1;33m\u001b[0m\u001b[0m\n\u001b[0;32m      5\u001b[0m     list_trees, list_branches, list_structures)\n",
      "\u001b[1;32m/home/elg112/.local/lib/python2.7/site-packages/root_numpy/_tree.py\u001b[0m in \u001b[0;36m<module>\u001b[1;34m()\u001b[0m\n\u001b[0;32m      3\u001b[0m \u001b[1;33m\u001b[0m\u001b[0m\n\u001b[0;32m      4\u001b[0m \u001b[1;32mfrom\u001b[0m \u001b[1;33m.\u001b[0m\u001b[0mextern\u001b[0m\u001b[1;33m.\u001b[0m\u001b[0msix\u001b[0m \u001b[1;32mimport\u001b[0m \u001b[0mstring_types\u001b[0m\u001b[1;33m\u001b[0m\u001b[0m\n\u001b[1;32m----> 5\u001b[1;33m \u001b[1;32mfrom\u001b[0m \u001b[1;33m.\u001b[0m \u001b[1;32mimport\u001b[0m \u001b[0m_librootnumpy\u001b[0m\u001b[1;33m\u001b[0m\u001b[0m\n\u001b[0m\u001b[0;32m      6\u001b[0m \u001b[1;33m\u001b[0m\u001b[0m\n\u001b[0;32m      7\u001b[0m \u001b[1;33m\u001b[0m\u001b[0m\n",
      "\u001b[1;31mImportError\u001b[0m: /home/elg112/.local/lib/python2.7/site-packages/root_numpy/_librootnumpy.so: undefined symbol: _ZN10TClassEdit14ResolveTypedefEPKcb"
     ]
    }
   ],
   "source": [
    "get_ipython().magic(u'run visualizations.ipynb')\n",
    "import sys\n",
    "from hits import CyDetHits, CTHHits, CDCHits, FlatHits\n",
    "from memory_profiler import memory_usage\n",
    "from pprint import pprint\n",
    "from collections import Counter\n",
    "sys.path.insert(0, '../modules')"
   ]
  },
  {
   "cell_type": "code",
   "execution_count": 2,
   "metadata": {
    "collapsed": true
   },
   "outputs": [],
   "source": [
    "# Define some branches to import\n",
    "## Existing branches\n",
    "prefix = \"CDCHit.f\"\n",
    "drift_name = prefix + \"DriftTime\"\n",
    "drift_dist_name = prefix + \"DriftDist\"\n",
    "track_id_name = prefix + \"Track.fTrackID\"\n",
    "turn_id_name = prefix + \"TurnID\"\n",
    "pid_name = prefix + \"Track.fPID\"\n",
    "parent_track_id_name = prefix + \"Track.fParentTrackID\"\n",
    "all_momentum_names = [ prefix + \"Track.f\" + st_sp + \"Momentum.f\" + coor \n",
    "                       for st_sp in [\"Start\", \"Stop\"] for coor in [\"X\", \"Y\", \"Z\"] ]\n",
    "all_pos_names = [ prefix + \"Track.f\" + st_sp + \"PosGlobal.f\" + coor \n",
    "                       for st_sp in [\"Start\", \"Stop\"] for coor in [\"P.fX\", \"P.fY\", \"P.fZ\", \"E\"] ]\n",
    "hit_pos_names = [ prefix + \"MCPos.f\" + coor for coor in [\"P.fX\", \"P.fY\", \"P.fZ\", \"E\"] ]\n",
    "hit_mom_names = [ prefix + \"MCMom.f\" + coor for coor in [\"X\", \"Y\", \"Z\"] ]\n",
    "## Branches to be filled\n",
    "row_name = \"Layers\"\n",
    "cell_id_name = prefix + \"CellID\"\n",
    "lcl_scr_name = prefix + \"Local_Score\"\n",
    "ngh_scr_name = prefix + \"Neigh_Score\"\n",
    "hgh_scr_name = prefix + \"Hough_Score\"\n",
    "trk_scr_name = prefix + \"Track_Score\"\n",
    "rel_time_name = prefix + \"Relative_Time\"\n",
    "take_hit_name = prefix + \"Take_Hit\"\n",
    "## Kinda both\n",
    "sig_flag = \"IsSig\""
   ]
  },
  {
   "cell_type": "code",
   "execution_count": null,
   "metadata": {
    "collapsed": true
   },
   "outputs": [],
   "source": [
    "these_branches = [drift_name, \n",
    "                  track_id_name, \n",
    "                  turn_id_name, \n",
    "                  drift_dist_name,\n",
    "                  pid_name,\n",
    "                  parent_track_id_name] +\\\n",
    "                 hit_mom_names +\\\n",
    "                 all_momentum_names +\\\n",
    "                 all_pos_names +\\\n",
    "                 hit_pos_names\n",
    "                            \n",
    "empty_branches = [prefix + row_name, \n",
    "                  cell_id_name,\n",
    "                  lcl_scr_name, \n",
    "                  ngh_scr_name, \n",
    "                  hgh_scr_name,\n",
    "                  trk_scr_name, \n",
    "                  rel_time_name,\n",
    "                  take_hit_name]\n",
    "\n",
    "empty_branches = [prefix + row_name]"
   ]
  }
 ],
 "metadata": {
  "kernelspec": {
   "display_name": "Python 2",
   "language": "python",
   "name": "python2"
  },
  "language_info": {
   "codemirror_mode": {
    "name": "ipython",
    "version": 2
   },
   "file_extension": ".py",
   "mimetype": "text/x-python",
   "name": "python",
   "nbconvert_exporter": "python",
   "pygments_lexer": "ipython2",
   "version": "2.7.11"
  }
 },
 "nbformat": 4,
 "nbformat_minor": 0
}
