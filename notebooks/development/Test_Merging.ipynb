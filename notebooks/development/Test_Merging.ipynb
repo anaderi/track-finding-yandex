{
 "cells": [
  {
   "cell_type": "code",
   "execution_count": 1,
   "metadata": {
    "collapsed": false
   },
   "outputs": [
    {
     "name": "stdout",
     "output_type": "stream",
     "text": [
      "Populating the interactive namespace from numpy and matplotlib\n",
      "Populating the interactive namespace from numpy and matplotlib\n"
     ]
    }
   ],
   "source": [
    "%run visualizations.ipynb\n",
    "%pylab inline\n",
    "import sys\n",
    "from collections import Counter\n",
    "sys.path.insert(0, '../modules')\n",
    "import numpy as np"
   ]
  },
  {
   "cell_type": "code",
   "execution_count": 2,
   "metadata": {
    "collapsed": false
   },
   "outputs": [],
   "source": [
    "from hits import CyDetHits, CTHHits, CDCHits, HitsMerger"
   ]
  },
  {
   "cell_type": "code",
   "execution_count": 5,
   "metadata": {
    "collapsed": false,
    "scrolled": false
   },
   "outputs": [],
   "source": [
    "sig_hits = CyDetHits(\"../data/signal.root\", branches=\"mt\" ,\n",
    "                              hit_type_name=\"hittype\", signal_coding=[0])"
   ]
  },
  {
   "cell_type": "code",
   "execution_count": 6,
   "metadata": {
    "collapsed": false
   },
   "outputs": [],
   "source": [
    "hits = HitsMerger(sig_hits, this_class=\"cdc\", path=\"../data/151212_SimChen_noise.root\", tree=\"tree\")"
   ]
  },
  {
   "cell_type": "code",
   "execution_count": 7,
   "metadata": {
    "collapsed": false
   },
   "outputs": [
    {
     "ename": "NameError",
     "evalue": "name 'signal_cydet_hits' is not defined",
     "output_type": "error",
     "traceback": [
      "\u001b[1;31m---------------------------------------------------------------------------\u001b[0m",
      "\u001b[1;31mNameError\u001b[0m                                 Traceback (most recent call last)",
      "\u001b[1;32m<ipython-input-7-498d764a3d7a>\u001b[0m in \u001b[0;36m<module>\u001b[1;34m()\u001b[0m\n\u001b[0;32m      1\u001b[0m \u001b[0mtime_widths\u001b[0m \u001b[1;33m=\u001b[0m \u001b[1;33m[\u001b[0m\u001b[1;33m]\u001b[0m\u001b[1;33m\u001b[0m\u001b[0m\n\u001b[0;32m      2\u001b[0m \u001b[0mstart_time\u001b[0m \u001b[1;33m=\u001b[0m \u001b[1;33m[\u001b[0m\u001b[1;33m]\u001b[0m\u001b[1;33m\u001b[0m\u001b[0m\n\u001b[1;32m----> 3\u001b[1;33m \u001b[1;32mfor\u001b[0m \u001b[0mevt\u001b[0m \u001b[1;32min\u001b[0m \u001b[0mrange\u001b[0m\u001b[1;33m(\u001b[0m\u001b[0msignal_cydet_hits\u001b[0m\u001b[1;33m.\u001b[0m\u001b[0mn_events\u001b[0m\u001b[1;33m)\u001b[0m\u001b[1;33m:\u001b[0m\u001b[1;33m\u001b[0m\u001b[0m\n\u001b[0m\u001b[0;32m      4\u001b[0m     \u001b[0msig_time\u001b[0m \u001b[1;33m=\u001b[0m \u001b[0msignal_cydet_hits\u001b[0m\u001b[1;33m.\u001b[0m\u001b[0mget_hit_time\u001b[0m\u001b[1;33m(\u001b[0m\u001b[0mevt\u001b[0m\u001b[1;33m)\u001b[0m\u001b[1;33m\u001b[0m\u001b[0m\n\u001b[0;32m      5\u001b[0m     \u001b[1;32mif\u001b[0m \u001b[0msum\u001b[0m\u001b[1;33m(\u001b[0m\u001b[0msig_time\u001b[0m \u001b[1;33m!=\u001b[0m \u001b[1;36m0\u001b[0m\u001b[1;33m)\u001b[0m \u001b[1;33m>\u001b[0m \u001b[1;36m30\u001b[0m\u001b[1;33m:\u001b[0m\u001b[1;33m\u001b[0m\u001b[0m\n",
      "\u001b[1;31mNameError\u001b[0m: name 'signal_cydet_hits' is not defined"
     ]
    }
   ],
   "source": [
    "time_widths = []\n",
    "start_time = []\n",
    "for evt in range(signal_cydet_hits.n_events):\n",
    "    sig_time = signal_cydet_hits.get_hit_time(evt)\n",
    "    if sum(sig_time != 0) > 30:\n",
    "        all_times = np.sort(sig_time)\n",
    "        t_width = all_times[-6] - all_times[6] \n",
    "        time_widths.append(t_width)\n",
    "time_widths = np.array(time_widths)\n",
    "start_time = np.array(start_time)"
   ]
  },
  {
   "cell_type": "code",
   "execution_count": 13,
   "metadata": {
    "collapsed": false
   },
   "outputs": [
    {
     "name": "stdout",
     "output_type": "stream",
     "text": [
      "24025\n"
     ]
    }
   ],
   "source": []
  },
  {
   "cell_type": "code",
   "execution_count": 27,
   "metadata": {
    "collapsed": false
   },
   "outputs": [],
   "source": [
    "# Trim CyDet events to within window\n",
    "#print \"Hits before: {}\".format(sig.cydet.n_hits)\n",
    "#sig.cydet.trim_hits(sig.cydet.time_name, greater_than=700, less_than=1550)\n",
    "#print \"Hits after : {}\".format(sig.cydet.n_hits)"
   ]
  },
  {
   "cell_type": "code",
   "execution_count": 28,
   "metadata": {
    "collapsed": false
   },
   "outputs": [],
   "source": [
    "# Filter for number of hits\n",
    "#print \"Start Events: {}\".format(signal_cydet_hits.n_events)\n",
    "#n_signal_hits  = np.array([len(signal_cydet_hits.get_signal_hits(evt)) \n",
    "#                         for evt in range(signal_cydet_hits.n_events)])\n",
    "#good_events = np.where(n_signal_hits > 30)[0]\n",
    "#signal_cydet_hits.trim_events(good_events)\n",
    "#print \"End Events: {}\".format(signal_cydet_hits.n_events)"
   ]
  },
  {
   "cell_type": "code",
   "execution_count": 29,
   "metadata": {
    "collapsed": false,
    "scrolled": false
   },
   "outputs": [],
   "source": [
    "# Filter for max layer is five\n",
    "#print \"Start Events: {}\".format(signal_cydet_hits.n_events)\n",
    "#max_layer = []\n",
    "#for evt in range(signal_cydet_hits.n_events):\n",
    "#    these_layers = signal_cydet_hits.geom.point_layers[signal_cydet_hits.get_sig_wires(evt)] \n",
    "#    max_layer.append(np.max(these_layers))\n",
    "#max_layer = np.array(max_layer)\n",
    "#good_events = np.where(max_layer >= 4)[0]\n",
    "#signal_cydet_hits.trim_events(good_events)\n",
    "#print \"End Events: {}\".format(signal_cydet_hits.n_events)"
   ]
  },
  {
   "cell_type": "code",
   "execution_count": 5,
   "metadata": {
    "collapsed": false
   },
   "outputs": [
    {
     "ename": "TypeError",
     "evalue": "unbound method get_measurement() must be called with CyDetHits instance as first argument (got int instance instead)",
     "output_type": "error",
     "traceback": [
      "\u001b[1;31m---------------------------------------------------------------------------\u001b[0m",
      "\u001b[1;31mTypeError\u001b[0m                                 Traceback (most recent call last)",
      "\u001b[1;32m<ipython-input-5-0831c968f1e8>\u001b[0m in \u001b[0;36m<module>\u001b[1;34m()\u001b[0m\n\u001b[1;32m----> 1\u001b[1;33m \u001b[0mto_plot\u001b[0m \u001b[1;33m=\u001b[0m \u001b[0mhits\u001b[0m\u001b[1;33m.\u001b[0m\u001b[0mget_measurement\u001b[0m\u001b[1;33m(\u001b[0m\u001b[1;36m1\u001b[0m\u001b[1;33m,\u001b[0m \u001b[1;34m\"CdcCell_edep\"\u001b[0m\u001b[1;33m)\u001b[0m\u001b[1;33m\u001b[0m\u001b[0m\n\u001b[0m\u001b[0;32m      2\u001b[0m \u001b[0mplot_output\u001b[0m\u001b[1;33m(\u001b[0m\u001b[0mto_plot\u001b[0m\u001b[1;33m,\u001b[0m \u001b[0msignal_cydet_hits\u001b[0m\u001b[1;33m.\u001b[0m\u001b[0mgeom\u001b[0m\u001b[1;33m)\u001b[0m\u001b[1;33m\u001b[0m\u001b[0m\n",
      "\u001b[1;32m/home/elg112/ICEDUST/OfflineProject/packages/ReconTrackFinding/track_finding_standalone/track_finding_yandex/modules/hits.py\u001b[0m in \u001b[0;36mget_measurement\u001b[1;34m(self, event, name)\u001b[0m\n\u001b[0;32m    926\u001b[0m     \u001b[1;32mdef\u001b[0m \u001b[0mget_measurement\u001b[0m\u001b[1;33m(\u001b[0m\u001b[0mself\u001b[0m\u001b[1;33m,\u001b[0m \u001b[0mevent\u001b[0m\u001b[1;33m,\u001b[0m \u001b[0mname\u001b[0m\u001b[1;33m)\u001b[0m\u001b[1;33m:\u001b[0m\u001b[1;33m\u001b[0m\u001b[0m\n\u001b[0;32m    927\u001b[0m         \u001b[0msig_measure\u001b[0m \u001b[1;33m=\u001b[0m \u001b[0mself\u001b[0m\u001b[1;33m.\u001b[0m\u001b[0msig_class\u001b[0m\u001b[1;33m.\u001b[0m\u001b[0mget_measurement\u001b[0m\u001b[1;33m(\u001b[0m\u001b[0mevent\u001b[0m\u001b[1;33m,\u001b[0m \u001b[0mname\u001b[0m\u001b[1;33m)\u001b[0m\u001b[1;33m\u001b[0m\u001b[0m\n\u001b[1;32m--> 928\u001b[1;33m         \u001b[0mbkg_measure\u001b[0m \u001b[1;33m=\u001b[0m \u001b[0mCyDetHits\u001b[0m\u001b[1;33m.\u001b[0m\u001b[0mget_measurement\u001b[0m\u001b[1;33m(\u001b[0m\u001b[0mevent\u001b[0m\u001b[1;33m,\u001b[0m \u001b[0mname\u001b[0m\u001b[1;33m)\u001b[0m\u001b[1;33m\u001b[0m\u001b[0m\n\u001b[0m\u001b[0;32m    929\u001b[0m         \u001b[1;32mif\u001b[0m \u001b[0mself\u001b[0m\u001b[1;33m.\u001b[0m\u001b[0mthis_class\u001b[0m\u001b[1;33m==\u001b[0m\u001b[1;34m\"cth\"\u001b[0m\u001b[1;33m:\u001b[0m\u001b[1;33m\u001b[0m\u001b[0m\n\u001b[0;32m    930\u001b[0m             \u001b[1;32mreturn\u001b[0m \u001b[0mnp\u001b[0m\u001b[1;33m.\u001b[0m\u001b[0mappend\u001b[0m\u001b[1;33m(\u001b[0m\u001b[0mbkg_measure\u001b[0m\u001b[1;33m,\u001b[0m \u001b[0msig_measure\u001b[0m\u001b[1;33m)\u001b[0m\u001b[1;33m\u001b[0m\u001b[0m\n",
      "\u001b[1;31mTypeError\u001b[0m: unbound method get_measurement() must be called with CyDetHits instance as first argument (got int instance instead)"
     ]
    }
   ],
   "source": [
    "to_plot = hits.get_measurement(1, \"CdcCell_edep\")\n",
    "plot_output(to_plot, signal_cydet_hits.geom)"
   ]
  },
  {
   "cell_type": "code",
   "execution_count": null,
   "metadata": {
    "collapsed": true
   },
   "outputs": [],
   "source": [
    "super()"
   ]
  }
 ],
 "metadata": {
  "kernelspec": {
   "display_name": "Python 2",
   "language": "python",
   "name": "python2"
  },
  "language_info": {
   "codemirror_mode": {
    "name": "ipython",
    "version": 2
   },
   "file_extension": ".py",
   "mimetype": "text/x-python",
   "name": "python",
   "nbconvert_exporter": "python",
   "pygments_lexer": "ipython2",
   "version": "2.7.5"
  }
 },
 "nbformat": 4,
 "nbformat_minor": 0
}
