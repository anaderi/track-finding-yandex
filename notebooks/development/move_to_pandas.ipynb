{
 "cells": [
  {
   "cell_type": "markdown",
   "metadata": {},
   "source": [
    "# Move the Data to Pandas"
   ]
  },
  {
   "cell_type": "code",
   "execution_count": 1,
   "metadata": {},
   "outputs": [
    {
     "name": "stdout",
     "output_type": "stream",
     "text": [
      "Populating the interactive namespace from numpy and matplotlib\n"
     ]
    }
   ],
   "source": [
    "import sys\n",
    "sys.path.insert(0, '../../modules')\n",
    "%pylab inline\n",
    "from pprint import pprint\n",
    "from tracking import HoughSpace\n",
    "from scipy import sparse\n",
    "from sklearn.metrics import roc_auc_score, roc_curve\n",
    "import matplotlib.ticker as mtick\n",
    "from hits import CyDetHits, CTHHits, CDCHits\n",
    "import data_tools as dts\n",
    "import visualizations as viz\n",
    "from root_numpy import list_branches, list_trees\n",
    "from collections import OrderedDict"
   ]
  },
  {
   "cell_type": "code",
   "execution_count": 2,
   "metadata": {},
   "outputs": [],
   "source": [
    "a_file = \"/home/five4three2/development/ICEDUST/track-finding-yandex\"+\\\n",
    "         \"/data/MC4q/8e6_pot/bunch_train_6/root/MC4q_bkg_f5_b6_t-100_2000.root\""
   ]
  },
  {
   "cell_type": "code",
   "execution_count": 3,
   "metadata": {},
   "outputs": [],
   "source": [
    "all_branches = OrderedDict()\n",
    "# Get the two hit trees\n",
    "trees = [tree for tree in list_trees(a_file) if \"Hit\" in tree]\n",
    "# Get the branches for each tree\n",
    "for tree in trees:\n",
    "    branches = [branch for branch in list_branches(a_file, treename=tree)]\n",
    "    for filter_br in [\"CDCHit.fDetectedTime\",\n",
    "                      \"CDCHit.fCharge\",\n",
    "                      \"CDCHit.fEventNumber\",\n",
    "                      \"CDCHit.fIsSig\",\n",
    "                      'CTHHit.fMCPos.fE',\n",
    "                      'CTHHit.fCharge',\n",
    "                      'CTHHit.fEventNumber',\n",
    "                      'CTHHit.fIsSig']:\n",
    "        branches = [branch for branch in branches if filter_br not in branch]\n",
    "    all_branches[tree[:3]] = branches"
   ]
  },
  {
   "cell_type": "code",
   "execution_count": 4,
   "metadata": {},
   "outputs": [
    {
     "name": "stdout",
     "output_type": "stream",
     "text": [
      "Getting branches\n",
      "{'CTH': ['CTHHit.fModule',\n",
      "         'CTHHit.fCounter',\n",
      "         'CTHHit.fIsSc',\n",
      "         'CTHHit.fIsLG',\n",
      "         'CTHHit.fNContrib',\n",
      "         'CTHHit.fTrack.fTrackID',\n",
      "         'CTHHit.fTrack.fParentTrackID',\n",
      "         'CTHHit.fTrack.fPID',\n",
      "         'CTHHit.fTrack.fTags.fTagMaskPersisted',\n",
      "         'CTHHit.fTrack.fTagsAsParent.fTagMaskPersisted',\n",
      "         'CTHHit.fTrack.fTagsAsDaughter.fTagMaskPersisted',\n",
      "         'CTHHit.fTrack.fStartMomentum.fX',\n",
      "         'CTHHit.fTrack.fStartMomentum.fY',\n",
      "         'CTHHit.fTrack.fStartMomentum.fZ',\n",
      "         'CTHHit.fTrack.fStopMomentum.fX',\n",
      "         'CTHHit.fTrack.fStopMomentum.fY',\n",
      "         'CTHHit.fTrack.fStopMomentum.fZ',\n",
      "         'CTHHit.fTrack.fStartPosGlobal.fP.fX',\n",
      "         'CTHHit.fTrack.fStartPosGlobal.fP.fY',\n",
      "         'CTHHit.fTrack.fStartPosGlobal.fP.fZ',\n",
      "         'CTHHit.fTrack.fStartPosGlobal.fE',\n",
      "         'CTHHit.fTrack.fStopPosGlobal.fP.fX',\n",
      "         'CTHHit.fTrack.fStopPosGlobal.fP.fY',\n",
      "         'CTHHit.fTrack.fStopPosGlobal.fP.fZ',\n",
      "         'CTHHit.fTrack.fStopPosGlobal.fE',\n",
      "         'CTHHit.fMCPos.fP.fX',\n",
      "         'CTHHit.fMCPos.fP.fY',\n",
      "         'CTHHit.fMCPos.fP.fZ',\n",
      "         'CTHHit.fChannel',\n",
      "         'CTHHit.fHitNumber'],\n",
      " 'CDC': ['CDCHit.fDriftDist',\n",
      "         'CDCHit.fDriftTime',\n",
      "         'CDCHit.fTurnID',\n",
      "         'CDCHit.fMCMom.fX',\n",
      "         'CDCHit.fMCMom.fY',\n",
      "         'CDCHit.fMCMom.fZ',\n",
      "         'CDCHit.fTrack.fTrackID',\n",
      "         'CDCHit.fTrack.fParentTrackID',\n",
      "         'CDCHit.fTrack.fPID',\n",
      "         'CDCHit.fTrack.fTags.fTagMaskPersisted',\n",
      "         'CDCHit.fTrack.fTagsAsParent.fTagMaskPersisted',\n",
      "         'CDCHit.fTrack.fTagsAsDaughter.fTagMaskPersisted',\n",
      "         'CDCHit.fTrack.fStartMomentum.fX',\n",
      "         'CDCHit.fTrack.fStartMomentum.fY',\n",
      "         'CDCHit.fTrack.fStartMomentum.fZ',\n",
      "         'CDCHit.fTrack.fStopMomentum.fX',\n",
      "         'CDCHit.fTrack.fStopMomentum.fY',\n",
      "         'CDCHit.fTrack.fStopMomentum.fZ',\n",
      "         'CDCHit.fTrack.fStartPosGlobal.fP.fX',\n",
      "         'CDCHit.fTrack.fStartPosGlobal.fP.fY',\n",
      "         'CDCHit.fTrack.fStartPosGlobal.fP.fZ',\n",
      "         'CDCHit.fTrack.fStartPosGlobal.fE',\n",
      "         'CDCHit.fTrack.fStopPosGlobal.fP.fX',\n",
      "         'CDCHit.fTrack.fStopPosGlobal.fP.fY',\n",
      "         'CDCHit.fTrack.fStopPosGlobal.fP.fZ',\n",
      "         'CDCHit.fTrack.fStopPosGlobal.fE',\n",
      "         'CDCHit.fMCPos.fP.fX',\n",
      "         'CDCHit.fMCPos.fP.fY',\n",
      "         'CDCHit.fMCPos.fP.fZ',\n",
      "         'CDCHit.fMCPos.fE',\n",
      "         'CDCHit.fChannel',\n",
      "         'CDCHit.fHitNumber']}\n",
      "CDC sample, n_events =  10000\n",
      "CTH sample, n_events =  10000\n"
     ]
    }
   ],
   "source": [
    "sample = dts.data_import_file(a_file, signal=False, use_cuts=None, branches=all_branches)"
   ]
  },
  {
   "cell_type": "code",
   "execution_count": 5,
   "metadata": {},
   "outputs": [
    {
     "name": "stdout",
     "output_type": "stream",
     "text": [
      "Size 4632 MB\n",
      "Size 406 MB\n"
     ]
    }
   ],
   "source": [
    "MB = 1024*1024\n",
    "print(\"Size %d MB\" % (sample.cdc.data.nbytes/MB))\n",
    "print(\"Size %d MB\" % (sample.cth.data.nbytes/MB))"
   ]
  },
  {
   "cell_type": "code",
   "execution_count": 6,
   "metadata": {},
   "outputs": [],
   "source": [
    "import sys\n",
    "\n",
    "# These are the usual ipython objects, including this one you are creating\n",
    "ipython_vars = ['In', 'Out', 'exit', 'quit', 'get_ipython', 'ipython_vars']\n",
    "\n",
    "# Get a sorted list of the objects and their sizes\n",
    "#18.5 GB, 2.4 GB"
   ]
  }
 ],
 "metadata": {
  "kernelspec": {
   "display_name": "tfy3",
   "language": "python",
   "name": "tfy3"
  },
  "language_info": {
   "codemirror_mode": {
    "name": "ipython",
    "version": 3
   },
   "file_extension": ".py",
   "mimetype": "text/x-python",
   "name": "python",
   "nbconvert_exporter": "python",
   "pygments_lexer": "ipython3",
   "version": "3.4.5"
  }
 },
 "nbformat": 4,
 "nbformat_minor": 2
}
