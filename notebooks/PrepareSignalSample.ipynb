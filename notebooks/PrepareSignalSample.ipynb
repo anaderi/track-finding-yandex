{
 "cells": [
  {
   "cell_type": "markdown",
   "metadata": {
    "collapsed": true
   },
   "source": [
    "# Main Analysis Pipeline"
   ]
  },
  {
   "cell_type": "code",
   "execution_count": 1,
   "metadata": {
    "collapsed": false
   },
   "outputs": [
    {
     "name": "stdout",
     "output_type": "stream",
     "text": [
      "Populating the interactive namespace from numpy and matplotlib\n"
     ]
    }
   ],
   "source": [
    "get_ipython().magic(u'run visualizations.ipynb')\n",
    "import sys\n",
    "from hits import CyDetHits, CTHHits, CDCHits, FlatHits\n",
    "from memory_profiler import memory_usage\n",
    "from pprint import pprint\n",
    "from collections import Counter\n",
    "sys.path.insert(0, '../modules')\n",
    "from root_numpy import list_branches\n",
    "%load_ext memory_profiler\n",
    "from tracking import HoughSpace\n",
    "from scipy import sparse\n",
    "from tracking import HoughTransformer, HoughShifter\n",
    "from cylinder import CyDet"
   ]
  },
  {
   "cell_type": "markdown",
   "metadata": {},
   "source": [
    "## Import the Signal Hits"
   ]
  },
  {
   "cell_type": "code",
   "execution_count": 2,
   "metadata": {
    "collapsed": false
   },
   "outputs": [],
   "source": [
    "def max_layer_cut(cdc_samp, max_layer):\n",
    "    # Filter for max layer is five\n",
    "    evt_max = np.zeros(cdc_samp.n_events)\n",
    "    for event in range(cdc_samp.n_events):\n",
    "        evt_hits = cdc_samp.get_measurement(cdc_samp.flat_name, events=event, \n",
    "                                            flatten=False,only_hits=False).astype(int)\n",
    "        evt_max[event] = np.amax(cdc_samp.geom.point_layers[evt_hits])\n",
    "    return np.unique(cdc_samp.get_events(events=np.where(evt_max >= max_layer))[cdc_samp.key_name])"
   ]
  },
  {
   "cell_type": "code",
   "execution_count": 3,
   "metadata": {
    "collapsed": true
   },
   "outputs": [],
   "source": [
    "def min_hits_cut(cdc_samp, min_hits):\n",
    "    # Filter for number of signal hits\n",
    "    good_events = np.where(cdc_samp.event_to_n_hits >= min_hits)[0]\n",
    "    good_n_hits  = np.unique(cdc_samp.get_events(events=good_events)[cdc_samp.key_name])\n",
    "    return good_n_hits"
   ]
  },
  {
   "cell_type": "code",
   "execution_count": 4,
   "metadata": {
    "collapsed": true
   },
   "outputs": [],
   "source": [
    "def import_cth_sample(cth_file):\n",
    "    # Import the hits\n",
    "    hits_cth = CTHHits(cth_sig_file, \n",
    "                       tree=\"CTHHitTree\")\n",
    "    # Get the trigger time\n",
    "    hits_cth.set_trigger_time()\n",
    "    return np.unique(hits_cth.data[hits_cth.get_trig_hits()][hits_cth.key_name])"
   ]
  },
  {
   "cell_type": "code",
   "execution_count": 5,
   "metadata": {
    "collapsed": true
   },
   "outputs": [],
   "source": [
    "def import_cdc_sample(cdc_file, min_hits=30, max_layer=4):\n",
    "    # Import the hits\n",
    "    cdc_samp = CyDetHits(cdc_file, \n",
    "                         tree=\"CDCHitTree\",\n",
    "                         selection=\"CDCHit.fIsSig == 1\")\n",
    "    # Get the events that pass the cuts\n",
    "    enough_hits = min_hits_cut(cdc_samp, min_hits)\n",
    "    print len(enough_hits)\n",
    "    enough_layer = max_layer_cut(cdc_samp, max_layer)\n",
    "    print len(enough_layer)\n",
    "    return np.intersect1d(enough_hits, enough_layer)"
   ]
  },
  {
   "cell_type": "markdown",
   "metadata": {},
   "source": [
    "## Import The Signal Hits"
   ]
  },
  {
   "cell_type": "code",
   "execution_count": 6,
   "metadata": {
    "collapsed": true
   },
   "outputs": [],
   "source": [
    "file_base = \"/home/elg112/ICEDUST_old/track_finding_standalone/\"\\\n",
    "            \"track_finding_yandex/data/\"\n",
    "cdc_sig_file = file_base + \"oa_xx_xxx_09000001-0000_7es54i4i543a_user-TrkTree_000_signal.root\"\n",
    "cth_sig_file = cdc_sig_file"
   ]
  },
  {
   "cell_type": "code",
   "execution_count": 7,
   "metadata": {
    "collapsed": false
   },
   "outputs": [
    {
     "name": "stdout",
     "output_type": "stream",
     "text": [
      "8267\n",
      "7839\n"
     ]
    }
   ],
   "source": [
    "good_cdc_events = import_cdc_sample(cdc_sig_file, 30, 4)\n",
    "good_cth_events = import_cth_sample(cth_sig_file)"
   ]
  },
  {
   "cell_type": "code",
   "execution_count": 8,
   "metadata": {
    "collapsed": false
   },
   "outputs": [
    {
     "name": "stdout",
     "output_type": "stream",
     "text": [
      "[9000002 9000003 9000009 ..., 9019996 9019999 9020000]\n"
     ]
    }
   ],
   "source": [
    "print good_cdc_events"
   ]
  },
  {
   "cell_type": "code",
   "execution_count": 9,
   "metadata": {
    "collapsed": false
   },
   "outputs": [
    {
     "name": "stdout",
     "output_type": "stream",
     "text": [
      "[9000003 9000015 9000016 ..., 9019988 9019996 9020000]\n"
     ]
    }
   ],
   "source": [
    "print np.intersect1d(good_cdc_events, good_cth_events)"
   ]
  },
  {
   "cell_type": "code",
   "execution_count": 14,
   "metadata": {
    "collapsed": false
   },
   "outputs": [],
   "source": [
    "from rootpy.tree import Tree, TreeModel, TreeChain, BoolCol\n",
    "from rootpy.io import root_open\n",
    "\n",
    "class ExtraBranches(TreeModel):\n",
    "    GoodTrack = BoolCol()\n",
    "    GoodTrig = BoolCol()\n",
    "\n",
    "def copy_in_trigger_signal(in_files_name, out_file_name, tree_name, \n",
    "                           prefix, cdc_events, cth_events):\n",
    "    # Define the chain of input trees\n",
    "    in_chain = TreeChain(name=tree_name, files=in_files_name)\n",
    "    # First create a new file to save the new tree in:\n",
    "    out_file = root_open(out_file_name, \"recreate\")\n",
    "    out_tree = Tree(tree_name, model=ExtraBranches.prefix(prefix))\n",
    "\n",
    "    # This creates all the same branches in the new tree but\n",
    "    # their addresses point to the same memory used by the original tree.\n",
    "    out_tree.create_branches(in_chain._buffer)\n",
    "    out_tree.update_buffer(in_chain._buffer)\n",
    "    \n",
    "    # Now loop over the original tree(s) and fill the new tree\n",
    "    for entry in in_chain:\n",
    "        # Add in the new values\n",
    "        out_tree.__setattr__(prefix+\"GoodTrack\", np.any(cdc_events == entry[prefix+\"EventNumber\"]))\n",
    "        out_tree.__setattr__(prefix+\"GoodTrig\", np.any(cth_events == entry[prefix+\"EventNumber\"]))\n",
    "        # Fill, noting that most of the buffer is shared between the chain \n",
    "        # and the output tree\n",
    "        out_tree.Fill()\n",
    "    # Close it up\n",
    "    out_tree.Write()\n",
    "    out_file.Close()"
   ]
  },
  {
   "cell_type": "code",
   "execution_count": 15,
   "metadata": {
    "collapsed": true
   },
   "outputs": [],
   "source": [
    "out_file_name = file_base+\"with_trig_test.root\""
   ]
  },
  {
   "cell_type": "code",
   "execution_count": null,
   "metadata": {
    "collapsed": true
   },
   "outputs": [],
   "source": []
  }
 ],
 "metadata": {
  "kernelspec": {
   "display_name": "Python 2",
   "language": "python",
   "name": "python2"
  },
  "language_info": {
   "codemirror_mode": {
    "name": "ipython",
    "version": 2
   },
   "file_extension": ".py",
   "mimetype": "text/x-python",
   "name": "python",
   "nbconvert_exporter": "python",
   "pygments_lexer": "ipython2",
   "version": "2.7.12"
  }
 },
 "nbformat": 4,
 "nbformat_minor": 0
}
