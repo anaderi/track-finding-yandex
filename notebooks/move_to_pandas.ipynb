{
 "cells": [
  {
   "cell_type": "markdown",
   "metadata": {},
   "source": [
    "# Move the Data to Pandas"
   ]
  },
  {
   "cell_type": "code",
   "execution_count": 1,
   "metadata": {},
   "outputs": [
    {
     "name": "stdout",
     "output_type": "stream",
     "text": [
      "Populating the interactive namespace from numpy and matplotlib\n"
     ]
    },
    {
     "name": "stderr",
     "output_type": "stream",
     "text": [
      "/home/five4three2/development/miniconda3/envs/tfy3_again/lib/python3.6/site-packages/root_numpy/__init__.py:46: RuntimeWarning: numpy 1.14.3 is currently installed but you installed root_numpy against numpy 1.12.1. Please consider reinstalling root_numpy for this numpy version.\n",
      "  RuntimeWarning)\n"
     ]
    }
   ],
   "source": [
    "import sys\n",
    "sys.path.insert(0, '../modules')\n",
    "%pylab inline\n",
    "from pprint import pprint\n",
    "from tracking import HoughSpace\n",
    "from scipy import sparse\n",
    "from sklearn.metrics import roc_auc_score, roc_curve\n",
    "import matplotlib.ticker as mtick\n",
    "from hits import CyDetHits, CTHHits, CDCHits, FlatHits\n",
    "import data_tools as dts\n",
    "import visualizations as viz\n",
    "from root_numpy import list_branches, list_trees\n",
    "from collections import OrderedDict\n",
    "import pandas as pd"
   ]
  },
  {
   "cell_type": "code",
   "execution_count": 2,
   "metadata": {},
   "outputs": [],
   "source": [
    "a_file = \"/home/five4three2/development/ICEDUST/track-finding-yandex\"+\\\n",
    "         \"/data/MC4q/8e6_pot/bunch_train_6/root/MC4q_bkg_f5_b6_t-100_2000.root\""
   ]
  },
  {
   "cell_type": "code",
   "execution_count": 3,
   "metadata": {},
   "outputs": [
    {
     "name": "stdout",
     "output_type": "stream",
     "text": [
      "['CDCHitTree', 'CTHHitTree']\n"
     ]
    },
    {
     "name": "stderr",
     "output_type": "stream",
     "text": [
      "TClass::Init:0: RuntimeWarning: no dictionary for class COMET::ICOMETEvent is available\n",
      "TClass::Init:0: RuntimeWarning: no dictionary for class COMET::IDataVector is available\n",
      "TClass::Init:0: RuntimeWarning: no dictionary for class COMET::IData is available\n",
      "TClass::Init:0: RuntimeWarning: no dictionary for class COMET::IDatum is available\n",
      "TClass::Init:0: RuntimeWarning: no dictionary for class COMET::ICOMETContext is available\n",
      "TClass::Init:0: RuntimeWarning: no dictionary for class COMET::ISHAHashValue is available\n",
      "TClass::Init:0: RuntimeWarning: no dictionary for class COMET::IAlignmentId is available\n",
      "TClass::Init:0: RuntimeWarning: no dictionary for class COMET::ICOMETEvent::Header is available\n"
     ]
    }
   ],
   "source": [
    "all_branches = OrderedDict()\n",
    "# Get the two hit trees\n",
    "trees = [tree for tree in list_trees(a_file) if \"Hit\" in tree]\n",
    "# Get the branches for each tree\n",
    "for tree in trees:\n",
    "    branches = [branch for branch in list_branches(a_file, treename=tree)]\n",
    "    for filter_br in [\"CDCHit.fDetectedTime\",\n",
    "                      \"CDCHit.fCharge\",\n",
    "                      \"CDCHit.fEventNumber\",\n",
    "                      \"CDCHit.fIsSig\",\n",
    "                      'CTHHit.fMCPos.fE',\n",
    "                      'CTHHit.fCharge',\n",
    "                      'CTHHit.fEventNumber',\n",
    "                      'CTHHit.fIsSig']:\n",
    "        branches = [branch for branch in branches if filter_br not in branch]\n",
    "    all_branches[tree[:3]] = branches\n",
    "print(trees)"
   ]
  },
  {
   "cell_type": "code",
   "execution_count": 4,
   "metadata": {},
   "outputs": [
    {
     "name": "stdout",
     "output_type": "stream",
     "text": [
      "Using cuts\n",
      "{ 'CDC': 'CDCHit.fDetectedTime < 1620 && CDCHit.fDetectedTime > 500 && 1 == 1 '\n",
      "         '&& 1 == 1',\n",
      "  'CTH': 'CTHHit.fMCPos.fE < 1170 && CTHHit.fMCPos.fE > 500 && 1 == 1 && 1 == '\n",
      "         '1'}\n"
     ]
    }
   ],
   "source": [
    "#flat_hits.data.index.levels[flat_hits.data.index.names.index(flat_hits.event_index_name\n",
    "these_cuts = [\"500\",\"Trig\",\"Track\"]\n",
    "these_cuts = dts.data_get_cuts(these_cuts, signal=False)                           "
   ]
  },
  {
   "cell_type": "code",
   "execution_count": 10,
   "metadata": {},
   "outputs": [
    {
     "name": "stdout",
     "output_type": "stream",
     "text": [
      "Size 1228 MB\n",
      "Size 8 MB\n",
      "1228.4559526443481\n",
      "8.707139015197754\n",
      "['DetectedTime',\n",
      " 'DriftDist',\n",
      " 'DriftTime',\n",
      " 'MCMomX',\n",
      " 'MCMomY',\n",
      " 'MCMomZ',\n",
      " 'TurnID']\n",
      "['Counter', 'IsLG', 'IsSc', 'Module', 'NContrib', 'vol_id']\n"
     ]
    }
   ],
   "source": [
    "cth_hits = CTHHits(a_file, trees[1], selection=these_cuts[\"CTH\"], branches=all_branches[\"CTH\"])\n",
    "cdc_hits = CDCHits(a_file, trees[0], selection=these_cuts[\"CDC\"], branches=all_branches[\"CDC\"])\n",
    "MB = 1024*1024\n",
    "print(\"Size %d MB\" % (sys.getsizeof(cdc_hits.data)/MB) )\n",
    "print(\"Size %d MB\" % (sys.getsizeof(cth_hits.data)/MB) )\n",
    "print(np.sum(cdc_hits.data.memory_usage(deep=True).values)/MB)\n",
    "print(np.sum(cth_hits.data.memory_usage(deep=True).values)/MB)\n",
    "cdc_columns = [\"\".join(col.split(\".f\")[1:]) for col in cdc_hits.data.columns.values]\n",
    "cth_columns = [\"\".join(col.split(\".f\")[1:]) for col in cth_hits.data.columns.values]\n",
    "pprint([col for col in cdc_columns if col not in cth_columns])\n",
    "pprint([col for col in cth_columns if col not in cdc_columns])\n",
    "cdc_hits.data.columns = cdc_columns\n",
    "cth_hits.data.columns = cth_columns"
   ]
  },
  {
   "cell_type": "code",
   "execution_count": 13,
   "metadata": {},
   "outputs": [
    {
     "name": "stderr",
     "output_type": "stream",
     "text": [
      "/home/five4three2/development/miniconda3/envs/tfy3_again/lib/python3.6/site-packages/ipykernel_launcher.py:1: FutureWarning: Sorting because non-concatenation axis is not aligned. A future version\n",
      "of pandas will change to not sort by default.\n",
      "\n",
      "To accept the future behavior, pass 'sort=False'.\n",
      "\n",
      "To retain the current behavior and silence the warning, pass 'sort=True'.\n",
      "\n",
      "  \"\"\"Entry point for launching an IPython kernel.\n"
     ]
    },
    {
     "name": "stdout",
     "output_type": "stream",
     "text": [
      "1283.0128145217896\n"
     ]
    }
   ],
   "source": [
    "cydet_hits = pd.concat([cdc_hits.data, cth_hits.data], keys=[\"CDC\",\"CTH\"]).to_sparse()\n",
    "print(np.sum(cydet_hits.memory_usage(deep=True).values)/MB)"
   ]
  },
  {
   "cell_type": "code",
   "execution_count": null,
   "metadata": {},
   "outputs": [],
   "source": []
  }
 ],
 "metadata": {
  "kernelspec": {
   "display_name": "tfy3_again",
   "language": "python",
   "name": "tfy3_again"
  },
  "language_info": {
   "codemirror_mode": {
    "name": "ipython",
    "version": 3
   },
   "file_extension": ".py",
   "mimetype": "text/x-python",
   "name": "python",
   "nbconvert_exporter": "python",
   "pygments_lexer": "ipython3",
   "version": "3.6.5"
  }
 },
 "nbformat": 4,
 "nbformat_minor": 2
}
