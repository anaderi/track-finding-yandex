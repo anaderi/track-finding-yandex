{
 "cells": [
  {
   "cell_type": "markdown",
   "metadata": {
    "collapsed": true
   },
   "source": [
    "# Main Analysis Pipeline"
   ]
  },
  {
   "cell_type": "code",
   "execution_count": 1,
   "metadata": {
    "collapsed": true
   },
   "outputs": [],
   "source": [
    "import sys\n",
    "sys.path.insert(0, '../modules')\n",
    "from hits import CDCHits, CTHHits, CDCHits, FlatHits\n",
    "from memory_profiler import memory_usage\n",
    "from pprint import pprint\n",
    "from collections import Counter\n",
    "from root_numpy import list_branches\n",
    "%load_ext memory_profiler\n",
    "from tracking import HoughSpace\n",
    "from scipy import sparse\n",
    "from tracking import HoughTransformer, HoughShifter\n",
    "from cylinder import CDC"
   ]
  },
  {
   "cell_type": "markdown",
   "metadata": {},
   "source": [
    "# Convenience Functions"
   ]
  },
  {
   "cell_type": "code",
   "execution_count": 2,
   "metadata": {},
   "outputs": [
    {
     "name": "stdout",
     "output_type": "stream",
     "text": [
      "Populating the interactive namespace from numpy and matplotlib\n"
     ]
    }
   ],
   "source": [
    "# The most common are stored in these notebooks\n",
    "%run visualizations.ipynb\n",
    "%run data_tools.ipynb"
   ]
  },
  {
   "cell_type": "code",
   "execution_count": 3,
   "metadata": {
    "collapsed": true
   },
   "outputs": [],
   "source": [
    "def set_additional_branches(sample, row_name=None, cell_id=None, relative_time=None):\n",
    "    \"\"\"\n",
    "    Set the trigger time and cell ID branches\n",
    "    \"\"\"\n",
    "    if row_name:\n",
    "        sample.data[row_name] = sample.geom.get_layers(sample.data[sample.flat_name])\n",
    "    if cell_id:\n",
    "        sample.data[cell_id] = sample.geom.get_indexes(sample.data[sample.flat_name])\n",
    "    if relative_time:\n",
    "        sample.data[relative_time] = sample.data[sample.time_name] - sample.data[sample.trig_name]"
   ]
  },
  {
   "cell_type": "markdown",
   "metadata": {},
   "source": [
    "## Access data"
   ]
  },
  {
   "cell_type": "code",
   "execution_count": 4,
   "metadata": {
    "collapsed": true
   },
   "outputs": [],
   "source": [
    "def get_measurment_and_neighbours(hit_sample, measurement, events=None):\n",
    "    \"\"\"\n",
    "    Get the measurement on the wire and its neighbours in a classification-friendly way\n",
    "    \n",
    "    :return: a list of three numpy arrays of measurement 1) on wire, 2) to left, 3) to right\n",
    "    \"\"\"\n",
    "    return [hit_sample.get_measurement(measurement, \n",
    "                                       events, \n",
    "                                       shift=i, \n",
    "                                       only_hits=True, \n",
    "                                       flatten=True) \n",
    "                for i in [0,-1,1]]"
   ]
  },
  {
   "cell_type": "markdown",
   "metadata": {},
   "source": [
    "## Import the Signal Hits"
   ]
  },
  {
   "cell_type": "code",
   "execution_count": 5,
   "metadata": {},
   "outputs": [],
   "source": [
    "def test_labelling(hit_sample, sig_name, momentum_name, value):\n",
    "    current_labels = hit_sample.get_events()[sig_name]\n",
    "    momentum_magnitude = np.sqrt(np.square(hit_sample.get_events()[momentum_name+'.fX']) +\\\n",
    "                                 np.square(hit_sample.get_events()[momentum_name+'.fY']) +\\\n",
    "                                 np.square(hit_sample.get_events()[momentum_name+'.fZ']))\n",
    "    pid_values = hit_sample.get_events()[pid_name]\n",
    "    new_labels = np.logical_and(momentum_magnitude > value, pid_values == 11)\n",
    "    print(\"Number of signal now : {}\".format(sum(current_labels)))\n",
    "    print(\"Number of signal actual : {}\".format(sum(new_labels)))\n",
    "    print(\"Number mislabelled : {}\".format(hit_sample.n_hits - sum(current_labels == new_labels)))"
   ]
  },
  {
   "cell_type": "markdown",
   "metadata": {},
   "source": [
    "### Make cuts"
   ]
  },
  {
   "cell_type": "code",
   "execution_count": null,
   "metadata": {
    "collapsed": true
   },
   "outputs": [],
   "source": [
    "def remove_coincidence_old(hit_samp):\n",
    "    print \"Hits before coincidence removal : {}\".format(hit_samp.n_hits)\n",
    "    # Sort events by channel, by score\n",
    "    hit_samp.sort_hits([hit_samp.flat_name, lcl_scr_name])\n",
    "    # Recored which hit have the best score by event by channel\n",
    "    all_hits_to_take = []\n",
    "    # Stats about hit removal\n",
    "    removal_stats = {\"is_sig, more_sig\"    : 0,\n",
    "                     \"is_sig, no_more_sig\" : 0,\n",
    "                     \"not_sig, more_sig\"    : 0,\n",
    "                     \"not_sig, no_sig\"      : 0}\n",
    "\n",
    "    # Loop over all events\n",
    "    for evt in range(hit_samp.n_events):\n",
    "        event_hits = hit_samp.get_events(evt)\n",
    "        for channel in np.unique(event_hits[hit_samp.flat_name]):\n",
    "            chan_hits = hit_samp.filter_hits(hit_samp.flat_name, these_hits=event_hits, values=channel)\n",
    "            this_chan_hit = chan_hits[hit_samp.hits_index_name][-1]\n",
    "            all_hits_to_take.append(this_chan_hit)\n",
    "            # Check for coincidence\n",
    "            if len(chan_hits) > 1:\n",
    "                # Check the channel content\n",
    "                is_sig = hit_samp.data[this_chan_hit][hit_samp.hit_type_name] == 1\n",
    "                # Check if there was more signal\n",
    "                has_more_sig = (sum(chan_hits[hit_samp.hit_type_name] == 1) - is_sig) > 0\n",
    "                # Check which hit we chose\n",
    "                if is_sig and has_more_sig:\n",
    "                    removal_stats[\"is_sig, more_sig\"] += 1\n",
    "                elif is_sig and not has_more_sig:\n",
    "                    removal_stats[\"is_sig, no_more_sig\"] += 1\n",
    "                elif not is_sig and has_more_sig:\n",
    "                    removal_stats[\"not_sig, more_sig\"] += 1\n",
    "                else:\n",
    "                    removal_stats[\"not_sig, no_sig\"] += 1\n",
    "    pprint removal_stats)\n",
    "    print sum(hit_samp.get_events()[\"CDCHit.fIsSig\"])\n",
    "    print sum(removal_stats.values())\n",
    "\n",
    "    # Make a mask\n",
    "    chan_hit_mask = np.zeros(hit_samp.n_hits, dtype=bool)\n",
    "    chan_hit_mask[all_hits_to_take] = 1\n",
    "    # Set the hits to take as channel hit\n",
    "    hit_samp.data[take_hit_name][chan_hit_mask] = 1\n",
    "    # Trim the hits we are not going to look at\n",
    "    hit_samp.trim_hits(take_hit_name, values=1)\n",
    "    hit_samp.sort_hits(hit_samp.flat_name)\n",
    "    print \"Hits after coincidence removal : {}\".format(hit_samp.n_hits)"
   ]
  },
  {
   "cell_type": "code",
   "execution_count": null,
   "metadata": {
    "collapsed": true
   },
   "outputs": [],
   "source": [
    "def remove_coincidence(hit_samp, remove_hits=True):\n",
    "    # Sort by local score name\n",
    "    hit_samp.sort_hits(lcl_scr_name, ascending=False)\n",
    "    all_hits_keep = hit_samp.get_measurement(hit_samp.hits_index_name, only_hits=True)\n",
    "    # Make a mask   \n",
    "    hit_samp.data[take_hit_name][all_hits_keep.astype(int)] = 1\n",
    "    # Remove the hits\n",
    "    if remove_hits:\n",
    "        hit_samp.trim_hits(take_hit_name, values=1)\n",
    "        hit_samp.sort_hits(hit_samp.flat_name)\n",
    "        #preferred_hits = hit_samp.get_measurement(hit_samp.hits_index_name, \n",
    "        #                                          only_hits=True, \n",
    "        #                                          flatten=True).astype(int)\n",
    "        #hit_samp.data = hit_samp.data[preferred_hits]\n",
    "        #hit_samp._reset_event_to_n_hits()"
   ]
  },
  {
   "cell_type": "markdown",
   "metadata": {},
   "source": [
    "## Define Our Samples"
   ]
  },
  {
   "cell_type": "code",
   "execution_count": null,
   "metadata": {
    "collapsed": true
   },
   "outputs": [],
   "source": [
    "## Branches not needed\n",
    "#drift_dist_name = prefix + \"DriftDist\"\n",
    "#turn_id_name = prefix + \"TurnID\"\n",
    "#pid_name = prefix + \"Track.fPID\"\n",
    "#parent_track_id_name = prefix + \"Track.fParentTrackID\"\n",
    "#all_momentum_names = [ prefix + \"Track.f\" + st_sp + \"Momentum.f\" + coor \n",
    "#                       for st_sp in [\"Start\", \"Stop\"] for coor in [\"X\", \"Y\", \"Z\"] ]\n",
    "#all_pos_names = [ prefix + \"Track.f\" + st_sp + \"PosGlobal.f\" + coor \n",
    "#                       for st_sp in [\"Start\", \"Stop\"] for coor in [\"P.fX\", \"P.fY\", \"P.fZ\", \"E\"] ]\n",
    "#hit_pos_names = [ prefix + \"MCPos.f\" + coor for coor in [\"P.fX\", \"P.fY\", \"P.fZ\", \"E\"] ]\n",
    "#hit_mom_names = [ prefix + \"MCMom.f\" + coor for coor in [\"X\", \"Y\", \"Z\"] ]\n",
    "\n",
    "## For track fitting\n",
    "#these_branches += [turn_id_name, \n",
    "#                   drift_dist_name,\n",
    "#                   pid_name,\n",
    "#                   parent_track_id_name] +\\\n",
    "#                  hit_mom_names +\\\n",
    "#                  all_momentum_names +\\\n",
    "#                  all_pos_names +\\\n",
    "#                  hit_pos_names"
   ]
  },
  {
   "cell_type": "code",
   "execution_count": null,
   "metadata": {
    "collapsed": true
   },
   "outputs": [],
   "source": [
    "# Define some branches to import\n",
    "## Existing branches\n",
    "prefix = \"CDCHit.f\"\n",
    "drift_name = prefix + \"DriftTime\"\n",
    "track_id_name = prefix + \"Track.fTrackID\"\n",
    "\n",
    "\n",
    "## Branches to be filled\n",
    "row_name = prefix +\"Layers\"\n",
    "cell_id_name = prefix + \"CellID\"\n",
    "rel_time_name = prefix + \"Relative_Time\"\n",
    "take_hit_name = prefix + \"Take_Hit\"\n",
    "lcl_scr_name = prefix + \"Local_Score\"\n",
    "ngh_scr_name = prefix + \"Neigh_Score\"\n",
    "hgh_scr_name = prefix + \"Hough_Score\"\n",
    "trk_scr_name = prefix + \"Track_Score\"\n",
    "\n",
    "empty_branches = [row_name, \n",
    "                  cell_id_name,\n",
    "                  lcl_scr_name, \n",
    "                  ngh_scr_name, \n",
    "                  hgh_scr_name,\n",
    "                  trk_scr_name, \n",
    "                  rel_time_name,\n",
    "                  take_hit_name]"
   ]
  },
  {
   "cell_type": "code",
   "execution_count": null,
   "metadata": {
    "collapsed": true
   },
   "outputs": [],
   "source": [
    "these_branches = dict()\n",
    "these_branches[\"CDC\"] = [drift_name, \n",
    "                         track_id_name]\n",
    "these_branches[\"CTH\"] = None"
   ]
  },
  {
   "cell_type": "code",
   "execution_count": null,
   "metadata": {
    "collapsed": true
   },
   "outputs": [],
   "source": [
    "file_root = \"/home/elg112/development/ICEDUST/track_finding_standalone/\"\\\n",
    "            \"track_finding_yandex/data/\"\n",
    "back_samples = [\"batch_2_TrkTree_2500.root\",\n",
    "                \"batch_3_TrkTree_2536.root\",\n",
    "                \"batch_4_TrkTree_5250.root\"]\n",
    "sig_samples = [\"oa_xx_xxx_09000000-0000_pdevedxn64ot_user-TrkTree_000_500signal-label.root\",\n",
    "               \"oa_xx_xxx_09100000-0000_skzt2l7sdqvx_user-TrkTree_000_500signal-label.root\",\n",
    "               \"oa_xx_xxx_09200000-0000_x67rltrbhc3n_user-TrkTree_000_500signal-label.root\",\n",
    "               \"oa_xx_xxx_09300000-0000_seae7w5z6fvt_user-TrkTree_000_500signal-label.root\",\n",
    "               \"oa_xx_xxx_09400000-0000_o774i4trtmim_user-TrkTree_000_500signal-label.root\",\n",
    "               \"oa_xx_xxx_09500000-0000_ufkycd74hb4i_user-TrkTree_000_500signal-label.root\"]\n",
    "back_samples = [file_root + this_file for this_file in back_samples]\n",
    "sig_samples = [file_root + this_file for this_file in sig_samples]"
   ]
  },
  {
   "cell_type": "markdown",
   "metadata": {},
   "source": [
    "## Import the Data"
   ]
  },
  {
   "cell_type": "code",
   "execution_count": null,
   "metadata": {
    "collapsed": true
   },
   "outputs": [],
   "source": [
    "%run data_tools.ipynb"
   ]
  },
  {
   "cell_type": "code",
   "execution_count": null,
   "metadata": {
    "collapsed": true,
    "scrolled": true
   },
   "outputs": [],
   "source": [
    "%%memit\n",
    "train = data_import_sample(sig_samples[0], back_samples[0], \n",
    "                           these_cuts=[\"500\",\"Trig\",\"Track\"],\n",
    "                           branches=these_branches,\n",
    "                           empty_branches=empty_branches)\n",
    "set_additional_branches(train.cdc, \n",
    "                        row_name=row_name, \n",
    "                        cell_id=cell_id_name, \n",
    "                        relative_time=rel_time_name)"
   ]
  },
  {
   "cell_type": "markdown",
   "metadata": {},
   "source": [
    "## Prepare the data"
   ]
  },
  {
   "cell_type": "code",
   "execution_count": null,
   "metadata": {
    "collapsed": true
   },
   "outputs": [],
   "source": [
    "bins_for_plots = 50\n",
    "figsize(10,5)"
   ]
  },
  {
   "cell_type": "code",
   "execution_count": null,
   "metadata": {
    "collapsed": true
   },
   "outputs": [],
   "source": [
    "plot_feature( train.cdc.get_signal_hits()[train.cdc.time_name], \n",
    "              train.cdc.get_background_hits()[train.cdc.time_name], \n",
    "              xlabel=\"Detected Time [ns]\", ylabel=\"Normalised Hit Count\", \n",
    "              xlog=False,\n",
    "              title=\"Detected Time of Hits\", \n",
    "              nbins=bins_for_plots)\n",
    "show()"
   ]
  },
  {
   "cell_type": "code",
   "execution_count": null,
   "metadata": {
    "collapsed": true
   },
   "outputs": [],
   "source": [
    "plot_feature( train.cdc.get_signal_hits()[drift_name], \n",
    "              train.cdc.get_background_hits()[drift_name], \n",
    "              xlabel=\"Drift time [ns]\", ylabel=\"Normalised Hit Count\", \n",
    "              xlog=False,\n",
    "              title=\"Drift Time of Hits in CDC\", \n",
    "              nbins=bins_for_plots)\n",
    "show()"
   ]
  },
  {
   "cell_type": "code",
   "execution_count": null,
   "metadata": {
    "collapsed": true
   },
   "outputs": [],
   "source": [
    "event = 1000\n",
    "print(np.unique(train.cth.get_events(event)[\"CTHHit.fTrigTime\"]))\n",
    "print(np.unique(train.cth.get_events(event)[\"CTHHit.fEventNumber\"]))\n",
    "print(np.unique(train.cdc.get_events(event)[\"CDCHit.fTrigTime\"]))\n",
    "print(np.unique(train.cdc.get_events(event)[\"CDCHit.fEventNumber\"]))"
   ]
  },
  {
   "cell_type": "code",
   "execution_count": null,
   "metadata": {
    "collapsed": true
   },
   "outputs": [],
   "source": [
    "plot_feature( train.cdc.get_signal_hits()[train.cdc.time_name] -\\\n",
    "                  train.cdc.get_signal_hits()[drift_name],  \n",
    "              train.cdc.get_background_hits()[train.cdc.time_name] -\\\n",
    "              train.cdc.get_background_hits()[drift_name], \n",
    "              xlabel=\"Truth time [ns]\", ylabel=\"Normalised Hit Count\", \n",
    "              xlog=False,\n",
    "              title=\"Truth Time of Hits in CDC\",  \n",
    "              nbins=bins_for_plots)\n",
    "show()"
   ]
  },
  {
   "cell_type": "markdown",
   "metadata": {},
   "source": [
    "# Begin the Analysis"
   ]
  },
  {
   "cell_type": "code",
   "execution_count": null,
   "metadata": {
    "collapsed": true
   },
   "outputs": [],
   "source": [
    "bins_for_plots = 50\n",
    "figsize(10,5)"
   ]
  },
  {
   "cell_type": "code",
   "execution_count": null,
   "metadata": {
    "collapsed": true
   },
   "outputs": [],
   "source": [
    "plot_feature( train.cdc.get_signal_hits()[rel_time_name],\n",
    "              train.cdc.get_background_hits()[rel_time_name],\n",
    "              xlabel=\"Relative Time\", ylabel=\"Normalised Hit Count\", \n",
    "              xlog=False,\n",
    "              title=\"Relative Time\", \n",
    "              nbins=bins_for_plots)\n",
    "show()"
   ]
  },
  {
   "cell_type": "code",
   "execution_count": null,
   "metadata": {
    "collapsed": true
   },
   "outputs": [],
   "source": [
    "plot_feature( np.log10(train.cdc.get_signal_hits()[train.cdc.edep_name] + 1), \n",
    "              np.log10(train.cdc.get_background_hits()[train.cdc.edep_name] + 1), \n",
    "              xlabel=\"log10(Charge Deposition [e])\", ylabel=\"Normalised Hit Count\", \n",
    "              xlog=False,\n",
    "              title=\"Charge Depostion\", \n",
    "              nbins=bins_for_plots)\n",
    "show()"
   ]
  },
  {
   "cell_type": "code",
   "execution_count": null,
   "metadata": {
    "collapsed": true
   },
   "outputs": [],
   "source": [
    "plot_feature( train.cdc.get_signal_hits()[row_name], \n",
    "              train.cdc.get_background_hits()[row_name], \n",
    "              xlabel=\"Layer ID\", ylabel=\"Normalised Hit Count\", \n",
    "              xlog=False,\n",
    "              title=\"Layer Number\", \n",
    "              nbins=18)\n",
    "show()"
   ]
  },
  {
   "cell_type": "code",
   "execution_count": null,
   "metadata": {
    "collapsed": true
   },
   "outputs": [],
   "source": [
    "print(train.cdc.geom.n_points)"
   ]
  },
  {
   "cell_type": "code",
   "execution_count": null,
   "metadata": {
    "collapsed": true
   },
   "outputs": [],
   "source": [
    "sig_occ, back_occ, occ = train.cdc.get_occupancy()"
   ]
  },
  {
   "cell_type": "code",
   "execution_count": null,
   "metadata": {
    "collapsed": true
   },
   "outputs": [],
   "source": [
    "plt.title(\"Occupancy of Events\")\n",
    "plt.xlabel(\"% of Wires Hit\")\n",
    "plt.ylabel(\"Number of Events / bin\")\n",
    "plt.hist(np.array(occ)/4482., bins=50)\n",
    "plt.show()"
   ]
  },
  {
   "cell_type": "code",
   "execution_count": null,
   "metadata": {
    "collapsed": true
   },
   "outputs": [],
   "source": [
    "%run visualizations.ipynb\n",
    "figsize(10,5)"
   ]
  },
  {
   "cell_type": "code",
   "execution_count": null,
   "metadata": {
    "collapsed": true
   },
   "outputs": [],
   "source": [
    "plot_occupancies(sig_occ, back_occ, occ,\n",
    "                n_vols=4482, x_pos=0.2, y_pos=0.8)"
   ]
  },
  {
   "cell_type": "markdown",
   "metadata": {},
   "source": [
    "## Local Classification : Deal with Coincidence"
   ]
  },
  {
   "cell_type": "markdown",
   "metadata": {},
   "source": [
    "### Make training/testing splits"
   ]
  },
  {
   "cell_type": "code",
   "execution_count": null,
   "metadata": {
    "collapsed": true
   },
   "outputs": [],
   "source": [
    "def reset_masks(evt_samp, hit_sample):\n",
    "    total_events = hit_sample.n_events\n",
    "    total_hits = hit_sample.n_hits\n",
    "\n",
    "    evt_samp_masks = [ np.zeros(total_events, dtype=bool) for samp in evt_samp ]\n",
    "    hit_masks      = [ np.zeros(total_hits, dtype=bool) for samp in evt_samp ]\n",
    "    for i in range(len(evt_samp)):\n",
    "        evt_samp_masks[i][evt_samp[i]] = True\n",
    "        hit_masks[i][hit_sample.get_events(evt_samp[i])[hit_sample.hits_index_name]] = True\n",
    "    return evt_samp_masks, hit_masks"
   ]
  },
  {
   "cell_type": "code",
   "execution_count": null,
   "metadata": {
    "collapsed": true
   },
   "outputs": [],
   "source": [
    "# Split up the data first\n",
    "from sklearn.cross_validation import train_test_split\n",
    "\n",
    "# Seed for sample mixing\n",
    "seed = 10\n",
    "\n",
    "# Get samples\n",
    "rest = list(range(train.cdc.n_events))\n",
    "rest, sample_3     = train_test_split(rest, train_size=0.54, test_size=0.36, random_state=seed)\n",
    "sample_1, sample_2 = train_test_split(rest, train_size=0.33, test_size=0.66, random_state=seed)\n",
    "\n",
    "# Get event masks\n",
    "evt_samp       = [ sample_1, sample_2, sample_3 ]\n",
    "evt_samp_masks, hit_masks = reset_masks(evt_samp, train.cdc)"
   ]
  },
  {
   "cell_type": "code",
   "execution_count": null,
   "metadata": {
    "collapsed": true
   },
   "outputs": [],
   "source": [
    "# Get a measurement to compare\n",
    "#orig_edep = np.sort(train.cdc.get_events(evt_samp[0])[train.cdc.edep_name])\n",
    "#new_edep = np.sort(train.cdc.get_events(new_samples[0])[train.cdc.edep_name])"
   ]
  },
  {
   "cell_type": "code",
   "execution_count": null,
   "metadata": {
    "collapsed": true
   },
   "outputs": [],
   "source": [
    "# Remove unused events\n",
    "all_events = evt_samp[0] + evt_samp[1] + evt_samp[2]\n",
    "evt_name = []\n",
    "for samp in evt_samp:\n",
    "    evt_name.append(np.unique(train.cdc.get_events(samp)[train.cdc.key_name]))\n",
    "good_events = np.unique(train.cdc.get_events(all_events)[train.cdc.key_name])\n",
    "train.cdc.trim_hits(train.cdc.key_name, values=good_events)\n",
    "# Relabel the hit samples\n",
    "evt_samp = []\n",
    "for new_samp in evt_name:\n",
    "    this_hit = train.cdc.filter_hits(train.cdc.key_name, values=new_samp)[train.cdc.hits_index_name]\n",
    "    this_evt = list(np.unique(train.cdc.hits_to_events[this_hit]))\n",
    "    evt_samp.append(this_evt)\n",
    "# Get the hit masks\n",
    "evt_samp_masks, hit_masks = reset_masks(evt_samp, train.cdc)"
   ]
  },
  {
   "cell_type": "markdown",
   "metadata": {},
   "source": [
    "### Classify Using Local Features"
   ]
  },
  {
   "cell_type": "code",
   "execution_count": null,
   "metadata": {
    "collapsed": true
   },
   "outputs": [],
   "source": [
    "from rep.metaml.factory import ClassifiersFactory\n",
    "from rep.estimators import SklearnClassifier, TMVAClassifier\n",
    "from sklearn.ensemble import GradientBoostingClassifier\n",
    "from rep.report.metrics import RocAuc\n",
    "from pandas import DataFrame\n",
    "from sklearn.metrics import roc_auc_score, roc_curve"
   ]
  },
  {
   "cell_type": "code",
   "execution_count": null,
   "metadata": {
    "collapsed": true
   },
   "outputs": [],
   "source": [
    "# Define Data\n",
    "lcl_train_features = [train.cdc.edep_name, rel_time_name, row_name]"
   ]
  },
  {
   "cell_type": "code",
   "execution_count": null,
   "metadata": {
    "collapsed": true
   },
   "outputs": [],
   "source": [
    "factory = ClassifiersFactory()\n",
    "\n",
    "# Define GBDT over neighbour-level features\n",
    "local_gbdt = SklearnClassifier(GradientBoostingClassifier(n_estimators=100), \n",
    "                                    features=lcl_train_features)\n",
    "# Add the GBDT\n",
    "factory.add_classifier('Local Features', local_gbdt)"
   ]
  },
  {
   "cell_type": "code",
   "execution_count": null,
   "metadata": {
    "collapsed": true
   },
   "outputs": [],
   "source": [
    "# Train the classifier\n",
    "factory.fit(DataFrame(train.cdc.data[lcl_train_features][hit_masks[0]]), \n",
    "            train.cdc.data[train.cdc.hit_type_name][hit_masks[0]])\n",
    "pass"
   ]
  },
  {
   "cell_type": "code",
   "execution_count": null,
   "metadata": {
    "collapsed": true
   },
   "outputs": [],
   "source": [
    "train.cdc.print_branches()"
   ]
  },
  {
   "cell_type": "code",
   "execution_count": null,
   "metadata": {
    "collapsed": true
   },
   "outputs": [],
   "source": [
    "# Print these predictions\n",
    "train.cdc.data[lcl_scr_name] = local_gbdt.predict_proba(DataFrame(train.cdc.data[lcl_train_features]))[:,1]\n",
    "# Invalidate the training sample\n",
    "train.cdc.data[lcl_scr_name][hit_masks[0]] = -1\n",
    "# remove coincidence\n",
    "remove_coincidence(train.cdc)\n",
    "# Get the hit masks\n",
    "evt_samp_masks, hit_masks = reset_masks(evt_samp, train.cdc)"
   ]
  },
  {
   "cell_type": "code",
   "execution_count": null,
   "metadata": {
    "collapsed": true
   },
   "outputs": [],
   "source": [
    "plot_roc_curve(train.cdc.get_measurement(train.cdc.hit_type_name, \n",
    "                                         events=evt_samp[1]+evt_samp[2],\n",
    "                                         only_hits=True), \n",
    "               train.cdc.get_measurement(lcl_scr_name, \n",
    "                                         events=evt_samp[1]+evt_samp[2],\n",
    "                                         only_hits=True), \n",
    "               zoom=False, label=\"Local ROC Curve\")\n",
    "print(roc_auc_score(train.cdc.get_measurement(train.cdc.hit_type_name, \n",
    "                                         events=evt_samp[1]+evt_samp[2],\n",
    "                                         only_hits=True), \n",
    "               train.cdc.get_measurement(lcl_scr_name, \n",
    "                                         events=evt_samp[1]+evt_samp[2],\n",
    "                                         only_hits=True)))\n",
    "plt.show()"
   ]
  },
  {
   "cell_type": "markdown",
   "metadata": {},
   "source": [
    "## Use Neighbour Level Features"
   ]
  },
  {
   "cell_type": "code",
   "execution_count": null,
   "metadata": {
    "collapsed": true
   },
   "outputs": [],
   "source": [
    "# Define Data\n",
    "neigh_train_features = [train.cdc.edep_name, \n",
    "                        train.cdc.edep_name + \"_left\",\n",
    "                        train.cdc.edep_name + \"_right\",\n",
    "                        rel_time_name, \n",
    "                        rel_time_name + \"_left\",\n",
    "                        rel_time_name + \"_right\",\n",
    "                        row_name]"
   ]
  },
  {
   "cell_type": "code",
   "execution_count": null,
   "metadata": {
    "collapsed": true
   },
   "outputs": [],
   "source": [
    "# Define GBDT over neighbour-level features\n",
    "neigh_gbdt = SklearnClassifier(GradientBoostingClassifier(n_estimators=100), \n",
    "                                    features=neigh_train_features)\n",
    "# Add the GBDT\n",
    "factory.add_classifier('Neighbour and Local Features', neigh_gbdt)"
   ]
  },
  {
   "cell_type": "code",
   "execution_count": null,
   "metadata": {
    "collapsed": true
   },
   "outputs": [],
   "source": [
    "# Train the classifier\n",
    "factory.fit(DataFrame(\n",
    "                np.vstack(\n",
    "                    get_measurment_and_neighbours(train.cdc, train.cdc.edep_name, evt_samp[1]) +\\\n",
    "                    get_measurment_and_neighbours(train.cdc, train.cdc.time_name, evt_samp[1]) +\\\n",
    "                    [train.cdc.data[row_name][hit_masks[1]]]).T,\n",
    "                columns=neigh_train_features), \n",
    "            train.cdc.data[train.cdc.hit_type_name][hit_masks[1]])\n",
    "pass"
   ]
  },
  {
   "cell_type": "code",
   "execution_count": null,
   "metadata": {
    "collapsed": true
   },
   "outputs": [],
   "source": [
    "# Print these predictions\n",
    "train.cdc.data[ngh_scr_name] = neigh_gbdt.predict_proba(\n",
    "    DataFrame(\n",
    "        np.vstack(\n",
    "            get_measurment_and_neighbours(train.cdc, train.cdc.edep_name) +\\\n",
    "            get_measurment_and_neighbours(train.cdc, train.cdc.time_name) +\\\n",
    "            [train.cdc.data[row_name]]).T,\n",
    "        columns=neigh_train_features))[:,1]\n",
    "# Invalidate the training sample\n",
    "train.cdc.data[ngh_scr_name][np.logical_or(hit_masks[0], hit_masks[1])] = -1"
   ]
  },
  {
   "cell_type": "code",
   "execution_count": null,
   "metadata": {
    "collapsed": true
   },
   "outputs": [],
   "source": [
    "plot_roc_curve(train.cdc.data[train.cdc.hit_type_name][hit_masks[2]], \n",
    "               train.cdc.data[ngh_scr_name][hit_masks[2]], \n",
    "               zoom=True, label=\"Neighbour ROC Curve\")\n",
    "print(roc_auc_score(train.cdc.data[train.cdc.hit_type_name][hit_masks[2]], \n",
    "               train.cdc.data[ngh_scr_name][hit_masks[2]]))\n",
    "plt.show()"
   ]
  },
  {
   "cell_type": "code",
   "execution_count": null,
   "metadata": {
    "collapsed": true
   },
   "outputs": [],
   "source": [
    "# Define which wires we want to correct as hits which were missclassified \n",
    "problem_weights_2 = abs(train.cdc.data[train.cdc.hit_type_name][hit_masks[2]]\n",
    "                        - train.cdc.data[ngh_scr_name][hit_masks[2]]) ** 2"
   ]
  },
  {
   "cell_type": "code",
   "execution_count": null,
   "metadata": {
    "collapsed": true
   },
   "outputs": [],
   "source": [
    "print(roc_auc_score(train.cdc.data[train.cdc.hit_type_name][hit_masks[2]], \n",
    "                    train.cdc.data[ngh_scr_name][hit_masks[2]]))\n",
    "print(roc_auc_score(train.cdc.data[train.cdc.hit_type_name][hit_masks[2]], \n",
    "                    train.cdc.data[ngh_scr_name][hit_masks[2]],\n",
    "                    sample_weight=problem_weights_2))"
   ]
  },
  {
   "cell_type": "code",
   "execution_count": null,
   "metadata": {
    "collapsed": true
   },
   "outputs": [],
   "source": [
    "default = [[31.5, 34, 34.5, 2]]\n",
    "submatrices = []\n",
    "\n",
    "# TODO test with several radii\n",
    "for rmin, rmean, rmax, rsgma in default: #[[30, 33, 35], [26, 29, 32]]:\n",
    "    # Try with default values\n",
    "    hough = HoughSpace(CDC(), sig_rho_min=rmin, sig_rho=rmean, sig_rho_max=rmax,\\\n",
    "                       sig_rho_sgma=rsgma, rho_bins=20, arc_bins=81)\n",
    "    corresp = hough.correspondence\n",
    "    submatrices.append(corresp)\n",
    "\n",
    "# Stack all submatricies horizontally\n",
    "new_correspondence = sparse.hstack(submatrices)"
   ]
  },
  {
   "cell_type": "code",
   "execution_count": null,
   "metadata": {
    "collapsed": true
   },
   "outputs": [],
   "source": [
    "# Fit and transform the second data sample\n",
    "hough_transformer = HoughTransformer(new_correspondence, \\\n",
    "                                     hough.norm_track_neighs,\\\n",
    "                                     train.cdc.get_measurement(ngh_scr_name,\n",
    "                                                              events=evt_samp[2],\n",
    "                                                              only_hits=False,\n",
    "                                                              flatten=False),\n",
    "                                     alpha_max=2., alpha_rw=2.)"
   ]
  },
  {
   "cell_type": "code",
   "execution_count": null,
   "metadata": {
    "collapsed": true
   },
   "outputs": [],
   "source": [
    "# Get the hough results\n",
    "#hough_score, hough_images = \\\n",
    "train.cdc.data[hgh_scr_name], hough_images = \\\n",
    "        hough_transformer.transform(train.cdc.get_measurement(ngh_scr_name, \n",
    "                                                             only_hits=False, \n",
    "                                                             flatten=False),\n",
    "                                   only_hits=True, flatten=True)"
   ]
  },
  {
   "cell_type": "code",
   "execution_count": null,
   "metadata": {
    "collapsed": true
   },
   "outputs": [],
   "source": [
    "# Add this to the feature list\n",
    "track_train_features = neigh_train_features + [hgh_scr_name]\n",
    "\n",
    "# Define the new classifier\n",
    "hough_gbdt = SklearnClassifier(GradientBoostingClassifier(n_estimators=100), \n",
    "                               features=track_train_features) \n",
    "\n",
    "# Define GBDT over only energy deposit to compare\n",
    "dep_gbdt = SklearnClassifier(GradientBoostingClassifier(n_estimators=200), \n",
    "                               features=[train.cdc.edep_name])\n",
    "\n",
    "# Ensure neigh-level GBDT has enough trees to compare properly\n",
    "neigh_gbdt.set_params(n_estimators=200)\n",
    "local_gbdt.set_params(n_estimators=200)\n",
    "\n",
    "# Add the classifiers\n",
    "factory.add_classifier('Track, Local and Neighbour Features', hough_gbdt)\n",
    "factory.add_classifier('Energy Deposition', dep_gbdt)"
   ]
  },
  {
   "cell_type": "code",
   "execution_count": null,
   "metadata": {
    "collapsed": true
   },
   "outputs": [],
   "source": [
    "# Train the classifier\n",
    "factory.fit(DataFrame(\n",
    "        np.vstack(\n",
    "            get_measurment_and_neighbours(train.cdc, train.cdc.edep_name, events=evt_samp[2]) +\\\n",
    "            get_measurment_and_neighbours(train.cdc, train.cdc.time_name, events=evt_samp[2]) +\\\n",
    "            [train.cdc.get_measurement(row_name, only_hits=True,flatten=True, events=evt_samp[2])] +\\\n",
    "            [train.cdc.get_measurement(hgh_scr_name, only_hits=True,flatten=True, events=evt_samp[2])]).T,\n",
    "        columns=track_train_features), \n",
    "    train.cdc.get_measurement(train.cdc.hit_type_name, only_hits=True,flatten=True, events=evt_samp[2]))\n",
    "pass"
   ]
  },
  {
   "cell_type": "markdown",
   "metadata": {},
   "source": [
    "## Save the Classifiers and Training Data"
   ]
  },
  {
   "cell_type": "code",
   "execution_count": null,
   "metadata": {
    "collapsed": true
   },
   "outputs": [],
   "source": [
    "# Save the training sample and training data\n",
    "import pickle as pickle\n",
    "from pandas import DataFrame"
   ]
  },
  {
   "cell_type": "code",
   "execution_count": null,
   "metadata": {
    "collapsed": true
   },
   "outputs": [],
   "source": [
    "# Choose directory to save it to\n",
    "classifiers_dir = \"/vols/comet/users/elg112/ICEDUST/track-finding-yandex/classifiers/\"\n",
    "#train_name = \"batch_3_4_2500\"\n",
    "#test_name = \"batch_5_2675\"\n",
    "train_name = \"batch_3_2500\"\n",
    "test_name = \"batch_4_2536\"\n",
    "\n",
    "save_class = False\n",
    "load_class = False\n",
    "save_test = False\n",
    "load_test = False"
   ]
  },
  {
   "cell_type": "code",
   "execution_count": null,
   "metadata": {
    "collapsed": true
   },
   "outputs": [],
   "source": [
    "if save_class:\n",
    "    # Save the classifier\n",
    "    pickle.dump(factory, open(classifiers_dir + \"class_\"+train_name+\".p\", \"wb\" ) )\n",
    "    # Save the transformer \n",
    "    pickle.dump(hough_transformer, open(classifiers_dir + \"hough_\"+train_name+\".p\", \"wb\" ))\n",
    "    # Save the training sample and remove it\n",
    "    pickle.dump(train.cdc, open(classifiers_dir + \"train_\"+train_name+\".p\", \"wb\" ) )"
   ]
  },
  {
   "cell_type": "code",
   "execution_count": null,
   "metadata": {
    "collapsed": true
   },
   "outputs": [],
   "source": [
    "print \"Memory Usage {}\".format(memory_usage())\n",
    "%xdel train\n",
    "print \"Memory Usage {}\".format(memory_usage())"
   ]
  },
  {
   "cell_type": "code",
   "execution_count": null,
   "metadata": {
    "collapsed": true
   },
   "outputs": [],
   "source": [
    "if load_class:\n",
    "    factory = pickle.load(open(classifiers_dir + \"class_\"+train_name+\".p\", \"rb\" ) )\n",
    "    hough_transformer = pickle.load(open(classifiers_dir + \"hough_\"+train_name+\".p\", \"rb\" ) )\n",
    "    local_gbdt = factory['Local Features']\n",
    "    neigh_gbdt = factory['Neighbour and Local Features']\n",
    "    hough_gbdt = factory['Track, Local and Neighbour Features']"
   ]
  },
  {
   "cell_type": "code",
   "execution_count": null,
   "metadata": {
    "collapsed": true
   },
   "outputs": [],
   "source": [
    "print(\"Memory Usage {}\".format(memory_usage()))"
   ]
  },
  {
   "cell_type": "markdown",
   "metadata": {},
   "source": [
    "## Test on the New Sample"
   ]
  },
  {
   "cell_type": "code",
   "execution_count": null,
   "metadata": {
    "collapsed": true
   },
   "outputs": [],
   "source": [
    "%%memit\n",
    "if load_test: \n",
    "    test_s = pickle.load(open(classifiers_dir + \"test_\"+test_name+\".p\", \"rb\" ) )\n",
    "else:\n",
    "    test_s = data_import_sample(sig_samples[1], back_samples[1], \n",
    "                              these_cuts=[\"500\",\"Trig\",\"Track\"],\n",
    "                              branches=these_branches,\n",
    "                              empty_branches=empty_branches)\n",
    "    set_additional_branches(test_s.cdc, \n",
    "                            row_name=row_name, \n",
    "                            cell_id=cell_id_name, \n",
    "                            relative_time=rel_time_name)"
   ]
  },
  {
   "cell_type": "code",
   "execution_count": null,
   "metadata": {
    "collapsed": true
   },
   "outputs": [],
   "source": [
    "if load_class:\n",
    "    # Define features\n",
    "    lcl_train_features = [test_s.cdc.edep_name, rel_time_name, row_name]\n",
    "    neigh_train_features = [test_s.cdc.edep_name, \n",
    "                        test_s.cdc.edep_name + \"_left\",\n",
    "                        test_s.cdc.edep_name + \"_right\",\n",
    "                        rel_time_name, \n",
    "                        rel_time_name + \"_left\",\n",
    "                        rel_time_name + \"_right\",\n",
    "                        row_name]\n",
    "    track_train_features = neigh_train_features + [hgh_scr_name]"
   ]
  },
  {
   "cell_type": "code",
   "execution_count": null,
   "metadata": {
    "collapsed": true
   },
   "outputs": [],
   "source": [
    "bins_for_plots = 50\n",
    "plot_feature( test_s.cdc.get_signal_hits()[rel_time_name], \n",
    "              test_s.cdc.get_background_hits()[rel_time_name], \n",
    "              xlabel=\"Relative Time\", ylabel=\"Normalised Hit Count\", \n",
    "              xlog=False,\n",
    "              title=\"Relative Time\", \n",
    "              nbins=bins_for_plots)\n",
    "show()"
   ]
  },
  {
   "cell_type": "code",
   "execution_count": null,
   "metadata": {
    "collapsed": true
   },
   "outputs": [],
   "source": [
    "if load_test:\n",
    "    _ , hough_images = \\\n",
    "            hough_transformer.transform(test_s.cdc.get_measurement(ngh_scr_name, \n",
    "                                                                 only_hits=False, \n",
    "                                                                 flatten=False),\n",
    "                                                    only_hits=True, flatten=True)\n",
    "    default = [[31.5, 34, 34.5, 2]]\n",
    "    submatrices = []\n",
    "\n",
    "    # TODO test with several radii\n",
    "    for rmin, rmean, rmax, rsgma in default: #[[30, 33, 35], [26, 29, 32]]:\n",
    "        # Try with default values\n",
    "        hough = HoughSpace(CDC(), sig_rho_min=rmin, sig_rho=rmean, sig_rho_max=rmax,\\\n",
    "                           sig_rho_sgma=rsgma, rho_bins=20, arc_bins=81)\n",
    "else: \n",
    "    # Get the local score predictions\n",
    "    test_s.cdc.data[lcl_scr_name] = local_gbdt.predict_proba(DataFrame(test_s.cdc.data[lcl_train_features]))[:,1]\n",
    "    # Remove coincident hits\n",
    "    remove_coincidence(test_s.cdc)\n",
    "    # Get the neighbouring score predictions\n",
    "    test_s.cdc.data[ngh_scr_name] = neigh_gbdt.predict_proba(\n",
    "        DataFrame(\n",
    "            np.vstack(\n",
    "                get_measurment_and_neighbours(test_s.cdc, test_s.cdc.edep_name) +\\\n",
    "                get_measurment_and_neighbours(test_s.cdc, test_s.cdc.time_name) +\\\n",
    "                [test_s.cdc.data[row_name]]).T,\n",
    "            columns=neigh_train_features))[:,1]\n",
    "    # Get the hough results\n",
    "    test_s.cdc.data[hgh_scr_name], hough_images = \\\n",
    "            hough_transformer.transform(test_s.cdc.get_measurement(ngh_scr_name, \n",
    "                                                                 only_hits=False, \n",
    "                                                                 flatten=False),\n",
    "                                       only_hits=True, flatten=True)\n",
    "    # Test it on the last set of data\n",
    "    test_s.cdc.data[trk_scr_name] = hough_gbdt.predict_proba(\n",
    "            DataFrame(\n",
    "                np.vstack(\n",
    "                        get_measurment_and_neighbours(test_s.cdc, test_s.cdc.edep_name) +\\\n",
    "                        get_measurment_and_neighbours(test_s.cdc, test_s.cdc.time_name) +\\\n",
    "                        [test_s.cdc.data[row_name]] +\\\n",
    "                        [test_s.cdc.data[hgh_scr_name]]).T,\n",
    "                columns=track_train_features)\n",
    "            )[:,1]"
   ]
  },
  {
   "cell_type": "code",
   "execution_count": null,
   "metadata": {
    "collapsed": true
   },
   "outputs": [],
   "source": [
    "if save_test:\n",
    "    # Save the test_sample\n",
    "    pickle.dump(test_s.cdc, open(classifiers_dir + \"test_\"+test_name+\".p\", \"wb\" ) )"
   ]
  },
  {
   "cell_type": "code",
   "execution_count": null,
   "metadata": {
    "collapsed": true
   },
   "outputs": [],
   "source": [
    "final_diagnostics = factory.test_on(\n",
    "    DataFrame(\n",
    "        np.vstack(\n",
    "            get_measurment_and_neighbours(test_s.cdc, test_s.cdc.edep_name) +\\\n",
    "            get_measurment_and_neighbours(test_s.cdc, test_s.cdc.time_name) +\\\n",
    "            [test_s.cdc.data[row_name]] +\\\n",
    "            [test_s.cdc.data[hgh_scr_name]]).T,\n",
    "        columns=track_train_features), \n",
    "    test_s.cdc.data[test_s.cdc.hit_type_name])"
   ]
  },
  {
   "cell_type": "markdown",
   "metadata": {},
   "source": [
    "# Visualize The Results"
   ]
  },
  {
   "cell_type": "code",
   "execution_count": null,
   "metadata": {
    "collapsed": true
   },
   "outputs": [],
   "source": [
    "figsize(11, 7.3333)\n",
    "%run visualizations.ipynb"
   ]
  },
  {
   "cell_type": "code",
   "execution_count": null,
   "metadata": {
    "collapsed": true
   },
   "outputs": [],
   "source": [
    "plot_set_font()\n",
    "figsize(10, 5)\n",
    "plot_rocs(test_s.cdc.get_measurement(test_s.cdc.hit_type_name,\n",
    "                                   only_hits=True,\n",
    "                                   flatten=True), \n",
    "         final_diagnostics.prediction, \n",
    "         names=None,\n",
    "         zoom=False,\n",
    "         datum_label=\"Hit\")\n",
    "plt.show()"
   ]
  },
  {
   "cell_type": "code",
   "execution_count": null,
   "metadata": {
    "collapsed": true
   },
   "outputs": [],
   "source": [
    "plot_set_font()\n",
    "figsize(11, 7.3333)\n",
    "\n",
    "plot_roc_curve(test_s.cdc.get_measurement(test_s.cdc.hit_type_name,\n",
    "                                   only_hits=True,\n",
    "                                   flatten=True), \n",
    "               final_diagnostics.prediction[\"Energy Deposition\"][:,1], \n",
    "         zoom=True,\n",
    "         zoom_x_lims=[80,100],\n",
    "         zoom_y_lims=[40,100],\n",
    "         label=\"Energy Deposition\",\n",
    "         datum_label=\"Hit\",\n",
    "         ls=\"--\",\n",
    "         fontsize=20)\n",
    "plot_roc_curve(test_s.cdc.get_measurement(test_s.cdc.hit_type_name,\n",
    "                                   only_hits=True,\n",
    "                                   flatten=True), \n",
    "               final_diagnostics.prediction[\"Track, Local and Neighbour Features\"][:,1], \n",
    "         zoom=True,\n",
    "         zoom_x_lims=[80,100],\n",
    "         zoom_y_lims=[40,100],\n",
    "         label=\"Track, Local and Neighbour Features\",\n",
    "         datum_label=\"Hit\",\n",
    "         fontsize=20)\n",
    "plt.show()"
   ]
  },
  {
   "cell_type": "code",
   "execution_count": null,
   "metadata": {
    "collapsed": true
   },
   "outputs": [],
   "source": [
    "plot_set_font()\n",
    "plot_rocs(test.cdc.get_measurement(test.cdc.hit_type_name,\n",
    "                                   only_hits=True,\n",
    "                                   flatten=True), \n",
    "         final_diagnostics.prediction, \n",
    "         zoom=True,\n",
    "         zoom_x_lims=[90,100],\n",
    "         zoom_y_lims=[65,100],\n",
    "         datum_label=\"Hit\")\n",
    "plt.show()"
   ]
  },
  {
   "cell_type": "code",
   "execution_count": null,
   "metadata": {
    "collapsed": true
   },
   "outputs": [],
   "source": [
    "figsize(10, 5)"
   ]
  },
  {
   "cell_type": "code",
   "execution_count": null,
   "metadata": {
    "collapsed": true
   },
   "outputs": [],
   "source": [
    "sig_occupy, back_occupy, occupy = test_s.cdc.get_occupancy()\n",
    "plot_occupancies(sig_occupy, back_occupy, occupy, x_pos=0.4, y_pos=0.8)"
   ]
  },
  {
   "cell_type": "code",
   "execution_count": null,
   "metadata": {
    "collapsed": true
   },
   "outputs": [],
   "source": [
    "sig_occ, back_occ, occ = list(), list(), list()\n",
    "for event in range(test_s.cdc.n_events):\n",
    "    #sig_occ += [sum(test_s.cdc.get_signal_hits(event)[trk_scr_name])]\n",
    "    #back_occ += [sum(test_s.cdc.get_background_hits(event)[trk_scr_name])]\n",
    "    #occ += [sum(test_s.cdc.get_events(event)[trk_scr_name])]\n",
    "    sig_hits = test_s.cdc.get_signal_hits(event)\n",
    "    sig_hits = test_s.cdc.filter_hits(\"CDCHit.fTrack_Score\", \n",
    "                                    these_hits=sig_hits,\n",
    "                                    greater_than=0.624549)\n",
    "    sig_occ += [len(np.unique(sig_hits[test_s.cdc.flat_name]))]\n",
    "    bkg_hits = test_s.cdc.get_background_hits(event)\n",
    "    bkg_hits = test_s.cdc.filter_hits(\"CDCHit.fTrack_Score\", \n",
    "                                    these_hits=bkg_hits,\n",
    "                                    greater_than=0.624549)\n",
    "    back_occ += [len(np.unique(bkg_hits[test_s.cdc.flat_name]))]\n",
    "    all_evt_hits = test_s.cdc.get_events(event)\n",
    "    all_evt_hits = test_s.cdc.filter_hits(\"CDCHit.fTrack_Score\", \n",
    "                                    these_hits=all_evt_hits,\n",
    "                                    greater_than=0.624549)\n",
    "    occ += [len(np.unique(all_evt_hits[test_s.cdc.flat_name]))]  \n",
    "\n",
    "# print some infor\n",
    "avg_n_hits = np.average(test_s.cdc.event_to_n_hits)\n",
    "avg_occ = np.average(occ)\n",
    "print(\"Sig Occ: {} , Back Occ : {}\".format(np.average(sig_occ), np.average(back_occ)))\n",
    "print(\"All Occ: {}, {}\".format(avg_occ, avg_occ/4482.))\n",
    "print(\"NumHits: {}\".format(avg_n_hits))\n",
    "print(\"MinChansMultiHit: {}\".format((avg_n_hits - avg_occ)/float(avg_occ)))"
   ]
  },
  {
   "cell_type": "code",
   "execution_count": null,
   "metadata": {
    "collapsed": true
   },
   "outputs": [],
   "source": [
    "plot_set_font()\n",
    "plot_occupancies(sig_occ, back_occ, occ, x_pos=0.4, y_pos=0.8)"
   ]
  },
  {
   "cell_type": "code",
   "execution_count": null,
   "metadata": {
    "collapsed": true
   },
   "outputs": [],
   "source": [
    "figsize(10, 5)"
   ]
  },
  {
   "cell_type": "code",
   "execution_count": null,
   "metadata": {
    "collapsed": true
   },
   "outputs": [],
   "source": [
    "labels = test_s.cdc.get_measurement(test_s.cdc.hit_type_name, \n",
    "                                  flatten=True)"
   ]
  },
  {
   "cell_type": "code",
   "execution_count": null,
   "metadata": {
    "collapsed": true
   },
   "outputs": [],
   "source": [
    "plot_feature( test_s.cdc.get_signal_hits()[test_s.cdc.time_name],\n",
    "              test_s.cdc.get_background_hits()[test_s.cdc.time_name],\n",
    "              xlabel=\"Detected time [ns]\", ylabel=\"Normalised Hit Count\", \n",
    "              xlog=False,\n",
    "              title=\"Detected Time of Hits in CDC\", \n",
    "              nbins=bins_for_plots)\n",
    "show()"
   ]
  },
  {
   "cell_type": "code",
   "execution_count": null,
   "metadata": {
    "collapsed": true
   },
   "outputs": [],
   "source": [
    "plot_feature( test_s.cdc.get_signal_hits()[test_s.cdc.time_name] -\\\n",
    "              test_s.cdc.get_signal_hits()[drift_name],  \n",
    "              test_s.cdc.get_background_hits()[test_s.cdc.time_name] -\\\n",
    "              test_s.cdc.get_background_hits()[drift_name], \n",
    "              xlabel=\"Truth time [ns]\", ylabel=\"Normalised Hit Count\", \n",
    "              xlog=False,\n",
    "              title=\"Truth Time of Hits in CDC\", \n",
    "              nbins=bins_for_plots)\n",
    "show()"
   ]
  },
  {
   "cell_type": "code",
   "execution_count": null,
   "metadata": {
    "collapsed": true
   },
   "outputs": [],
   "source": [
    "plot_feature(  test_s.cdc.get_measurement(rel_time_name, \n",
    "                                       flatten=True, \n",
    "                                       shift=-1, \n",
    "                                       default=-1000)[labels == 1], \n",
    "               test_s.cdc.get_measurement(rel_time_name, \n",
    "                                       flatten=True, \n",
    "                                       shift=-1, \n",
    "                                       default=-1000)[labels == 0], \n",
    "              xlabel=\"Relative Timing\", ylabel=\"Normalised Hit Count\", \n",
    "              title=\"Relative timing of Left Hand Wire, No Hit = -1000\",\n",
    "              xlog=False, nbins=bins_for_plots)\n",
    "show()"
   ]
  },
  {
   "cell_type": "code",
   "execution_count": null,
   "metadata": {
    "collapsed": true
   },
   "outputs": [],
   "source": [
    "plot_feature(  np.log10(test_s.cdc.get_measurement(test_s.cdc.edep_name, \n",
    "                                       flatten=True, \n",
    "                                       shift=-1, \n",
    "                                       default=1)[labels == 1]), \n",
    "               np.log10(test_s.cdc.get_measurement(test_s.cdc.edep_name, \n",
    "                                       flatten=True, \n",
    "                                       shift=-1, \n",
    "                                       default=1)[labels == 0]), \n",
    "              xlabel=\"log10(Number of Incident Electrons)\", \n",
    "              ylabel=\"Normalised Hit Count\", xlog=False,\n",
    "              title=\"Charge deposited on the Left Wire, No Hit = 0\", \n",
    "              nbins=bins_for_plots)\n",
    "show()"
   ]
  },
  {
   "cell_type": "code",
   "execution_count": null,
   "metadata": {
    "collapsed": true
   },
   "outputs": [],
   "source": [
    "plot_feature( test_s.cdc.get_signal_hits()[lcl_scr_name], \n",
    "              test_s.cdc.get_background_hits()[lcl_scr_name],  \n",
    "              xlabel=\"Local GBDT Output\", ylabel=\"Normalised Hit Count\", xlog=False,\n",
    "              title=\"Local GBDT Output Distribution\", nbins=bins_for_plots)\n",
    "show()"
   ]
  },
  {
   "cell_type": "code",
   "execution_count": null,
   "metadata": {
    "collapsed": true
   },
   "outputs": [],
   "source": [
    "plot_feature( test_s.cdc.get_signal_hits()[ngh_scr_name], \n",
    "              test_s.cdc.get_background_hits()[ngh_scr_name], \n",
    "              xlabel=\"Neighbour-Level GBDT Output\", ylabel=\"Normalised Hit Count\", xlog=False,\n",
    "              title=\"Neighbour-Level GBDT Output Distribution\", nbins=bins_for_plots)\n",
    "show()"
   ]
  },
  {
   "cell_type": "code",
   "execution_count": null,
   "metadata": {
    "collapsed": true
   },
   "outputs": [],
   "source": [
    "plot_feature( test_s.cdc.get_signal_hits()[hgh_scr_name], \n",
    "              test_s.cdc.get_background_hits()[hgh_scr_name], \n",
    "              xlabel=\"Inverse Hough Output\", ylabel=\"Normalised Hit Count\", \n",
    "              xlog=False,\n",
    "              title=\"Inverse Hough Transform Output Distribution\", \n",
    "              nbins=bins_for_plots)\n",
    "show()"
   ]
  },
  {
   "cell_type": "code",
   "execution_count": null,
   "metadata": {
    "collapsed": true
   },
   "outputs": [],
   "source": [
    "plot_feature( test_s.cdc.get_signal_hits()[trk_scr_name], \n",
    "              test_s.cdc.get_background_hits()[trk_scr_name],  \n",
    "              xlabel=\"Track-Level GBDT Output\", ylabel=\"Normalised Hit Count\", \n",
    "              xlog=False,\n",
    "              title=\"Track-Level Output Distribution\", \n",
    "              nbins=bins_for_plots)\n",
    "show()"
   ]
  },
  {
   "cell_type": "code",
   "execution_count": null,
   "metadata": {
    "collapsed": true
   },
   "outputs": [],
   "source": [
    "from collections import OrderedDict\n",
    "feat_label_dict = OrderedDict([\n",
    "            (rel_time_name,               \"Timing\"),  \n",
    "            (rel_time_name     +\"_left\",  \"Left Timing\"),  \n",
    "            (rel_time_name     +\"_right\", \"Right Timing\"),  \n",
    "            (test_s.cdc.edep_name,          \"Charge\"),  \n",
    "            (test_s.cdc.edep_name+\"_left\",  \"Left Charge\"),  \n",
    "            (test_s.cdc.edep_name+\"_right\", \"Right Charge\"),  \n",
    "            (row_name,           \"R Distance\"),  \n",
    "            (hgh_scr_name,               r\"Hough, $W_j''$\")\n",
    "    ])"
   ]
  },
  {
   "cell_type": "code",
   "execution_count": null,
   "metadata": {
    "collapsed": true
   },
   "outputs": [],
   "source": [
    "figsize(6.4,6.4) \n",
    "plot_feature_importance(hough_gbdt, feat_label_dict)\n",
    "show()\n",
    "plot_feature_correlations(final_diagnostics, feat_label_dict)\n",
    "show()"
   ]
  },
  {
   "cell_type": "code",
   "execution_count": null,
   "metadata": {
    "collapsed": true
   },
   "outputs": [],
   "source": [
    "plot_feature_importance(neigh_gbdt, feat_label_dict)\n",
    "show()"
   ]
  },
  {
   "cell_type": "markdown",
   "metadata": {},
   "source": [
    "## Visualiaze the Data"
   ]
  },
  {
   "cell_type": "code",
   "execution_count": null,
   "metadata": {
    "collapsed": true
   },
   "outputs": [],
   "source": [
    "high_hit = np.arange(test_s.cdc.n_events)[test_s.cdc.event_to_n_hits >= 600]\n",
    "#high_hit = np.where(test_s.cdc.event_to_n_hits >= 800)[0]\n",
    "n_sig = np.array([len(test_s.cdc.get_signal_hits(evt)) for evt in high_hit])\n",
    "good_event = high_hit[np.logical_and(n_sig > 70, n_sig < 80)]\n",
    "print(len(good_event))\n",
    "print(good_event)"
   ]
  },
  {
   "cell_type": "code",
   "execution_count": null,
   "metadata": {
    "collapsed": true,
    "scrolled": false
   },
   "outputs": [],
   "source": [
    "# Event information\\\n",
    "event = 5\n",
    "event = good_event[event]\n",
    "#event = evt_samp[3][event]\n",
    "add_trans = True\n",
    "save = False\n",
    "savedir = \"/vols/comet/users/elg112/ICEDUST/track-finding-yandex/review_meeting_plots/\"\n",
    "\n",
    "to_plot = np.take([0,2,1], test_s.cdc.get_measurement(\"CDCHit.fIsSig\", \n",
    "                                   events=event, \n",
    "                                   default=-1, \n",
    "                                   only_hits=False,\n",
    "                                   flatten=True).astype(int) + 1)\n",
    "ngh_pred_size = plot_norm_size(test_s.cdc.get_measurement(ngh_scr_name, \n",
    "                                                        events=event, \n",
    "                                                        default=0, \n",
    "                                                        only_hits=False,\n",
    "                                                        flatten=True))\n",
    "trk_pred_size = plot_norm_size(test_s.cdc.get_measurement(trk_scr_name, \n",
    "                                                        events=event, \n",
    "                                                        default=0, \n",
    "                                                        only_hits=False,\n",
    "                                                        flatten=True))\n",
    "hough_output = test_s.cdc.get_measurement(hgh_scr_name, \n",
    "                                        events=event, \n",
    "                                        default=0, \n",
    "                                        only_hits=False,\n",
    "                                        flatten=True)\n",
    "\n",
    "#hough_event = evt_samp[3][event]\n",
    "hough_event = event\n",
    "\n",
    "plot_hough_image_3 = hough_images[hough_event,:hough.track.n_points] +\\\n",
    "                     hough_images[hough_event,hough.track.n_points:] \n",
    "plot_hough_no_rw = hough_transformer.normed_corresp.T.dot(ngh_pred_size.T).T\n",
    "plot_hough_no_rw = plot_hough_no_rw[:hough.track.n_points] + plot_hough_no_rw[hough.track.n_points:]"
   ]
  },
  {
   "cell_type": "code",
   "execution_count": null,
   "metadata": {
    "collapsed": true
   },
   "outputs": [],
   "source": [
    "# First GBDT output\n",
    "print(occupy[event])\n",
    "plot_output(to_plot, test_s.cdc.geom, \n",
    "            size=ngh_pred_size)\n",
    "plot_add_outlines(to_plot, test_s.cdc.geom)\n",
    "if save:\n",
    "    plt.savefig(savedir+\"plot_neigh_level.png\", bbox_inches='tight')\n",
    "show()"
   ]
  },
  {
   "cell_type": "code",
   "execution_count": null,
   "metadata": {
    "collapsed": true,
    "scrolled": false
   },
   "outputs": [],
   "source": [
    "# Basic output\n",
    "plot_output(to_plot, test_s.cdc.geom, sig_color='black', bkg_color='black', )\n",
    "if save:\n",
    "    plt.savefig(savedir+\"plot_event_bw.png\", bbox_inches='tight')\n",
    "show()\n",
    "\n",
    "plot_output(to_plot, test_s.cdc.geom)\n",
    "if save:\n",
    "    plt.savefig(savedir+\"plot_event.png\", bbox_inches='tight')\n",
    "show()\n",
    "\n",
    "# First GBDT output\n",
    "plot_output(to_plot, test_s.cdc.geom, \n",
    "            size=ngh_pred_size)\n",
    "plot_add_outlines(to_plot, test_s.cdc.geom)\n",
    "if save:\n",
    "    plt.savefig(savedir+\"plot_neigh_level.png\", bbox_inches='tight')\n",
    "show()\n",
    "\n",
    "# Hough output\n",
    "plot_output(to_plot, test_s.cdc.geom, \n",
    "            size=ngh_pred_size, \n",
    "            add_transform=add_trans)\n",
    "plot_add_tracks(test_s.cdc.geom, hough, \n",
    "                size=plot_norm_size(plot_hough_no_rw - np.amin(plot_hough_no_rw),40))\n",
    "if save:\n",
    "    plt.savefig(savedir+\"plot_hough.png\", bbox_inches='tight')\n",
    "show()\n",
    "\n",
    "# Inverse Hough output\n",
    "plot_output(to_plot, test_s.cdc.geom, \n",
    "            size=plot_norm_size(hough_output))\n",
    "plot_add_tracks(test_s.cdc.geom, hough, \n",
    "                size=plot_norm_size(plot_hough_image_3,40), \n",
    "                add_transform=add_trans,\n",
    "                tolerance=0.00)\n",
    "if save:\n",
    "    plt.savefig(savedir+\"plot_inv_hough.png\", bbox_inches='tight')\n",
    "show()    \n",
    "\n",
    "# Final\n",
    "plot_output(to_plot, test_s.cdc.geom, size=plot_norm_size(trk_pred_size))\n",
    "if save:\n",
    "    plt.savefig(savedir+\"plot_final.png\", bbox_inches='tight')\n",
    "show()"
   ]
  },
  {
   "cell_type": "code",
   "execution_count": null,
   "metadata": {
    "collapsed": true
   },
   "outputs": [],
   "source": []
  },
  {
   "cell_type": "code",
   "execution_count": null,
   "metadata": {
    "collapsed": true
   },
   "outputs": [],
   "source": [
    "from tabulate import tabulate"
   ]
  },
  {
   "cell_type": "code",
   "execution_count": null,
   "metadata": {
    "collapsed": true
   },
   "outputs": [],
   "source": [
    "def print_tpr_fpr(my_fpr, my_tpr, my_thresh, \n",
    "                  threshold_min=80, threshold_max=100, \n",
    "                  bins=100., steps=1,\n",
    "                  filename=None):\n",
    "    table = list()\n",
    "    table.append([ \"Bkg Retained\", \"Sig Retained\", 'Threshold'])\n",
    "    for this_thresh in np.arange(threshold_min,threshold_max, steps)[::-1]/float(bins):\n",
    "        table.append([1. - this_thresh, my_tpr[my_fpr < 1. - this_thresh][-1], thresh[fpr < 1. - this_thresh][-1]])\n",
    "    print(tabulate(table, headers=\"firstrow\"))"
   ]
  },
  {
   "cell_type": "code",
   "execution_count": null,
   "metadata": {
    "collapsed": true,
    "scrolled": true
   },
   "outputs": [],
   "source": [
    "fpr, tpr, thresh = roc_curve(test_s.cdc.data[\"CDCHit.fIsSig\"], \n",
    "          test_s.cdc.data[trk_scr_name])\n",
    "\n",
    "print_tpr_fpr(fpr, tpr, thresh, threshold_min=80, threshold_max=100, bins=100)\n",
    "print_tpr_fpr(fpr, tpr, thresh, threshold_min=900, threshold_max=1000, bins=1000, steps=1)"
   ]
  },
  {
   "cell_type": "code",
   "execution_count": null,
   "metadata": {
    "collapsed": true
   },
   "outputs": [],
   "source": [
    "print_tpr_fpr(fpr, tpr, thresh, threshold_min=9000, threshold_max=10000, bins=10000, steps=1)"
   ]
  },
  {
   "cell_type": "code",
   "execution_count": null,
   "metadata": {
    "collapsed": true
   },
   "outputs": [],
   "source": [
    "# Final\n",
    "plot_output(to_plot, test_s.cdc.geom, size=plot_norm_size(test_s.cdc.get_measurement(trk_scr_name, \n",
    "                                                        events=event, \n",
    "                                                        default=0, \n",
    "                                                        only_hits=False,\n",
    "                                                        flatten=True) > 0.49132))\n",
    "plot_add_outlines(to_plot, test_s.cdc.geom)\n",
    "if save:\n",
    "    plt.savefig(savedir+\"plot_final.png\", bbox_inches='tight')\n",
    "show()"
   ]
  },
  {
   "cell_type": "markdown",
   "metadata": {},
   "source": [
    "## Export the Data"
   ]
  },
  {
   "cell_type": "code",
   "execution_count": null,
   "metadata": {
    "collapsed": true
   },
   "outputs": [],
   "source": [
    "export_name = \"track_finding_sample_scored_2.root\""
   ]
  },
  {
   "cell_type": "code",
   "execution_count": null,
   "metadata": {
    "collapsed": true
   },
   "outputs": [],
   "source": [
    "# Task 1 : Print signal only\n",
    "# Task 2 : Print signal + background"
   ]
  },
  {
   "cell_type": "code",
   "execution_count": null,
   "metadata": {
    "collapsed": true
   },
   "outputs": [],
   "source": [
    "test_s.cdc.trim_hits(test_s.cdc.hits_index_name, \n",
    "                   values=test_s.cdc.data[hit_masks[3]][test_s.cdc.hits_index_name])"
   ]
  },
  {
   "cell_type": "code",
   "execution_count": null,
   "metadata": {
    "collapsed": true,
    "scrolled": true
   },
   "outputs": [],
   "source": [
    "from rootpy.tree import Tree, TreeModel, FloatCol, IntCol\n",
    "from rootpy.io import root_open\n",
    "from rootpy.vector import LorentzVector\n",
    "from rootpy import stl\n",
    "from random import gauss, randint\n",
    "\n",
    "# Map from python types to c++ types\n",
    "type_dict_no_array = {dtype('float64'):\"float\", \n",
    "                      dtype('int32')  :\"long\",\n",
    "                      dtype('int64')  :\"long\"}\n",
    "\n",
    "type_dict_no_array = {dtype('float64'):\"FloatCol()\", \n",
    "                      dtype('int32')  :\"IntCol()\",\n",
    "                      dtype('int64')  :\"long\"}\n",
    "\n",
    "# Define the model of the output root file\n",
    "class CDCTree(TreeModel):\n",
    "    # Create a std::vector branch for each measurement\n",
    "    for measure in test_s.cdc.data.dtype.names:\n",
    "        this_dtype = type_dict[test_s.cdc.data.dtype[measure]]\n",
    "        measure = measure.replace(\".\", \"_\")\n",
    "        exec(measure + \" = stl.vector(this_dtype)\")\n",
    "    # Delete branches we do not want\n",
    "    del measure, this_dtype\n",
    "\n",
    "# Open the output file\n",
    "with root_open(savedir+export_name, mode='recreate') as output_file:\n",
    "    # Open a new tree\n",
    "    output_tree = Tree(\"test\", model=CDCTree)\n",
    "    for event in range(test_s.cdc.n_events):\n",
    "        if event%100 == 0:\n",
    "            print(event)\n",
    "        event_hits = test_s.cdc.get_events(event)\n",
    "        for measure in event_hits.dtype.names:\n",
    "            this_measure = event_hits[measure]\n",
    "            for hit_val in this_measure:\n",
    "                output_tree[measure.replace(\".\",\"_\")].push_back(hit_val)\n",
    "        output_tree.fill(reset=True)\n",
    "    output_tree.write()"
   ]
  },
  {
   "cell_type": "code",
   "execution_count": null,
   "metadata": {
    "collapsed": true
   },
   "outputs": [],
   "source": [
    "fpr, tpr, thresh = roc_curve(test_s.cdc.data[\"CDCHit.fIsSig\"], \n",
    "          test_s.cdc.data[trk_scr_name])"
   ]
  },
  {
   "cell_type": "code",
   "execution_count": null,
   "metadata": {
    "collapsed": true
   },
   "outputs": [],
   "source": [
    "def print_tpr_fpr(my_fpr, my_tpr, my_thresh, \n",
    "                  threshold_min=80, threshold_max=100, \n",
    "                  bins=100., steps=1,\n",
    "                  filename=None):\n",
    "    table = list()\n",
    "    table.append([ \"Bkg Retained\", \"Sig Retained\", 'Threshold'])\n",
    "    for this_thresh in np.arange(threshold_min,threshold_max, steps)[::-1]/float(bins):\n",
    "        table.append([1. - this_thresh, my_tpr[my_fpr < 1. - this_thresh][-1], thresh[fpr < 1. - this_thresh][-1]])\n",
    "    print(tabulate(table, headers=\"firstrow\"))"
   ]
  },
  {
   "cell_type": "code",
   "execution_count": null,
   "metadata": {
    "collapsed": true
   },
   "outputs": [],
   "source": [
    "print_tpr_fpr(fpr, tpr, thresh, threshold_min=80, threshold_max=100, bins=100)\n",
    "print_tpr_fpr(fpr, tpr, thresh, threshold_min=900, threshold_max=1000, bins=1000, steps=5)"
   ]
  },
  {
   "cell_type": "code",
   "execution_count": null,
   "metadata": {
    "collapsed": true
   },
   "outputs": [],
   "source": [
    "# TODO \n",
    "# Plots for Louis\n",
    "\n",
    "# Penalize for not being the closest point to the fit\n",
    "\n",
    "\n",
    "\n",
    "# Belle-II literature\n",
    "# multiple radii\n",
    "# optimize hough to improve track purity, use RANSAC to shed background islands\n",
    "# \n",
    "\n",
    "#TODO Offline Analysis\n",
    "# THURS penalize on no hits for RANSAC\n",
    "# THURS change sampling probability via GBDT score\n",
    "# THURS change scoring weight by GBDT score\n",
    "# FRI check results for mulitple radii, no optimization\n",
    "# FRI check results for varying hit efficiencies, no optimization\n",
    "\n",
    "\n",
    "# In[73]:\n",
    "\n",
    "#TODO Online\n",
    "# TUES Integrate trigger signal in\n",
    "\n",
    "\n",
    "# In[75]:\n",
    "\n",
    "# NOTES\n",
    "## Shifting to align image in hough space must \n",
    "#  play well with the placticity already \n",
    "#  implimented in the algorithm.  Adjust reweighting\n",
    "## Try reweighting background hits close to signal hits\n",
    "#  as worse when we do the track level GBDT algo.  Rid\n",
    "#  background islands at RANSAC level."
   ]
  },
  {
   "cell_type": "code",
   "execution_count": null,
   "metadata": {
    "collapsed": true
   },
   "outputs": [],
   "source": [
    "if load_test:\n",
    "    _ , hough_images = \\\n",
    "            hough_transformer.transform(test_s.cdc.get_measurement(ngh_scr_name, \n",
    "                                                                 only_hits=False, \n",
    "                                                                 flatten=False),\n",
    "                                                    only_hits=True, flatten=True)\n",
    "    default = [[31.5, 34, 34.5, 2]]\n",
    "    submatrices = []\n",
    "\n",
    "    # TODO test with several radii\n",
    "    for rmin, rmean, rmax, rsgma in default: #[[30, 33, 35], [26, 29, 32]]:\n",
    "        # Try with default values\n",
    "        hough = HoughSpace(CDC(), sig_rho_min=rmin, sig_rho=rmean, sig_rho_max=rmax,\\\n",
    "                           sig_rho_sgma=rsgma, rho_bins=20, arc_bins=81)\n",
    "else: \n",
    "    # Get the local score predictions\n",
    "    test_s.cdc.data[lcl_scr_name] = local_gbdt.predict_proba(DataFrame(test_s.cdc.data[lcl_train_features]))[:,1]\n",
    "    # Remove coincident hits\n",
    "    remove_coincidence(test_s.cdc)\n",
    "    # Get the neighbouring score predictions\n",
    "    test_s.cdc.data[ngh_scr_name] = neigh_gbdt.predict_proba(\n",
    "        DataFrame(\n",
    "            np.vstack(\n",
    "                get_measurment_and_neighbours(test_s.cdc, test_s.cdc.edep_name) +\\\n",
    "                get_measurment_and_neighbours(test_s.cdc, test_s.cdc.time_name) +\\\n",
    "                [test_s.cdc.get_measurement(row_name, only_hits=True,flatten=True)]).T,\n",
    "            columns=neigh_train_features))[:,1]\n",
    "    # Get the hough results\n",
    "    test_s.cdc.data[hgh_scr_name], hough_images = \\\n",
    "            hough_transformer.transform(test_s.cdc.get_measurement(ngh_scr_name, \n",
    "                                                                 only_hits=False, \n",
    "                                                                 flatten=False),\n",
    "                                       only_hits=True, flatten=True)\n",
    "    # Test it on the last set of data\n",
    "    test_s.cdc.data[trk_scr_name] = hough_gbdt.predict_proba(\n",
    "        DataFrame(\n",
    "            np.vstack(\n",
    "                get_measurment_and_neighbours(test_s.cdc, test_s.cdc.edep_name) +\\\n",
    "                get_measurment_and_neighbours(test_s.cdc, test_s.cdc.time_name) +\\\n",
    "                [test_s.cdc.get_measurement(row_name, only_hits=True,flatten=True)] +\\\n",
    "                [test_s.cdc.get_measurement(hgh_scr_name, only_hits=True,flatten=True)]).T,\n",
    "            columns=track_train_features)\n",
    "        )[:,1]"
   ]
  },
  {
   "cell_type": "code",
   "execution_count": null,
   "metadata": {
    "collapsed": true
   },
   "outputs": [],
   "source": [
    "# Train the classifier\n",
    "factory.fit(DataFrame(\n",
    "                np.vstack(\n",
    "                    get_measurment_and_neighbours(train.cdc, train.cdc.edep_name, evt_samp[1]) +\\\n",
    "                    get_measurment_and_neighbours(train.cdc, train.cdc.time_name, evt_samp[1]) +\\\n",
    "                    [train.cdc.get_measurement(row_name, evt_samp[1], only_hits=True,flatten=True)]).T,\n",
    "                columns=neigh_train_features), \n",
    "            train.cdc.get_measurement(train.cdc.hit_type_name, evt_samp[1], only_hits=True,flatten=True))\n",
    "pass"
   ]
  },
  {
   "cell_type": "code",
   "execution_count": null,
   "metadata": {
    "collapsed": true
   },
   "outputs": [],
   "source": [
    "# Print these predictions\n",
    "train.cdc.data[ngh_scr_name] = neigh_gbdt.predict_proba(\n",
    "    DataFrame(\n",
    "        np.vstack(\n",
    "            get_measurment_and_neighbours(train.cdc, train.cdc.edep_name) +\\\n",
    "            get_measurment_and_neighbours(train.cdc, train.cdc.time_name) +\\\n",
    "            [train.cdc.get_measurement(row_name, only_hits=True,flatten=True)]).T,\n",
    "        columns=neigh_train_features))[:,1]\n",
    "# Invalidate the training sample\n",
    "train.cdc.data[ngh_scr_name][np.logical_or(hit_masks[0], hit_masks[1])] = -1"
   ]
  },
  {
   "cell_type": "code",
   "execution_count": null,
   "metadata": {
    "collapsed": true
   },
   "outputs": [],
   "source": [
    "plot_roc_curve(train.cdc.get_measurement(train.cdc.hit_type_name, \n",
    "                                         events=evt_samp[2],\n",
    "                                         only_hits=True), \n",
    "               train.cdc.get_measurement(ngh_scr_name, \n",
    "                                         events=evt_samp[2],\n",
    "                                         only_hits=True), \n",
    "               zoom=True, label=\"Neighbour ROC Curve\")\n",
    "print(roc_auc_score(train.cdc.get_measurement(train.cdc.hit_type_name, \n",
    "                                         events=evt_samp[2],\n",
    "                                         only_hits=True), \n",
    "               train.cdc.get_measurement(ngh_scr_name, \n",
    "                                         events=evt_samp[2],\n",
    "                                         only_hits=True)))\n",
    "plt.show()"
   ]
  }
 ],
 "metadata": {
  "kernelspec": {
   "display_name": "Python 2",
   "language": "python",
   "name": "python2"
  },
  "language_info": {
   "codemirror_mode": {
    "name": "ipython",
    "version": 2
   },
   "file_extension": ".py",
   "mimetype": "text/x-python",
   "name": "python",
   "nbconvert_exporter": "python",
   "pygments_lexer": "ipython2",
   "version": "2.7.12"
  },
  "varInspector": {
   "cols": {
    "lenName": 16,
    "lenType": 16,
    "lenVar": 40
   },
   "kernels_config": {
    "python": {
     "delete_cmd_postfix": "",
     "delete_cmd_prefix": "del ",
     "library": "var_list.py",
     "varRefreshCmd": "print(var_dic_list())"
    },
    "r": {
     "delete_cmd_postfix": ") ",
     "delete_cmd_prefix": "rm(",
     "library": "var_list.r",
     "varRefreshCmd": "cat(var_dic_list()) "
    }
   },
   "types_to_exclude": [
    "module",
    "function",
    "builtin_function_or_method",
    "instance",
    "_Feature"
   ],
   "window_display": false
  }
 },
 "nbformat": 4,
 "nbformat_minor": 1
}
