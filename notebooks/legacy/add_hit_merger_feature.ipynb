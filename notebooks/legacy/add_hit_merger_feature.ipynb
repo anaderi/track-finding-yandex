{
 "cells": [
  {
   "cell_type": "markdown",
   "metadata": {
    "collapsed": true
   },
   "source": [
    "# Main Analysis Pipeline\n",
    " \n",
    " * Prepare Hough transform based only on wire information (= energy, time, radial distance)\n",
    " * Build predictions based on Hough, local information, and local information of left/right neighbors "
   ]
  },
  {
   "cell_type": "code",
   "execution_count": 1,
   "metadata": {
    "collapsed": false
   },
   "outputs": [
    {
     "name": "stdout",
     "output_type": "stream",
     "text": [
      "Populating the interactive namespace from numpy and matplotlib\n"
     ]
    }
   ],
   "source": [
    "get_ipython().magic(u'run visualizations.ipynb')\n",
    "import sys\n",
    "from hits import CyDetHits, CTHHits, CDCHits, FlatHits\n",
    "from memory_profiler import memory_usage\n",
    "sys.path.insert(0, '../modules')"
   ]
  },
  {
   "cell_type": "markdown",
   "metadata": {},
   "source": [
    "## Import Signal Hits"
   ]
  },
  {
   "cell_type": "code",
   "execution_count": 3,
   "metadata": {
    "collapsed": true
   },
   "outputs": [],
   "source": [
    "file_base = \"/vols/comet/users/elg112/ICEDUST\"\\\n",
    "            \"/local_storage/SimDetectorResponse_tree\"\\\n",
    "            \"/test_signal_sample/03000014_\"\n",
    "cdc_sig_file = file_base + \"cdc_sum_sig.root\"\n",
    "cth_sig_file = file_base + \"cth_mc_sig.root\""
   ]
  },
  {
   "cell_type": "code",
   "execution_count": 4,
   "metadata": {
    "collapsed": true
   },
   "outputs": [],
   "source": [
    "file_base = \"/vols/comet/users/elg112/ICEDUST\"\\\n",
    "            \"/local_storage/SimDetectorResponse_tree\"\\\n",
    "            \"/test_signal_sample/100k_\"\n",
    "cdc_sig_file = file_base + \"cdc_sum_hits.root\"\n",
    "cth_sig_file = file_base + \"cth_mc_hits.root\""
   ]
  },
  {
   "cell_type": "code",
   "execution_count": 5,
   "metadata": {
    "collapsed": true
   },
   "outputs": [],
   "source": [
    "these_branches = [\"DriftTime\",\"DriftDist\"]"
   ]
  },
  {
   "cell_type": "code",
   "execution_count": 6,
   "metadata": {
    "collapsed": true
   },
   "outputs": [],
   "source": [
    "import hits"
   ]
  },
  {
   "cell_type": "code",
   "execution_count": 7,
   "metadata": {
    "collapsed": false
   },
   "outputs": [
    {
     "data": {
      "text/plain": [
       "<module 'hits' from '../modules/hits.pyc'>"
      ]
     },
     "execution_count": 7,
     "metadata": {},
     "output_type": "execute_result"
    }
   ],
   "source": [
    "reload(hits)"
   ]
  },
  {
   "cell_type": "code",
   "execution_count": 8,
   "metadata": {
    "collapsed": true
   },
   "outputs": [],
   "source": [
    "from hits import CyDetHits, CTHHits, CDCHits, FlatHits"
   ]
  },
  {
   "cell_type": "code",
   "execution_count": 9,
   "metadata": {
    "collapsed": false
   },
   "outputs": [
    {
     "name": "stdout",
     "output_type": "stream",
     "text": [
      "43087\n"
     ]
    }
   ],
   "source": [
    "sig_cth = FlatHits(cth_sig_file,\n",
    "                  tree=\"COMETEventsSummary\",\n",
    "                  signal_coding=[1], \n",
    "                  hit_type_name=\"IsSig\",\n",
    "                  prefix=\"CTHHit.f\",\n",
    "                  branches=[\"CTHHit.fMCPos.fE\",\n",
    "                            \"CTHHit.fChannel\",\n",
    "                            \"CTHHit.fCharge\"])\n",
    "print sig_cth.n_events"
   ]
  },
  {
   "cell_type": "code",
   "execution_count": 10,
   "metadata": {
    "collapsed": false
   },
   "outputs": [
    {
     "name": "stdout",
     "output_type": "stream",
     "text": [
      "52639\n"
     ]
    }
   ],
   "source": [
    "sig_cdc = CyDetHits(cdc_sig_file, \n",
    "                      tree=\"COMETEventsSummary\",\n",
    "                      signal_coding=[1], \n",
    "                      hit_type_name=\"Track.fTrackID\",\n",
    "                      branches=these_branches)\n",
    "print sig_cdc.n_events"
   ]
  },
  {
   "cell_type": "code",
   "execution_count": 11,
   "metadata": {
    "collapsed": true
   },
   "outputs": [],
   "source": [
    "from cylinder import CyDet\n",
    "geom = CyDet()\n",
    "n_events = sig_cth.n_events"
   ]
  },
  {
   "cell_type": "markdown",
   "metadata": {},
   "source": [
    "### Only keep events with hits in both CTH and CDC"
   ]
  },
  {
   "cell_type": "code",
   "execution_count": 12,
   "metadata": {
    "collapsed": false
   },
   "outputs": [
    {
     "name": "stdout",
     "output_type": "stream",
     "text": [
      "20759\n"
     ]
    }
   ],
   "source": [
    "passed_events = np.intersect1d(sig_cth.get_signal_hits()[sig_cth.key_name], \n",
    "                               sig_cdc.get_signal_hits()[sig_cdc.key_name])\n",
    "sig_cdc.trim_hits(sig_cdc.key_name, values=passed_events)\n",
    "sig_cth.trim_hits(sig_cth.key_name, values=passed_events)\n",
    "print len(passed_events)"
   ]
  },
  {
   "cell_type": "markdown",
   "metadata": {},
   "source": [
    "### Smear the hits by the bunch width"
   ]
  },
  {
   "cell_type": "code",
   "execution_count": 13,
   "metadata": {
    "collapsed": true
   },
   "outputs": [],
   "source": [
    "random_time_smear = np.random.randint(-50,50, size=len(passed_events))"
   ]
  },
  {
   "cell_type": "code",
   "execution_count": 14,
   "metadata": {
    "collapsed": false
   },
   "outputs": [],
   "source": [
    "cdc_time_smear = random_time_smear[sig_cdc.hits_to_events]\n",
    "cth_time_smear = random_time_smear[sig_cth.hits_to_events]"
   ]
  },
  {
   "cell_type": "code",
   "execution_count": 15,
   "metadata": {
    "collapsed": false
   },
   "outputs": [],
   "source": [
    "sig_cdc.data[\"CDCHit.fMCPos.fE\"] += cdc_time_smear\n",
    "sig_cth.data[\"CTHHit.fMCPos.fE\"] += cth_time_smear"
   ]
  },
  {
   "cell_type": "markdown",
   "metadata": {},
   "source": [
    "### Add the drift time to the CDC hits"
   ]
  },
  {
   "cell_type": "code",
   "execution_count": 16,
   "metadata": {
    "collapsed": false
   },
   "outputs": [],
   "source": [
    "sig_cdc.data[\"CDCHit.fMCPos.fE\"] += sig_cdc.data[\"CDCHit.fDriftTime\"]"
   ]
  },
  {
   "cell_type": "markdown",
   "metadata": {},
   "source": [
    "## Cuts on the Signal Tracks"
   ]
  },
  {
   "cell_type": "code",
   "execution_count": 17,
   "metadata": {
    "collapsed": true
   },
   "outputs": [],
   "source": [
    "# Define cuts to use\n",
    "n_hits_cut = True\n",
    "layer_cut = True\n",
    "timing_cut = True\n",
    "use_cth_cut = True"
   ]
  },
  {
   "cell_type": "markdown",
   "metadata": {},
   "source": [
    "### Fiducial Time Window Cuts"
   ]
  },
  {
   "cell_type": "code",
   "execution_count": 18,
   "metadata": {
    "collapsed": false
   },
   "outputs": [
    {
     "name": "stdout",
     "output_type": "stream",
     "text": [
      "Before timing cut\n",
      "CTH Hits: 10020536\n",
      "CDC Hits: 1812246\n",
      "After timing cut\n",
      "CTH Hits: 5127089, 0.51\n",
      "CDC Hits: 921502, 0.51\n"
     ]
    }
   ],
   "source": [
    "if timing_cut:\n",
    "    # Apply the timing filter\n",
    "    print \"Before timing cut\"\n",
    "    before_cdc_nhits = sig_cdc.n_hits\n",
    "    before_cth_nhits = sig_cth.n_hits\n",
    "    print \"CTH Hits: {}\".format(before_cth_nhits)\n",
    "    print \"CDC Hits: {}\".format(before_cdc_nhits)\n",
    "    sig_cth.trim_hits(variable=\"CTHHit.fMCPos.fE\", greater_than=500, less_than=1170)\n",
    "    sig_cdc.trim_hits(variable=sig_cdc.time_name, greater_than=500, less_than=1620)\n",
    "    print \"After timing cut\"\n",
    "    print \"CTH Hits: {0}, {1:.2f}\".format(sig_cth.n_hits, float(sig_cth.n_hits)/before_cth_nhits)\n",
    "    print \"CDC Hits: {0}, {1:.2f}\".format(sig_cdc.n_hits, float(sig_cdc.n_hits)/before_cdc_nhits)"
   ]
  },
  {
   "cell_type": "code",
   "execution_count": 19,
   "metadata": {
    "collapsed": false
   },
   "outputs": [
    {
     "name": "stdout",
     "output_type": "stream",
     "text": [
      "6438\n"
     ]
    }
   ],
   "source": [
    "passed_events = np.intersect1d(sig_cth.get_events()[sig_cth.key_name], \n",
    "                               sig_cdc.get_events()[sig_cdc.key_name])\n",
    "sig_cdc.trim_hits(sig_cdc.key_name, values=passed_events)\n",
    "sig_cth.trim_hits(sig_cth.key_name, values=passed_events)\n",
    "print len(passed_events)"
   ]
  },
  {
   "cell_type": "markdown",
   "metadata": {},
   "source": [
    "### Cuts on CTH"
   ]
  },
  {
   "cell_type": "code",
   "execution_count": 20,
   "metadata": {
    "collapsed": false
   },
   "outputs": [
    {
     "name": "stdout",
     "output_type": "stream",
     "text": [
      "6438\n",
      "Events that pass CTH Trigger: 5803\n"
     ]
    }
   ],
   "source": [
    "# Filter for CTH in time window.  Get the time\n",
    "print sig_cth.n_events\n",
    "trigger_events = []\n",
    "for evt in range(sig_cth.n_events):\n",
    "    sig_hits = sig_cth.get_signal_hits(evt)\n",
    "    if len(sig_hits) != 0:\n",
    "        trigger_events.append(evt)\n",
    "trigger_events = np.array(trigger_events)\n",
    "print \"Events that pass CTH Trigger: {}\".format(len(trigger_events))"
   ]
  },
  {
   "cell_type": "markdown",
   "metadata": {},
   "source": [
    "### Cuts on CyDet"
   ]
  },
  {
   "cell_type": "code",
   "execution_count": 21,
   "metadata": {
    "collapsed": false
   },
   "outputs": [
    {
     "name": "stdout",
     "output_type": "stream",
     "text": [
      "Passed Max Layer 5366\n"
     ]
    }
   ],
   "source": [
    "# Filter for max layer is five\n",
    "max_layer = []\n",
    "for evt in range(sig_cdc.n_events):\n",
    "    these_layers = sig_cdc.geom.point_layers[sig_cdc.get_sig_wires(evt)]\n",
    "    if len(sig_cdc.get_sig_wires(evt)) != 0:\n",
    "        max_layer.append(np.max(these_layers))\n",
    "    else:\n",
    "        max_layer.append(-1)\n",
    "max_layer = np.array(max_layer)\n",
    "good_max_layer = np.where(max_layer >= 4)[0]\n",
    "print \"Passed Max Layer {}\".format(len(good_max_layer))"
   ]
  },
  {
   "cell_type": "code",
   "execution_count": 22,
   "metadata": {
    "collapsed": false
   },
   "outputs": [
    {
     "name": "stdout",
     "output_type": "stream",
     "text": [
      "Passed Good Number of Hits : 5420\n"
     ]
    }
   ],
   "source": [
    "# Filter for number of signal hits\n",
    "n_signal_hits  = np.array([len(sig_cdc.get_signal_hits(evt)) \n",
    "                         for evt in range(sig_cth.n_events)])\n",
    "n_signal_hits = np.array(n_signal_hits)\n",
    "good_n_hits = np.where(n_signal_hits >= 30)[0]\n",
    "print \"Passed Good Number of Hits : {}\".format(len(good_n_hits))"
   ]
  },
  {
   "cell_type": "markdown",
   "metadata": {},
   "source": [
    "### Apply the cuts"
   ]
  },
  {
   "cell_type": "code",
   "execution_count": 23,
   "metadata": {
    "collapsed": false
   },
   "outputs": [
    {
     "name": "stdout",
     "output_type": "stream",
     "text": [
      "Removed due to CTH Trigger 635\n",
      "Removed due to Layer Cut 1072\n",
      "Removed due to N Hits Cut 1018\n"
     ]
    }
   ],
   "source": [
    "if use_cth_cut:\n",
    "    passed_events = np.intersect1d(passed_events, sig_cth.get_events(trigger_events)[sig_cth.key_name])\n",
    "    print \"Removed due to CTH Trigger {}\".format(sig_cth.n_events - len(trigger_events))\n",
    "if layer_cut:\n",
    "    passed_events = np.intersect1d(passed_events, sig_cdc.get_events(good_max_layer)[sig_cdc.key_name])\n",
    "    print \"Removed due to Layer Cut {}\".format(sig_cdc.n_events - len(good_max_layer))\n",
    "if n_hits_cut:\n",
    "    passed_events = np.intersect1d(passed_events, sig_cdc.get_events(good_n_hits)[sig_cdc.key_name])\n",
    "    print \"Removed due to N Hits Cut {}\".format(sig_cdc.n_events - len(good_n_hits))"
   ]
  },
  {
   "cell_type": "code",
   "execution_count": 24,
   "metadata": {
    "collapsed": false
   },
   "outputs": [
    {
     "name": "stdout",
     "output_type": "stream",
     "text": [
      "After All Cuts 4530\n"
     ]
    }
   ],
   "source": [
    "print \"After All Cuts {}\".format(len(passed_events))"
   ]
  },
  {
   "cell_type": "code",
   "execution_count": 25,
   "metadata": {
    "collapsed": true
   },
   "outputs": [],
   "source": [
    "sig_cdc.trim_hits(sig_cdc.key_name, values=passed_events)\n",
    "sig_cth.trim_hits(sig_cth.key_name, values=passed_events)"
   ]
  },
  {
   "cell_type": "code",
   "execution_count": 26,
   "metadata": {
    "collapsed": false
   },
   "outputs": [
    {
     "name": "stdout",
     "output_type": "stream",
     "text": [
      "4530\n"
     ]
    }
   ],
   "source": [
    "print sig_cdc.n_events"
   ]
  },
  {
   "cell_type": "code",
   "execution_count": 27,
   "metadata": {
    "collapsed": false,
    "scrolled": false
   },
   "outputs": [
    {
     "data": {
      "image/png": "[encoded data removed]",
      "text/plain": [
       "<matplotlib.figure.Figure at 0x50f4950>"
      ]
     },
     "metadata": {},
     "output_type": "display_data"
    }
   ],
   "source": [
    "plt.hist(sig_cdc.get_events()[sig_cdc.time_name], bins=100)\n",
    "show()"
   ]
  },
  {
   "cell_type": "markdown",
   "metadata": {},
   "source": [
    "## Prepare the data"
   ]
  },
  {
   "cell_type": "code",
   "execution_count": 28,
   "metadata": {
    "collapsed": false
   },
   "outputs": [],
   "source": [
    "import pandas\n",
    "from tracking import HoughSpace\n",
    "from scipy import sparse\n",
    "from sklearn.metrics import roc_auc_score, roc_curve"
   ]
  },
  {
   "cell_type": "code",
   "execution_count": 29,
   "metadata": {
    "collapsed": true
   },
   "outputs": [],
   "source": [
    "back_sample = \"/vols/comet/users/elg112/ICEDUST\"\\\n",
    "              \"/local_storage/MC3b_tree\"\\\n",
    "              \"/loose_timing_cut/event_root\"\\\n",
    "              \"/1_2500_merged_cdc_sum_hit.root\""
   ]
  },
  {
   "cell_type": "code",
   "execution_count": 30,
   "metadata": {
    "collapsed": false
   },
   "outputs": [],
   "source": [
    "back_cdc = CyDetHits(back_sample, \n",
    "                     tree=\"COMETEventsSummary\",\n",
    "                     signal_coding=[-1], \n",
    "                     hit_type_name=\"Track.fTrackID\",\n",
    "                     branches=these_branches)"
   ]
  },
  {
   "cell_type": "code",
   "execution_count": 31,
   "metadata": {
    "collapsed": false
   },
   "outputs": [
    {
     "data": {
      "text/plain": [
       "['CDCHit.fDriftTime',\n",
       " 'CDCHit.fDriftDist',\n",
       " 'CDCHit.fTrack.fTrackID',\n",
       " 'CDCHit.fEventNumber',\n",
       " 'CDCHit.fhits_index',\n",
       " 'CDCHit.fevent_index',\n",
       " 'CDCHit.fvol_id',\n",
       " 'CDCHit.fCharge',\n",
       " 'CDCHit.fMCPos.fE',\n",
       " 'CDCHit.fTrigTime']"
      ]
     },
     "execution_count": 31,
     "metadata": {},
     "output_type": "execute_result"
    }
   ],
   "source": [
    "back_cdc.all_branches"
   ]
  },
  {
   "cell_type": "code",
   "execution_count": 32,
   "metadata": {
    "collapsed": false
   },
   "outputs": [
    {
     "name": "stdout",
     "output_type": "stream",
     "text": [
      "CyDet Hits: 3554001\n",
      "CyDet Hits: 1697759\n",
      "Back Events : 2494\n"
     ]
    }
   ],
   "source": [
    "if timing_cut:\n",
    "    # Apply the timing filter\n",
    "    print \"CyDet Hits: {}\".format(back_cdc.n_hits)\n",
    "    back_cdc.trim_hits(variable=back_cdc.time_name, less_than=1620, greater_than=500)\n",
    "    print \"CyDet Hits: {}\".format(back_cdc.n_hits)\n",
    "    print \"Back Events : {}\".format(back_cdc.n_events)"
   ]
  },
  {
   "cell_type": "code",
   "execution_count": 33,
   "metadata": {
    "collapsed": false
   },
   "outputs": [
    {
     "name": "stdout",
     "output_type": "stream",
     "text": [
      "0\n"
     ]
    }
   ],
   "source": [
    "print len(back_cdc.get_signal_hits())"
   ]
  },
  {
   "cell_type": "code",
   "execution_count": 41,
   "metadata": {
    "collapsed": true
   },
   "outputs": [],
   "source": [
    "def test_sample(sample):\n",
    "    # Test \n",
    "    passed_events = np.random.randint(0, sample.n_events, sample.n_events/10)\n",
    "    unique_event_numbers = np.unique(sample.get_events()[sample.key_name])\n",
    "    passed_events = unique_event_numbers[passed_events]\n",
    "    print len(passed_events)\n",
    "    print len(unique_event_numbers)\n",
    "    print np.amax(sample.hits_to_events)\n",
    "    print np.amin(sample.hits_to_events)\n",
    "    print len(np.unique(sample.hits_to_events))\n",
    "    print sample.n_events\n",
    "    print sample.n_events - len(unique_event_numbers)\n",
    "    print sample.n_hits\n",
    "    print sum(sample.event_to_n_hits)\n",
    "    print len(sample.get_events())"
   ]
  },
  {
   "cell_type": "markdown",
   "metadata": {},
   "source": [
    "# Add Hit Merger Feature"
   ]
  },
  {
   "cell_type": "code",
   "execution_count": 42,
   "metadata": {
    "collapsed": true
   },
   "outputs": [],
   "source": [
    "from pandas import DataFrame"
   ]
  },
  {
   "cell_type": "code",
   "execution_count": 43,
   "metadata": {
    "collapsed": false
   },
   "outputs": [
    {
     "name": "stdout",
     "output_type": "stream",
     "text": [
      "Branches available are:\n",
      "CDCHit.fDriftTime\n",
      "CDCHit.fDriftDist\n",
      "CDCHit.fTrack.fTrackID\n",
      "CDCHit.fEventNumber\n",
      "CDCHit.fhits_index\n",
      "CDCHit.fevent_index\n",
      "CDCHit.fvol_id\n",
      "CDCHit.fCharge\n",
      "CDCHit.fMCPos.fE\n",
      "CDCHit.fTrigTime\n"
     ]
    }
   ],
   "source": [
    "back_cdc.print_branches()"
   ]
  },
  {
   "cell_type": "code",
   "execution_count": 44,
   "metadata": {
    "collapsed": false
   },
   "outputs": [
    {
     "name": "stdout",
     "output_type": "stream",
     "text": [
      "[708 622 728 ..., 535 615 644]\n",
      "2494\n",
      "1697759\n",
      "[773 691 797 ...,  64  34  43]\n",
      "4530\n",
      "2162161\n"
     ]
    }
   ],
   "source": [
    "print back_cdc.event_to_n_hits\n",
    "print back_cdc.n_events\n",
    "print back_cdc.n_hits\n",
    "print sig_cdc.event_to_n_hits\n",
    "print sig_cdc.n_events\n",
    "print sig_cdc.n_hits"
   ]
  },
  {
   "cell_type": "code",
   "execution_count": null,
   "metadata": {
    "collapsed": true
   },
   "outputs": [],
   "source": [
    "sig_cdc.add_hits(back_cdc.data)"
   ]
  },
  {
   "cell_type": "code",
   "execution_count": 49,
   "metadata": {
    "collapsed": false
   },
   "outputs": [
    {
     "ename": "AttributeError",
     "evalue": "'CyDetHits' object has no attribute '__name__'",
     "output_type": "error",
     "traceback": [
      "\u001b[1;31m---------------------------------------------------------------------------\u001b[0m",
      "\u001b[1;31mAttributeError\u001b[0m                            Traceback (most recent call last)",
      "\u001b[1;32m<ipython-input-49-567ca3c1f619>\u001b[0m in \u001b[0;36m<module>\u001b[1;34m()\u001b[0m\n\u001b[1;32m----> 1\u001b[1;33m \u001b[0mdelete_with_memory_info\u001b[0m\u001b[1;33m(\u001b[0m\u001b[1;33m[\u001b[0m\u001b[0mback_cdc\u001b[0m\u001b[1;33m]\u001b[0m\u001b[1;33m)\u001b[0m\u001b[1;33m\u001b[0m\u001b[0m\n\u001b[0m",
      "\u001b[1;32m<ipython-input-2-b5f03c6f549a>\u001b[0m in \u001b[0;36mdelete_with_memory_info\u001b[1;34m(objects)\u001b[0m\n\u001b[0;32m      1\u001b[0m \u001b[1;32mdef\u001b[0m \u001b[0mdelete_with_memory_info\u001b[0m\u001b[1;33m(\u001b[0m\u001b[0mobjects\u001b[0m\u001b[1;33m)\u001b[0m\u001b[1;33m:\u001b[0m\u001b[1;33m\u001b[0m\u001b[0m\n\u001b[0;32m      2\u001b[0m     \u001b[1;32mfor\u001b[0m \u001b[0mthingy\u001b[0m \u001b[1;32min\u001b[0m \u001b[0mobjects\u001b[0m\u001b[1;33m:\u001b[0m\u001b[1;33m\u001b[0m\u001b[0m\n\u001b[1;32m----> 3\u001b[1;33m         \u001b[1;32mprint\u001b[0m \u001b[0mthingy\u001b[0m\u001b[1;33m.\u001b[0m\u001b[0m__name__\u001b[0m\u001b[1;33m\u001b[0m\u001b[0m\n\u001b[0m\u001b[0;32m      4\u001b[0m         \u001b[1;32mprint\u001b[0m \u001b[0mmemory_usage\u001b[0m\u001b[1;33m(\u001b[0m\u001b[1;33m)\u001b[0m\u001b[1;33m\u001b[0m\u001b[0m\n\u001b[0;32m      5\u001b[0m         \u001b[1;32mdel\u001b[0m \u001b[0mthingy\u001b[0m\u001b[1;33m\u001b[0m\u001b[0m\n",
      "\u001b[1;31mAttributeError\u001b[0m: 'CyDetHits' object has no attribute '__name__'"
     ]
    }
   ],
   "source": [
    "delete_with_memory_info([back_cdc])"
   ]
  },
  {
   "cell_type": "code",
   "execution_count": 46,
   "metadata": {
    "collapsed": false
   },
   "outputs": [
    {
     "name": "stdout",
     "output_type": "stream",
     "text": [
      "[708 622 728 ..., 535 615 644]\n",
      "2494\n",
      "1697759\n",
      "[1481 1313 1525 ...,   64   34   43]\n",
      "4530\n",
      "3859920\n"
     ]
    }
   ],
   "source": [
    "print back_cdc.event_to_n_hits\n",
    "print back_cdc.n_events\n",
    "print back_cdc.n_hits\n",
    "print sig_cdc.event_to_n_hits\n",
    "print sig_cdc.n_events\n",
    "print sig_cdc.n_hits"
   ]
  },
  {
   "cell_type": "code",
   "execution_count": 47,
   "metadata": {
    "collapsed": false
   },
   "outputs": [
    {
     "data": {
      "text/html": [
       "<div>\n",
       "<table border=\"1\" class=\"dataframe\">\n",
       "  <thead>\n",
       "    <tr style=\"text-align: right;\">\n",
       "      <th></th>\n",
       "      <th>CDCHit.fDriftTime</th>\n",
       "      <th>CDCHit.fDriftDist</th>\n",
       "      <th>CDCHit.fTrack.fTrackID</th>\n",
       "      <th>CDCHit.fEventNumber</th>\n",
       "      <th>CDCHit.fhits_index</th>\n",
       "      <th>CDCHit.fevent_index</th>\n",
       "      <th>CDCHit.fvol_id</th>\n",
       "      <th>CDCHit.fCharge</th>\n",
       "      <th>CDCHit.fMCPos.fE</th>\n",
       "      <th>CDCHit.fTrigTime</th>\n",
       "    </tr>\n",
       "  </thead>\n",
       "  <tbody>\n",
       "    <tr>\n",
       "      <th>0</th>\n",
       "      <td>25.639893</td>\n",
       "      <td>0.640997</td>\n",
       "      <td>679</td>\n",
       "      <td>1</td>\n",
       "      <td>0</td>\n",
       "      <td>0</td>\n",
       "      <td>2581</td>\n",
       "      <td>99</td>\n",
       "      <td>502.691406</td>\n",
       "      <td>0</td>\n",
       "    </tr>\n",
       "    <tr>\n",
       "      <th>1</th>\n",
       "      <td>25.639893</td>\n",
       "      <td>0.640997</td>\n",
       "      <td>679</td>\n",
       "      <td>1</td>\n",
       "      <td>1</td>\n",
       "      <td>0</td>\n",
       "      <td>2581</td>\n",
       "      <td>99</td>\n",
       "      <td>502.691406</td>\n",
       "      <td>0</td>\n",
       "    </tr>\n",
       "    <tr>\n",
       "      <th>2</th>\n",
       "      <td>16.742901</td>\n",
       "      <td>0.418573</td>\n",
       "      <td>679</td>\n",
       "      <td>1</td>\n",
       "      <td>2</td>\n",
       "      <td>0</td>\n",
       "      <td>2324</td>\n",
       "      <td>1505</td>\n",
       "      <td>503.592773</td>\n",
       "      <td>0</td>\n",
       "    </tr>\n",
       "    <tr>\n",
       "      <th>3</th>\n",
       "      <td>16.742901</td>\n",
       "      <td>0.418573</td>\n",
       "      <td>679</td>\n",
       "      <td>1</td>\n",
       "      <td>3</td>\n",
       "      <td>0</td>\n",
       "      <td>2324</td>\n",
       "      <td>1505</td>\n",
       "      <td>503.592773</td>\n",
       "      <td>0</td>\n",
       "    </tr>\n",
       "    <tr>\n",
       "      <th>4</th>\n",
       "      <td>0.337219</td>\n",
       "      <td>0.008430</td>\n",
       "      <td>679</td>\n",
       "      <td>1</td>\n",
       "      <td>4</td>\n",
       "      <td>0</td>\n",
       "      <td>2323</td>\n",
       "      <td>2977</td>\n",
       "      <td>505.476562</td>\n",
       "      <td>0</td>\n",
       "    </tr>\n",
       "    <tr>\n",
       "      <th>5</th>\n",
       "      <td>0.337219</td>\n",
       "      <td>0.008430</td>\n",
       "      <td>679</td>\n",
       "      <td>1</td>\n",
       "      <td>5</td>\n",
       "      <td>0</td>\n",
       "      <td>2323</td>\n",
       "      <td>2977</td>\n",
       "      <td>505.476562</td>\n",
       "      <td>0</td>\n",
       "    </tr>\n",
       "    <tr>\n",
       "      <th>6</th>\n",
       "      <td>22.078190</td>\n",
       "      <td>0.551955</td>\n",
       "      <td>679</td>\n",
       "      <td>1</td>\n",
       "      <td>6</td>\n",
       "      <td>0</td>\n",
       "      <td>2322</td>\n",
       "      <td>1157</td>\n",
       "      <td>507.655762</td>\n",
       "      <td>0</td>\n",
       "    </tr>\n",
       "    <tr>\n",
       "      <th>7</th>\n",
       "      <td>22.078190</td>\n",
       "      <td>0.551955</td>\n",
       "      <td>679</td>\n",
       "      <td>1</td>\n",
       "      <td>7</td>\n",
       "      <td>0</td>\n",
       "      <td>2322</td>\n",
       "      <td>1157</td>\n",
       "      <td>507.655762</td>\n",
       "      <td>0</td>\n",
       "    </tr>\n",
       "    <tr>\n",
       "      <th>8</th>\n",
       "      <td>8.725266</td>\n",
       "      <td>0.218132</td>\n",
       "      <td>619</td>\n",
       "      <td>1</td>\n",
       "      <td>8</td>\n",
       "      <td>0</td>\n",
       "      <td>1823</td>\n",
       "      <td>2057</td>\n",
       "      <td>520.319336</td>\n",
       "      <td>0</td>\n",
       "    </tr>\n",
       "    <tr>\n",
       "      <th>9</th>\n",
       "      <td>8.725266</td>\n",
       "      <td>0.218132</td>\n",
       "      <td>619</td>\n",
       "      <td>1</td>\n",
       "      <td>9</td>\n",
       "      <td>0</td>\n",
       "      <td>1823</td>\n",
       "      <td>2057</td>\n",
       "      <td>520.319336</td>\n",
       "      <td>0</td>\n",
       "    </tr>\n",
       "    <tr>\n",
       "      <th>10</th>\n",
       "      <td>27.891201</td>\n",
       "      <td>0.697280</td>\n",
       "      <td>619</td>\n",
       "      <td>1</td>\n",
       "      <td>10</td>\n",
       "      <td>0</td>\n",
       "      <td>1822</td>\n",
       "      <td>1962</td>\n",
       "      <td>521.553223</td>\n",
       "      <td>0</td>\n",
       "    </tr>\n",
       "    <tr>\n",
       "      <th>11</th>\n",
       "      <td>27.891201</td>\n",
       "      <td>0.697280</td>\n",
       "      <td>619</td>\n",
       "      <td>1</td>\n",
       "      <td>11</td>\n",
       "      <td>0</td>\n",
       "      <td>1822</td>\n",
       "      <td>1962</td>\n",
       "      <td>521.553223</td>\n",
       "      <td>0</td>\n",
       "    </tr>\n",
       "    <tr>\n",
       "      <th>12</th>\n",
       "      <td>29.773157</td>\n",
       "      <td>0.744329</td>\n",
       "      <td>294</td>\n",
       "      <td>1</td>\n",
       "      <td>12</td>\n",
       "      <td>0</td>\n",
       "      <td>2258</td>\n",
       "      <td>1</td>\n",
       "      <td>531.881348</td>\n",
       "      <td>0</td>\n",
       "    </tr>\n",
       "    <tr>\n",
       "      <th>13</th>\n",
       "      <td>29.773157</td>\n",
       "      <td>0.744329</td>\n",
       "      <td>294</td>\n",
       "      <td>1</td>\n",
       "      <td>13</td>\n",
       "      <td>0</td>\n",
       "      <td>2258</td>\n",
       "      <td>1</td>\n",
       "      <td>531.881348</td>\n",
       "      <td>0</td>\n",
       "    </tr>\n",
       "    <tr>\n",
       "      <th>14</th>\n",
       "      <td>25.447535</td>\n",
       "      <td>0.636188</td>\n",
       "      <td>685</td>\n",
       "      <td>1</td>\n",
       "      <td>14</td>\n",
       "      <td>0</td>\n",
       "      <td>1446</td>\n",
       "      <td>714</td>\n",
       "      <td>534.269531</td>\n",
       "      <td>0</td>\n",
       "    </tr>\n",
       "    <tr>\n",
       "      <th>15</th>\n",
       "      <td>25.447535</td>\n",
       "      <td>0.636188</td>\n",
       "      <td>685</td>\n",
       "      <td>1</td>\n",
       "      <td>15</td>\n",
       "      <td>0</td>\n",
       "      <td>1446</td>\n",
       "      <td>714</td>\n",
       "      <td>534.269531</td>\n",
       "      <td>0</td>\n",
       "    </tr>\n",
       "    <tr>\n",
       "      <th>16</th>\n",
       "      <td>34.546154</td>\n",
       "      <td>0.863654</td>\n",
       "      <td>419</td>\n",
       "      <td>1</td>\n",
       "      <td>16</td>\n",
       "      <td>0</td>\n",
       "      <td>2393</td>\n",
       "      <td>29</td>\n",
       "      <td>538.832031</td>\n",
       "      <td>0</td>\n",
       "    </tr>\n",
       "    <tr>\n",
       "      <th>17</th>\n",
       "      <td>34.546154</td>\n",
       "      <td>0.863654</td>\n",
       "      <td>419</td>\n",
       "      <td>1</td>\n",
       "      <td>17</td>\n",
       "      <td>0</td>\n",
       "      <td>2393</td>\n",
       "      <td>29</td>\n",
       "      <td>538.832031</td>\n",
       "      <td>0</td>\n",
       "    </tr>\n",
       "    <tr>\n",
       "      <th>18</th>\n",
       "      <td>0.222050</td>\n",
       "      <td>0.005551</td>\n",
       "      <td>419</td>\n",
       "      <td>1</td>\n",
       "      <td>18</td>\n",
       "      <td>0</td>\n",
       "      <td>2394</td>\n",
       "      <td>2114</td>\n",
       "      <td>539.668945</td>\n",
       "      <td>0</td>\n",
       "    </tr>\n",
       "    <tr>\n",
       "      <th>19</th>\n",
       "      <td>0.222050</td>\n",
       "      <td>0.005551</td>\n",
       "      <td>419</td>\n",
       "      <td>1</td>\n",
       "      <td>19</td>\n",
       "      <td>0</td>\n",
       "      <td>2394</td>\n",
       "      <td>2114</td>\n",
       "      <td>539.668945</td>\n",
       "      <td>0</td>\n",
       "    </tr>\n",
       "    <tr>\n",
       "      <th>20</th>\n",
       "      <td>8.200124</td>\n",
       "      <td>0.205003</td>\n",
       "      <td>419</td>\n",
       "      <td>1</td>\n",
       "      <td>20</td>\n",
       "      <td>0</td>\n",
       "      <td>2138</td>\n",
       "      <td>1318</td>\n",
       "      <td>539.915527</td>\n",
       "      <td>0</td>\n",
       "    </tr>\n",
       "    <tr>\n",
       "      <th>21</th>\n",
       "      <td>8.200124</td>\n",
       "      <td>0.205003</td>\n",
       "      <td>419</td>\n",
       "      <td>1</td>\n",
       "      <td>21</td>\n",
       "      <td>0</td>\n",
       "      <td>2138</td>\n",
       "      <td>1318</td>\n",
       "      <td>539.915527</td>\n",
       "      <td>0</td>\n",
       "    </tr>\n",
       "    <tr>\n",
       "      <th>22</th>\n",
       "      <td>0.172066</td>\n",
       "      <td>0.004302</td>\n",
       "      <td>419</td>\n",
       "      <td>1</td>\n",
       "      <td>22</td>\n",
       "      <td>0</td>\n",
       "      <td>2395</td>\n",
       "      <td>5122</td>\n",
       "      <td>544.334961</td>\n",
       "      <td>0</td>\n",
       "    </tr>\n",
       "    <tr>\n",
       "      <th>23</th>\n",
       "      <td>0.172066</td>\n",
       "      <td>0.004302</td>\n",
       "      <td>419</td>\n",
       "      <td>1</td>\n",
       "      <td>23</td>\n",
       "      <td>0</td>\n",
       "      <td>2395</td>\n",
       "      <td>5122</td>\n",
       "      <td>544.334961</td>\n",
       "      <td>0</td>\n",
       "    </tr>\n",
       "    <tr>\n",
       "      <th>24</th>\n",
       "      <td>21.142099</td>\n",
       "      <td>0.528552</td>\n",
       "      <td>420</td>\n",
       "      <td>1</td>\n",
       "      <td>24</td>\n",
       "      <td>0</td>\n",
       "      <td>2395</td>\n",
       "      <td>501</td>\n",
       "      <td>546.607910</td>\n",
       "      <td>0</td>\n",
       "    </tr>\n",
       "    <tr>\n",
       "      <th>25</th>\n",
       "      <td>21.142099</td>\n",
       "      <td>0.528552</td>\n",
       "      <td>420</td>\n",
       "      <td>1</td>\n",
       "      <td>25</td>\n",
       "      <td>0</td>\n",
       "      <td>2395</td>\n",
       "      <td>501</td>\n",
       "      <td>546.607910</td>\n",
       "      <td>0</td>\n",
       "    </tr>\n",
       "    <tr>\n",
       "      <th>26</th>\n",
       "      <td>41.795208</td>\n",
       "      <td>1.044880</td>\n",
       "      <td>419</td>\n",
       "      <td>1</td>\n",
       "      <td>26</td>\n",
       "      <td>0</td>\n",
       "      <td>2654</td>\n",
       "      <td>23</td>\n",
       "      <td>550.662109</td>\n",
       "      <td>0</td>\n",
       "    </tr>\n",
       "    <tr>\n",
       "      <th>27</th>\n",
       "      <td>41.795208</td>\n",
       "      <td>1.044880</td>\n",
       "      <td>419</td>\n",
       "      <td>1</td>\n",
       "      <td>27</td>\n",
       "      <td>0</td>\n",
       "      <td>2654</td>\n",
       "      <td>23</td>\n",
       "      <td>550.662109</td>\n",
       "      <td>0</td>\n",
       "    </tr>\n",
       "    <tr>\n",
       "      <th>28</th>\n",
       "      <td>3.499789</td>\n",
       "      <td>0.087495</td>\n",
       "      <td>419</td>\n",
       "      <td>1</td>\n",
       "      <td>28</td>\n",
       "      <td>0</td>\n",
       "      <td>2396</td>\n",
       "      <td>1790</td>\n",
       "      <td>551.941895</td>\n",
       "      <td>0</td>\n",
       "    </tr>\n",
       "    <tr>\n",
       "      <th>29</th>\n",
       "      <td>3.499789</td>\n",
       "      <td>0.087495</td>\n",
       "      <td>419</td>\n",
       "      <td>1</td>\n",
       "      <td>29</td>\n",
       "      <td>0</td>\n",
       "      <td>2396</td>\n",
       "      <td>1790</td>\n",
       "      <td>551.941895</td>\n",
       "      <td>0</td>\n",
       "    </tr>\n",
       "    <tr>\n",
       "      <th>...</th>\n",
       "      <td>...</td>\n",
       "      <td>...</td>\n",
       "      <td>...</td>\n",
       "      <td>...</td>\n",
       "      <td>...</td>\n",
       "      <td>...</td>\n",
       "      <td>...</td>\n",
       "      <td>...</td>\n",
       "      <td>...</td>\n",
       "      <td>...</td>\n",
       "    </tr>\n",
       "    <tr>\n",
       "      <th>3859890</th>\n",
       "      <td>27.148569</td>\n",
       "      <td>0.678714</td>\n",
       "      <td>1</td>\n",
       "      <td>99995</td>\n",
       "      <td>3859890</td>\n",
       "      <td>4529</td>\n",
       "      <td>2646</td>\n",
       "      <td>22</td>\n",
       "      <td>507.094248</td>\n",
       "      <td>0</td>\n",
       "    </tr>\n",
       "    <tr>\n",
       "      <th>3859891</th>\n",
       "      <td>26.503124</td>\n",
       "      <td>0.662578</td>\n",
       "      <td>1</td>\n",
       "      <td>99995</td>\n",
       "      <td>3859891</td>\n",
       "      <td>4529</td>\n",
       "      <td>2406</td>\n",
       "      <td>51</td>\n",
       "      <td>507.559643</td>\n",
       "      <td>0</td>\n",
       "    </tr>\n",
       "    <tr>\n",
       "      <th>3859892</th>\n",
       "      <td>26.823301</td>\n",
       "      <td>0.670583</td>\n",
       "      <td>1</td>\n",
       "      <td>99995</td>\n",
       "      <td>3859892</td>\n",
       "      <td>4529</td>\n",
       "      <td>2153</td>\n",
       "      <td>24</td>\n",
       "      <td>508.186949</td>\n",
       "      <td>0</td>\n",
       "    </tr>\n",
       "    <tr>\n",
       "      <th>3859893</th>\n",
       "      <td>26.982841</td>\n",
       "      <td>0.674571</td>\n",
       "      <td>1</td>\n",
       "      <td>99995</td>\n",
       "      <td>3859893</td>\n",
       "      <td>4529</td>\n",
       "      <td>1906</td>\n",
       "      <td>31</td>\n",
       "      <td>508.370720</td>\n",
       "      <td>0</td>\n",
       "    </tr>\n",
       "    <tr>\n",
       "      <th>3859894</th>\n",
       "      <td>29.248068</td>\n",
       "      <td>0.731202</td>\n",
       "      <td>1</td>\n",
       "      <td>99995</td>\n",
       "      <td>3859894</td>\n",
       "      <td>4529</td>\n",
       "      <td>2124</td>\n",
       "      <td>11</td>\n",
       "      <td>508.861532</td>\n",
       "      <td>0</td>\n",
       "    </tr>\n",
       "    <tr>\n",
       "      <th>3859895</th>\n",
       "      <td>30.303667</td>\n",
       "      <td>0.757592</td>\n",
       "      <td>1</td>\n",
       "      <td>99995</td>\n",
       "      <td>3859895</td>\n",
       "      <td>4529</td>\n",
       "      <td>935</td>\n",
       "      <td>14</td>\n",
       "      <td>509.452379</td>\n",
       "      <td>0</td>\n",
       "    </tr>\n",
       "    <tr>\n",
       "      <th>3859896</th>\n",
       "      <td>30.485022</td>\n",
       "      <td>0.762126</td>\n",
       "      <td>1</td>\n",
       "      <td>99995</td>\n",
       "      <td>3859896</td>\n",
       "      <td>4529</td>\n",
       "      <td>1630</td>\n",
       "      <td>15</td>\n",
       "      <td>509.949102</td>\n",
       "      <td>0</td>\n",
       "    </tr>\n",
       "    <tr>\n",
       "      <th>3859897</th>\n",
       "      <td>30.847174</td>\n",
       "      <td>0.771179</td>\n",
       "      <td>1</td>\n",
       "      <td>99995</td>\n",
       "      <td>3859897</td>\n",
       "      <td>4529</td>\n",
       "      <td>1877</td>\n",
       "      <td>21</td>\n",
       "      <td>510.432684</td>\n",
       "      <td>0</td>\n",
       "    </tr>\n",
       "    <tr>\n",
       "      <th>3859898</th>\n",
       "      <td>31.920523</td>\n",
       "      <td>0.798013</td>\n",
       "      <td>1</td>\n",
       "      <td>99995</td>\n",
       "      <td>3859898</td>\n",
       "      <td>4529</td>\n",
       "      <td>712</td>\n",
       "      <td>8</td>\n",
       "      <td>510.978415</td>\n",
       "      <td>0</td>\n",
       "    </tr>\n",
       "    <tr>\n",
       "      <th>3859899</th>\n",
       "      <td>29.659975</td>\n",
       "      <td>0.741499</td>\n",
       "      <td>1</td>\n",
       "      <td>99995</td>\n",
       "      <td>3859899</td>\n",
       "      <td>4529</td>\n",
       "      <td>1908</td>\n",
       "      <td>85</td>\n",
       "      <td>511.145723</td>\n",
       "      <td>0</td>\n",
       "    </tr>\n",
       "    <tr>\n",
       "      <th>3859900</th>\n",
       "      <td>29.452450</td>\n",
       "      <td>0.736311</td>\n",
       "      <td>1</td>\n",
       "      <td>99995</td>\n",
       "      <td>3859900</td>\n",
       "      <td>4529</td>\n",
       "      <td>134</td>\n",
       "      <td>27</td>\n",
       "      <td>511.626095</td>\n",
       "      <td>0</td>\n",
       "    </tr>\n",
       "    <tr>\n",
       "      <th>3859901</th>\n",
       "      <td>31.760370</td>\n",
       "      <td>0.794009</td>\n",
       "      <td>1</td>\n",
       "      <td>99995</td>\n",
       "      <td>3859901</td>\n",
       "      <td>4529</td>\n",
       "      <td>2665</td>\n",
       "      <td>17</td>\n",
       "      <td>512.793818</td>\n",
       "      <td>0</td>\n",
       "    </tr>\n",
       "    <tr>\n",
       "      <th>3859902</th>\n",
       "      <td>32.601543</td>\n",
       "      <td>0.815039</td>\n",
       "      <td>1</td>\n",
       "      <td>99995</td>\n",
       "      <td>3859902</td>\n",
       "      <td>4529</td>\n",
       "      <td>2920</td>\n",
       "      <td>28</td>\n",
       "      <td>512.829937</td>\n",
       "      <td>0</td>\n",
       "    </tr>\n",
       "    <tr>\n",
       "      <th>3859903</th>\n",
       "      <td>33.746880</td>\n",
       "      <td>0.843672</td>\n",
       "      <td>1</td>\n",
       "      <td>99995</td>\n",
       "      <td>3859903</td>\n",
       "      <td>4529</td>\n",
       "      <td>1628</td>\n",
       "      <td>21</td>\n",
       "      <td>513.120964</td>\n",
       "      <td>0</td>\n",
       "    </tr>\n",
       "    <tr>\n",
       "      <th>3859904</th>\n",
       "      <td>32.529297</td>\n",
       "      <td>0.813232</td>\n",
       "      <td>1</td>\n",
       "      <td>99995</td>\n",
       "      <td>3859904</td>\n",
       "      <td>4529</td>\n",
       "      <td>2660</td>\n",
       "      <td>83</td>\n",
       "      <td>513.302917</td>\n",
       "      <td>0</td>\n",
       "    </tr>\n",
       "    <tr>\n",
       "      <th>3859905</th>\n",
       "      <td>33.038933</td>\n",
       "      <td>0.825973</td>\n",
       "      <td>1</td>\n",
       "      <td>99995</td>\n",
       "      <td>3859905</td>\n",
       "      <td>4529</td>\n",
       "      <td>2409</td>\n",
       "      <td>29</td>\n",
       "      <td>514.254845</td>\n",
       "      <td>0</td>\n",
       "    </tr>\n",
       "    <tr>\n",
       "      <th>3859906</th>\n",
       "      <td>35.282497</td>\n",
       "      <td>0.882062</td>\n",
       "      <td>1</td>\n",
       "      <td>99995</td>\n",
       "      <td>3859906</td>\n",
       "      <td>4529</td>\n",
       "      <td>501</td>\n",
       "      <td>7</td>\n",
       "      <td>514.257229</td>\n",
       "      <td>0</td>\n",
       "    </tr>\n",
       "    <tr>\n",
       "      <th>3859907</th>\n",
       "      <td>32.877674</td>\n",
       "      <td>0.821942</td>\n",
       "      <td>1</td>\n",
       "      <td>99995</td>\n",
       "      <td>3859907</td>\n",
       "      <td>4529</td>\n",
       "      <td>1428</td>\n",
       "      <td>11</td>\n",
       "      <td>514.507069</td>\n",
       "      <td>0</td>\n",
       "    </tr>\n",
       "    <tr>\n",
       "      <th>3859908</th>\n",
       "      <td>34.004631</td>\n",
       "      <td>0.850116</td>\n",
       "      <td>1</td>\n",
       "      <td>99995</td>\n",
       "      <td>3859908</td>\n",
       "      <td>4529</td>\n",
       "      <td>2930</td>\n",
       "      <td>7</td>\n",
       "      <td>514.755882</td>\n",
       "      <td>0</td>\n",
       "    </tr>\n",
       "    <tr>\n",
       "      <th>3859909</th>\n",
       "      <td>33.281033</td>\n",
       "      <td>0.832026</td>\n",
       "      <td>1</td>\n",
       "      <td>99995</td>\n",
       "      <td>3859909</td>\n",
       "      <td>4529</td>\n",
       "      <td>1195</td>\n",
       "      <td>36</td>\n",
       "      <td>515.013393</td>\n",
       "      <td>0</td>\n",
       "    </tr>\n",
       "    <tr>\n",
       "      <th>3859910</th>\n",
       "      <td>36.189495</td>\n",
       "      <td>0.904737</td>\n",
       "      <td>1</td>\n",
       "      <td>99995</td>\n",
       "      <td>3859910</td>\n",
       "      <td>4529</td>\n",
       "      <td>1159</td>\n",
       "      <td>3</td>\n",
       "      <td>515.428387</td>\n",
       "      <td>0</td>\n",
       "    </tr>\n",
       "    <tr>\n",
       "      <th>3859911</th>\n",
       "      <td>34.472908</td>\n",
       "      <td>0.861823</td>\n",
       "      <td>1</td>\n",
       "      <td>99995</td>\n",
       "      <td>3859911</td>\n",
       "      <td>4529</td>\n",
       "      <td>333</td>\n",
       "      <td>17</td>\n",
       "      <td>516.621834</td>\n",
       "      <td>0</td>\n",
       "    </tr>\n",
       "    <tr>\n",
       "      <th>3859912</th>\n",
       "      <td>36.131943</td>\n",
       "      <td>0.903299</td>\n",
       "      <td>1</td>\n",
       "      <td>99995</td>\n",
       "      <td>3859912</td>\n",
       "      <td>4529</td>\n",
       "      <td>1430</td>\n",
       "      <td>7</td>\n",
       "      <td>517.847031</td>\n",
       "      <td>0</td>\n",
       "    </tr>\n",
       "    <tr>\n",
       "      <th>3859913</th>\n",
       "      <td>39.706100</td>\n",
       "      <td>0.992653</td>\n",
       "      <td>1</td>\n",
       "      <td>99995</td>\n",
       "      <td>3859913</td>\n",
       "      <td>4529</td>\n",
       "      <td>1157</td>\n",
       "      <td>6</td>\n",
       "      <td>518.880112</td>\n",
       "      <td>0</td>\n",
       "    </tr>\n",
       "    <tr>\n",
       "      <th>3859914</th>\n",
       "      <td>41.440289</td>\n",
       "      <td>1.036007</td>\n",
       "      <td>1</td>\n",
       "      <td>99995</td>\n",
       "      <td>3859914</td>\n",
       "      <td>4529</td>\n",
       "      <td>91</td>\n",
       "      <td>2</td>\n",
       "      <td>520.255169</td>\n",
       "      <td>0</td>\n",
       "    </tr>\n",
       "    <tr>\n",
       "      <th>3859915</th>\n",
       "      <td>38.782135</td>\n",
       "      <td>0.969553</td>\n",
       "      <td>1</td>\n",
       "      <td>99995</td>\n",
       "      <td>3859915</td>\n",
       "      <td>4529</td>\n",
       "      <td>753</td>\n",
       "      <td>4</td>\n",
       "      <td>520.765961</td>\n",
       "      <td>0</td>\n",
       "    </tr>\n",
       "    <tr>\n",
       "      <th>3859916</th>\n",
       "      <td>39.753960</td>\n",
       "      <td>0.993849</td>\n",
       "      <td>1</td>\n",
       "      <td>99995</td>\n",
       "      <td>3859916</td>\n",
       "      <td>4529</td>\n",
       "      <td>544</td>\n",
       "      <td>5</td>\n",
       "      <td>521.821770</td>\n",
       "      <td>0</td>\n",
       "    </tr>\n",
       "    <tr>\n",
       "      <th>3859917</th>\n",
       "      <td>42.013443</td>\n",
       "      <td>1.050336</td>\n",
       "      <td>1</td>\n",
       "      <td>99995</td>\n",
       "      <td>3859917</td>\n",
       "      <td>4529</td>\n",
       "      <td>2387</td>\n",
       "      <td>1</td>\n",
       "      <td>521.934494</td>\n",
       "      <td>0</td>\n",
       "    </tr>\n",
       "    <tr>\n",
       "      <th>3859918</th>\n",
       "      <td>44.708755</td>\n",
       "      <td>1.117719</td>\n",
       "      <td>1</td>\n",
       "      <td>99995</td>\n",
       "      <td>3859918</td>\n",
       "      <td>4529</td>\n",
       "      <td>2651</td>\n",
       "      <td>2</td>\n",
       "      <td>524.912552</td>\n",
       "      <td>0</td>\n",
       "    </tr>\n",
       "    <tr>\n",
       "      <th>3859919</th>\n",
       "      <td>46.137207</td>\n",
       "      <td>1.153430</td>\n",
       "      <td>1</td>\n",
       "      <td>99995</td>\n",
       "      <td>3859919</td>\n",
       "      <td>4529</td>\n",
       "      <td>751</td>\n",
       "      <td>1</td>\n",
       "      <td>528.060120</td>\n",
       "      <td>0</td>\n",
       "    </tr>\n",
       "  </tbody>\n",
       "</table>\n",
       "<p>3859920 rows × 10 columns</p>\n",
       "</div>"
      ],
      "text/plain": [
       "         CDCHit.fDriftTime  CDCHit.fDriftDist  CDCHit.fTrack.fTrackID  \\\n",
       "0                25.639893           0.640997                     679   \n",
       "1                25.639893           0.640997                     679   \n",
       "2                16.742901           0.418573                     679   \n",
       "3                16.742901           0.418573                     679   \n",
       "4                 0.337219           0.008430                     679   \n",
       "5                 0.337219           0.008430                     679   \n",
       "6                22.078190           0.551955                     679   \n",
       "7                22.078190           0.551955                     679   \n",
       "8                 8.725266           0.218132                     619   \n",
       "9                 8.725266           0.218132                     619   \n",
       "10               27.891201           0.697280                     619   \n",
       "11               27.891201           0.697280                     619   \n",
       "12               29.773157           0.744329                     294   \n",
       "13               29.773157           0.744329                     294   \n",
       "14               25.447535           0.636188                     685   \n",
       "15               25.447535           0.636188                     685   \n",
       "16               34.546154           0.863654                     419   \n",
       "17               34.546154           0.863654                     419   \n",
       "18                0.222050           0.005551                     419   \n",
       "19                0.222050           0.005551                     419   \n",
       "20                8.200124           0.205003                     419   \n",
       "21                8.200124           0.205003                     419   \n",
       "22                0.172066           0.004302                     419   \n",
       "23                0.172066           0.004302                     419   \n",
       "24               21.142099           0.528552                     420   \n",
       "25               21.142099           0.528552                     420   \n",
       "26               41.795208           1.044880                     419   \n",
       "27               41.795208           1.044880                     419   \n",
       "28                3.499789           0.087495                     419   \n",
       "29                3.499789           0.087495                     419   \n",
       "...                    ...                ...                     ...   \n",
       "3859890          27.148569           0.678714                       1   \n",
       "3859891          26.503124           0.662578                       1   \n",
       "3859892          26.823301           0.670583                       1   \n",
       "3859893          26.982841           0.674571                       1   \n",
       "3859894          29.248068           0.731202                       1   \n",
       "3859895          30.303667           0.757592                       1   \n",
       "3859896          30.485022           0.762126                       1   \n",
       "3859897          30.847174           0.771179                       1   \n",
       "3859898          31.920523           0.798013                       1   \n",
       "3859899          29.659975           0.741499                       1   \n",
       "3859900          29.452450           0.736311                       1   \n",
       "3859901          31.760370           0.794009                       1   \n",
       "3859902          32.601543           0.815039                       1   \n",
       "3859903          33.746880           0.843672                       1   \n",
       "3859904          32.529297           0.813232                       1   \n",
       "3859905          33.038933           0.825973                       1   \n",
       "3859906          35.282497           0.882062                       1   \n",
       "3859907          32.877674           0.821942                       1   \n",
       "3859908          34.004631           0.850116                       1   \n",
       "3859909          33.281033           0.832026                       1   \n",
       "3859910          36.189495           0.904737                       1   \n",
       "3859911          34.472908           0.861823                       1   \n",
       "3859912          36.131943           0.903299                       1   \n",
       "3859913          39.706100           0.992653                       1   \n",
       "3859914          41.440289           1.036007                       1   \n",
       "3859915          38.782135           0.969553                       1   \n",
       "3859916          39.753960           0.993849                       1   \n",
       "3859917          42.013443           1.050336                       1   \n",
       "3859918          44.708755           1.117719                       1   \n",
       "3859919          46.137207           1.153430                       1   \n",
       "\n",
       "         CDCHit.fEventNumber  CDCHit.fhits_index  CDCHit.fevent_index  \\\n",
       "0                          1                   0                    0   \n",
       "1                          1                   1                    0   \n",
       "2                          1                   2                    0   \n",
       "3                          1                   3                    0   \n",
       "4                          1                   4                    0   \n",
       "5                          1                   5                    0   \n",
       "6                          1                   6                    0   \n",
       "7                          1                   7                    0   \n",
       "8                          1                   8                    0   \n",
       "9                          1                   9                    0   \n",
       "10                         1                  10                    0   \n",
       "11                         1                  11                    0   \n",
       "12                         1                  12                    0   \n",
       "13                         1                  13                    0   \n",
       "14                         1                  14                    0   \n",
       "15                         1                  15                    0   \n",
       "16                         1                  16                    0   \n",
       "17                         1                  17                    0   \n",
       "18                         1                  18                    0   \n",
       "19                         1                  19                    0   \n",
       "20                         1                  20                    0   \n",
       "21                         1                  21                    0   \n",
       "22                         1                  22                    0   \n",
       "23                         1                  23                    0   \n",
       "24                         1                  24                    0   \n",
       "25                         1                  25                    0   \n",
       "26                         1                  26                    0   \n",
       "27                         1                  27                    0   \n",
       "28                         1                  28                    0   \n",
       "29                         1                  29                    0   \n",
       "...                      ...                 ...                  ...   \n",
       "3859890                99995             3859890                 4529   \n",
       "3859891                99995             3859891                 4529   \n",
       "3859892                99995             3859892                 4529   \n",
       "3859893                99995             3859893                 4529   \n",
       "3859894                99995             3859894                 4529   \n",
       "3859895                99995             3859895                 4529   \n",
       "3859896                99995             3859896                 4529   \n",
       "3859897                99995             3859897                 4529   \n",
       "3859898                99995             3859898                 4529   \n",
       "3859899                99995             3859899                 4529   \n",
       "3859900                99995             3859900                 4529   \n",
       "3859901                99995             3859901                 4529   \n",
       "3859902                99995             3859902                 4529   \n",
       "3859903                99995             3859903                 4529   \n",
       "3859904                99995             3859904                 4529   \n",
       "3859905                99995             3859905                 4529   \n",
       "3859906                99995             3859906                 4529   \n",
       "3859907                99995             3859907                 4529   \n",
       "3859908                99995             3859908                 4529   \n",
       "3859909                99995             3859909                 4529   \n",
       "3859910                99995             3859910                 4529   \n",
       "3859911                99995             3859911                 4529   \n",
       "3859912                99995             3859912                 4529   \n",
       "3859913                99995             3859913                 4529   \n",
       "3859914                99995             3859914                 4529   \n",
       "3859915                99995             3859915                 4529   \n",
       "3859916                99995             3859916                 4529   \n",
       "3859917                99995             3859917                 4529   \n",
       "3859918                99995             3859918                 4529   \n",
       "3859919                99995             3859919                 4529   \n",
       "\n",
       "         CDCHit.fvol_id  CDCHit.fCharge  CDCHit.fMCPos.fE  CDCHit.fTrigTime  \n",
       "0                  2581              99        502.691406                 0  \n",
       "1                  2581              99        502.691406                 0  \n",
       "2                  2324            1505        503.592773                 0  \n",
       "3                  2324            1505        503.592773                 0  \n",
       "4                  2323            2977        505.476562                 0  \n",
       "5                  2323            2977        505.476562                 0  \n",
       "6                  2322            1157        507.655762                 0  \n",
       "7                  2322            1157        507.655762                 0  \n",
       "8                  1823            2057        520.319336                 0  \n",
       "9                  1823            2057        520.319336                 0  \n",
       "10                 1822            1962        521.553223                 0  \n",
       "11                 1822            1962        521.553223                 0  \n",
       "12                 2258               1        531.881348                 0  \n",
       "13                 2258               1        531.881348                 0  \n",
       "14                 1446             714        534.269531                 0  \n",
       "15                 1446             714        534.269531                 0  \n",
       "16                 2393              29        538.832031                 0  \n",
       "17                 2393              29        538.832031                 0  \n",
       "18                 2394            2114        539.668945                 0  \n",
       "19                 2394            2114        539.668945                 0  \n",
       "20                 2138            1318        539.915527                 0  \n",
       "21                 2138            1318        539.915527                 0  \n",
       "22                 2395            5122        544.334961                 0  \n",
       "23                 2395            5122        544.334961                 0  \n",
       "24                 2395             501        546.607910                 0  \n",
       "25                 2395             501        546.607910                 0  \n",
       "26                 2654              23        550.662109                 0  \n",
       "27                 2654              23        550.662109                 0  \n",
       "28                 2396            1790        551.941895                 0  \n",
       "29                 2396            1790        551.941895                 0  \n",
       "...                 ...             ...               ...               ...  \n",
       "3859890            2646              22        507.094248                 0  \n",
       "3859891            2406              51        507.559643                 0  \n",
       "3859892            2153              24        508.186949                 0  \n",
       "3859893            1906              31        508.370720                 0  \n",
       "3859894            2124              11        508.861532                 0  \n",
       "3859895             935              14        509.452379                 0  \n",
       "3859896            1630              15        509.949102                 0  \n",
       "3859897            1877              21        510.432684                 0  \n",
       "3859898             712               8        510.978415                 0  \n",
       "3859899            1908              85        511.145723                 0  \n",
       "3859900             134              27        511.626095                 0  \n",
       "3859901            2665              17        512.793818                 0  \n",
       "3859902            2920              28        512.829937                 0  \n",
       "3859903            1628              21        513.120964                 0  \n",
       "3859904            2660              83        513.302917                 0  \n",
       "3859905            2409              29        514.254845                 0  \n",
       "3859906             501               7        514.257229                 0  \n",
       "3859907            1428              11        514.507069                 0  \n",
       "3859908            2930               7        514.755882                 0  \n",
       "3859909            1195              36        515.013393                 0  \n",
       "3859910            1159               3        515.428387                 0  \n",
       "3859911             333              17        516.621834                 0  \n",
       "3859912            1430               7        517.847031                 0  \n",
       "3859913            1157               6        518.880112                 0  \n",
       "3859914              91               2        520.255169                 0  \n",
       "3859915             753               4        520.765961                 0  \n",
       "3859916             544               5        521.821770                 0  \n",
       "3859917            2387               1        521.934494                 0  \n",
       "3859918            2651               2        524.912552                 0  \n",
       "3859919             751               1        528.060120                 0  \n",
       "\n",
       "[3859920 rows x 10 columns]"
      ]
     },
     "execution_count": 47,
     "metadata": {},
     "output_type": "execute_result"
    }
   ],
   "source": [
    "DataFrame(sig_cdc.data)"
   ]
  },
  {
   "cell_type": "code",
   "execution_count": null,
   "metadata": {
    "collapsed": true
   },
   "outputs": [],
   "source": []
  }
 ],
 "metadata": {
  "kernelspec": {
   "display_name": "Python 2",
   "language": "python",
   "name": "python2"
  },
  "language_info": {
   "codemirror_mode": {
    "name": "ipython",
    "version": 2
   },
   "file_extension": ".py",
   "mimetype": "text/x-python",
   "name": "python",
   "nbconvert_exporter": "python",
   "pygments_lexer": "ipython2",
   "version": "2.7"
  }
 },
 "nbformat": 4,
 "nbformat_minor": 0
}
