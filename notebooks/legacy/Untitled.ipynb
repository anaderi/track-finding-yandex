{
 "cells": [
  {
   "cell_type": "code",
   "execution_count": 2,
   "metadata": {
    "collapsed": false
   },
   "outputs": [
    {
     "name": "stdout",
     "output_type": "stream",
     "text": [
      "Populating the interactive namespace from numpy and matplotlib\n"
     ]
    }
   ],
   "source": [
    "get_ipython().magic(u'run visualizations.ipynb')\n",
    "import sys\n",
    "from hits import CyDetHits, CTHHits, CDCHits, FlatHits\n",
    "from memory_profiler import memory_usage\n",
    "from pprint import pprint\n",
    "from collections import Counter\n",
    "sys.path.insert(0, '../modules')"
   ]
  },
  {
   "cell_type": "code",
   "execution_count": 3,
   "metadata": {
    "collapsed": true
   },
   "outputs": [],
   "source": [
    "file_base = \"/vols/comet/users/elg112/ICEDUST\"\\\n",
    "            \"/local_storage/Blessed_Outputs\"\\\n",
    "            \"/2e5_\"\n",
    "cdc_sig_file = file_base + \"cdc_signal_xtcurve.root\"\n",
    "cth_sig_file = file_base + \"cth_signal_xtcurve.root\""
   ]
  },
  {
   "cell_type": "code",
   "execution_count": null,
   "metadata": {
    "collapsed": true
   },
   "outputs": [],
   "source": [
    "this_cdc_sample = root2array"
   ]
  },
  {
   "cell_type": "code",
   "execution_count": null,
   "metadata": {
    "collapsed": true
   },
   "outputs": [],
   "source": []
  }
 ],
 "metadata": {
  "kernelspec": {
   "display_name": "Python 2",
   "language": "python",
   "name": "python2"
  },
  "language_info": {
   "codemirror_mode": {
    "name": "ipython",
    "version": 2
   },
   "file_extension": ".py",
   "mimetype": "text/x-python",
   "name": "python",
   "nbconvert_exporter": "python",
   "pygments_lexer": "ipython2",
   "version": "2.7"
  }
 },
 "nbformat": 4,
 "nbformat_minor": 0
}
