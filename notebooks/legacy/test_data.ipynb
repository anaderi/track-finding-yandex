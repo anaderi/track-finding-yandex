{
 "cells": [
  {
   "cell_type": "markdown",
   "metadata": {},
   "source": [
    "## Test Trim Hits"
   ]
  },
  {
   "cell_type": "code",
   "execution_count": null,
   "metadata": {
    "collapsed": true
   },
   "outputs": [],
   "source": [
    "passed_events = np.random.randint(0, sig_cdc.n_events, sig_cdc.n_events/10)\n",
    "unique_event_numbers = np.unique(sig_cdc.get_events()[sig_cdc.key_name])\n",
    "passed_events = unique_event_numbers[passed_events]\n",
    "print len(passed_events)\n",
    "print len(unique_event_numbers)\n",
    "print np.amax(sig_cdc.hits_to_events)\n",
    "print np.amin(sig_cdc.hits_to_events)\n",
    "print len(np.unique(sig_cdc.hits_to_events))\n",
    "print sig_cdc.n_events\n",
    "print sig_cdc.n_events - len(unique_event_numbers)\n",
    "print sig_cdc.n_hits\n",
    "print sum(sig_cdc.event_to_n_hits)\n",
    "print len(sig_cdc.get_events())"
   ]
  },
  {
   "cell_type": "markdown",
   "metadata": {},
   "source": [
    "## Test event indexing"
   ]
  },
  {
   "cell_type": "code",
   "execution_count": null,
   "metadata": {
    "collapsed": true
   },
   "outputs": [],
   "source": [
    "old_id = -1\n",
    "for event in range(sig_cdc.n_events)[:10]:\n",
    "    all_event_ids = np.unique(sig_cdc.get_events(event)[sig_cdc.key_name])\n",
    "    if len(all_event_ids) != 1:\n",
    "        print event\n",
    "    else:\n",
    "        new_id = all_event_ids[0]\n",
    "        if new_id <= old_id:\n",
    "            print new_id, old_id, event\n",
    "    old_id = new_id.copy()"
   ]
  },
  {
   "cell_type": "markdown",
   "metadata": {},
   "source": [
    "# Coincidence via Get Measurement directly"
   ]
  },
  {
   "cell_type": "code",
   "execution_count": null,
   "metadata": {
    "collapsed": true
   },
   "outputs": [],
   "source": [
    "events = [1]\n",
    "print sig_cdc.event_to_n_hits[events]\n",
    "print sum(sig_cdc.event_to_n_hits[events])\n",
    "name = \"CDCHit.fhits_index\"\n",
    "hits_0 = sig_cdc.get_measurement(name, events, default=-1)\n",
    "hits_1 = sig_cdc.get_measurement(name, events, default=-1, only_hits=False, flatten=True)\n",
    "hits_2 = hits_1[hits_1 != -1]\n",
    "hits_3 = sig_cdc.get_measurement(name, events, default=-1, only_hits=True, flatten=True)\n",
    "#print len(hits_0), sort(hits_0)\n",
    "#print zip(hits_0, sig_cdc.data[hits_0.astype(int)][\"CDCHit.fvol_id\"])\n",
    "#pprint(zip(hits_0, sig_cdc.data[hits_0.astype(int)][\"CDCHit.fvol_id\"]))\n",
    "#pprint(zip(hits_1, sig_cdc.data[hits_1.astype(int)][\"CDCHit.fvol_id\"]))\n",
    "\n",
    "#pprint(dict(Counter(sig_cdc.get_events(1)[sig_cdc.flat_name])))\n",
    "\n",
    "#print np.in1d(np.arange(34,60), hits_0)\n",
    "print len(hits_0)\n",
    "print sort(hits_0)\n",
    "removed_hits = sort(hits_0)[np.logical_not(np.in1d(np.arange(34,60), sort(hits_0)))]\n",
    "print sig_cdc.data[\"CDCHit.fvol_id\"][removed_hits.astype(int)]\n",
    "print removed_hits\n",
    "\n",
    "\n",
    "print np.array_equal(np.arange(sum(sig_cdc.event_to_n_hits[events])), \n",
    "                     sig_cdc.get_events(events)[sig_cdc.hits_index_name])\n",
    "\n",
    "print len(hits_2), sort(hits_2)\n",
    "#sig_cdc.data[[48,49]][\"CDCHit.fvol_id\"]\n",
    "#print np.in1d(sort(hits_0),sort(hits_2))\n",
    "#print hits_0[np.logical_not(np.in1d(hits_0,hits_2))]\n",
    "\n",
    "print sig_cdc.filter_hits(sig_cdc.get_events(1), \"CDCHit.fvol_id\", values=[44,240])\n",
    "#print zip(hits_2, sig_cdc.data[hits_2.astype(int)][\"CDCHit.fvol_id\"])\n",
    "#pprint(zip(hits_2, sig_cdc.data[hits_2.astype(int)][\"CDCHit.fvol_id\"]))\n",
    "#pprint(zip(hits_3, sig_cdc.data[hits_3.astype(int)][\"CDCHit.fvol_id\"]))"
   ]
  }
 ],
 "metadata": {
  "kernelspec": {
   "display_name": "Python 2",
   "language": "python",
   "name": "python2"
  },
  "language_info": {
   "codemirror_mode": {
    "name": "ipython",
    "version": 2
   },
   "file_extension": ".py",
   "mimetype": "text/x-python",
   "name": "python",
   "nbconvert_exporter": "python",
   "pygments_lexer": "ipython2",
   "version": "2.7"
  }
 },
 "nbformat": 4,
 "nbformat_minor": 0
}
