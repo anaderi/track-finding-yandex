{
 "cells": [
  {
   "cell_type": "markdown",
   "metadata": {
    "collapsed": true
   },
   "source": [
    "# Main Analysis Pipeline\n",
    " \n",
    " * Prepare Hough transform based only on wire information (= energy, time, radial distance)\n",
    " * Build predictions based on Hough, local information, and local information of left/right neighbors "
   ]
  },
  {
   "cell_type": "code",
   "execution_count": 43,
   "metadata": {
    "collapsed": false
   },
   "outputs": [
    {
     "name": "stdout",
     "output_type": "stream",
     "text": [
      "Populating the interactive namespace from numpy and matplotlib\n"
     ]
    }
   ],
   "source": [
    "get_ipython().magic(u'run visualizations.ipynb')\n",
    "import sys\n",
    "from hits import CyDetHits, CTHHits, CDCHits\n",
    "from memory_profiler import memory_usage\n",
    "sys.path.insert(0, '../modules')"
   ]
  },
  {
   "cell_type": "code",
   "execution_count": 44,
   "metadata": {
    "collapsed": false
   },
   "outputs": [],
   "source": [
    "sig_cydet = CyDetHits('../data/151209_signal_tracks.root', \n",
    "                      signal_coding=[1], \n",
    "                      hit_type_name=\"tid\",\n",
    "                      branches=[\"px\", \"py\", \"pz\", \"t\",\"z\"])\n",
    "sig_cth = CTHHits('../data/151209_signal_tracks.root', \n",
    "                  signal_coding=[1], \n",
    "                  hit_type_name=\"tid\")\n",
    "sig = CDCHits(sig_cydet, sig_cth)\n",
    "\n",
    "from cylinder import CyDet\n",
    "geom = CyDet()\n",
    "n_events = sig_cth.n_events"
   ]
  },
  {
   "cell_type": "code",
   "execution_count": 45,
   "metadata": {
    "collapsed": false
   },
   "outputs": [
    {
     "data": {
      "image/png": "[encoded data removed]",
      "text/plain": [
       "<matplotlib.figure.Figure at 0x8328310>"
      ]
     },
     "metadata": {},
     "output_type": "display_data"
    }
   ],
   "source": [
    "this_feat = \"CdcCell_z\"\n",
    "plt.ylabel(\"Number of hits per bin\")\n",
    "plt.xlabel(this_feat)\n",
    "plt.hist(sig_cydet.get_signal_hits()[this_feat], bins=100)\n",
    "plt.show()"
   ]
  },
  {
   "cell_type": "code",
   "execution_count": 46,
   "metadata": {
    "collapsed": false
   },
   "outputs": [
    {
     "data": {
      "image/png": "[encoded data removed]",
      "text/plain": [
       "<matplotlib.figure.Figure at 0x9928b10>"
      ]
     },
     "metadata": {},
     "output_type": "display_data"
    }
   ],
   "source": [
    "this_feat = \"CdcCell_t\"\n",
    "plt.ylabel(\"Number of hits per bin\")\n",
    "plt.xlabel(this_feat)\n",
    "plt.hist(sig_cydet.get_signal_hits()[this_feat], bins=100)\n",
    "plt.show()"
   ]
  },
  {
   "cell_type": "markdown",
   "metadata": {},
   "source": [
    "## Cuts on the Signal Tracks"
   ]
  },
  {
   "cell_type": "code",
   "execution_count": 47,
   "metadata": {
    "collapsed": true
   },
   "outputs": [],
   "source": [
    "# Define cuts to use\n",
    "n_hits_cut = True\n",
    "layer_cut = True\n",
    "timing_cut = True\n",
    "use_cth_cut = True"
   ]
  },
  {
   "cell_type": "markdown",
   "metadata": {},
   "source": [
    "### Fiducial Time Window Cuts"
   ]
  },
  {
   "cell_type": "code",
   "execution_count": 48,
   "metadata": {
    "collapsed": false
   },
   "outputs": [
    {
     "name": "stdout",
     "output_type": "stream",
     "text": [
      "CTH Hits: 436987\n",
      "CyDet Hits: 3678861\n",
      "CTH Hits: 133438\n",
      "CyDet Hits: 1948467\n"
     ]
    }
   ],
   "source": [
    "if timing_cut:\n",
    "    # Apply the timing filter\n",
    "    print \"CTH Hits: {}\".format(sig.cth.n_hits)\n",
    "    print \"CyDet Hits: {}\".format(sig.cydet.n_hits)\n",
    "    sig.cth.trim_hits(variable=sig.cth.time_name, less_than=1170, greater_than=700)\n",
    "    sig.cydet.trim_hits(variable=sig.cydet.time_name, less_than=1620, greater_than=700)\n",
    "    print \"CTH Hits: {}\".format(sig.cth.n_hits)\n",
    "    print \"CyDet Hits: {}\".format(sig.cydet.n_hits)"
   ]
  },
  {
   "cell_type": "markdown",
   "metadata": {},
   "source": [
    "### Cuts on CTH"
   ]
  },
  {
   "cell_type": "code",
   "execution_count": 50,
   "metadata": {
    "collapsed": false
   },
   "outputs": [
    {
     "name": "stdout",
     "output_type": "stream",
     "text": [
      "Events that pass CTH Trigger: 15217\n"
     ]
    }
   ],
   "source": [
    "# Filter for CTH in time window.  Get the time\n",
    "trigger_events = []\n",
    "for evt in range(sig.n_events):\n",
    "    sig_hits = sig.cth.get_signal_hits(evt)\n",
    "    if len(sig_hits) != 0:\n",
    "        trigger_events.append(evt)\n",
    "trigger_events = np.array(trigger_events)\n",
    "print \"Events that pass CTH Trigger: {}\".format(len(trigger_events))"
   ]
  },
  {
   "cell_type": "markdown",
   "metadata": {},
   "source": [
    "### Cuts on CyDet"
   ]
  },
  {
   "cell_type": "code",
   "execution_count": 51,
   "metadata": {
    "collapsed": false
   },
   "outputs": [
    {
     "name": "stdout",
     "output_type": "stream",
     "text": [
      "Start Events: 79587\n",
      "End Events: 79587\n"
     ]
    }
   ],
   "source": [
    "# Filter for max layer is five\n",
    "print \"Start Events: {}\".format(sig.n_events)\n",
    "max_layer = []\n",
    "for evt in range(sig.n_events):\n",
    "    these_layers = sig.cydet.geom.point_layers[sig.cydet.get_sig_wires(evt)]\n",
    "    if len(sig.cydet.get_sig_wires(evt)) != 0:\n",
    "        max_layer.append(np.max(these_layers))\n",
    "    else:\n",
    "        max_layer.append(-1)\n",
    "max_layer = np.array(max_layer)\n",
    "good_max_layer = np.where(max_layer >= 4)[0]\n",
    "print \"End Events: {}\".format(sig.n_events)"
   ]
  },
  {
   "cell_type": "code",
   "execution_count": 52,
   "metadata": {
    "collapsed": false
   },
   "outputs": [
    {
     "name": "stdout",
     "output_type": "stream",
     "text": [
      "Start Events: 79587\n",
      "End Events: 79587\n"
     ]
    }
   ],
   "source": [
    "# Filter for number of signal hits\n",
    "print \"Start Events: {}\".format(sig.n_events)\n",
    "n_signal_hits  = np.array([len(sig.cydet.get_signal_hits(evt)) \n",
    "                         for evt in range(sig.n_events)])\n",
    "n_signal_hits = np.array(n_signal_hits)\n",
    "good_n_hits = np.where(n_signal_hits >= 30)[0]\n",
    "print \"End Events: {}\".format(sig.n_events)"
   ]
  },
  {
   "cell_type": "markdown",
   "metadata": {},
   "source": [
    "### Apply the cuts"
   ]
  },
  {
   "cell_type": "code",
   "execution_count": 53,
   "metadata": {
    "collapsed": false
   },
   "outputs": [
    {
     "name": "stdout",
     "output_type": "stream",
     "text": [
      "Start Events: 79587\n",
      "Removed due to CTH Trigger 64370\n",
      "Removed due to Layer Cut 37524\n",
      "Removed due to N Hits Cut 54997\n",
      "After All Cuts 9733\n"
     ]
    }
   ],
   "source": [
    "# Apply quality and CTH cuts\n",
    "print \"Start Events: {}\".format(sig.n_events)\n",
    "passed_events = np.arange(sig.n_events)\n",
    "\n",
    "if use_cth_cut:\n",
    "    passed_events = np.intersect1d(passed_events, trigger_events)\n",
    "    print \"Removed due to CTH Trigger {}\".format(sig.n_events - len(trigger_events))\n",
    "if layer_cut:\n",
    "    passed_events = np.intersect1d(passed_events, good_max_layer)\n",
    "    print \"Removed due to Layer Cut {}\".format(sig.n_events - len(good_max_layer))\n",
    "if n_hits_cut:\n",
    "    passed_events = np.intersect1d(passed_events, good_n_hits)\n",
    "    print \"Removed due to N Hits Cut {}\".format(sig.n_events - len(good_n_hits))\n",
    "\n",
    "sig.trim_events(passed_events)\n",
    "print \"After All Cuts {}\".format(sig.n_events)\n"
   ]
  },
  {
   "cell_type": "code",
   "execution_count": 54,
   "metadata": {
    "collapsed": false,
    "scrolled": false
   },
   "outputs": [
    {
     "data": {
      "image/png": "[encoded data removed]",
      "text/plain": [
       "<matplotlib.figure.Figure at 0x9774610>"
      ]
     },
     "metadata": {},
     "output_type": "display_data"
    }
   ],
   "source": [
    "plt.hist(sig.cydet.data[sig.cydet.time_name], bins=100)\n",
    "show()"
   ]
  },
  {
   "cell_type": "markdown",
   "metadata": {},
   "source": [
    "## Prepare the data"
   ]
  },
  {
   "cell_type": "code",
   "execution_count": 55,
   "metadata": {
    "collapsed": false
   },
   "outputs": [],
   "source": [
    "import pandas\n",
    "from tracking import HoughSpace\n",
    "from scipy import sparse\n",
    "from sklearn.metrics import roc_auc_score, roc_curve"
   ]
  },
  {
   "cell_type": "code",
   "execution_count": 56,
   "metadata": {
    "collapsed": false
   },
   "outputs": [],
   "source": [
    "hits_cydet = CyDetHits('../data/151208_SimChen_noise.root', signal_coding=[1], branches=\"t\")\n",
    "hits_cth = CTHHits('../data/151208_SimChen_noise.root', signal_coding=[1])\n",
    "hits = CDCHits(hits_cydet, hits_cth)"
   ]
  },
  {
   "cell_type": "code",
   "execution_count": 57,
   "metadata": {
    "collapsed": false
   },
   "outputs": [
    {
     "data": {
      "text/plain": [
       "['CdcCell_t',\n",
       " 'CdcCell_hittype',\n",
       " 'CdcCell_nHits',\n",
       " 'CdcCell_hits_index',\n",
       " 'CdcCell_event_index',\n",
       " 'CdcCell_vol_id',\n",
       " 'CdcCell_edep',\n",
       " 'CdcCell_tstart',\n",
       " 'CdcCell_mt']"
      ]
     },
     "execution_count": 57,
     "metadata": {},
     "output_type": "execute_result"
    }
   ],
   "source": [
    "hits_cydet.all_branches"
   ]
  },
  {
   "cell_type": "code",
   "execution_count": 58,
   "metadata": {
    "collapsed": false
   },
   "outputs": [
    {
     "data": {
      "image/png": "[encoded data removed]",
      "text/plain": [
       "<matplotlib.figure.Figure at 0x8d0c6d90>"
      ]
     },
     "metadata": {},
     "output_type": "display_data"
    }
   ],
   "source": [
    "this_feat = \"CdcCell_tstart\"\n",
    "plt.ylabel(\"Number of hits per bin\")\n",
    "plt.xlabel(this_feat)\n",
    "plt.hist(hits_cydet.get_background_hits()[this_feat], bins=100)\n",
    "plt.show()"
   ]
  },
  {
   "cell_type": "code",
   "execution_count": 59,
   "metadata": {
    "collapsed": false
   },
   "outputs": [
    {
     "data": {
      "image/png": "[encoded data removed]",
      "text/plain": [
       "<matplotlib.figure.Figure at 0x127730f90>"
      ]
     },
     "metadata": {},
     "output_type": "display_data"
    }
   ],
   "source": [
    "this_feat = \"M_t\"\n",
    "plt.ylabel(\"Number of hits per bin\")\n",
    "plt.xlabel(this_feat)\n",
    "plt.hist(hits_cth.get_background_hits()[this_feat], bins=100)\n",
    "plt.show()"
   ]
  },
  {
   "cell_type": "code",
   "execution_count": 60,
   "metadata": {
    "collapsed": false
   },
   "outputs": [
    {
     "name": "stdout",
     "output_type": "stream",
     "text": [
      "1169.99997062\n"
     ]
    }
   ],
   "source": [
    "print max((hits_cth.get_background_hits()[this_feat]))"
   ]
  },
  {
   "cell_type": "code",
   "execution_count": 61,
   "metadata": {
    "collapsed": true
   },
   "outputs": [],
   "source": [
    "n_events = min(sig.n_events, hits.n_events)\n",
    "    \n",
    "hits.trim_events(range(n_events))\n",
    "sig.trim_events(range(n_events))"
   ]
  },
  {
   "cell_type": "code",
   "execution_count": 62,
   "metadata": {
    "collapsed": false
   },
   "outputs": [
    {
     "name": "stdout",
     "output_type": "stream",
     "text": [
      "CTH Hits: 9816474\n",
      "CyDet Hits: 2181683\n",
      "CTH Hits: 9816474\n",
      "CyDet Hits: 2181683\n"
     ]
    }
   ],
   "source": [
    "if timing_cut:\n",
    "    # Apply the timing filter\n",
    "    print \"CTH Hits: {}\".format(hits.cth.n_hits)\n",
    "    print \"CyDet Hits: {}\".format(hits.cydet.n_hits)\n",
    "    hits.cth.trim_hits(variable=hits.cth.time_name, less_than=1170, greater_than=700)\n",
    "    hits.cydet.trim_hits(variable=hits.cydet.time_name, less_than=1620, greater_than=700)\n",
    "    print \"CTH Hits: {}\".format(hits.cth.n_hits)\n",
    "    print \"CyDet Hits: {}\".format(hits.cydet.n_hits)"
   ]
  },
  {
   "cell_type": "markdown",
   "metadata": {},
   "source": [
    "### Set the trigger time"
   ]
  },
  {
   "cell_type": "code",
   "execution_count": 63,
   "metadata": {
    "collapsed": false
   },
   "outputs": [],
   "source": [
    "# Set the trigger times\n",
    "trig_time_evt = []\n",
    "for evt in range(sig.n_events):\n",
    "    sig_hits = sig.cth.get_signal_hits(evt)\n",
    "    if len(sig_hits) != 0:\n",
    "        this_trig_time = sig_hits[sig.cth.time_name][0]\n",
    "        trig_time_evt.append(this_trig_time)\n",
    "        sig.cydet.data[sig.cydet.trig_name][sig.cydet.event_to_hits[evt]] = this_trig_time\n",
    "        hits.cydet.data[hits.cydet.trig_name][hits.cydet.event_to_hits[evt]] = this_trig_time"
   ]
  },
  {
   "cell_type": "code",
   "execution_count": 64,
   "metadata": {
    "collapsed": false
   },
   "outputs": [
    {
     "data": {
      "text/plain": [
       "(array([ 730.,  700.,  645.,  638.,  611.,  536.,  510.,  513.,  461.,  406.]),\n",
       " array([  700.01885959,   747.01603201,   794.01320444,   841.01037686,\n",
       "          888.00754929,   935.00472171,   982.00189414,  1028.99906657,\n",
       "         1075.99623899,  1122.99341142,  1169.99058384]),\n",
       " <a list of 10 Patch objects>)"
      ]
     },
     "execution_count": 64,
     "metadata": {},
     "output_type": "execute_result"
    },
    {
     "data": {
      "image/png": "[encoded data removed]",
      "text/plain": [
       "<matplotlib.figure.Figure at 0x4f57590>"
      ]
     },
     "metadata": {},
     "output_type": "display_data"
    }
   ],
   "source": [
    "plt.hist(trig_time_evt)"
   ]
  },
  {
   "cell_type": "code",
   "execution_count": 65,
   "metadata": {
    "collapsed": false
   },
   "outputs": [],
   "source": [
    "right_neighs = numpy.array([hits.cydet.geom.shift_wire(wire, 1) for wire in range(hits.cydet.geom.n_points)])\n",
    "left_neighs = numpy.array([hits.cydet.geom.shift_wire(wire, -1) for wire in range(hits.cydet.geom.n_points)])"
   ]
  },
  {
   "cell_type": "code",
   "execution_count": 66,
   "metadata": {
    "collapsed": true
   },
   "outputs": [],
   "source": [
    "from scipy.sparse import csr_matrix"
   ]
  },
  {
   "cell_type": "code",
   "execution_count": 67,
   "metadata": {
    "collapsed": false
   },
   "outputs": [],
   "source": [
    "# Energy deposits\n",
    "deposits = numpy.vstack(hits.cydet.get_energy_deposits(i) \\\n",
    "                        + sig.cydet.get_energy_deposits(i) \\\n",
    "                        for i in range(n_events))\n",
    "deposits *= 100 # to avoid small numbers for GBRT"
   ]
  },
  {
   "cell_type": "code",
   "execution_count": 68,
   "metadata": {
    "collapsed": true
   },
   "outputs": [],
   "source": [
    "# get hits on both\n",
    "# find when signal came sooner\n",
    "# subtract these from the backgroud mask"
   ]
  },
  {
   "cell_type": "code",
   "execution_count": 69,
   "metadata": {
    "collapsed": false
   },
   "outputs": [],
   "source": [
    "# Figure out coincidence\n",
    "sig_time =  numpy.vstack(sig.cydet.get_hit_time(i)  for i in range(n_events)) # + 700.\n",
    "hit_time =  numpy.vstack(hits.cydet.get_hit_time(i) for i in range(n_events))\n",
    "# Flatten at first\n",
    "sig_time = sig_time.flatten()\n",
    "hit_time = hit_time.flatten()\n",
    "# Find signal hits\n",
    "sig_mask = np.where(sig_time != 0)[0]\n",
    "# Find background hits\n",
    "hit_mask = np.where(hit_time != 0)[0]\n",
    "# Find coincidence\n",
    "both = np.where( (sig_time != 0) & \\\n",
    "                 (hit_time != 0) )[0]\n",
    "# Find when coincidence meant signal was sooner\n",
    "sig_sooner = np.where(sig_time[both] < hit_time[both])[0]\n",
    "# Take these away from background mask\n",
    "hit_mask = np.setdiff1d(hit_mask, sig_sooner)"
   ]
  },
  {
   "cell_type": "code",
   "execution_count": 70,
   "metadata": {
    "collapsed": false
   },
   "outputs": [
    {
     "name": "stdout",
     "output_type": "stream",
     "text": [
      "[5381.171875]\n",
      "[5381.171875]\n"
     ]
    }
   ],
   "source": [
    "print memory_usage()\n",
    "del sig_time, hit_time\n",
    "print memory_usage()"
   ]
  },
  {
   "cell_type": "code",
   "execution_count": 71,
   "metadata": {
    "collapsed": false
   },
   "outputs": [],
   "source": [
    "# Time after triggering that signal waveforms starts\n",
    "sig_rel_time =  numpy.vstack(sig.cydet.get_relative_time(i)  for i in range(n_events))\n",
    "hit_rel_time =  numpy.vstack(hits.cydet.get_relative_time(i) for i in range(n_events))\n",
    "# Flatten at first\n",
    "sig_rel_time = sig_rel_time.flatten()\n",
    "hit_rel_time = hit_rel_time.flatten()\n",
    "# Define the overall relative time\n",
    "rel_time = hit_rel_time\n",
    "# Factor in signal (and coincidence)\n",
    "rel_time[sig_mask] = sig_rel_time[sig_mask]\n",
    "# Reshape bacl\n",
    "rel_time = rel_time.reshape((n_events,-1))"
   ]
  },
  {
   "cell_type": "code",
   "execution_count": 72,
   "metadata": {
    "collapsed": false
   },
   "outputs": [
    {
     "name": "stdout",
     "output_type": "stream",
     "text": [
      "[5381.171875]\n",
      "[5381.171875]\n"
     ]
    }
   ],
   "source": [
    "print memory_usage()\n",
    "del sig_rel_time, hit_rel_time\n",
    "print memory_usage()"
   ]
  },
  {
   "cell_type": "code",
   "execution_count": 73,
   "metadata": {
    "collapsed": false
   },
   "outputs": [],
   "source": [
    "# Get truth data about track momentum\n",
    "entry_z = np.zeros(n_events)\n",
    "entry_px = np.zeros(n_events)\n",
    "entry_py = np.zeros(n_events)\n",
    "entry_pz = np.zeros(n_events)\n",
    "\n",
    "for i in range(n_events):\n",
    "    these_sig = sig.cydet.get_signal_hits(i)\n",
    "    first_hit = np.argmin(these_sig[\"CdcCell_t\"])\n",
    "    entry_z[i] = these_sig[\"CdcCell_z\"][first_hit]\n",
    "    entry_px[i] = these_sig[\"CdcCell_px\"][first_hit]\n",
    "    entry_py[i] = these_sig[\"CdcCell_py\"][first_hit]\n",
    "    entry_pz[i] = these_sig[\"CdcCell_pz\"][first_hit]"
   ]
  },
  {
   "cell_type": "code",
   "execution_count": 74,
   "metadata": {
    "collapsed": false
   },
   "outputs": [
    {
     "data": {
      "image/png": "[encoded data removed]",
      "text/plain": [
       "<matplotlib.figure.Figure at 0x457ffc90>"
      ]
     },
     "metadata": {},
     "output_type": "display_data"
    }
   ],
   "source": [
    "figsize(5,2.5)\n",
    "all_sig = sig.cydet.get_signal_hits()\n",
    "plt.hist(all_sig[\"CdcCell_z\"], bins=50)\n",
    "plt.xlabel(\"CdcCell_z\")\n",
    "plt.ylabel(\"N_hits\")\n",
    "plt.show()"
   ]
  },
  {
   "cell_type": "code",
   "execution_count": 75,
   "metadata": {
    "collapsed": false
   },
   "outputs": [
    {
     "data": {
      "image/png": "[encoded data removed]",
      "text/plain": [
       "<matplotlib.figure.Figure at 0x9687cd0>"
      ]
     },
     "metadata": {},
     "output_type": "display_data"
    },
    {
     "name": "stdout",
     "output_type": "stream",
     "text": [
      "436222\n",
      "2180195\n"
     ]
    }
   ],
   "source": [
    "figsize(10,10)\n",
    "plt.hist(rel_time.flatten()[sig_mask], bins=100,  color='blue', alpha=0.5, normed=True)\n",
    "plt.hist(rel_time.flatten()[hit_mask], bins=100,  color='red', alpha=0.5, normed=True)\n",
    "show()\n",
    "print len((rel_time.flatten()[sig_mask]))\n",
    "print len((rel_time.flatten()[hit_mask]))"
   ]
  },
  {
   "cell_type": "code",
   "execution_count": 76,
   "metadata": {
    "collapsed": false
   },
   "outputs": [],
   "source": [
    "# Truth Values\n",
    "sig_labels = numpy.vstack(sig.cydet.get_hit_types(i) for i in range(n_events))\n",
    "hit_labels = numpy.vstack(hits.cydet.get_hit_types(i) for i in range(n_events)) \n",
    "# Flatten at first\n",
    "sig_labels = sig_labels.flatten()\n",
    "hit_labels = hit_labels.flatten()\n",
    "# Define the overall relative time\n",
    "labels =  hit_labels\n",
    "# Factor in signal (and coincidence)\n",
    "labels[sig_mask] = sig_labels[sig_mask]\n",
    "# Reshape bacl\n",
    "labels = labels.reshape((n_events,-1))"
   ]
  },
  {
   "cell_type": "code",
   "execution_count": 77,
   "metadata": {
    "collapsed": false
   },
   "outputs": [],
   "source": [
    "# Layer ID of hit wires\n",
    "layer_id = numpy.vstack(geom.point_rhos for i in range(n_events))"
   ]
  },
  {
   "cell_type": "code",
   "execution_count": 78,
   "metadata": {
    "collapsed": false
   },
   "outputs": [
    {
     "data": {
      "text/plain": [
       "((5750, 4482), (5750, 4482))"
      ]
     },
     "execution_count": 78,
     "metadata": {},
     "output_type": "execute_result"
    }
   ],
   "source": [
    "labels.shape, deposits.shape"
   ]
  },
  {
   "cell_type": "code",
   "execution_count": 79,
   "metadata": {
    "collapsed": true
   },
   "outputs": [],
   "source": [
    "def flatten_data(data, keys, samples, n_features):\n",
    "    return pandas.DataFrame(data=data[samples].reshape(-1, n_feats), columns=keys)\n",
    "\n",
    "def mask(data, pol=None):\n",
    "    if pol==None:\n",
    "        return data[data['labels'] != 0]\n",
    "    if pol==0:\n",
    "        return data[(data['labels'] != 0) & (data['Polarity'] == 0)]\n",
    "    if pol==1:\n",
    "        return data[(data['labels'] != 0) & (data['Polarity'] != 0)]\n",
    "\n",
    "def predict_classifier(classifier, data_samp):\n",
    "    \"\"\"\n",
    "    Return predictions where no hit has zero response by definition.  Return both\n",
    "    flat predictions, and event sorted predicitions\n",
    "    \"\"\"\n",
    "    # Get the predictions\n",
    "    pred_evt = classifier.predict_proba(data_samp)[:,1]\n",
    "\n",
    "    # Check which wires have hits, which ones do not\n",
    "    not_hit = (data_samp['labels'] == 0).values\n",
    "    has_hit = (data_samp['labels'] != 0).values\n",
    "\n",
    "    # Define hit-less wires as definitely not being signal\n",
    "    pred_evt[not_hit] = 0\n",
    "\n",
    "    # Slim down the result to a copy with only hits\n",
    "    pred = pred_evt[has_hit]\n",
    "    # Reshape the result to be the event shape, for the hoguh transform\n",
    "    pred_evt = pred_evt.reshape(-1, geom.n_points)\n",
    "    \n",
    "    return pred, pred_evt"
   ]
  },
  {
   "cell_type": "code",
   "execution_count": 80,
   "metadata": {
    "collapsed": false
   },
   "outputs": [],
   "source": [
    "## Look up table to map from events to hits\n",
    "event_to_hit_look = np.arange(n_events*geom.n_points).reshape(n_events, -1)"
   ]
  },
  {
   "cell_type": "code",
   "execution_count": 81,
   "metadata": {
    "collapsed": true
   },
   "outputs": [],
   "source": [
    "from sklearn.cross_validation import train_test_split\n",
    "rest, sample_3 = train_test_split(range(len(labels)), train_size=0.6, test_size=0.3)\n",
    "sample_1, sample_2 = train_test_split(rest, train_size=0.5, test_size=0.5)"
   ]
  },
  {
   "cell_type": "code",
   "execution_count": 82,
   "metadata": {
    "collapsed": false
   },
   "outputs": [],
   "source": [
    "data_1, data_2, data_3 = pandas.DataFrame(), pandas.DataFrame(), pandas.DataFrame()\n",
    "\n",
    "for data_samp, samp in zip([data_1, data_2, data_3],\\\n",
    "                           [sample_1, sample_2, sample_3]):\n",
    "    # Wire features\n",
    "    data_samp['deposit'] = (deposits * 100)[samp].flatten()\n",
    "    data_samp['rel_time'] = rel_time[samp].flatten()\n",
    "    data_samp['layer_id'] = layer_id[samp].flatten()\n",
    "\n",
    "    # LR-Neighbour Features\n",
    "    data_samp['r_deposit'] = (deposits * 100)[:, right_neighs][samp].flatten()\n",
    "    data_samp['r_rel_time'] = rel_time[:, right_neighs][samp].flatten()\n",
    "    data_samp['l_deposit'] = (deposits * 100)[:, left_neighs][samp].flatten()\n",
    "    data_samp['l_rel_time'] = rel_time[:, left_neighs][samp].flatten()\n",
    "\n",
    "    # Truth values\n",
    "    data_samp['labels'] = labels[samp].flatten()\n",
    "    data_samp['is_signal'] =  numpy.take([0, 1, 0], labels.astype(int))[samp].flatten()"
   ]
  },
  {
   "cell_type": "code",
   "execution_count": 83,
   "metadata": {
    "collapsed": false
   },
   "outputs": [
    {
     "name": "stdout",
     "output_type": "stream",
     "text": [
      "[6030.30078125]\n",
      "[6030.30078125]\n"
     ]
    }
   ],
   "source": [
    "print memory_usage()\n",
    "del deposits, rel_time, layer_id, labels\n",
    "print memory_usage()"
   ]
  },
  {
   "cell_type": "code",
   "execution_count": 84,
   "metadata": {
    "collapsed": false
   },
   "outputs": [
    {
     "name": "stdout",
     "output_type": "stream",
     "text": [
      "[6030.30078125]\n"
     ]
    },
    {
     "data": {
      "text/plain": [
       "[5393.703125]"
      ]
     },
     "execution_count": 84,
     "metadata": {},
     "output_type": "execute_result"
    }
   ],
   "source": [
    "print memory_usage()\n",
    "del sig, hits, sig_cydet, sig_cth, hits_cydet, hits_cth\n",
    "memory_usage()"
   ]
  },
  {
   "cell_type": "code",
   "execution_count": 85,
   "metadata": {
    "collapsed": false
   },
   "outputs": [
    {
     "name": "stdout",
     "output_type": "stream",
     "text": [
      "['deposit', 'rel_time', 'layer_id', 'r_deposit', 'r_rel_time', 'l_deposit', 'l_rel_time', 'labels', 'is_signal']\n"
     ]
    }
   ],
   "source": [
    "print list(data_1.columns.astype(str))"
   ]
  },
  {
   "cell_type": "code",
   "execution_count": 86,
   "metadata": {
    "collapsed": false
   },
   "outputs": [],
   "source": [
    "# Define Data\n",
    "train_features = list(data_1.columns[:-2])\n",
    "n_feats = len(data_1.columns)\n",
    "feature_labels = list(data_1.columns)"
   ]
  },
  {
   "cell_type": "code",
   "execution_count": 87,
   "metadata": {
    "collapsed": false
   },
   "outputs": [],
   "source": [
    "#data_1, data_2, data_3 = [flatten_data(numpy.dstack(features.values()),\\\n",
    "#                                       feature_labels, samp, n_feats)\\\n",
    "#                         for samp in [sample_1, sample_2, sample_3]]"
   ]
  },
  {
   "cell_type": "code",
   "execution_count": 88,
   "metadata": {
    "collapsed": false
   },
   "outputs": [],
   "source": [
    "entry_z_1, entry_z_2, entry_z_3 = [entry_z[samp] for samp in [sample_1, sample_2, sample_3]]\n",
    "entry_px_1, entry_px_2, entry_px_3 = [entry_px[samp] for samp in [sample_1, sample_2, sample_3]]\n",
    "entry_py_1, entry_py_2, entry_py_3 = [entry_py[samp] for samp in [sample_1, sample_2, sample_3]]\n",
    "entry_pz_1, entry_pz_2, entry_pz_3 = [entry_pz[samp] for samp in [sample_1, sample_2, sample_3]]"
   ]
  },
  {
   "cell_type": "code",
   "execution_count": 89,
   "metadata": {
    "collapsed": true
   },
   "outputs": [],
   "source": [
    "from rep.metaml.factory import ClassifiersFactory\n",
    "from rep.estimators import SklearnClassifier, TMVAClassifier\n",
    "from sklearn.ensemble import GradientBoostingClassifier\n",
    "from rep.report.metrics import RocAuc"
   ]
  },
  {
   "cell_type": "code",
   "execution_count": null,
   "metadata": {
    "collapsed": true
   },
   "outputs": [],
   "source": [
    "factory = ClassifiersFactory()\n",
    "\n",
    "# Define GBDT over neighbour-level features\n",
    "neigh_gbdt = SklearnClassifier(GradientBoostingClassifier(n_estimators=100), \n",
    "                                    features=train_features)\n",
    "# Add the GBDT\n",
    "factory.add_classifier('Local and Neighbour Features', neigh_gbdt)"
   ]
  },
  {
   "cell_type": "code",
   "execution_count": null,
   "metadata": {
    "collapsed": false
   },
   "outputs": [],
   "source": [
    "# Train the classifier\n",
    "factory.fit(mask(data_1), mask(data_1)['is_signal'])\n",
    "pass"
   ]
  },
  {
   "cell_type": "code",
   "execution_count": null,
   "metadata": {
    "collapsed": false
   },
   "outputs": [],
   "source": [
    "memory_usage()\n",
    "del data_1\n",
    "memory_usage()"
   ]
  },
  {
   "cell_type": "code",
   "execution_count": null,
   "metadata": {
    "collapsed": false
   },
   "outputs": [],
   "source": [
    "# Print these predictions\n",
    "pred_2, pred_evt_2 = predict_classifier(neigh_gbdt, data_2)"
   ]
  },
  {
   "cell_type": "code",
   "execution_count": null,
   "metadata": {
    "collapsed": false
   },
   "outputs": [],
   "source": [
    "# Define which wires we want to correct as hits which were missclassified \n",
    "problem_weights_2 = (mask(data_2)['labels'] != 0) * abs(mask(data_2)['is_signal'] - pred_2) ** 2"
   ]
  },
  {
   "cell_type": "code",
   "execution_count": null,
   "metadata": {
    "collapsed": false
   },
   "outputs": [],
   "source": [
    "print roc_auc_score(mask(data_2)['is_signal'], pred_2)\n",
    "print roc_auc_score(mask(data_2)['is_signal'], pred_2, sample_weight=problem_weights_2)"
   ]
  },
  {
   "cell_type": "code",
   "execution_count": null,
   "metadata": {
    "collapsed": false
   },
   "outputs": [],
   "source": [
    "from tracking import HoughSpace\n",
    "\n",
    "default = [[31.5, 34, 34.5, 2]]\n",
    "submatrices = []\n",
    "\n",
    "# Define even and odd layer wires\n",
    "even_wires = geom.point_pol != 1\n",
    "odd_wires = geom.point_pol == 1\n",
    "\n",
    "# TODO test with several radii\n",
    "for rmin, rmean, rmax, rsgma in default: #[[30, 33, 35], [26, 29, 32]]:\n",
    "    # Try with default values\n",
    "    hough = HoughSpace(geom, sig_rho_min=rmin, sig_rho=rmean, sig_rho_max=rmax,\\\n",
    "                       sig_rho_sgma=rsgma, rho_bins=20, arc_bins=81)\n",
    "    corresp = hough.correspondence\n",
    "    submatrices.append(corresp)\n",
    "\n",
    "# Stack all submatricies horizontally\n",
    "new_correspondence = sparse.hstack(submatrices)"
   ]
  },
  {
   "cell_type": "code",
   "execution_count": null,
   "metadata": {
    "collapsed": false
   },
   "outputs": [],
   "source": [
    "from tracking import HoughTransformer, HoughShifter\n",
    "# Fit and transform the second data sample\n",
    "hough_transformer = HoughTransformer(new_correspondence, \\\n",
    "                                     hough.norm_track_neighs,\\\n",
    "                                     pred_evt_2, alpha_max=2., alpha_rw=2.)"
   ]
  },
  {
   "cell_type": "code",
   "execution_count": null,
   "metadata": {
    "collapsed": true
   },
   "outputs": [],
   "source": [
    "# Predict for third sample\n",
    "pred_3, pred_evt_3 = predict_classifier(neigh_gbdt, data_3)\n",
    "\n",
    "# Get the hough results\n",
    "hough_result_2, hough_image_2 = hough_transformer.transform(pred_evt_2)\n",
    "hough_result_3, hough_image_3 = hough_transformer.transform(pred_evt_3)"
   ]
  },
  {
   "cell_type": "code",
   "execution_count": null,
   "metadata": {
    "collapsed": true
   },
   "outputs": [],
   "source": [
    "# Do the first transform to get the hough space that needs to be aligned\n",
    "aligner = HoughTransformer(new_correspondence, hough.norm_track_neighs, pred_evt_2, alpha_rw=2., alpha_max=2.)\n",
    "_ , to_align_2 = aligner.transform(pred_evt_2)\n",
    "_ , to_align_3 = aligner.transform(pred_evt_3)"
   ]
  },
  {
   "cell_type": "code",
   "execution_count": null,
   "metadata": {
    "collapsed": false
   },
   "outputs": [],
   "source": [
    "# Shift this hough space to get the even and odd layers agreeing\n",
    "hough_shifter_2 = HoughShifter(hough, 10, -10)\n",
    "hough_shifter_3 = HoughShifter(hough, 10, -10)\n",
    "\n",
    "# Get the images\n",
    "hough_image_even_3 = to_align_3[:,:hough.track.n_points]\n",
    "hough_image_odd_3 = to_align_3[:,hough.track.n_points:]\n",
    "# Fit the shifter\n",
    "ideal_rotate_3, integral_even_3, integral_odd_3 =\\\n",
    "    hough_shifter_3.fit_shift(hough_image_even_3, hough_image_odd_3)\n",
    "# Shift the result\n",
    "shift_pred_evt_3 = hough_shifter_3.shift_result(pred_evt_3)\n",
    "shift_labels_3 = hough_shifter_3.shift_result(data_3['labels'].reshape(-1, geom.n_points))\n",
    "\n",
    "# Get the images\n",
    "hough_image_even_2 = to_align_2[:,:hough.track.n_points]\n",
    "hough_image_odd_2 = to_align_2[:,hough.track.n_points:]\n",
    "# Fit the shifter\n",
    "ideal_rotate_2, integral_even_2, integral_odd_2 =\\\n",
    "    hough_shifter_2.fit_shift(hough_image_even_2, hough_image_odd_2)\n",
    "# Shift the result\n",
    "shift_pred_evt_2 = hough_shifter_2.shift_result(pred_evt_2)"
   ]
  },
  {
   "cell_type": "code",
   "execution_count": null,
   "metadata": {
    "collapsed": true
   },
   "outputs": [],
   "source": [
    "# Hough Transform on the shifted results\n",
    "shifted_hough_result_3, shifted_hough_image_3 = hough_transformer.transform(shift_pred_evt_3)\n",
    "shifted_hough_result_2, shifted_hough_image_2 = hough_transformer.transform(shift_pred_evt_2)\n",
    "\n",
    "# Unshift the results to add them as a feature\n",
    "unshifted_hough_result_3 = hough_shifter_3.shift_result(shifted_hough_result_3, backward=True)\n",
    "unshifted_hough_result_2 = hough_shifter_2.shift_result(shifted_hough_result_2, backward=True)"
   ]
  },
  {
   "cell_type": "code",
   "execution_count": null,
   "metadata": {
    "collapsed": true
   },
   "outputs": [],
   "source": [
    "# Add these as features\n",
    "data_2['Hough'] = hough_result_2.flatten()\n",
    "data_2['Shift_Hough'] = unshifted_hough_result_2.flatten()\n",
    "\n",
    "data_3['Hough'] = hough_result_3.flatten()\n",
    "data_3['Shift_Hough'] = unshifted_hough_result_3.flatten()"
   ]
  },
  {
   "cell_type": "code",
   "execution_count": null,
   "metadata": {
    "collapsed": true
   },
   "outputs": [],
   "source": [
    "# Add this to the feature list\n",
    "train_features_full = train_features + ['Hough']\n",
    "train_features_shift = train_features + ['Shift_Hough']\n",
    "\n",
    "# Define the new classifier\n",
    "hough_gbdt = SklearnClassifier(GradientBoostingClassifier(n_estimators=100), \n",
    "                               features=train_features_full) \n",
    "\n",
    "s_hough_gbdt = SklearnClassifier(GradientBoostingClassifier(n_estimators=100), \n",
    "                               features=train_features_shift) \n",
    "\n",
    "# Define GBDT over only energy deposit to compare\n",
    "dep_gbdt = SklearnClassifier(GradientBoostingClassifier(n_estimators=200), \n",
    "                               features=['deposit'])\n",
    "\n",
    "# Ensure neigh-level GBDT has enough trees to compare properly\n",
    "neigh_gbdt.set_params(n_estimators=200)\n",
    "\n",
    "# Add the classifiers\n",
    "factory.add_classifier('Shift Hough, Local and Neighbour Features', s_hough_gbdt)\n",
    "factory.add_classifier('Hough, Local and Neighbour Features', hough_gbdt)\n",
    "factory.add_classifier('Energy Deposition', dep_gbdt)"
   ]
  },
  {
   "cell_type": "code",
   "execution_count": null,
   "metadata": {
    "collapsed": false
   },
   "outputs": [],
   "source": [
    "# Train the classifier\n",
    "factory.fit(mask(data_2), mask(data_2)['is_signal'])\n",
    "pass"
   ]
  },
  {
   "cell_type": "code",
   "execution_count": null,
   "metadata": {
    "collapsed": false
   },
   "outputs": [],
   "source": [
    "# Test it on the last set of data\n",
    "pred_final_diag_3 = factory.test_on(mask(data_3), mask(data_3)['is_signal'])\n",
    "pred_final_3, pred_final_evt_3 = predict_classifier(hough_gbdt, data_3)\n",
    "pred_final_shift_3, pred_final_shift_evt_3 = predict_classifier(s_hough_gbdt, data_3)\n",
    "pred_3, pred_evt_3 = predict_classifier(neigh_gbdt, data_3)"
   ]
  },
  {
   "cell_type": "code",
   "execution_count": null,
   "metadata": {
    "collapsed": false
   },
   "outputs": [],
   "source": [
    "# TODO clean this up\n",
    "from collections import OrderedDict\n",
    "\n",
    "figsize(6.4,6.4) \n",
    "feat_label_dict = OrderedDict([\n",
    "            ('l_rel_time' , \"Left Timing\"),  \n",
    "            ('r_rel_time' , \"Right Timing\"),\n",
    "            (\"layer_id\" , \"R Distance\"), \n",
    "            ('r_deposit' , 'Right Energy'), \n",
    "            ('l_deposit' , 'Left Energy'), \n",
    "            ('rel_time' , \"Timing\"),\n",
    "            ('deposit' , 'Energy'), \n",
    "            ('Hough' , r\"Hough, $W_j''$\"),\n",
    "            ('Shift_Hough' , r\"Shift Hough, $W_j'''$\"),\n",
    "        ])\n",
    "\n",
    "def plot_feature_importance(rep_classifier, feat_label_dict):\n",
    "    feat_import = rep_classifier.get_feature_importances()\n",
    "    feat_import = feat_import.sort(\"effect\", ascending=False)\n",
    "    ax = plt.subplot(111)\n",
    "    ax.bar( np.arange(len(feat_import.values)), feat_import.values,zorder=10)\n",
    "    ax.set_xticks(np.arange(len(feat_import.values))+0.5)\n",
    "    ax.minorticks_on()\n",
    "    ax.set_ylabel(\"Normalized Relative Usage\")\n",
    "    ax.set_title(\"Feature Importance\")\n",
    "    ax.autoscale()\n",
    "    ax.grid(b=True, which='major', axis='y' ,color='grey', linestyle='--')\n",
    "    ax.grid(b=True, which='minor', axis='y' , color='grey', linestyle=':')\n",
    "    ordered_labels = OrderedDict((key, feat_label_dict[key]) for key in feat_import.index.values)\n",
    "    ax.set_xticklabels(ordered_labels.values(),  rotation='vertical')\n",
    "    ax.set_yticklabels([\"{:.0f}%\".format(tick*100) for tick in ax.get_yticks()])\n",
    "    return ax\n",
    "\n",
    "def plot_feature_correlations(rep_factory, feat_label_dict):\n",
    "    corr = pred_final_diag_3.features_correlation_matrix(features=train_features+[\"Hough\"],\n",
    "                                tick_labels=[feat_label_dict[key] for key in train_features_full])\n",
    "    corr.fontsize = 15\n",
    "    corr.cmap = \"RdBu\"\n",
    "    return corr.plot()"
   ]
  },
  {
   "cell_type": "code",
   "execution_count": null,
   "metadata": {
    "collapsed": false,
    "scrolled": false
   },
   "outputs": [],
   "source": [
    "hough_level = factory[\"Hough, Local and Neighbour Features\"]\n",
    "plot_feature_importance(hough_level, feat_label_dict)\n",
    "show()\n",
    "plot_feature_correlations(factory, feat_label_dict)\n",
    "show()\n",
    "\n",
    "feat_label_dict['Hough'] = r\"Shifted Hough, $W_j''$\"\n",
    "s_hough_level = factory[\"Shift Hough, Local and Neighbour Features\"]\n",
    "plot_feature_importance(s_hough_level, feat_label_dict)\n",
    "show()\n",
    "plot_feature_correlations(factory, feat_label_dict)\n",
    "show()\n"
   ]
  },
  {
   "cell_type": "code",
   "execution_count": null,
   "metadata": {
    "collapsed": false
   },
   "outputs": [],
   "source": [
    "plot_feature( (data_3['Hough'].values+0.1), data_3['labels'].values, \n",
    "             xlabel=\"Hough Output\", ylabel=\"Normalised Hit Count\", xlog=True,\n",
    "            title=\"Reweighted Inverse Hough Output Distribution\", nbins=20)"
   ]
  },
  {
   "cell_type": "code",
   "execution_count": null,
   "metadata": {
    "collapsed": false
   },
   "outputs": [],
   "source": [
    "plot_feature( (data_3['Shift_Hough'].values+0.1), data_3['labels'].values, \n",
    "             xlabel=\"Shifted Hough Output\", ylabel=\"Normalised Hit Count\", xlog=True,\n",
    "            title=\"Reweighted Inverse Hough Output Distribution\", nbins=20)"
   ]
  },
  {
   "cell_type": "code",
   "execution_count": null,
   "metadata": {
    "collapsed": false
   },
   "outputs": [],
   "source": [
    "print roc_auc_score(mask(data_3)['is_signal'], pred_final_3)\n",
    "print roc_auc_score(mask(data_3)['is_signal'], pred_final_shift_3)"
   ]
  },
  {
   "cell_type": "code",
   "execution_count": null,
   "metadata": {
    "collapsed": false
   },
   "outputs": [],
   "source": [
    "figsize(11,6) \n",
    "plot_rocs(mask(data_3)[\"is_signal\"], pred_final_diag_3.prediction, zoom=False)\n",
    "#plt.savefig(\"/home/elg112/COMET/Presentations_Papers/group_meetings/images/tmva_roc.png\", bbox_inches=\"tight\")\n",
    "show()\n",
    "plot_rocs(mask(data_3)[\"is_signal\"], pred_final_diag_3.prediction, zoom=True)\n",
    "#plt.savefig(\"/home/elg112/COMET/Presentations_Papers/group_meetings/images/tmva_roc_zoom.png\", bbox_inches=\"tight\")\n",
    "show()"
   ]
  },
  {
   "cell_type": "code",
   "execution_count": null,
   "metadata": {
    "collapsed": false
   },
   "outputs": [],
   "source": [
    "figsize(15,10)\n",
    "plot_set_font(size=20)\n",
    "plot_feature( pred_3, mask(data_3)['labels'].values, \n",
    "             xlabel=\"Track Level GBDT Output\", ylabel=\"Normalised Hit Count\", \n",
    "            title=\"Track Level GBDT Output Distribution\", nbins=20)\n",
    "show()\n",
    "plot_feature( pred_final_3, mask(data_3)['labels'].values, \n",
    "             xlabel=\"Track Level GBDT Output\", ylabel=\"Normalised Hit Count\",\n",
    "            title=\"Track Level GBDT Output Distribution\", nbins=20)\n",
    "show()\n",
    "plot_feature( pred_final_shift_3, mask(data_3)['labels'].values, \n",
    "             xlabel=\"Track Level GBDT Output\", ylabel=\"Normalised Hit Count\",\n",
    "            title=\"Track Level GBDT Output Distribution\", nbins=20)\n",
    "show()"
   ]
  },
  {
   "cell_type": "code",
   "execution_count": null,
   "metadata": {
    "collapsed": false
   },
   "outputs": [],
   "source": [
    "problem_weights_3 = (mask(data_3)['labels'] != 0) * abs(mask(data_3)['is_signal'] - pred_3) ** 2\n",
    "print roc_auc_score(mask(data_3)['is_signal'], pred_3)\n",
    "print roc_auc_score(mask(data_3)['is_signal'], pred_3, sample_weight=problem_weights_3)"
   ]
  },
  {
   "cell_type": "code",
   "execution_count": null,
   "metadata": {
    "collapsed": false
   },
   "outputs": [],
   "source": [
    "problem_weights_3 = (mask(data_3)['labels'] != 0) * abs(mask(data_3)['is_signal'] - pred_final_shift_3) ** 2\n",
    "print roc_auc_score(mask(data_3)['is_signal'], pred_final_shift_3)\n",
    "print roc_auc_score(mask(data_3)['is_signal'], pred_final_shift_3, sample_weight=problem_weights_3)"
   ]
  },
  {
   "cell_type": "code",
   "execution_count": null,
   "metadata": {
    "collapsed": true
   },
   "outputs": [],
   "source": [
    "from sklearn import linear_model\n",
    "#print linear_model.LinearRegression__doc__\n",
    "#print linear_model.RANSACRegressor.__doc__"
   ]
  },
  {
   "cell_type": "code",
   "execution_count": null,
   "metadata": {
    "collapsed": true
   },
   "outputs": [],
   "source": [
    "# Get the actual circle parameters for the fit from the linearized parameters\n",
    "def get_circle(x_coeff, y_coeff, intercept):\n",
    "    return x_coeff/2, y_coeff/2, np.sqrt(4*intercept + x_coeff**2 + y_coeff**2)/2"
   ]
  },
  {
   "cell_type": "code",
   "execution_count": null,
   "metadata": {
    "collapsed": true
   },
   "outputs": [],
   "source": [
    "# Check that the fit returns a circle that passes through the production target\n",
    "def inside_target(model, X, y):\n",
    "    a, b, r = get_circle(model.coef_[0][0], model.coef_[0][1], model.intercept_)\n",
    "    return abs(np.sqrt(a**2 + b**2) - r) < 10"
   ]
  },
  {
   "cell_type": "code",
   "execution_count": null,
   "metadata": {
    "collapsed": true
   },
   "outputs": [],
   "source": [
    "# Geometric considerations for the fit\n",
    "wire_x, wire_y = geom.get_points_xs_and_ys()\n",
    "# Linearize the input problem\n",
    "wire_xy = np.vstack([wire_x, wire_y]).T\n",
    "wire_z  = np.square(wire_x) + np.square(wire_y)"
   ]
  },
  {
   "cell_type": "code",
   "execution_count": null,
   "metadata": {
    "collapsed": false
   },
   "outputs": [],
   "source": [
    "def ransac_fit(labels, preds, min_hits=13, plot=False, no_show=False):\n",
    "    # Initialze parameters\n",
    "    x1, y1, r1 = -1.*np.zeros(2), -1.*np.zeros(2), -1.*np.zeros(2)\n",
    "    x2, y2, r2 = -1.*np.zeros(2), -1.*np.zeros(2), -1.*np.zeros(2)\n",
    "    this_score = -1.*np.ones(wire_z.shape[0])\n",
    "    \n",
    "    # Get wires to fit\n",
    "    even_sig = np.logical_and(even_wires, preds)\n",
    "    odd_sig = np.logical_and(odd_wires, preds)\n",
    "    \n",
    "    # Plot the input to the fit\n",
    "    if plot:\n",
    "        plot_output(labels, geom, size=40*preds)\n",
    "        plot_add_outlines(labels, geom)\n",
    "\n",
    "    # Skip if either layer does not have enough hit points\n",
    "    # if (sum(even_sig) < min_hits) or (sum(odd_sig) < min_hits):\n",
    "    #     print \"Skipped\"\n",
    "    #    if plot:\n",
    "    #        show()\n",
    "    #    return\n",
    "\n",
    "    for pol, signal in enumerate([even_sig, odd_sig]):\n",
    "\n",
    "        # Get the points to fit\n",
    "        fit_x, fit_y = wire_x[signal], wire_y[signal]\n",
    "        fit_xy = np.vstack([fit_x,fit_y]).T\n",
    "        # Linearize the equation\n",
    "        fit_z = np.square(fit_x) + np.square(fit_y)\n",
    "\n",
    "        # Fit line using all data\n",
    "        model = linear_model.LinearRegression()\n",
    "        try:\n",
    "            model.fit(fit_xy, fit_z)\n",
    "        except ValueError:\n",
    "            print \"Skipped Normal\"\n",
    "            if plot:\n",
    "                show()\n",
    "            return None\n",
    "        \n",
    "        # Robustly fit linear model with RANSAC algorithm\n",
    "        model_ransac = linear_model.RANSACRegressor(linear_model.LinearRegression(),\n",
    "                                                   is_model_valid=inside_target,\n",
    "                                                   max_trials=1000)\n",
    "        try:\n",
    "            model_ransac.fit(fit_xy, fit_z)\n",
    "        except ValueError:\n",
    "            print \"Skipped RANSAC\"\n",
    "            if plot:\n",
    "                show()\n",
    "            return None\n",
    "        \n",
    "        # Give the unmasked values the inlier_mask_ values or logicial not\n",
    "        inlier_mask = np.zeros(geom.n_points, dtype=bool)\n",
    "        outlier_mask = np.zeros(geom.n_points, dtype=bool)\n",
    "        inlier_mask[signal] = model_ransac.inlier_mask_\n",
    "        outlier_mask[signal] = np.logical_not(model_ransac.inlier_mask_)\n",
    "        \n",
    "        # Plot the output\n",
    "        labels = np.zeros(geom.n_points)\n",
    "        labels[inlier_mask] = 1\n",
    "        labels[outlier_mask] = 2\n",
    "\n",
    "        # Get the regular fit\n",
    "        x1[pol], y1[pol], r1[pol] = get_circle(model.coef_[0], model.coef_[1] , model.intercept_)\n",
    "\n",
    "        # Get the RANSAC fit\n",
    "        x2[pol], y2[pol], r2[pol] = get_circle(model_ransac.estimator_.coef_[0][0], \n",
    "                         model_ransac.estimator_.coef_[0][1] , model_ransac.estimator_.intercept_)\n",
    "\n",
    "        # Make sure we're plotting all points\n",
    "        assert sum(labels == 1) + sum(labels == 2) == sum(signal),\\\n",
    "            \"{} {}\".format(sum(labels == 1) + sum(labels == 2), sum(signal))    \n",
    "       \n",
    "        #assert inlier_mask.count() + outlier_mask.count() == signal.count(),\\\n",
    "         #   \"{} {}\".format(inlier_mask.count() + outlier_mask.count(), signal.count())    \n",
    "        if plot:\n",
    "            plot_add_circle(x1[pol], y1[pol], r1[pol])\n",
    "            print \"Fit:\" + str(r1[pol])\n",
    "            plot_add_circle(x2[pol], y2[pol], r2[pol], color=\"red\")\n",
    "            print \"RANSAC Fit:\" + str(r2[pol]) + \"\\n\"\n",
    "\n",
    "        # Score the wires by distance from RANSAC\n",
    "        this_score = model_ransac.estimator_.predict(wire_xy)[:,0]\n",
    "        this_score -= wire_z\n",
    "        this_score = np.absolute(this_score)\n",
    "    if not no_show:\n",
    "        show()\n",
    "    return x1, y1, r1, x2, y2, r2, this_score"
   ]
  },
  {
   "cell_type": "code",
   "execution_count": null,
   "metadata": {
    "collapsed": false
   },
   "outputs": [],
   "source": [
    "# Define threshold GBDT output to fit to\n",
    "fpr, tpr, values =  roc_curve(mask(data_3)['is_signal'], pred_final_3)\n",
    "threshold = np.where(tpr > 0.99)[0][0]\n",
    "print \"TPR: {}\".format(tpr[threshold]),      \"FPR: {}\".format(fpr[threshold]),      \"VALUE: {}\".format(values[threshold])\n",
    "\n",
    "# Define the wires to be fit and their locations\n",
    "cut_pred_final_3 = pred_final_evt_3 > values[threshold]\n",
    "fit_evts = cut_pred_final_3.shape[0]"
   ]
  },
  {
   "cell_type": "code",
   "execution_count": null,
   "metadata": {
    "collapsed": false,
    "scrolled": false
   },
   "outputs": [],
   "source": [
    "# Score the wires by distance from RANSAC\n",
    "score = np.zeros(data_3['labels'].shape[0]) \n",
    "even_circle = np.zeros((data_3['labels'].reshape(-1,geom.n_points).shape[0],3)) \n",
    "odd_circle = np.zeros((data_3['labels'].reshape(-1,geom.n_points).shape[0],3)) \n",
    "\n",
    "for evt in range(len(sample_3)):\n",
    "#for evt in bad_ransac_events:\n",
    "    if evt%100 == 0:\n",
    "        print str(evt) + \" \", \n",
    "    evt_hits = event_to_hit_look[evt]\n",
    "    to_fit = data_3[\"labels\"].values[evt_hits]\n",
    "    output = ransac_fit(to_fit, cut_pred_final_3[evt,:])\n",
    "    if output is not None:\n",
    "        score[evt_hits] =  output[-1]\n",
    "        # print  np.array(output[:-1])\n",
    "        params =  np.array(output[3:-1]).flatten()\n",
    "        even_circle[evt] = np.array(output[3:-1]).flatten()[::2]\n",
    "        odd_circle[evt] = np.array(output[3:-1]).flatten()[1::2]\n",
    "\n",
    "data_3['score'] = score"
   ]
  },
  {
   "cell_type": "code",
   "execution_count": null,
   "metadata": {
    "collapsed": false
   },
   "outputs": [],
   "source": [
    "print even_circle[10]\n",
    "print odd_circle[10]\n",
    "print entry_z_3[10]"
   ]
  },
  {
   "cell_type": "code",
   "execution_count": null,
   "metadata": {
    "collapsed": false
   },
   "outputs": [],
   "source": [
    "good_ransac_events = np.where(data_3['score'][1::4482] != 0)[0]\n",
    "bad_ransac_events = np.where(data_3['score'][1::4482] == 0)[0]\n",
    "n_total_ransac_events = data_3.shape[0]/4482\n",
    "\n",
    "print n_total_ransac_events \n",
    "print len(good_ransac_events)\n",
    "print len(bad_ransac_events)\n",
    "print len(good_ransac_events)/float(n_total_ransac_events)\n",
    "print bad_ransac_events"
   ]
  },
  {
   "cell_type": "code",
   "execution_count": null,
   "metadata": {
    "collapsed": false
   },
   "outputs": [],
   "source": [
    "plot_feature((mask(data_3)[data_3['score'] != -1]['score'].values +0.001), \n",
    "             mask(data_3)[data_3['score'] != -1]['labels'].values, xlog=True,\n",
    "             xlabel=\"RANSAC Score Output\", ylabel=\"Normalised Hit Count\",\n",
    "            title=\"RANSAC Score Output Distribution\", nbins=20)\n",
    "show()"
   ]
  },
  {
   "cell_type": "code",
   "execution_count": null,
   "metadata": {
    "collapsed": false
   },
   "outputs": [],
   "source": [
    "from scipy.spatial.distance import cdist\n",
    "from numpy import unravel_index\n",
    "\n",
    "n_sample_points = 1001\n",
    "\n",
    "unit_x = np.cos(np.linspace(-np.pi, np.pi, n_sample_points))\n",
    "unit_y = np.sin(np.linspace(-np.pi, np.pi, n_sample_points))\n",
    "\n",
    "def crossing_points(circle_a, circle_b, circle_r, fiducial_radius):\n",
    "    # Define the circle's points\n",
    "    circle_x = circle_r * unit_x + circle_a\n",
    "    circle_y = circle_r * unit_y + circle_b    \n",
    "    \n",
    "    # Check where these points are at the fiducial radius\n",
    "    dist_to_fiducal = np.sqrt(np.square(circle_x) + np.square(circle_y)) - fiducial_radius\n",
    "    max_dist_index = np.argmax(dist_to_fiducal)\n",
    "    circle_x = np.roll(circle_x, -max_dist_index)\n",
    "    circle_y = np.roll(circle_y, -max_dist_index)\n",
    "    dist_to_fiducal = np.roll(dist_to_fiducal, -max_dist_index)\n",
    "    \n",
    "    inside_boundary = np.sign(dist_to_fiducal)\n",
    "    at_boundary = ((np.roll(inside_boundary, -1) - inside_boundary) != 0).astype(int).nonzero()[0]\n",
    "\n",
    "    try:\n",
    "        assert len(at_boundary) == 2,\\\n",
    "           \"Caution: {} crossing points were found!!\"\n",
    "        d_theta = np.abs(at_boundary[0] - at_boundary[1])/float(n_sample_points) * 2 * np.pi\n",
    "        if d_theta > np.pi:\n",
    "            d_theta = 2 * np.pi - d_theta\n",
    "        # Return the x, y locations of all crossing points\n",
    "        return circle_x[at_boundary], circle_y[at_boundary], d_theta\n",
    "    \n",
    "    except AssertionError:\n",
    "        return None    "
   ]
  },
  {
   "cell_type": "code",
   "execution_count": null,
   "metadata": {
    "collapsed": false
   },
   "outputs": [],
   "source": [
    "# TODO Check X, Y at target Z\n",
    "\n",
    "fiducial_radius = geom.r_by_layer[0] - (geom.r_by_layer[1] - geom.r_by_layer[0])/2.\n",
    "\n",
    "\n",
    "diff_offset = np.zeros(n_total_ransac_events)\n",
    "min_offset = np.zeros(n_total_ransac_events)\n",
    "bad_dist_evts = np.zeros(0)\n",
    "avg_radius = np.zeros(n_total_ransac_events)\n",
    "avg_d_theta = np.zeros(n_total_ransac_events)\n",
    "\n",
    "for nth_circ, circles in enumerate(zip(even_circle, odd_circle)): \n",
    "\n",
    "    \n",
    "    e_circ = circles[0]\n",
    "    o_circ = circles[1]\n",
    "    \n",
    "    # Sign is positive when even circle leads in phi around origin in clockwise direction\n",
    "#    distance_sign = np.sign(np.arctan(o_circ[1]/o_circ[0]) - np.arctan(e_circ[1]/e_circ[0]))\n",
    "    \n",
    "    \n",
    "    try: \n",
    "        e_crs_x, e_crs_y, e_d_theta = crossing_points(e_circ[0], e_circ[1], e_circ[2], fiducial_radius)\n",
    "        o_crs_x, o_crs_y, o_d_theta = crossing_points(o_circ[0], o_circ[1], o_circ[2], fiducial_radius) \n",
    "    except TypeError:\n",
    "        print \"Crossing Error: \",\n",
    "        print nth_circ\n",
    "        bad_dist_evts = np.unique(np.append(bad_dist_evts, nth_circ))\n",
    "        continue\n",
    "    \n",
    "    try:\n",
    "        distances = cdist(zip(e_crs_x, e_crs_y), zip(o_crs_x, o_crs_y))\n",
    "    except ValueError: \n",
    "        print \"PDist Error: \",\n",
    "        print nth_circ,\n",
    "        bad_dist_evts = np.unique(np.append(bad_dist_evts, nth_circ))\n",
    "        print zip(e_crs_x, e_crs_y),\n",
    "        print zip(o_crs_x, o_crs_y)\n",
    "        continue\n",
    "    \n",
    "    if abs(e_d_theta - o_d_theta) > 0.1 * (e_d_theta + o_d_theta)/2.:\n",
    "        print \"Large d_theta disagreement\", \n",
    "        print nth_circ,\n",
    "        print e_d_theta, o_d_theta, \n",
    "        print e_circ[2], o_circ[2]\n",
    "        \n",
    "    min_dist_idx = unravel_index(distances.argmin(), distances.shape)\n",
    "    if not min_dist_idx[0] and min_dist_idx[1]:\n",
    "        print nth_circ, min_dist_idx\n",
    "        print \" \"\n",
    "    min_dist_idx = (1,1)\n",
    "    diff_offset[nth_circ] = distances[min_dist_idx] - distances[tuple(np.logical_not(min_dist_idx).astype(int))]\n",
    "    min_offset[nth_circ] = distances[min_dist_idx]\n",
    "    avg_radius[nth_circ] = max(e_circ[2], o_circ[2])\n",
    "    avg_d_theta[nth_circ] = max(e_d_theta, o_d_theta)\n",
    "    \n",
    "print np.setdiff1d(bad_dist_evts, bad_ransac_events)\n",
    "bad_sample_3_evts = np.unique(np.append(bad_dist_evts, bad_ransac_events))\n",
    "good_sample_3_evts = np.setdiff1d(range(len(sample_3)), bad_sample_3_evts)"
   ]
  },
  {
   "cell_type": "code",
   "execution_count": null,
   "metadata": {
    "collapsed": false
   },
   "outputs": [],
   "source": []
  },
  {
   "cell_type": "code",
   "execution_count": null,
   "metadata": {
    "collapsed": false
   },
   "outputs": [],
   "source": [
    "print len(np.nonzero(diff_offset)[0])\n",
    "print len(good_sample_3_evts)\n",
    "\n",
    "print len(bad_sample_3_evts)\n",
    "print len(np.nonzero(diff_offset)[0]) +  len(bad_sample_3_evts)\n",
    "print n_total_ransac_events\n",
    "print len(entry_z[sample_3])"
   ]
  },
  {
   "cell_type": "code",
   "execution_count": null,
   "metadata": {
    "collapsed": false
   },
   "outputs": [],
   "source": [
    "print entry_z[sample_3]\n",
    "print good_sample_3_evts\n",
    "print entry_z[sample_3][good_sample_3_evts]"
   ]
  },
  {
   "cell_type": "code",
   "execution_count": null,
   "metadata": {
    "collapsed": false
   },
   "outputs": [],
   "source": [
    "print avg_radius"
   ]
  },
  {
   "cell_type": "code",
   "execution_count": null,
   "metadata": {
    "collapsed": false
   },
   "outputs": [],
   "source": [
    "tras_momentum_3 = np.sqrt(np.square(entry_px_3) + np.square(entry_py_3))\n",
    "\n",
    "plt.scatter(avg_radius[good_sample_3_evts], tras_momentum_3[good_sample_3_evts])"
   ]
  },
  {
   "cell_type": "code",
   "execution_count": null,
   "metadata": {
    "collapsed": false
   },
   "outputs": [],
   "source": [
    "print sum(entry_pz_3 < 0)\n",
    "print sum(entry_pz_3 > 0)"
   ]
  },
  {
   "cell_type": "code",
   "execution_count": null,
   "metadata": {
    "collapsed": false
   },
   "outputs": [],
   "source": [
    "plt.xlim(0,25)\n",
    "plt.ylabel(\"Z Position of Earliest CDC Hit (Truth) (cm)\")\n",
    "plt.xlabel(\"Mimiumum Disagreement: s_min (cm) \")\n",
    "plt.title(\"Correlation Between Minimal Stereometric\\n Disagreement and Z of Earliest Hit\")\n",
    "\n",
    "plt.scatter(min_offset[good_sample_3_evts], entry_z_3[good_sample_3_evts])\n",
    "print numpy.corrcoef(min_offset[good_sample_3_evts], entry_z_3[good_sample_3_evts])\n",
    "plt.savefig(savedir + \"entry_z_correlation.png\", bbox_inches='tight')\n",
    "plt.show()"
   ]
  },
  {
   "cell_type": "code",
   "execution_count": null,
   "metadata": {
    "collapsed": false
   },
   "outputs": [],
   "source": [
    "even_lead = np.sign(np.arctan(odd_circle[:,1]/odd_circle[:,0]) - np.arctan(even_circle[:,1]/even_circle[:,0]))\n",
    "print sum(even_lead == -1)"
   ]
  },
  {
   "cell_type": "code",
   "execution_count": null,
   "metadata": {
    "collapsed": false
   },
   "outputs": [],
   "source": [
    "plt.xlim(-0.1,0.1)\n",
    "plt.scatter(diff_offset[good_sample_3_evts]/(30*avg_d_theta[good_sample_3_evts]), # * even_lead[good_sample_3_evts], \n",
    "            entry_pz_3[good_sample_3_evts] )\n",
    "print numpy.corrcoef(diff_offset[good_sample_3_evts]/(30*avg_d_theta[good_sample_3_evts]), # * even_lead[good_sample_3_evts], \n",
    "            entry_pz_3[good_sample_3_evts] )\n",
    "plt.ylabel(\"p_z  of Earliest CDC Hit (Truth) (cm)\")\n",
    "plt.xlabel(\"(s_1 - s_2)/d_theta  (cm) \")\n",
    "plt.title(\"Correlation Between Minimal Stereometric\\n Disagreement and Z of Earliest Hit\")\n",
    "plt.savefig(savedir + \"p_z_correlation.png\", bbox_inches='tight')\n",
    "plt.show()\n",
    "\n",
    "\n",
    "plt.xlim(-10,10)\n",
    "plt.scatter(diff_offset[good_sample_3_evts], \n",
    "            entry_pz_3[good_sample_3_evts] )\n",
    "print numpy.corrcoef(diff_offset[good_sample_3_evts], \n",
    "            entry_pz_3[good_sample_3_evts]  )\n",
    "\n",
    "plt.show()"
   ]
  },
  {
   "cell_type": "code",
   "execution_count": null,
   "metadata": {
    "collapsed": false,
    "scrolled": false
   },
   "outputs": [],
   "source": [
    "# TODO Check X, Y at target Z\n",
    "plot_set_font(size=18)\n",
    "figsize(10,10)\n",
    "plt.xlim((-100,100))\n",
    "plt.ylim((-100,100))\n",
    "plt.xlabel(\"X-coordinate (cm)\")\n",
    "plt.ylabel(\"Y-coordinate (cm)\")\n",
    "plt.title(\"Entry Points of Electron in Stereometric Projections\")\n",
    "\n",
    "unit_x = np.cos(np.linspace(-np.pi, np.pi, 201))\n",
    "unit_y = np.sin(np.linspace(-np.pi, np.pi, 201))\n",
    "\n",
    "\n",
    "n_circles = 10\n",
    "circle_0 = 0\n",
    "\n",
    "fiducial_radius = geom.r_by_layer[0] - (geom.r_by_layer[1] - geom.r_by_layer[0])/2.\n",
    "outer_radius = geom.r_by_layer[-1] + (geom.r_by_layer[1] - geom.r_by_layer[0])/2.\n",
    "save_fits = True\n",
    "\n",
    "for circle_n in range(circle_0,circle_0+n_circles):\n",
    "    print circle_n\n",
    "    big_circle_x = fiducial_radius * unit_x\n",
    "    big_circle_y = fiducial_radius * unit_y\n",
    "    bigger_circle_x = outer_radius * unit_x\n",
    "    bigger_circle_y = outer_radius * unit_y\n",
    "\n",
    "    plt.plot(big_circle_x, big_circle_y, c=\"red\", ls=\"--\", label=\"CDC Inner Radius\")\n",
    "    plt.plot(bigger_circle_x, bigger_circle_y, c=\"red\", label=\"CDC Outer Radius\")\n",
    "\n",
    "    size_arc = 4\n",
    "    begin_arc = 18\n",
    "    this_arc_range = range(begin_arc,begin_arc+size_arc)\n",
    "    plt.plot(big_circle_x[this_arc_range], big_circle_y[this_arc_range], color=\"DarkOrange\", linewidth=5)\n",
    "    \n",
    "    min_dz = 18\n",
    "    this_angle = 145/180. * np.pi\n",
    "    this_r = 50\n",
    "    if this_label == \"Even Layers\":\n",
    "        this_r *= -1\n",
    "    next_x = np.cos(this_angle)*this_r\n",
    "    next_y = np.sin(this_angle)*this_r\n",
    "    plt.arrow(60, -82, next_x, next_y,\n",
    "               head_width=3, head_length=5, color=\"black\")\n",
    "        \n",
    "    big_theta = list()\n",
    "    \n",
    "    for this_n, this_color, this_label, this_circle in zip([0,1],\n",
    "                                                   [\"blue\", \"green\"],\n",
    "                                                   [\"Even Layers\", \"Odd Layers\"],\n",
    "                                                   [even_circle[circle_n], odd_circle[circle_n]]):\n",
    "\n",
    "        circle_r = this_circle[2]\n",
    "        circle_x = circle_r * unit_x + this_circle[0]\n",
    "        circle_y = circle_r * unit_y + this_circle[1]\n",
    "        plt.plot(circle_x, circle_y, label=this_label, c=this_color)\n",
    "        this_x, this_y, d_theta = crossing_points(this_circle[0], this_circle[1], this_circle[2], fiducial_radius) \n",
    "        \n",
    "        \n",
    "        plt.scatter(this_x, this_y)\n",
    "        this_point = 165\n",
    "        this_angle = 115/180. * np.pi\n",
    "        this_r = 10\n",
    "        if this_label == \"Even Layers\":\n",
    "            this_r *= -1\n",
    "        next_x = np.cos(this_angle)*this_r\n",
    "        next_y = np.sin(this_angle)*this_r\n",
    "        plt.arrow(circle_x[this_point], circle_y[this_point],\n",
    "                  next_x, next_y,\n",
    "                  head_width=3, head_length=5, color=this_color)\n",
    "        #plt.scatter(circle_x[this_point], circle_y[this_point])\n",
    "    \n",
    "    plt.legend(fontsize=14)    \n",
    "    if save_fits:\n",
    "        plt.savefig(savedir + \"stereo_fits.png\", bbox_inches='tight')\n",
    "    plt.show()\n"
   ]
  },
  {
   "cell_type": "code",
   "execution_count": null,
   "metadata": {
    "collapsed": false
   },
   "outputs": [],
   "source": [
    "# Event information\\\n",
    "event = 8\n",
    "add_trans = True\n",
    "save = False\n",
    "savedir = \"/vols/comet00/users/elg112/ICEDUST/track-finding-yandex/caught_electron_event/\"\n",
    "\n",
    "evt_hits = event_to_hit_look[event]\n",
    "to_plot = data_3[\"labels\"].values[evt_hits]\n",
    "hough_output = data_3[\"Hough\"].values[evt_hits]\n",
    "plot_hough_image_3 = hough_image_3[event,:hough.track.n_points] + hough_image_3[event,hough.track.n_points:]\n",
    "\n",
    "# Shifted plot information\n",
    "shift_plot = shift_labels_3[event]\n",
    "shift_hough_output = shifted_hough_result_3[event,:]\n",
    "shift_hough_image = shifted_hough_image_3[event,:hough.track.n_points] +\\\n",
    "                    shifted_hough_image_3[event,hough.track.n_points:]"
   ]
  },
  {
   "cell_type": "code",
   "execution_count": null,
   "metadata": {
    "collapsed": false,
    "scrolled": false
   },
   "outputs": [],
   "source": [
    "# Basic output\n",
    "plot_output(to_plot, geom, sig_color='black', bkg_color='black', )\n",
    "if save:\n",
    "    plt.savefig(savedir+\"plot_event_bw.png\", bbox_inches='tight')\n",
    "show()\n",
    "\n",
    "plot_output(to_plot, geom)\n",
    "if save:\n",
    "    plt.savefig(savedir+\"plot_event.png\", bbox_inches='tight')\n",
    "show()\n",
    "\n",
    "# First GBDT output\n",
    "plot_output(to_plot, geom, size=plot_norm_size(pred_evt_3[event,:]))\n",
    "plot_add_outlines(to_plot, geom)\n",
    "if save:\n",
    "    plt.savefig(savedir+\"plot_neigh_level.png\", bbox_inches='tight')\n",
    "show()\n",
    "\n",
    "# Hough output\n",
    "plot_output(to_plot, geom, size=plot_norm_size(pred_evt_3[event,:]), add_transform=add_trans)\n",
    "plot_add_tracks(geom, hough, size=plot_norm_size(plot_hough_image_3,40))\n",
    "if save:\n",
    "    plt.savefig(savedir+\"plot_hough.png\", bbox_inches='tight')\n",
    "show()\n",
    "\n",
    "# Inverse Hough output\n",
    "plot_output(to_plot, geom, size=plot_norm_size(hough_output))\n",
    "plot_add_tracks(geom, hough, size=plot_norm_size(plot_hough_image_3,40), add_transform=add_trans,\n",
    "                tolerance=0.00)\n",
    "if save:\n",
    "    plt.savefig(savedir+\"plot_inv_hough.png\", bbox_inches='tight')\n",
    "show()    \n",
    "\n",
    "# Shift in Hough Space\n",
    "# TODO magic number here\n",
    "plot_hough_shift(integral_even_3[event,:], integral_odd_3[event,:], \n",
    "                 hough_shifter_3.rotate_index[event]+hough_shifter_3.lower_lim)\n",
    "show()\n",
    "\n",
    "# Hough output\n",
    "plot_output(shift_plot, geom, size=plot_norm_size(shift_pred_evt_3[event,:]), add_transform=add_trans)\n",
    "plot_add_tracks(geom, hough, size=plot_norm_size(shift_hough_image,40))\n",
    "if save:\n",
    "    plt.savefig(savedir+\"plot_shft_hough.png\",  bbox_inches='tight')\n",
    "show()\n",
    "\n",
    "# Inverse Hough output\n",
    "plot_output(shift_plot, geom, size=plot_norm_size(shift_hough_output))\n",
    "plot_add_tracks(geom, hough, size=plot_norm_size(shift_hough_image,40), add_transform=add_trans,\n",
    "                tolerance=0.00)\n",
    "if save:\n",
    "    plt.savefig(savedir+\"plot_shft_inv_hough.png\", bbox_inches='tight')\n",
    "show()\n",
    "\n",
    "# Final\n",
    "plot_output(to_plot, geom, size=plot_norm_size(pred_final_evt_3[event,:]))\n",
    "if save:\n",
    "    plt.savefig(savedir+\"plot_final.png\", bbox_inches='tight')\n",
    "show()\n",
    "\n",
    "# RANSAC \n",
    "print ransac_fit(to_plot, cut_pred_final_3[event,:], plot=True)\n",
    "if save:\n",
    "    plt.savefig(savedir+\"plot_ransac.png\", bbox_inches='tight')\n",
    "plt.show()"
   ]
  },
  {
   "cell_type": "code",
   "execution_count": null,
   "metadata": {
    "collapsed": false
   },
   "outputs": [],
   "source": [
    "# RANSAC \n",
    "figsize(10,10)\n",
    "print ransac_fit(to_plot, cut_pred_final_3[event,:], plot=True, no_show=True)\n",
    "if save:\n",
    "    plt.savefig(savedir+\"plot_ransac.png\", bbox_inches='tight')\n",
    "plt.show()\n"
   ]
  },
  {
   "cell_type": "code",
   "execution_count": null,
   "metadata": {
    "collapsed": false
   },
   "outputs": [],
   "source": [
    "memory_usage()"
   ]
  },
  {
   "cell_type": "code",
   "execution_count": null,
   "metadata": {
    "collapsed": true
   },
   "outputs": [],
   "source": [
    "# TODO \n",
    "# Plots for Louis\n",
    "\n",
    "# Penalize for not being the closest point to the fit\n",
    "\n",
    "\n",
    "\n",
    "# Belle-II literature\n",
    "# multiple radii\n",
    "# optimize hough to improve track purity, use RANSAC to shed background islands\n",
    "# \n",
    "\n",
    "#TODO Offline Analysis\n",
    "# WEDS clean up RANSAC implimentation\n",
    "# WEDS use shifted hough in RANSAC implimentation\n",
    "# THURS penalize on no hits for RANSAC\n",
    "# THURS change sampling probability via GBDT score\n",
    "# THURS change scoring weight by GBDT score\n",
    "# FRI check results for mulitple radii, no optimization\n",
    "# FRI check results for varying hit efficiencies, no optimization\n",
    "\n",
    "\n",
    "# In[73]:\n",
    "\n",
    "#TODO Online\n",
    "# TUES Rebuild notebook for new sample\n",
    "# TUES Integrate trigger signal in\n",
    "# TUES Reevaluate the flow of the algorithm\n",
    "\n",
    "\n",
    "# In[74]:\n",
    "\n",
    "# MC PRODUCTION\n",
    "# Timing in Prod. Sec.\n",
    "#  Determine IO and CPU time for current jobs\n",
    "#  Determine best cuts to make (most obvious ones anyway)\n",
    "# ECAL hits\n",
    "#  After CM18\n",
    "# Cross-Check occupancy\n",
    "#  Generate large enough CyDet sample and check occupancy\n",
    "#  Perhaps do this locally, or atleast the merging part\n",
    "\n",
    "\n",
    "# In[75]:\n",
    "\n",
    "# NOTES\n",
    "## Shifting to align image in hough space must \n",
    "#  play well with the placticity already \n",
    "#  implimented in the algorithm.  Adjust reweighting\n",
    "## Try reweighting background hits close to signal hits\n",
    "#  as worse when we do the track level GBDT algo.  Rid\n",
    "#  background islands at RANSAC level.\n",
    "\n"
   ]
  }
 ],
 "metadata": {
  "kernelspec": {
   "display_name": "Python 2",
   "language": "python",
   "name": "python2"
  },
  "language_info": {
   "codemirror_mode": {
    "name": "ipython",
    "version": 2
   },
   "file_extension": ".py",
   "mimetype": "text/x-python",
   "name": "python",
   "nbconvert_exporter": "python",
   "pygments_lexer": "ipython2",
   "version": "2.7"
  }
 },
 "nbformat": 4,
 "nbformat_minor": 0
}
