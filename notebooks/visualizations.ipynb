{
 "cells": [
  {
   "cell_type": "markdown",
   "metadata": {},
   "source": [
    "# Plotting Methods for All Analyses"
   ]
  },
  {
   "cell_type": "code",
   "execution_count": 3,
   "metadata": {
    "collapsed": false
   },
   "outputs": [
    {
     "name": "stdout",
     "output_type": "stream",
     "text": [
      "Populating the interactive namespace from numpy and matplotlib\n"
     ]
    }
   ],
   "source": [
    "%pylab inline\n",
    "import sys\n",
    "import numpy as np\n",
    "import matplotlib.cm as cm\n",
    "from scipy.spatial import ConvexHull\n",
    "sys.path.insert(0, '../modules')"
   ]
  },
  {
   "cell_type": "code",
   "execution_count": 4,
   "metadata": {
    "collapsed": true
   },
   "outputs": [],
   "source": [
    "def plot_set_font(size=15):\n",
    "    \"\"\"\n",
    "    Default Font for all plots \n",
    "    \"\"\"\n",
    "    font = {'family' : 'normal',\n",
    "        'weight' : 'normal',\n",
    "        'size'   : size}\n",
    "    # Enable LaTeX support in fonts\n",
    "    matplotlib.rc('font', **font)"
   ]
  },
  {
   "cell_type": "code",
   "execution_count": 5,
   "metadata": {
    "collapsed": true
   },
   "outputs": [],
   "source": [
    "from cylinder import TrackCenters"
   ]
  },
  {
   "cell_type": "markdown",
   "metadata": {},
   "source": [
    "## Default Size Options"
   ]
  },
  {
   "cell_type": "code",
   "execution_count": 6,
   "metadata": {
    "collapsed": true
   },
   "outputs": [],
   "source": [
    "dot_size = 40"
   ]
  },
  {
   "cell_type": "code",
   "execution_count": 7,
   "metadata": {
    "collapsed": true
   },
   "outputs": [],
   "source": [
    "# Declare Globally \n",
    "wire_rhos, wire_phis = None, None\n",
    "wire_xs, wire_ys = None, None\n",
    "n_wires = 4482\n",
    "n_boards = 104\n",
    "plot_cydet = None\n",
    "\n",
    "def plot_set_cydet(cydet_instance):\n",
    "    \"\"\"\n",
    "    Setup wire locations in x,y and r, theta\n",
    "    \"\"\"\n",
    "    plot_cydet = cydet_instance\n",
    "    wire_rhos, wire_phis = plot_cydet.get_points_rhos_and_phis()\n",
    "    wire_xs, wire_ys = plot_cydet.get_points_xs_and_ys()\n",
    "    n_wires = plot_cydet.n_points"
   ]
  },
  {
   "cell_type": "code",
   "execution_count": 8,
   "metadata": {
    "collapsed": true
   },
   "outputs": [],
   "source": [
    "# Declare Globally \n",
    "track_rhos, track_phis = None, None\n",
    "track_xs, track_ys = None, None\n",
    "n_centres = None\n",
    "plot_hough = None\n",
    "\n",
    "def plot_set_hough(hough_instance):\n",
    "    \"\"\"\n",
    "    Setup track centre locations in x,y and r, theta\n",
    "    \"\"\"\n",
    "    plot_hough = hough_instance\n",
    "    track_rhos, track_phis = hough_instance.track.get_points_rhos_and_phis()\n",
    "    track_xs, track_ys = hough_instance.track.get_points_xs_and_ys()\n",
    "    n_centres = hough_instance.track.n_points"
   ]
  },
  {
   "cell_type": "code",
   "execution_count": 9,
   "metadata": {
    "collapsed": true
   },
   "outputs": [],
   "source": [
    "def plot_setup_for_detector(size=(15, 15), no_labels=False):\n",
    "    \"\"\"\n",
    "    Default plot for event display\n",
    "    \"\"\"\n",
    "    plot_set_font()\n",
    "    fig = plt.figure(1, figsize=size)\n",
    "    ax = fig.add_subplot(111, projection='polar')\n",
    "    ax.set_ylim([0,85])\n",
    "    # Set theta ticks at 45 degrees\n",
    "    thetaticks = np.arange(0, 360, 45)\n",
    "    # Set ticks further out from edge\n",
    "    ax.set_thetagrids(thetaticks, frac=1.05)\n",
    "    # Set radial ticks\n",
    "    ax.set_yticks(np.arange(10,81,20))\n",
    "    if no_labels:\n",
    "        ax.set_xticklabels([])    \n",
    "        ax.set_yticklabels([]) \n",
    "    return ax, fig"
   ]
  },
  {
   "cell_type": "code",
   "execution_count": 10,
   "metadata": {
    "collapsed": true
   },
   "outputs": [],
   "source": [
    "def plot_get_hits(labels):\n",
    "    \"\"\"\n",
    "    Gets the signal and background hits for an event\n",
    "    \n",
    "    :param labels: Labels from an event\n",
    "    \n",
    "    :return: signal hits, background hits\n",
    "    \"\"\"\n",
    "    # Ensure the event is the right number of wires\n",
    "    assert len(labels) == n_wires,\\\n",
    "        \"Number of input wires is {}, real number is {}\".format(len(labels), n_wires)\n",
    "    # Get the signal hits\n",
    "    sig_hits = np.where(labels == 1)\n",
    "    bkg_hits = np.where(labels == 2)\n",
    "    return sig_hits, bkg_hits"
   ]
  },
  {
   "cell_type": "code",
   "execution_count": 20,
   "metadata": {
    "collapsed": true
   },
   "outputs": [],
   "source": [
    "def plot_output(labels, cydet, size=dot_size*np.ones(n_wires), tolerance=0.,\n",
    "                sig_color=\"blue\", bkg_color=\"red\", figsize=(12,14), \n",
    "                add_transform=False, hough=plot_hough,\n",
    "                rotate_even=0, no_labels=False, recbe=None, **kwargs):\n",
    "    \"\"\"\n",
    "    Draw the output of a classifier by scaling the hits to the size of the output.\n",
    "    \n",
    "    :param labels:    Triple labels to tell signal from background from empty\n",
    "    :param cydet:     CyDet to be used for geometry of wires\n",
    "    :param size:      Size of all hits on every wire, this includes empty wires\n",
    "    :param sig_color: Colour of signal hits, default blue\n",
    "    :param bkg_color: Colour of background hits, default red\n",
    "    \n",
    "    :return: axis of plot, figure of plot\n",
    "    \"\"\"\n",
    "    # Set the default font\n",
    "    plot_set_font()\n",
    "    # Get the hits from the labels\n",
    "    sig_hits, bkg_hits = plot_get_hits(labels)\n",
    "    # Get axis and figure\n",
    "    fig = plt.figure(1, figsize=figsize)\n",
    "    axs = fig.add_subplot(111, projection='polar')\n",
    "    axs.set_ylim([0,85])\n",
    "    # Set theta ticks at 45 degrees\n",
    "    thetaticks = np.arange(0, 360, 45)\n",
    "    # Set ticks further out from edge\n",
    "    axs.set_thetagrids(thetaticks, frac=1.05)\n",
    "    # Set radial ticks\n",
    "    axs.set_yticks(np.arange(10,81,20))\n",
    "    if no_labels:\n",
    "        axs.set_xticklabels([])    \n",
    "        axs.set_yticklabels([])    \n",
    "    # Plot all wires\n",
    "    wire_rhos = cydet.get_points_rhos_and_phis()[0].copy()\n",
    "    wire_phis = cydet.get_points_rhos_and_phis()[1].copy()\n",
    "    #Add a rotation to the layers\n",
    "    if rotate_even != 0:\n",
    "        even_wires = np.where(cydet.point_pol == 0)[0]\n",
    "        wire_phis[even_wires] += rotate_even\n",
    "    axs.scatter(wire_phis, wire_rhos, marker='.', s=5, alpha=0.2)\n",
    "    # Plot signal hits\n",
    "    axs.scatter(wire_phis[sig_hits],wire_rhos[sig_hits], s=size[sig_hits], \n",
    "                marker='o', color=sig_color, **kwargs)\n",
    "    # Plot background hits\n",
    "    axs.scatter(wire_phis[bkg_hits],wire_rhos[bkg_hits], s=size[bkg_hits], \n",
    "                marker='o', color=bkg_color, **kwargs)\n",
    "    # Add the transform if its wanted\n",
    "    if add_transform:\n",
    "        shading = plot_get_transform_shading(hough)\n",
    "        draw_trans = np.where(size > np.amax(size)*tolerance)[0]\n",
    "        trans_w = plot_norm_size(size, 1.)\n",
    "        for wire in draw_trans:\n",
    "            plot_add_transform(wire, cydet, hough, inverse=False, prob_spread=shading,  \n",
    "                               l_alpha=trans_w[wire], s_alpha=trans_w[wire]/len(shading))\n",
    "    # Add the boards if they are wanted\n",
    "    if not recbe is None:\n",
    "        plot_add_recbe(labels, cydet, size, \n",
    "                       sig_color=sig_color, bkg_color=bkg_color, **kwargs)\n",
    "\n",
    "    # Return axis and figure\n",
    "    return axs, fig"
   ]
  },
  {
   "cell_type": "code",
   "execution_count": 1,
   "metadata": {
    "collapsed": false
   },
   "outputs": [
    {
     "ename": "NameError",
     "evalue": "name 'np' is not defined",
     "output_type": "error",
     "traceback": [
      "\u001b[0;31m---------------------------------------------------------------------------\u001b[0m",
      "\u001b[0;31mNameError\u001b[0m                                 Traceback (most recent call last)",
      "\u001b[0;32m<ipython-input-1-fb73d7913be6>\u001b[0m in \u001b[0;36m<module>\u001b[0;34m()\u001b[0m\n\u001b[0;32m----> 1\u001b[0;31m def plot_add_recbe(labels, cydet, size=np.ones(n_wires), \n\u001b[0m\u001b[1;32m      2\u001b[0m                    \u001b[0mrecbe_labels\u001b[0m\u001b[0;34m=\u001b[0m\u001b[0;32mNone\u001b[0m\u001b[0;34m,\u001b[0m \u001b[0mrecbe\u001b[0m\u001b[0;34m=\u001b[0m\u001b[0;32mNone\u001b[0m\u001b[0;34m,\u001b[0m \u001b[0mrecbe_alpha\u001b[0m\u001b[0;34m=\u001b[0m\u001b[0;32mNone\u001b[0m\u001b[0;34m,\u001b[0m\u001b[0;34m\u001b[0m\u001b[0m\n\u001b[1;32m      3\u001b[0m                    sig_color=\"blue\", bkg_color=\"red\", **kwargs):\n\u001b[1;32m      4\u001b[0m     \u001b[0;31m# Get the geometry we are using\u001b[0m\u001b[0;34m\u001b[0m\u001b[0;34m\u001b[0m\u001b[0m\n\u001b[1;32m      5\u001b[0m     \u001b[0muse_recbe\u001b[0m \u001b[0;34m=\u001b[0m \u001b[0mcydet\u001b[0m\u001b[0;34m.\u001b[0m\u001b[0mrecbe\u001b[0m\u001b[0;34m\u001b[0m\u001b[0m\n",
      "\u001b[0;31mNameError\u001b[0m: name 'np' is not defined"
     ]
    }
   ],
   "source": [
    "def plot_add_recbe(labels, cydet, size=np.ones(n_wires), \n",
    "                   recbe_labels=None, recbe=None, recbe_alpha=None, add_transform=False, \n",
    "                   hough=plot_hough, tolerance=0.0,\n",
    "                   sig_color=\"blue\", bkg_color=\"red\", **kwargs):\n",
    "    # Get the geometry we are using\n",
    "    use_recbe = cydet.recbe\n",
    "    if not recbe is None:\n",
    "        use_recbe = recbe\n",
    "    # Get board scores\n",
    "    if recbe_alpha is None:\n",
    "        recbe_alpha = np.zeros(use_recbe.board_to_wires.shape[0], dtype=float)\n",
    "        for wire_id, wire_score in enumerate(size):\n",
    "            recbe_alpha[use_recbe.wire_to_board[wire_id]] += wire_score\n",
    "    # Get the labels\n",
    "    sig_hits, bkg_hits = plot_get_hits(labels)\n",
    "    if recbe_labels is None:\n",
    "        # Get the board labels as \"has signal hit\"\n",
    "        recbe_labels = np.zeros_like(recbe_alpha)\n",
    "        recbe_labels[use_recbe.wire_to_board[bkg_hits]] = 2\n",
    "        recbe_labels[use_recbe.wire_to_board[sig_hits]] = 1\n",
    "    # Get where the labels are non-zero\n",
    "    for board_id in np.where(recbe_labels == 1)[0]:\n",
    "        plot_add_board(cydet, board_id, recbe_alpha[board_id], color=sig_color, **kwargs)\n",
    "    for board_id in np.where(recbe_labels == 2)[0]:\n",
    "        plot_add_board(cydet, board_id, recbe_alpha[board_id], color=bkg_color, **kwargs)\n",
    "    # Add the transform if its wanted\n",
    "    if add_transform:\n",
    "        shading = plot_get_transform_shading(hough)\n",
    "        draw_trans = np.where(recbe_alpha > np.amax(recbe_alpha)*tolerance)[0]\n",
    "        trans_w = plot_norm_size(recbe_alpha, 1.)\n",
    "        for board in draw_trans:\n",
    "            plot_add_transform(board, use_recbe, hough, inverse=False, prob_spread=shading,  \n",
    "                               l_alpha=trans_w[board], s_alpha=trans_w[board]/len(shading))"
   ]
  },
  {
   "cell_type": "code",
   "execution_count": 12,
   "metadata": {
    "collapsed": true
   },
   "outputs": [],
   "source": [
    "def plot_add_board(cydet, board_id, alpha, **kwargs):\n",
    "    board_point_ids = cydet.recbe.board_to_wires[board_id]\n",
    "    points = np.vstack([cydet.point_x[board_point_ids], \n",
    "                        cydet.point_y[board_point_ids]]).T\n",
    "    c_hull = ConvexHull(points)\n",
    "    plot_verts = np.append(c_hull.vertices, c_hull.vertices[0])\n",
    "    plot_brd = plt.Polygon(points[plot_verts], True, transform=gca().transData._b,\n",
    "                           alpha=alpha, **kwargs)\n",
    "    gca().add_artist(plot_brd)"
   ]
  },
  {
   "cell_type": "code",
   "execution_count": 13,
   "metadata": {
    "collapsed": true
   },
   "outputs": [],
   "source": [
    "def plot_add_outlines(labels, cydet, sig_color=\"blue\", bkg_color=\"red\", size=dot_size, lw=0.5):\n",
    "    \"\"\"\n",
    "    Adds in outlines of original locations of hits\n",
    "    \n",
    "    :param labels:    Triple labels to tell signal from background from empty\n",
    "    :param cydet:     CyDet to be used for geometry of wires\n",
    "    :param size:      Size of all hits on every wire, this includes empty wires\n",
    "    :param sig_color: Colour of signal hits, default blue\n",
    "    :param bkg_color: Colour of background hits, default red\n",
    "    \"\"\"\n",
    "    # Get the hits from the labels\n",
    "    sig_hits, bkg_hits = plot_get_hits(labels)\n",
    "    # Add the outlines of the signal and background\n",
    "    wire_rhos, wire_phis = cydet.get_points_rhos_and_phis()\n",
    "    gca().scatter(wire_phis[sig_hits],wire_rhos[sig_hits], s=size,\n",
    "            marker='o', edgecolors=sig_color, facecolors='none',  lw = lw)\n",
    "    gca().scatter(wire_phis[bkg_hits],wire_rhos[bkg_hits], s=size,\n",
    "            marker='o', edgecolors=bkg_color, facecolors='none',  lw = lw)"
   ]
  },
  {
   "cell_type": "code",
   "execution_count": null,
   "metadata": {
    "collapsed": true
   },
   "outputs": [],
   "source": [
    "def plot_add_circle(x, y, radius, color=\"green\", lw=1., spread=0, l_alpha=1., s_alpha=0.025, fill=False, **kwargs):\n",
    "    \"\"\"\n",
    "    Add a circle to our plot\n",
    "    \n",
    "    :param x:        x location of circle centre\n",
    "    :param y:        y location of circle centre\n",
    "    :param radius:   radius of circle\n",
    "    :param color:    color of circle\n",
    "    :param lw:       line width of circle\n",
    "    :param spread:   spread of circle, symmetric\n",
    "    :param l_alpha:  overall normalization on weight of line\n",
    "    :param s_alpha:  overall normalization on weight of spread\n",
    "    \"\"\"\n",
    "    ## TODO check gca() usage here\n",
    "    plot_circle = plt.Circle((x, y), radius, transform=gca().transData._b,\n",
    "            color=color, fill=fill, alpha=l_alpha, lw=lw, **kwargs)\n",
    "    gca().add_artist(plot_circle)\n",
    "    # Add a spread if need be\n",
    "    if spread!=0:\n",
    "        plot_spread = plt.Circle((x, y), radius,\n",
    "                transform=gca().transData._b, color=color,\n",
    "                alpha=s_alpha, fill=fill, lw=spread)\n",
    "        gca().add_artist(plot_spread)"
   ]
  },
  {
   "cell_type": "code",
   "execution_count": 37,
   "metadata": {
    "collapsed": true
   },
   "outputs": [],
   "source": [
    "def plot_get_transform_shading(hough):\n",
    "    \"\"\"\n",
    "    Returns shading of visual hough transform\n",
    "    \n",
    "    :param hough: Hough to be used for geometry of transform\n",
    "    \n",
    "    :return: Shading of hough tranfrom \n",
    "    \"\"\"\n",
    "    # Define the signal radius\n",
    "    r_sig = hough.sig_rho\n",
    "    r_max = hough.sig_rho_max \n",
    "    r_min = hough.sig_rho_min\n",
    "    print(r_sig, r_max, r_min)\n",
    "    return np.array([hough.dist_prob(r)/hough.dist_prob(r_sig) \n",
    "                        for r in  np.linspace(r_min, r_max, 10)])"
   ]
  },
  {
   "cell_type": "code",
   "execution_count": 39,
   "metadata": {
    "collapsed": true
   },
   "outputs": [],
   "source": [
    "def plot_add_transform(index, cydet, hough, inverse=False, color=\"green\", l_alpha=1., s_alpha=0.025,\n",
    "                       prob_spread=0.5*np.ones(10)):\n",
    "    \"\"\"\n",
    "    Add a hough transform overlay, assumes forward transform unless told otherwise\n",
    "    \n",
    "    :param index:        index of wire or track centre\n",
    "    :param cydet:        CyDet to be used for geometry of wires\n",
    "    :param hough:        Hough to be used for geometry of transform\n",
    "    :param inverse:      If true, plot from track centre to wires\n",
    "    :param color:        color of circle\n",
    "    :param l_alpha:      overall normalization on weight of line\n",
    "    :param s_alpha:      overall normalization on weight of spread\n",
    "    :param prob_spread:  Stored values of the correspondnce function, must be length 10\n",
    "    \"\"\"\n",
    "    # Define the signal radius\n",
    "    r_sig = hough.sig_rho\n",
    "    r_max = hough.sig_rho_max \n",
    "    r_min = hough.sig_rho_min\n",
    "    # Check if we are mapping forwards or inverse\n",
    "    if inverse:\n",
    "        plot_x, plot_y = hough.track.get_points_xs_and_ys()\n",
    "    else:\n",
    "        plot_x, plot_y = cydet.get_points_xs_and_ys()\n",
    "    \n",
    "    # Just plot this one point\n",
    "    plot_x, plot_y = plot_x[index], plot_y[index]\n",
    "        \n",
    "    # Add the target radius circle\n",
    "    plot_add_circle(plot_x, plot_y, r_sig, color=color, l_alpha=l_alpha, s_alpha=s_alpha)\n",
    "    # Add the spread around the target as 10 shaded circles at varying distances\n",
    "    for n_rad, rad in enumerate(np.linspace(r_min, r_max, 10)):\n",
    "        assert len(prob_spread) == 10,\\\n",
    "            \"Length of prob_spread must be 10\"\n",
    "        # Add the spread\n",
    "        plot_add_circle(plot_x, plot_y, rad, color=color, l_alpha=s_alpha*prob_spread[n_rad], lw=3)"
   ]
  },
  {
   "cell_type": "code",
   "execution_count": 42,
   "metadata": {
    "collapsed": true
   },
   "outputs": [],
   "source": [
    "def plot_add_tracks(cydet, hough, tolerance=0.001, size=None, \n",
    "                    color=\"DarkOrange\", add_transform=False):\n",
    "    \"\"\"\n",
    "    Add track centres as orange points\n",
    "    \n",
    "    :param tolerance:     Relative size of smallest drawn track centre to maximum track\n",
    "                          centre\n",
    "    :param size:          Size of all track centres\n",
    "    :param color:         Colour of track centres\n",
    "    :param add_transform: Adds default transform if true\n",
    "    \"\"\"\n",
    "    # Get default size\n",
    "    if size is None:\n",
    "        size=(dot_size/5.)*np.ones(hough.track.n_points)\n",
    "    # Find the tracks above tolerance of the max\n",
    "    draw_tracks = np.where(size > np.amax(size)*tolerance)[0]\n",
    "    print(\"Length of draw tracks are {}\".format(len(draw_tracks)))\n",
    "    # Draw these tracks\n",
    "    track_rhos, track_phis = hough.track.get_points_rhos_and_phis()\n",
    "    gca().scatter(track_phis[draw_tracks] ,track_rhos[draw_tracks],\n",
    "            s=size[draw_tracks], marker='o', color=color, zorder=10)\n",
    "    # Add the transform if its wanted\n",
    "    # Add the transform if its wanted\n",
    "    if add_transform:\n",
    "        shading = plot_get_transform_shading(hough)\n",
    "        trans_w = plot_norm_size(size, 1.)\n",
    "        for trk in draw_tracks:\n",
    "            plot_add_transform(trk, cydet, hough, inverse=True, prob_spread=shading,\n",
    "                                l_alpha=trans_w[trk], s_alpha=trans_w[trk]/len(shading))"
   ]
  },
  {
   "cell_type": "code",
   "execution_count": null,
   "metadata": {
    "collapsed": true
   },
   "outputs": [],
   "source": [
    "def plot_norm_size(bdt_guess, size=dot_size):\n",
    "    return (float(size)*bdt_guess)/np.amax(bdt_guess)"
   ]
  },
  {
   "cell_type": "markdown",
   "metadata": {},
   "source": [
    "## CTH Plots"
   ]
  },
  {
   "cell_type": "code",
   "execution_count": null,
   "metadata": {
    "collapsed": true
   },
   "outputs": [],
   "source": [
    "plot_cth = None\n",
    "crys_rhos, crys_phis = None, None\n",
    "crys_xs, crys_ys = None, None\n",
    "n_crys = 64"
   ]
  },
  {
   "cell_type": "code",
   "execution_count": null,
   "metadata": {
    "collapsed": true
   },
   "outputs": [],
   "source": [
    "def plot_set_cth(cth_instance):\n",
    "    \"\"\"\n",
    "    Setup crystal locations in x,y and r, theta\n",
    "    \"\"\"\n",
    "    plot_cth = cth_instance\n",
    "    crys_rhos, crys_phis = plot_cth.get_points_rhos_and_phis()\n",
    "    crys_xs, crys_ys = plot_cth.get_points_xs_and_ys()\n",
    "    n_crys = plot_cydet.n_points"
   ]
  },
  {
   "cell_type": "code",
   "execution_count": null,
   "metadata": {
    "collapsed": true
   },
   "outputs": [],
   "source": []
  },
  {
   "cell_type": "markdown",
   "metadata": {},
   "source": [
    "# Regular Plots"
   ]
  },
  {
   "cell_type": "code",
   "execution_count": 13,
   "metadata": {
    "collapsed": true
   },
   "outputs": [],
   "source": [
    "from sklearn.metrics import roc_auc_score, roc_curve\n",
    "import matplotlib.ticker as mtick"
   ]
  },
  {
   "cell_type": "code",
   "execution_count": 14,
   "metadata": {
    "collapsed": true
   },
   "outputs": [],
   "source": [
    "def plot_rocs(labels, predictions, names=None,\n",
    "              zoom=False, \n",
    "              zoom_x_lims=[70,100], \n",
    "              zoom_y_lims=[70,100], \n",
    "              fontsize=15, \n",
    "              datum_label=\"\",\n",
    "              lw=1,\n",
    "              weights=None,\n",
    "              **kwargs):\n",
    "    \"\"\"\n",
    "    Nice default plotting for roc curves\n",
    "    \"\"\"\n",
    "    predicts = list(predictions.keys())\n",
    "    if names is None:\n",
    "        names = predicts\n",
    "    fig = plt.figure(1)\n",
    "    axs = [fig.add_subplot(111)]*len(names)\n",
    "    \n",
    "    if datum_label != \"\":\n",
    "        datum_label += \" \"\n",
    "    for pred, ax, name in zip(predicts,axs, names):\n",
    "        fig, ax = plot_roc_curve(labels, predictions[pred][:,1],\n",
    "                                 zoom=zoom,\n",
    "                                 zoom_x_lims=zoom_x_lims,\n",
    "                                 zoom_y_lims=zoom_y_lims,\n",
    "                                 fontsize=fontsize,\n",
    "                                 label=pred,\n",
    "                                 datum_label=datum_label,\n",
    "                                 lw=lw,\n",
    "                                 weights=weights,\n",
    "                                 **kwargs)"
   ]
  },
  {
   "cell_type": "code",
   "execution_count": 15,
   "metadata": {
    "collapsed": true
   },
   "outputs": [],
   "source": [
    "def plot_roc_curve(labels, predictions, \n",
    "                   zoom=False, \n",
    "                   fontsize=15,\n",
    "                   zoom_x_lims=[70,100], \n",
    "                   zoom_y_lims=[70,100], \n",
    "                   label=\"\", datum_label=\"\",\n",
    "                   weights=None,\n",
    "                   **kwargs):\n",
    "    \"\"\"\n",
    "    Nice default plotting for roc curves\n",
    "    \"\"\"\n",
    "    fig = plt.figure(1)\n",
    "    ax = fig.add_subplot(111)\n",
    "\n",
    "    fpr, tpr, values =  roc_curve(labels, predictions, sample_weight=weights)\n",
    "    fpr *= 100.\n",
    "    tpr *= 100.\n",
    "    ax.xaxis.tick_top()\n",
    "    ax.set_xlabel('Signal '+datum_label+' Retention Efficiency', size=fontsize)\n",
    "    ax.xaxis.set_label_position('top') \n",
    "    ax.set_ylabel('Background '+datum_label+' Rejection Efficiency', size=fontsize)    \n",
    "    ax.plot(tpr, 100-fpr, label=label, **kwargs)\n",
    "    ax.grid(b=True, which='minor', color='grey', linestyle=':')\n",
    "    ax.grid(b=True, which='major', color='grey', linestyle='--')\n",
    "\n",
    "\n",
    "    fmt = '%.0f%%' # Format you want the ticks, e.g. '40%'\n",
    "    xticks = mtick.FormatStrFormatter(fmt)\n",
    "    ax.xaxis.set_major_formatter(xticks)\n",
    "    ax.yaxis.set_major_formatter(xticks)\n",
    "\n",
    "    ax.set_axisbelow(True)\n",
    "    if zoom:\n",
    "        ax.set_xlim(zoom_x_lims)\n",
    "        ax.set_ylim(zoom_y_lims)\n",
    "    ax.minorticks_on()\n",
    "    # Deal with the legend\n",
    "    ax.legend(loc=3, frameon=1, fontsize=fontsize)\n",
    "    leg = ax.get_legend()\n",
    "    frame = leg.get_frame()\n",
    "    return fig, ax"
   ]
  },
  {
   "cell_type": "code",
   "execution_count": 3,
   "metadata": {
    "collapsed": true
   },
   "outputs": [],
   "source": [
    "def plot_feature(sig_samp, bkg_samp, xlabel=\"\", ylabel=\"\", title=\"\",\n",
    "                 xlog=False, ylog=False, nbins=50, bkg_type=2, sig_type=1,\n",
    "                 uniform_bins=True, normed=True, override_bins=None, **kwargs):\n",
    "    \"\"\"\n",
    "    Nice default plotting for features\n",
    "    \"\"\"\n",
    "    fig = plt.figure(1)\n",
    "    ax = fig.add_subplot(111)\n",
    "\n",
    "    ax.set_xlabel(xlabel)\n",
    "    ax.set_ylabel(ylabel)\n",
    "    ax.set_title(title)\n",
    "\n",
    "    # Apply logarithmic x\n",
    "    if xlog:\n",
    "        sig_samp = np.log10(sig_samp)\n",
    "        bkg_samp = np.log10(bkg_samp)\n",
    "        ax.set_xticks(np.arange(ax.get_xticks()[0], ax.get_xticks()[-1]))\n",
    "        ax.set_xticklabels([str(10**power) for power in ax.get_xticks()])\n",
    "    \n",
    "    # Make the bins uniform\n",
    "    if uniform_bins:\n",
    "        nbins = plot_get_uniform_bins(sig_samp, bkg_samp, nbins)\n",
    "        \n",
    "    if override_bins is not None:\n",
    "        nbins=override_bins\n",
    "    \n",
    "    # Plot the functions\n",
    "    ax.hist(sig_samp, normed=normed, bins=nbins, label='Signal', log=ylog, alpha=0.5, color=\"blue\", **kwargs)\n",
    "    ax.hist(bkg_samp, normed=normed, bins=nbins, label='Background', log=ylog, alpha=0.5, color=\"red\", **kwargs)\n",
    "    \n",
    "    leg = ax.legend(loc=0, frameon=1, fontsize=15)\n",
    "    frame = leg.get_frame()\n",
    "    return ax, fig\n",
    "    #plt.ticklabel_format(style='sci', axis='x', scilimits=(0,0))"
   ]
  },
  {
   "cell_type": "code",
   "execution_count": null,
   "metadata": {
    "collapsed": true
   },
   "outputs": [],
   "source": [
    "def plot_get_uniform_bins(sample_a, sample_b, nbins=20.):\n",
    "    min_bin = np.amin(np.append(sample_a, sample_b))\n",
    "    max_bin = np.amax(np.append(sample_a, sample_b))\n",
    "    bins = np.arange(min_bin, max_bin, (max_bin - min_bin)/float(nbins))\n",
    "    return bins"
   ]
  },
  {
   "cell_type": "code",
   "execution_count": 3,
   "metadata": {
    "collapsed": true
   },
   "outputs": [],
   "source": [
    "def plot_evt_feature(feature, labels, xlabel=\"X Axis\", ylabel=\"Y Axis\", title=\"\",\n",
    "                 xlog=False, ylog=False, nbins=50):\n",
    "    \"\"\"\n",
    "    Nice default plotting for features\n",
    "    \"\"\"\n",
    "    sig = np.where(labels == 1)\n",
    "    bkg = np.where(labels == 0)\n",
    "    \n",
    "    fig = plt.figure(1)\n",
    "    ax = fig.add_subplot(111)\n",
    "\n",
    "    ax.set_xlabel(xlabel)\n",
    "    ax.set_ylabel(ylabel)\n",
    "    ax.set_title(title)\n",
    "\n",
    "    if xlog:\n",
    "        ax.hist(np.log10(feature[sig]), normed=True, bins=nbins, \n",
    "                label='Signal', log=ylog, alpha=0.5, color=\"blue\")\n",
    "        ax.hist(np.log10(feature[bkg]), normed=True, bins=nbins, \n",
    "                label='Background', log=ylog, alpha=0.5, color=\"red\")\n",
    "        ax.set_xticks(np.arange(ax.get_xticks()[0], ax.get_xticks()[-1]))\n",
    "        ax.set_xticklabels([str(10**power) for power in ax.get_xticks()])\n",
    "        #ax.set_xticklabels([r\"$10^{\"+str(power)+\"}$\" for power in ax.get_xticks()])\n",
    "    else:\n",
    "        ax.hist(feature[sig], normed=True, bins=nbins, label='Signal', log=ylog, alpha=0.5, color=\"blue\")\n",
    "        ax.hist(feature[bkg], normed=True, bins=nbins, label='Background', log=ylog, alpha=0.5, color=\"red\")\n",
    "    leg = ax.legend(loc=0, frameon=1, fontsize=15)\n",
    "    frame = leg.get_frame()\n",
    "    return ax, fig\n",
    "    #plt.ticklabel_format(style='sci', axis='x', scilimits=(0,0))"
   ]
  },
  {
   "cell_type": "code",
   "execution_count": 4,
   "metadata": {
    "collapsed": true
   },
   "outputs": [],
   "source": [
    "#def _plot_feature_correlations(corr, feat_label_dict):\n",
    "#    corr = preds.features_correlation_matrix(features=train_features,\n",
    "#                                tick_labels=[feat_label_dict[key] for key in feat_label_dict.keys()])\n",
    "#    corr.fontsize = 15\n",
    "#    corr.cmap = \"RdBu\"\n",
    "#    return corr.plot()"
   ]
  },
  {
   "cell_type": "code",
   "execution_count": 2,
   "metadata": {
    "collapsed": true
   },
   "outputs": [],
   "source": [
    "def plot_feature_correlations(df, title, labels_dict):\n",
    "    fig = plt.figure()\n",
    "    ax1 = fig.add_subplot(111)\n",
    "    cmap = plt.cm.get_cmap('RdBu', 30)\n",
    "    cax = ax1.imshow(df.corr(), interpolation=\"nearest\", cmap=cmap,vmin=-1, vmax=1)\n",
    "    plt.title(title)\n",
    "    labels=[labels_dict[val] for val in df.columns.values]\n",
    "    labels=[None] + labels\n",
    "    ax1.set_xticklabels(labels, rotation=45)\n",
    "    ax1.set_yticklabels(labels)\n",
    "    # Add colorbar, make sure to specify tick locations to match desired ticklabels\n",
    "    ticklabels = np.arange(-1, 1.001, 0.25)\n",
    "    cbar = fig.colorbar(cax, ticks=ticklabels)\n",
    "    plt.show()"
   ]
  },
  {
   "cell_type": "code",
   "execution_count": null,
   "metadata": {
    "collapsed": true
   },
   "outputs": [],
   "source": [
    "def plot_hough_shift(int_even, int_odd, this_phi, savedir=None):\n",
    "    dphi = (2.*np.pi)/len(int_even)\n",
    "    phi_bins = dphi*np.arange(len(int_even))\n",
    "    plt.bar(phi_bins, int_even, alpha=0.5, width=dphi)\n",
    "    plt.bar(phi_bins, int_odd, color=\"red\",alpha=0.5, width=dphi)\n",
    "    plt.title(r\"Track Center Weights vs. $\\phi$\")\n",
    "    plt.xlabel(r\"$\\phi$\")\n",
    "    plt.ylabel(r\"Track Center Weights (Integrated over $\\rho$)\")\n",
    "    plt.xlim([0,2*np.pi])\n",
    "    if savedir != None:\n",
    "        plt.savefig(savedir+\"hough_by_phi.png\")\n",
    "    show()\n",
    "    plt.bar(phi_bins, int_even, alpha=0.5, width=dphi)\n",
    "    plt.bar(np.roll(phi_bins, this_phi), int_odd, color=\"red\",alpha=0.5, width=dphi)\n",
    "    plt.title(r\"Shifted Track Center Weights vs. $\\phi$\")\n",
    "    plt.xlabel(r\"$\\phi$\")\n",
    "    plt.ylabel(r\"Track Center Weights (Integrated over $\\rho$)\")\n",
    "    plt.xlim([0,2*np.pi])\n",
    "    if savedir != None:\n",
    "        plt.savefig(savedir+\"s_hough_by_phi.png\")\n",
    "    show()"
   ]
  },
  {
   "cell_type": "code",
   "execution_count": 1,
   "metadata": {
    "collapsed": true
   },
   "outputs": [],
   "source": [
    "def plot_add_cth_crystal(crys, geom, **kwargs):\n",
    "    \"\"\"\n",
    "    Add a CTH crystal to an existing CDC plot\n",
    "    \n",
    "    :param crys: flat_id of the crystal to be added\n",
    "    :param geom: copy of the CTH geometry to use\n",
    "    \"\"\"\n",
    "    # Check what kind of crystal it is\n",
    "    assert (crys >= 0 and crys < 256), \"Volume ID {} is out of range\".format(crys)\n",
    "    # Check which crystal \n",
    "    if (crys < 64) or (crys >= 128 and crys < 192):\n",
    "        these_params = geom.cherenkov_params\n",
    "    elif (crys >= 64 and crys < 128) or (crys >= 192):\n",
    "        these_params = geom.scintillator_params\n",
    "    # Draw the crystal\n",
    "    plot_draw_cth_crystal(crys, geom, these_params, **kwargs)"
   ]
  },
  {
   "cell_type": "code",
   "execution_count": 2,
   "metadata": {
    "collapsed": true
   },
   "outputs": [],
   "source": [
    "def plot_draw_cth_crystal(crys, geom, params, **kwargs):\n",
    "    \"\"\"\n",
    "    Impliment actually drawing the crystal\n",
    "    \"\"\"\n",
    "    # Get the parameters\n",
    "    wth, hgt, ang = params\n",
    "    angle = (geom.get_points_rhos_and_phis()[1][crys] * 180/np.pi) - ang\n",
    "    a_plt = angle * np.pi/180\n",
    "    # Rotate the plot correctly\n",
    "    x_plt = geom.get_points_xs_and_ys()[0][crys] + sin(a_plt)*hgt/2. - cos(a_plt)*wth/2.\n",
    "    y_plt = geom.get_points_xs_and_ys()[1][crys] - cos(a_plt)*hgt/2. - sin(a_plt)*wth/2. \n",
    "    # Add the rectangle\n",
    "    plot_rect = plt.Rectangle((x_plt, y_plt), wth, hgt, angle=angle,\n",
    "                             transform=gca().transData._b, **kwargs)\n",
    "    gca().add_artist(plot_rect)"
   ]
  },
  {
   "cell_type": "code",
   "execution_count": 3,
   "metadata": {
    "collapsed": true
   },
   "outputs": [],
   "source": [
    "def plot_add_cth_outlines(geom, **kwargs):\n",
    "    \"\"\"\n",
    "    Add the outlines of all the crystals to the CDC plot\n",
    "    \"\"\"\n",
    "    # Loop through and draw all crystals\n",
    "    for crystal in range(256):\n",
    "        plot_add_cth_crystal(crystal, geom, fill=False, alpha=0.2, lw=0.4, **kwargs)"
   ]
  },
  {
   "cell_type": "code",
   "execution_count": null,
   "metadata": {
    "collapsed": true
   },
   "outputs": [],
   "source": [
    "def plot_add_crystals(output, geom, **kwargs):\n",
    "    \"\"\"\n",
    "    Plot the crystals in an arbitrary colour\n",
    "    \n",
    "    :param output: vector/list of hit volumes of shape [geom.n_points]\n",
    "                   key: 0 is nothing, 1 is for plotting\n",
    "    :param geom: CTH geometry to draw\n",
    "    \"\"\"\n",
    "    for crystal in [i for i, e in enumerate(output) if e]:\n",
    "        plot_add_cth_crystal(crystal, geom, lw=0.4, **kwargs)"
   ]
  },
  {
   "cell_type": "code",
   "execution_count": 7,
   "metadata": {
    "collapsed": true
   },
   "outputs": [],
   "source": [
    "def plot_add_cth(output, trig_out, geom, **kwargs):\n",
    "    \"\"\"\n",
    "    Plot the output hit crystals\n",
    "    \n",
    "    :param output: vector/list of hit volumes of shape [geom.n_points]\n",
    "                   key: 0 is nothing, 1 is signal, 2 is bkg\n",
    "    :param geom: CTH geometry to draw\n",
    "    \"\"\"\n",
    "    # Get the crystal indexes\n",
    "    bkg_crystals = np.array([i for i, e in enumerate(output) if e == 2])\n",
    "    sig_crystals = np.array([i for i, e in enumerate(output) if e == 1])\n",
    "    trig_crystals = np.array([i for i, e in enumerate(trig_out) if e == 1])\n",
    "    # Plot seperate by triggered and untriggered\n",
    "    # Loop through and draw all crystals\n",
    "    fill=False\n",
    "    alpha=1.0\n",
    "    lw=0.4\n",
    "    for crystal in bkg_crystals:\n",
    "        fill=False\n",
    "        alpha=1.0\n",
    "        if np.in1d(crystal, trig_crystals):\n",
    "            fill=True\n",
    "            alpha=0.5\n",
    "        plot_add_cth_crystal(crystal, geom, alpha=alpha, \\\n",
    "                             lw=lw, color=\"Red\", fill=fill, **kwargs)\n",
    "    for crystal in sig_crystals:\n",
    "        fill=False\n",
    "        alpha=1.0\n",
    "        if np.in1d(crystal, trig_crystals):\n",
    "            fill=True\n",
    "            alpha=0.5\n",
    "        plot_add_cth_crystal(crystal, geom, alpha=alpha, \\\n",
    "                             lw=lw, color=\"Blue\", fill=fill, **kwargs)"
   ]
  },
  {
   "cell_type": "code",
   "execution_count": 7,
   "metadata": {
    "collapsed": true
   },
   "outputs": [],
   "source": [
    "def plot_occupancies(sig_occu, back_occu, occu, \n",
    "                     n_vols=4482,\n",
    "                     x_pos=0.5, y_pos=0.5):\n",
    "    vol_norm = n_vols / 100.\n",
    "    ax1, fig = plot_feature(sig_occu, back_occu, xlabel=\"Number of Wires Filled\", ylabel=\"Number of Events\", normed=False)\n",
    "    ax2 = ax1.twiny()\n",
    "    ax2.set_xlim(ax1.get_xlim())\n",
    "    ax2.set_xticks(ax1.get_xticks())\n",
    "    ax2.set_xticklabels(np.round(ax1.get_xticks() / vol_norm, decimals=2))\n",
    "    ax2.set_xlabel(\"Occupancy [%]\")\n",
    "\n",
    "    # Average signal\n",
    "    a_sig = np.average(sig_occu)\n",
    "    a_bkg = np.average(back_occu)\n",
    "    a_occ = np.average(occu)\n",
    "    textstr = 'Average Number of Wires'+\\\n",
    "              '\\n  Signal:          {:.3g}'.format(a_sig) +\\\n",
    "              '\\n  Background: {:.3g}'.format(a_bkg) +\\\n",
    "              '\\n  Combined:    {:.3g}'.format(a_occ)\n",
    " \n",
    "    # Average signal\n",
    "    textstr += '\\nAverage Occupancy'+\\\n",
    "              '\\n  Signal:          {:.3g}%'.format(a_sig/vol_norm) +\\\n",
    "              '\\n  Background: {:.3g}%'.format(a_bkg/vol_norm) +\\\n",
    "              '\\n  Combined:    {:.3g}%'.format(a_occ/vol_norm)\n",
    "    # these are matplotlib.patch.Patch properties\n",
    "    props = dict(facecolor='white', alpha=0.5)\n",
    "\n",
    "    # place a text box in upper left in axes coords\n",
    "    ax1.text(x_pos, y_pos, textstr, transform=ax1.transAxes,\n",
    "            verticalalignment='top',\n",
    "            horizontalalignment='left',\n",
    "            fontsize=13)"
   ]
  },
  {
   "cell_type": "code",
   "execution_count": 8,
   "metadata": {
    "collapsed": true
   },
   "outputs": [],
   "source": [
    "def plot_feature_importance(classifier_and_feature, feat_label_dict=None, font_size=None):\n",
    "    classifier, features = classifier_and_feature\n",
    "    importances = classifier.feature_importances_\n",
    "    feat_import = DataFrame({'effect': importances, 'features': features})\n",
    "    feat_import = feat_import.sort_values(\"effect\", ascending=True)\n",
    "    ax = plt.subplot(111)\n",
    "    ax.barh( np.arange(len(feat_import.effect)), feat_import.effect,zorder=10)\n",
    "    ax.set_yticks(np.arange(len(feat_import.values)))\n",
    "    ax.minorticks_on()\n",
    "    ax.set_xlabel(\"Normalized Relative Usage\")\n",
    "    ax.set_title(\"Feature Importance\")\n",
    "    ax.autoscale()\n",
    "    ax.grid(b=True, which='major', axis='x' ,color='grey', linestyle='--', lw=2)\n",
    "    ax.grid(b=True, which='minor', axis='x' , color='grey', linestyle=':', lw=2)\n",
    "    if feat_label_dict is None:\n",
    "        feat_label_dict = dict()\n",
    "    ordered_labels = OrderedDict((key, feat_label_dict.get(key,key)) for key in feat_import.features)\n",
    "    ax.set_yticklabels(ordered_labels.values(), fontsize = font_size)\n",
    "    #ax.set_xticks([tick for tick in ax.get_xticks()[::2]])\n",
    "    ax.set_xticklabels([\"{:.0f}%\".format(tick*100) for tick in ax.get_xticks()], fontsize = font_size)\n",
    "    return ax"
   ]
  }
 ],
 "metadata": {
  "kernelspec": {
   "display_name": "Python 3",
   "language": "python",
   "name": "python3"
  },
  "language_info": {
   "codemirror_mode": {
    "name": "ipython",
    "version": 3
   },
   "file_extension": ".py",
   "mimetype": "text/x-python",
   "name": "python",
   "nbconvert_exporter": "python",
   "pygments_lexer": "ipython2",
   "version": "2.7.14"
  },
  "varInspector": {
   "cols": {
    "lenName": 16,
    "lenType": 16,
    "lenVar": 40
   },
   "kernels_config": {
    "python": {
     "delete_cmd_postfix": "",
     "delete_cmd_prefix": "del ",
     "library": "var_list.py",
     "varRefreshCmd": "print(var_dic_list())"
    },
    "r": {
     "delete_cmd_postfix": ") ",
     "delete_cmd_prefix": "rm(",
     "library": "var_list.r",
     "varRefreshCmd": "cat(var_dic_list()) "
    }
   },
   "types_to_exclude": [
    "module",
    "function",
    "builtin_function_or_method",
    "instance",
    "_Feature"
   ],
   "window_display": false
  }
 },
 "nbformat": 4,
 "nbformat_minor": 1
}
