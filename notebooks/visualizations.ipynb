{
 "cells": [
  {
   "cell_type": "markdown",
   "metadata": {},
   "source": [
    "# Plotting Methods for All Analyses"
   ]
  },
  {
   "cell_type": "code",
   "execution_count": 18,
   "metadata": {
    "collapsed": false
   },
   "outputs": [
    {
     "name": "stdout",
     "output_type": "stream",
     "text": [
      "Populating the interactive namespace from numpy and matplotlib\n"
     ]
    }
   ],
   "source": [
    "%pylab inline\n",
    "import sys\n",
    "sys.path.insert(0, '../modules')"
   ]
  },
  {
   "cell_type": "code",
   "execution_count": null,
   "metadata": {
    "collapsed": true
   },
   "outputs": [],
   "source": [
    "from cylinder import TrackCenters"
   ]
  },
  {
   "cell_type": "markdown",
   "metadata": {},
   "source": [
    "## Default Size Options"
   ]
  },
  {
   "cell_type": "code",
   "execution_count": 17,
   "metadata": {
    "collapsed": true
   },
   "outputs": [],
   "source": [
    "dot_size = 40"
   ]
  },
  {
   "cell_type": "code",
   "execution_count": 35,
   "metadata": {
    "collapsed": false
   },
   "outputs": [],
   "source": [
    "# Declare Globally \n",
    "wire_rhos, wire_phis = None, None\n",
    "wire_xs, wire_ys = None, None\n",
    "n_wires = 4482\n",
    "plot_cydet = None\n",
    "\n",
    "def plot_set_cydet(cydet_instance):\n",
    "    \"\"\"\n",
    "    Setup wire locations in x,y and r, theta\n",
    "    \"\"\"\n",
    "    plot_cydet = cydet_instance\n",
    "    wire_rhos, wire_phis = plot_cydet.get_points_rhos_and_phis()\n",
    "    wire_xs, wire_ys = plot_cydet.get_points_xs_and_ys()\n",
    "    n_wires = plot_cydet.n_points"
   ]
  },
  {
   "cell_type": "code",
   "execution_count": 28,
   "metadata": {
    "collapsed": true
   },
   "outputs": [],
   "source": [
    "# Declare Globally \n",
    "track_rhos, track_phis = None, None\n",
    "track_xs, track_ys = None, None\n",
    "n_centres = None\n",
    "plot_hough = None\n",
    "\n",
    "def plot_set_hough(hough_instance):\n",
    "    \"\"\"\n",
    "    Setup track centre locations in x,y and r, theta\n",
    "    \"\"\"\n",
    "    plot_hough = hough_instance\n",
    "    track_rhos, track_phis = hough_instance.track.get_points_rhos_and_phis()\n",
    "    track_xs, track_ys = hough_instance.track.get_points_xs_and_ys()\n",
    "    n_centres = hough_instance.track.n_points"
   ]
  },
  {
   "cell_type": "code",
   "execution_count": 15,
   "metadata": {
    "collapsed": true
   },
   "outputs": [],
   "source": [
    "def plot_set_font(size=15):\n",
    "    \"\"\"\n",
    "    Default Font for all plots \n",
    "    \"\"\"\n",
    "    font = {'family' : 'normal',\n",
    "        'weight' : 'normal',\n",
    "        'size'   : size}\n",
    "    # Enable LaTeX support in fonts\n",
    "    matplotlib.rc('font', **font)"
   ]
  },
  {
   "cell_type": "code",
   "execution_count": 32,
   "metadata": {
    "collapsed": true
   },
   "outputs": [],
   "source": [
    "def plot_setup_for_detector(size=(15, 15)):\n",
    "    \"\"\"\n",
    "    Default plot for event display\n",
    "    \"\"\"\n",
    "    plot_set_font()\n",
    "    fig = plt.figure(1, figsize=size)\n",
    "    fig.figsize(*size)\n",
    "    fig.axes(polar=True)\n",
    "    fig.ylim(0, 85)\n",
    "    return fig"
   ]
  },
  {
   "cell_type": "code",
   "execution_count": null,
   "metadata": {
    "collapsed": true
   },
   "outputs": [],
   "source": [
    "def plot_get_hits(labels):\n",
    "    \"\"\"\n",
    "    Gets the signal and background hits for an event\n",
    "    \n",
    "    :param labels: Labels from an event\n",
    "    \n",
    "    :return: signal hits, background hits\n",
    "    \"\"\"\n",
    "    # Ensure the event is the right number of wires\n",
    "    assert len(labels) == n_wires,\\\n",
    "        \"Number of input wires is {}, real number is {}\".format(len(labels), n_wires)\n",
    "    # Get the signal hits\n",
    "    sig_hits = np.where(labels == 1)\n",
    "    bkg_hits = np.where(labels == 2)\n",
    "    return sig_hits, bkg_hits"
   ]
  },
  {
   "cell_type": "code",
   "execution_count": 34,
   "metadata": {
    "collapsed": false
   },
   "outputs": [],
   "source": [
    "def plot_output(labels, size=dot_size*np.ones(n_wires), sig_color=\"blue\", bkg_color=\"red\", figsize=(12,14)):\n",
    "    \"\"\"\n",
    "    Draw the output of a classifier by scaling the hits to the size of the output.\n",
    "    \n",
    "    :param labels:    Triple labels to tell signal from background from empty\n",
    "    :param size:      Size of all hits on every wire, this includes empty wires\n",
    "    :param sig_color: Colour of signal hits, default blue\n",
    "    :param bkg_color: Colour of background hits, default red\n",
    "    \n",
    "    :return: axis of plot, figure of plot\n",
    "    \"\"\"\n",
    "    # Set the default font\n",
    "    plot_set_font()\n",
    "    # Get the hits from the labels\n",
    "    sig_hits, bkg_hits = plot_get_hits(labels)\n",
    "    # Get axis and figure\n",
    "    fig = plt.figure(1, figsize=figsize)\n",
    "    axs = fig.add_subplot(111, projection='polar')\n",
    "    axs.set_ylim([0,85])\n",
    "    # Set theta ticks at 45 degrees\n",
    "    thetaticks = np.arange(0, 360, 45)\n",
    "    # Set ticks further out from edge\n",
    "    axs.set_thetagrids(thetaticks, frac=1.05)\n",
    "    # Set radial ticks\n",
    "    axs.set_yticks(np.arange(10,81,20))\n",
    "    # Plot all wires\n",
    "    print wire_phis, wire_rhos\n",
    "    axs.scatter(wire_phis, wire_rhos, marker='.', s=5, alpha=0.2)\n",
    "    # Plot signal hits\n",
    "    axs.scatter(wire_phis[sig_hits],wire_rhos[sig_hits], s=size[sig_hits], \n",
    "                marker='o', color=sig_color)\n",
    "    # Plot background hits\n",
    "    axs.scatter(wire_phis[bkg_hits],wire_rhos[bkg_hits], s=size[bkg_hits], \n",
    "                marker='o', color=bkg_color)\n",
    "    # Return axis and figure\n",
    "    return axs, fig"
   ]
  },
  {
   "cell_type": "code",
   "execution_count": null,
   "metadata": {
    "collapsed": true
   },
   "outputs": [],
   "source": [
    "def plot_add_outlines(labels, sig_color=\"blue\", bkg_color=\"red\", size=dot_size):\n",
    "    \"\"\"\n",
    "    Adds in outlines of original locations of hits\n",
    "    \n",
    "    :param labels:    Triple labels to tell signal from background from empty\n",
    "    :param size:      Size of all hits on every wire, this includes empty wires\n",
    "    :param sig_color: Colour of signal hits, default blue\n",
    "    :param bkg_color: Colour of background hits, default red\n",
    "    \"\"\"\n",
    "    # Get the hits from the labels\n",
    "    sig_hits, bkg_hits = plot_get_hits(labels)\n",
    "    # Add the outlines of the signal and background\n",
    "    gca().scatter(wire_phis[sig_hits],wire_rhos[sig_hits], s=size,\n",
    "            marker='o', edgecolors=sig_color, facecolors='none',  lw = 0.5)\n",
    "    gca().scatter(wire_phis[bkg_hits],wire_rhos[bkg_hits], s=size,\n",
    "            marker='o', edgecolors=bkg_color, facecolors='none',  lw = 0.5)"
   ]
  },
  {
   "cell_type": "code",
   "execution_count": null,
   "metadata": {
    "collapsed": true
   },
   "outputs": [],
   "source": [
    "def plot_add_circle(x, y, radius, color=\"green\", lw=1., spread=0, l_alpha=1., s_alpha=0.025):\n",
    "    \"\"\"\n",
    "    Add a circle to our plot\n",
    "    \n",
    "    :param x:        x location of circle centre\n",
    "    :param y:        y location of circle centre\n",
    "    :param radius:   radius of circle\n",
    "    :param color:    color of circle\n",
    "    :param lw:       line width of circle\n",
    "    :param spread:   spread of circle, symmetric\n",
    "    :param l_alpha:  overall normalization on weight of line\n",
    "    :param s_alpha:  overall normalization on weight of spread\n",
    "    \"\"\"\n",
    "    ## TODO check gca() usage here\n",
    "    plot_circle = plt.Circle((x, y), radius, transform=gca().transData._b,\n",
    "            color=color, fill=False, alpha=l_alpha, lw=lw)\n",
    "    gca().add_artist(plot_circle)\n",
    "    # Add a spread if need be\n",
    "    if spread!=0:\n",
    "        plot_spread = plt.Circle((x, y), radius,\n",
    "                transform=gca().transData._b, color=\"green\",\n",
    "                alpha=s_alpha, fill=False, lw=spread)\n",
    "        gca().add_artist(plot_spread)"
   ]
  },
  {
   "cell_type": "code",
   "execution_count": null,
   "metadata": {
    "collapsed": true
   },
   "outputs": [],
   "source": [
    "def plot_add_transform(index, inverse=False, color=\"green\", l_alpha=1., s_alpha=0.025,\n",
    "                      prob_spread=True):\n",
    "    \"\"\"\n",
    "    Add a hough transform overlay, assumes forward transform unless told otherwise\n",
    "    \n",
    "    :param index:        index of wire or track centre\n",
    "    :param inverse:      If true, plot from track centre to wires\n",
    "    :param color:        color of circle\n",
    "    :param l_alpha:      overall normalization on weight of line\n",
    "    :param s_alpha:      overall normalization on weight of spread\n",
    "    :param prob_spread:  Call the actual correpsondence function to determine the shading\n",
    "                         of the probability spread\n",
    "    \"\"\"\n",
    "    # Define the signal radius\n",
    "    r_sig = plot_hough.sig_rho\n",
    "    r_max = plot_hough.sig_rho_max \n",
    "    r_min = plot_hough.sig_rho_min\n",
    "    # Check if we are mapping forwards or inverse\n",
    "    if inverse:\n",
    "        plot_x = track_xs[index]\n",
    "        plot_y = track_ys[index]\n",
    "    else:\n",
    "        plot_x = wire_xs[index]\n",
    "        plot_y = wire_ys[index]\n",
    "        \n",
    "    # Add the target radius circle\n",
    "    plot_add_circle((plot_x, plot_y), r_sig, color=color, l_alpha=l_alpha, s_alpha=s_alpha)\n",
    "    # Add the spread around the target as 10 shaded circles at varying distances\n",
    "    for r in np.linspace(r_min, r_max, 10):\n",
    "        # Check if we're actually calling the function\n",
    "        if prob_spread == True:\n",
    "            shading = s_alpha*plot_hough.dist_prob(r)/plot_hough.dist_prob(radius)\n",
    "        # Define it as a constant weight otherwise\n",
    "        else: \n",
    "            shading = s_alpha/2.\n",
    "        # Add the spread\n",
    "        plot_add_circle((plot_x, plot_y), r, color=color, l_alpha=shading, lw=3)"
   ]
  },
  {
   "cell_type": "code",
   "execution_count": 29,
   "metadata": {
    "collapsed": false
   },
   "outputs": [],
   "source": [
    "def plot_add_tracks(tolerance=0.001, size=(dot_size/5.)*np.ones(n_wires), \n",
    "                    color=\"DarkOrange\", add_transform=False):\n",
    "    \"\"\"\n",
    "    Add track centres as orange points\n",
    "    \n",
    "    :param tolerance:     Relative size of smallest drawn track centre to maximum track\n",
    "                          centre\n",
    "    :param size:          Size of all track centres\n",
    "    :param color:         Colour of track centres\n",
    "    :param add_transform: Adds default transform if true\n",
    "    \"\"\"\n",
    "    # Find the tracks above tolerance of the max\n",
    "    draw_tracks = np.where(size > np.amax(size)*tolerance)[0]\n",
    "    # Draw these tracks\n",
    "    gca().scatter(track_phis[draw_tracks] ,track_rhos[draw_tracks],\n",
    "            s=track_size[draw_tracks], marker='o', color=color, zorder=10)\n",
    "    # If we want transforms, add them too\n",
    "    if add_transform:\n",
    "        for trk in draw_tracks:\n",
    "            plot_add_transform()"
   ]
  },
  {
   "cell_type": "code",
   "execution_count": null,
   "metadata": {
    "collapsed": true
   },
   "outputs": [],
   "source": [
    "def plot_norm_size(bdt_guess, size=dot_size):\n",
    "    return (float(size)*bdt_guess)/np.amax(bdt_guess)"
   ]
  }
 ],
 "metadata": {
  "kernelspec": {
   "display_name": "Python 2",
   "language": "python",
   "name": "python2"
  },
  "language_info": {
   "codemirror_mode": {
    "name": "ipython",
    "version": 2
   },
   "file_extension": ".py",
   "mimetype": "text/x-python",
   "name": "python",
   "nbconvert_exporter": "python",
   "pygments_lexer": "ipython2",
   "version": "2.7.5"
  }
 },
 "nbformat": 4,
 "nbformat_minor": 0
}
