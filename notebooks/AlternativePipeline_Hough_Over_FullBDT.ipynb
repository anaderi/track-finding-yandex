{
 "cells": [
  {
   "cell_type": "markdown",
   "metadata": {},
   "source": [
    "# Building alternative pipeline\n",
    "\n",
    "* Prepare Hough transform based only on wire information (= energy, time, radial distance)\n",
    "* Build predictions based on Hough, local information, and local information of left/right neighbors\n"
   ]
  },
  {
   "cell_type": "code",
   "execution_count": 35,
   "metadata": {
    "collapsed": false,
    "scrolled": false
   },
   "outputs": [
    {
     "name": "stdout",
     "output_type": "stream",
     "text": [
      "Populating the interactive namespace from numpy and matplotlib\n"
     ]
    }
   ],
   "source": [
    "%pylab inline\n",
    "import sys\n",
    "sys.path.insert(0, '../modules')"
   ]
  },
  {
   "cell_type": "code",
   "execution_count": 36,
   "metadata": {
    "collapsed": false,
    "scrolled": true
   },
   "outputs": [],
   "source": [
    "from hits import AllHits\n",
    "hits = AllHits('../data/signal_TDR.root')"
   ]
  },
  {
   "cell_type": "code",
   "execution_count": 37,
   "metadata": {
    "collapsed": true
   },
   "outputs": [],
   "source": [
    "from tracking import Hough\n",
    "from scipy import sparse\n",
    "from sklearn.metrics import roc_auc_score, roc_curve"
   ]
  },
  {
   "cell_type": "markdown",
   "metadata": {
    "collapsed": false
   },
   "source": [
    "### Collect (Raw) Wire Features "
   ]
  },
  {
   "cell_type": "code",
   "execution_count": 38,
   "metadata": {
    "collapsed": true
   },
   "outputs": [],
   "source": [
    "right_neighs = numpy.array([hits.cydet.shift_wire(wire, 1) for wire in range(hits.cydet.n_points)])\n",
    "left_neighs = numpy.array([hits.cydet.shift_wire(wire, -1) for wire in range(hits.cydet.n_points)])"
   ]
  },
  {
   "cell_type": "code",
   "execution_count": 39,
   "metadata": {
    "collapsed": false,
    "scrolled": false
   },
   "outputs": [],
   "source": [
    "# Energy deposits\n",
    "deposits = numpy.vstack(hits.get_energy_deposits(i) for i in range(hits.n_events))\n",
    "deposits *= 100 # to avoid small numbers for GBRT\n",
    "# Time after triggering that signal waveforms starts\n",
    "rel_time = numpy.vstack(hits.get_relative_time(i) for i in range(hits.n_events))\n",
    "# Truth Values\n",
    "labels = numpy.vstack(hits.get_hit_types(i) for i in range(hits.n_events))\n",
    "# Layer ID of hit wires\n",
    "layer_id = numpy.vstack(hits.cydet.point_rhos for i in range(hits.n_events))"
   ]
  },
  {
   "cell_type": "code",
   "execution_count": 40,
   "metadata": {
    "collapsed": false,
    "scrolled": false
   },
   "outputs": [
    {
     "data": {
      "text/plain": [
       "((3445, 4482), (3445, 4482))"
      ]
     },
     "execution_count": 40,
     "metadata": {},
     "output_type": "execute_result"
    }
   ],
   "source": [
    "labels.shape, deposits.shape"
   ]
  },
  {
   "cell_type": "markdown",
   "metadata": {},
   "source": [
    "## Train/test splitting "
   ]
  },
  {
   "cell_type": "code",
   "execution_count": 41,
   "metadata": {
    "collapsed": false,
    "scrolled": false
   },
   "outputs": [],
   "source": [
    "from sklearn.cross_validation import train_test_split\n",
    "rest, sample_3 = train_test_split(range(len(labels)), train_size=0.6, test_size=0.3)\n",
    "sample_1, sample_2 = train_test_split(rest, train_size=0.5, test_size=0.5)"
   ]
  },
  {
   "cell_type": "markdown",
   "metadata": {},
   "source": [
    "## Features for Wire GBDT"
   ]
  },
  {
   "cell_type": "code",
   "execution_count": 42,
   "metadata": {
    "collapsed": false,
    "scrolled": false
   },
   "outputs": [],
   "source": [
    "from collections import OrderedDict\n",
    "features = OrderedDict()\n",
    "# Wire features\n",
    "features['deposit'] = deposits * 100\n",
    "features['rel_time'] = rel_time\n",
    "features['layer_id'] = layer_id\n",
    "\n",
    "# LR-Neighbour Features\n",
    "features['r_deposit'] = (deposits * 100)[:, right_neighs]\n",
    "features['r_rel_time'] = rel_time[:, right_neighs]\n",
    "features['l_deposit'] = (deposits * 100)[:, left_neighs]\n",
    "features['l_rel_time'] = rel_time[:, left_neighs]\n",
    "\n",
    "# Truth values\n",
    "features['labels'] = labels"
   ]
  },
  {
   "cell_type": "code",
   "execution_count": 43,
   "metadata": {
    "collapsed": false,
    "scrolled": false
   },
   "outputs": [
    {
     "name": "stdout",
     "output_type": "stream",
     "text": [
      "(3445, 4482, 8)\n"
     ]
    }
   ],
   "source": [
    "# Define Data\n",
    "train_features = features.keys()[:-1]\n",
    "data = numpy.dstack(features.values())\n",
    "print data.shape"
   ]
  },
  {
   "cell_type": "markdown",
   "metadata": {},
   "source": [
    "## Define new interface for 3D data [event_index, wire_index, feature_index]"
   ]
  },
  {
   "cell_type": "code",
   "execution_count": 44,
   "metadata": {
    "collapsed": true
   },
   "outputs": [],
   "source": [
    "import pandas\n",
    "def train_classifier(data, features, train_events, train_wires, train_target, classifier):\n",
    "    \"\"\"\n",
    "    Function to flatten out wires from [event, wires] to [all_wires]\n",
    "    data - original dataset with prepared features\n",
    "    features - names of features in dataset\n",
    "    train_events - ids of events \n",
    "    train_wires - which wires to use (boolean numpy.array of shape [n_events, n_wires])\n",
    "    train_target - numpy.array of shape [n_events, n_wires] with zeros and ones, and whatever in \n",
    "    classifier - rep classifier to be used\n",
    "    \"\"\"\n",
    "    # Get the indecies of the wires and flatten\n",
    "    train_wires = train_wires[train_events].flatten()\n",
    "    # Flatten the data to [all_wires, n_features], only use wires that are training wires\n",
    "    train_data = data[train_events].reshape(-1, data.shape[-1])[train_wires, :]\n",
    "    # Define the data frame\n",
    "    train_data = pandas.DataFrame(data=train_data, columns=features)\n",
    "    # Get labels for the wires\n",
    "    train_target = train_target[train_events].flatten()[train_wires]\n",
    "    # Train the classifieir\n",
    "    classifier.fit(train_data, train_target)\n",
    "    return classifier\n",
    "\n",
    "def predict_classifier(data, features, classifier, apply_mask, default_value=0.):\n",
    "    \"\"\"\n",
    "    data - original data [n_samples, n_wires, n_features]\n",
    "    features - features of it\n",
    "    apply_mask - numpy.array of shape [n_samples, n_wires]\n",
    "    classifier - used classifier\n",
    "    \"\"\"\n",
    "    # Select which wires will be predicted\n",
    "    apply_mask = apply_mask.flatten()\n",
    "    # Flatten the test data\n",
    "    test_data = pandas.DataFrame(data=data.reshape([-1, data.shape[-1]]), columns=features)\n",
    "    # Allow for a default value on top of the result\n",
    "    result = numpy.zeros(len(test_data)) + default_value\n",
    "    # Apply the wire mask to the result\n",
    "    result[apply_mask] = classifier.predict_proba(test_data[apply_mask])[:, 1]\n",
    "    # Return the signal probabilities\n",
    "    return result.reshape(data.shape[:2])"
   ]
  },
  {
   "cell_type": "markdown",
   "metadata": {},
   "source": [
    "## NeighbourLevel GBDT"
   ]
  },
  {
   "cell_type": "code",
   "execution_count": 45,
   "metadata": {
    "collapsed": false
   },
   "outputs": [],
   "source": [
    "from rep.estimators import SklearnClassifier\n",
    "from rep.metaml.factory import ClassifiersFactory\n",
    "from sklearn.ensemble import GradientBoostingClassifier\n",
    "\n",
    "# Training\n",
    "neigh_gbdt = train_classifier(data=data, features=features.keys(), train_events=sample_1, \n",
    "    train_wires=features['labels'] != 0, \n",
    "    train_target=2 - features['labels'], \n",
    "    classifier=SklearnClassifier(GradientBoostingClassifier(n_estimators=10), features=train_features))"
   ]
  },
  {
   "cell_type": "code",
   "execution_count": 46,
   "metadata": {
    "collapsed": false
   },
   "outputs": [],
   "source": [
    "# Test data for the wire level GBDT\n",
    "data_2 = data[sample_2]\n",
    "pred_2 = predict_classifier(data_2, features, neigh_gbdt, \n",
    "                               apply_mask=data_2[:, :, -1] != 0)"
   ]
  },
  {
   "cell_type": "code",
   "execution_count": 47,
   "metadata": {
    "collapsed": true
   },
   "outputs": [],
   "source": [
    "# Get training output data for the wire level GBDT\n",
    "data_1 = data[sample_1]\n",
    "pred_1 = predict_classifier(data_1, features, neigh_gbdt, \n",
    "                               apply_mask=data_1[:, :, -1] != 0)"
   ]
  },
  {
   "cell_type": "code",
   "execution_count": 69,
   "metadata": {
    "collapsed": false
   },
   "outputs": [
    {
     "name": "stdout",
     "output_type": "stream",
     "text": [
      "(1033, 4482)\n"
     ]
    }
   ],
   "source": [
    "print shape(pred_1)"
   ]
  },
  {
   "cell_type": "markdown",
   "metadata": {},
   "source": [
    "## Testing hough  "
   ]
  },
  {
   "cell_type": "code",
   "execution_count": 48,
   "metadata": {
    "collapsed": true
   },
   "outputs": [],
   "source": [
    "def setup_plot_for_detector(size=(15, 15)):\n",
    "    figsize(*size)\n",
    "    axes(polar=True)\n",
    "    # set appropriate\n",
    "    ylim(0, 85)   "
   ]
  },
  {
   "cell_type": "code",
   "execution_count": 49,
   "metadata": {
    "collapsed": true
   },
   "outputs": [],
   "source": [
    "def get_labels(features, sample):\n",
    "    # Signal, background, and nothing labels\n",
    "    triplelabels = features['labels'][sample].flatten()\n",
    "    # Define signal as one, nothing or background as zero\n",
    "    binary_labels = numpy.take([0, 1, 0], triplelabels)\n",
    "    return triplelabels, binary_labels"
   ]
  },
  {
   "cell_type": "code",
   "execution_count": 50,
   "metadata": {
    "collapsed": false
   },
   "outputs": [],
   "source": [
    "triplelabels_2, binary_labels_2 = get_labels(features, sample_2)\n",
    "# Before Hough\n",
    "before_hough_2 = pred_2.flatten()\n",
    "# Define which wires we want to correct as hits which were missclassified \n",
    "problem_weights_2 = (triplelabels_2 != 0) * abs(binary_labels_2 - before_hough_2) ** 2"
   ]
  },
  {
   "cell_type": "markdown",
   "metadata": {},
   "source": [
    "### real quality and quality with weights increased for poorly recognized events.\n",
    "Second scoring is used later to measure quality of Hough transform"
   ]
  },
  {
   "cell_type": "code",
   "execution_count": 51,
   "metadata": {
    "collapsed": false
   },
   "outputs": [
    {
     "name": "stdout",
     "output_type": "stream",
     "text": [
      "0.987714728756\n",
      "0.704123341217\n"
     ]
    }
   ],
   "source": [
    "print roc_auc_score(binary_labels_2, before_hough_2, sample_weight=(triplelabels_2 != 0))\n",
    "print roc_auc_score(binary_labels_2, before_hough_2, sample_weight=problem_weights_2)"
   ]
  },
  {
   "cell_type": "markdown",
   "metadata": {},
   "source": [
    "### collecting geometry information for plots"
   ]
  },
  {
   "cell_type": "code",
   "execution_count": 52,
   "metadata": {
    "collapsed": true
   },
   "outputs": [],
   "source": [
    "hough = Hough(hits)\n",
    "wire_rhos, wire_phis = hits.cydet.get_points_rhos_and_phis()\n",
    "wire_xs, wire_ys = hits.cydet.get_points_xs_and_ys()\n",
    "track_rhos, track_phis = hough.track.get_points_rhos_and_phis()\n",
    "track_xs, track_ys = hough.track.get_points_xs_and_ys()"
   ]
  },
  {
   "cell_type": "markdown",
   "metadata": {},
   "source": [
    "### building correspondence matrix separately for even/odd, for several radii"
   ]
  },
  {
   "cell_type": "code",
   "execution_count": 53,
   "metadata": {
    "collapsed": false
   },
   "outputs": [],
   "source": [
    "default = [[31.5, 34, 34.5, 2]]\n",
    "submatrices = []\n",
    "\n",
    "# Define even and odd layer wires\n",
    "even_wires = hits.cydet.point_pol != 1\n",
    "odd_wires = hits.cydet.point_pol == 1\n",
    "\n",
    "# TODO test with several radii\n",
    "for rmin, rmean, rmax, rsgma in default: #[[30, 33, 35], [26, 29, 32]]:\n",
    "    # Try with default values\n",
    "    hough = Hough(hits, sig_rho_min=rmin, sig_rho=rmean, sig_rho_max=rmax, sig_rho_sgma=rsgma)\n",
    "    corresp = hough.correspondence\n",
    "    \n",
    "    # Make even and odd layer hough matricies\n",
    "    corresp_odd = corresp.copy()\n",
    "    corresp_odd[even_wires, :] = 0\n",
    "    corresp_even = corresp.copy()\n",
    "    corresp_even[odd_wires, :] = 0\n",
    "    \n",
    "    # Append the two matricies\n",
    "    submatrices.append(corresp_odd)\n",
    "    submatrices.append(corresp_even)\n",
    "\n",
    "# Stack all submatricies horizontally\n",
    "new_correspondence = sparse.hstack(submatrices)"
   ]
  },
  {
   "cell_type": "code",
   "execution_count": 54,
   "metadata": {
    "collapsed": false
   },
   "outputs": [
    {
     "data": {
      "text/plain": [
       "((4482, 5634), 264565)"
      ]
     },
     "execution_count": 54,
     "metadata": {},
     "output_type": "execute_result"
    }
   ],
   "source": [
    "new_correspondence.shape, new_correspondence.nnz"
   ]
  },
  {
   "cell_type": "code",
   "execution_count": 55,
   "metadata": {
    "collapsed": false
   },
   "outputs": [],
   "source": [
    "def is_max(data, neighs_matrix, alpha=10):\n",
    "    \"\"\"\n",
    "    This is soft version of 'is_max' rule.\n",
    "    Strong version returns 1 it it is max among neighbors, 0 otherwise.\n",
    "    The greater alpha, the closer we are to 'strong' version\n",
    "    \"\"\"\n",
    "    exponents = numpy.exp(alpha * data)\n",
    "    n_parts = data.shape[1] // neighs_matrix.shape[1]\n",
    "    assert n_parts * neighs_matrix.shape[1] == data.shape[1]\n",
    "    full_neigh = sparse.block_diag([neighs_matrix] * n_parts, format='csr')\n",
    "    return exponents / full_neigh.dot(exponents.T).T"
   ]
  },
  {
   "cell_type": "code",
   "execution_count": 56,
   "metadata": {
    "collapsed": true
   },
   "outputs": [],
   "source": [
    "# normalized nearest neighbors matrix for tracks.\n",
    "nns = hough.track.point_neighbours \n",
    "nns = nns + sparse.identity(nns.shape[1])\n",
    "nns = nns.dot(hough.track.lr_neighbours) + hough.track.lr_neighbours \n",
    "nns = sparse.csr_matrix(nns / nns.sum(axis=1))"
   ]
  },
  {
   "cell_type": "markdown",
   "metadata": {},
   "source": [
    "### Since hough has some parameters,  those should be fitted on train data\n",
    "so introducing special class"
   ]
  },
  {
   "cell_type": "code",
   "execution_count": 57,
   "metadata": {
    "collapsed": true
   },
   "outputs": [],
   "source": [
    "class HoughTransform(object):\n",
    "    def __init__(self, hough_matrix, track_neighs_matrix, min_percentile=0.97, alpha=12.):\n",
    "        self.hough_matrix = hough_matrix\n",
    "        self.min_percentile = min_percentile\n",
    "        self.alpha = alpha\n",
    "        self.normed_corresp = sparse.csr_matrix(hough_matrix / (hough_matrix.sum(axis=1) + 50.))\n",
    "        self.track_neighs_matrix = track_neighs_matrix\n",
    "        \n",
    "    def fit(self, X):\n",
    "        self.n_features = X.shape[1]\n",
    "        \n",
    "        self.original_mean = X.mean()\n",
    "        original = X - self.original_mean\n",
    "\n",
    "        hough_images = self.normed_corresp.T.dot(original.T).T\n",
    "        \n",
    "        x = numpy.linspace(0, 1, 200) ** 0.5\n",
    "        self.percentiles = numpy.percentile(hough_images.flatten(), x * 100)\n",
    "        self.values_at_percentiles = numpy.maximum(0., x - self.min_percentile) / (1. - self.min_percentile)\n",
    "\n",
    "        hough_images = hough_images * is_max(hough_images, neighs_matrix=self.track_neighs_matrix, alpha=self.alpha)\n",
    "        hough_images = numpy.exp(self.alpha * hough_images)\n",
    "        self.mean_hough = hough_images.mean()\n",
    "        \n",
    "        return self\n",
    "    \n",
    "    def transform(self, X):\n",
    "        original = X - self.original_mean\n",
    "\n",
    "        hough_images = self.normed_corresp.T.dot(original.T).T\n",
    "        hough_images = numpy.interp(hough_images, self.percentiles, self.values_at_percentiles)        \n",
    "        \n",
    "        hough_images = hough_images * is_max(hough_images, neighs_matrix=self.track_neighs_matrix, alpha=self.alpha)\n",
    "        hough_images = numpy.exp(self.alpha * hough_images)\n",
    "        hough_images -= self.mean_hough\n",
    "        \n",
    "        # TODO: other matrix here?\n",
    "        after_hough = self.normed_corresp.dot(hough_images.T).T\n",
    "        \n",
    "        return after_hough, hough_images    "
   ]
  },
  {
   "cell_type": "markdown",
   "metadata": {},
   "source": [
    "### visualizing Hough"
   ]
  },
  {
   "cell_type": "code",
   "execution_count": 58,
   "metadata": {
    "collapsed": false,
    "scrolled": false
   },
   "outputs": [
    {
     "data": {
      "text/plain": [
       "<__main__.HoughTransform at 0x1feeaf90>"
      ]
     },
     "execution_count": 58,
     "metadata": {},
     "output_type": "execute_result"
    }
   ],
   "source": [
    "hough_transformer = HoughTransform(hough_matrix=new_correspondence, track_neighs_matrix=nns)\n",
    "hough_transformer.fit(pred_1)\n",
    "\n",
    "#for event_id in [1, 2, 3, 4, 5]:\n",
    "#    setup_plot_for_detector()\n",
    "#    colored_answers = numpy.take(['w', 'b', 'w'], test_data[event_id, :, -1].astype('int64').flatten()) \n",
    "#    scatter(wire_phis, wire_rhos, c=colored_answers, alpha=0.5, s=50, linewidths=0)\n",
    "#    after_hough, hough_image = hough_transformer.transform(test_pred[[event_id], :])\n",
    "#    scatter(wire_phis, wire_rhos, c=after_hough, s=10, linewidths=0)\n",
    "#    scatter(track_phis, track_rhos, c=hough_image.flatten()[:len(track_phis)], cmap='Blues')\n",
    "#    show()\n",
    "    "
   ]
  },
  {
   "cell_type": "code",
   "execution_count": 59,
   "metadata": {
    "collapsed": false
   },
   "outputs": [],
   "source": [
    "# searching for optimal parameters\n",
    "# for min_percentile in [0.96, 0.97, 0.98]:\n",
    "#     for alpha in [3, 5, 10]:\n",
    "#         print \"-----\", min_percentile, alpha\n",
    "#         hough_transformer = HoughTransform(hough_matrix=new_correspondence, track_neighs_matrix=nns, \n",
    "#                                            alpha=alpha, min_percentile=min_percentile)\n",
    "#         hough_transformer.fit(train_pred)\n",
    "#         after_hough, _ = hough_transformer.transform(test_pred)\n",
    "#         print roc_auc_score(test_binary_labels, after_hough.flatten(), sample_weight=test_problematic_weights)"
   ]
  },
  {
   "cell_type": "markdown",
   "metadata": {},
   "source": [
    "## Traning second classifier"
   ]
  },
  {
   "cell_type": "code",
   "execution_count": 60,
   "metadata": {
    "collapsed": false
   },
   "outputs": [
    {
     "data": {
      "text/plain": [
       "<__main__.HoughTransform at 0x1feeaf10>"
      ]
     },
     "execution_count": 60,
     "metadata": {},
     "output_type": "execute_result"
    }
   ],
   "source": [
    "hough_transformer = HoughTransform(hough_matrix=new_correspondence, track_neighs_matrix=nns)\n",
    "hough_transformer.fit(pred_1)"
   ]
  },
  {
   "cell_type": "code",
   "execution_count": 61,
   "metadata": {
    "collapsed": false
   },
   "outputs": [],
   "source": [
    "# Define full features, but do not keep labels row, this is last by convention\n",
    "features_full = OrderedDict()\n",
    "\n",
    "# Wire features\n",
    "features_full['deposit'] = deposits * 100\n",
    "features_full['rel_time'] = rel_time\n",
    "features_full['layer_id'] = layer_id\n",
    "\n",
    "# LR-Neighbour Features\n",
    "features_full['r_deposit'] = (deposits * 100)[:, right_neighs]\n",
    "features_full['r_rel_time'] = rel_time[:, right_neighs]\n",
    "features_full['l_deposit'] = (deposits * 100)[:, left_neighs]\n",
    "features_full['l_rel_time'] = rel_time[:, left_neighs]\n",
    "\n",
    "#Add in Hough transform\n",
    "with_hough_predictions = predict_classifier(data, features, neigh_gbdt, apply_mask=data[:, :, -1] != 0)\n",
    "features_full['hough'], hough_image = hough_transformer.transform(with_hough_predictions)\n",
    "\n",
    "# Truth values\n",
    "features_full['labels'] = labels"
   ]
  },
  {
   "cell_type": "code",
   "execution_count": 62,
   "metadata": {
    "collapsed": false
   },
   "outputs": [],
   "source": [
    "data_full = numpy.dstack(features_full.values())\n",
    "train_features_full = features_full.keys()[:-1]"
   ]
  },
  {
   "cell_type": "code",
   "execution_count": 2,
   "metadata": {
    "collapsed": false
   },
   "outputs": [
    {
     "ename": "NameError",
     "evalue": "name 'factory' is not defined",
     "output_type": "error",
     "traceback": [
      "\u001b[1;31m---------------------------------------------------------------------------\u001b[0m",
      "\u001b[1;31mNameError\u001b[0m                                 Traceback (most recent call last)",
      "\u001b[1;32m<ipython-input-2-fce596723ed8>\u001b[0m in \u001b[0;36m<module>\u001b[1;34m()\u001b[0m\n\u001b[0;32m      1\u001b[0m \u001b[1;31m# Train the classifier\u001b[0m\u001b[1;33m\u001b[0m\u001b[1;33m\u001b[0m\u001b[0m\n\u001b[1;32m----> 2\u001b[1;33m \u001b[0mfactory\u001b[0m\u001b[1;33m.\u001b[0m\u001b[0mfit\u001b[0m\u001b[1;33m(\u001b[0m\u001b[0mmask\u001b[0m\u001b[1;33m(\u001b[0m\u001b[0mdata_2\u001b[0m\u001b[1;33m)\u001b[0m\u001b[1;33m,\u001b[0m \u001b[0mmask\u001b[0m\u001b[1;33m(\u001b[0m\u001b[0mdata_2\u001b[0m\u001b[1;33m)\u001b[0m\u001b[1;33m[\u001b[0m\u001b[1;34m'double_labels'\u001b[0m\u001b[1;33m]\u001b[0m\u001b[1;33m)\u001b[0m\u001b[1;33m\u001b[0m\u001b[0m\n\u001b[0m\u001b[0;32m      3\u001b[0m \u001b[1;32mpass\u001b[0m\u001b[1;33m\u001b[0m\u001b[0m\n",
      "\u001b[1;31mNameError\u001b[0m: name 'factory' is not defined"
     ]
    }
   ],
   "source": [
    "full_gbdt = train_classifier(data=data_full, features=features_full.keys(), train_events=sample_2, \n",
    "    train_wires=features_full['labels'] != 0, \n",
    "    train_target=2 - features_full['labels'], \n",
    "    classifier=SklearnClassifier(GradientBoostingClassifier(n_estimators=100, subsample=0.7), features=train_features_full))"
   ]
  },
  {
   "cell_type": "code",
   "execution_count": 64,
   "metadata": {
    "collapsed": false
   },
   "outputs": [],
   "source": [
    "data_full_3 = data_full[sample_3]\n",
    "pred_full_3 = predict_classifier(data_full_3, features_full.keys(), full_gbdt, \n",
    "                                    apply_mask=data_full_3[:, :, -1] != 0)\n",
    "triplelabels_3, binary_labels_3 = get_labels(features, sample_3)"
   ]
  },
  {
   "cell_type": "markdown",
   "metadata": {},
   "source": [
    "## Final quality of signal vs bck wires"
   ]
  },
  {
   "cell_type": "code",
   "execution_count": 65,
   "metadata": {
    "collapsed": false
   },
   "outputs": [
    {
     "name": "stdout",
     "output_type": "stream",
     "text": [
      "0.998818206878\n"
     ]
    }
   ],
   "source": [
    "print roc_auc_score(binary_labels_3, pred_full_3.flatten(), sample_weight=(triplelabels_3 != 0))"
   ]
  },
  {
   "cell_type": "code",
   "execution_count": 66,
   "metadata": {
    "collapsed": false
   },
   "outputs": [
    {
     "data": {
      "text/plain": [
       "<matplotlib.legend.Legend at 0x1fecdc10>"
      ]
     },
     "execution_count": 66,
     "metadata": {},
     "output_type": "execute_result"
    },
    {
     "data": {
      "image/png": "[encoded data removed]",
      "text/plain": [
       "<matplotlib.figure.Figure at 0x1feeab90>"
      ]
     },
     "metadata": {},
     "output_type": "display_data"
    }
   ],
   "source": [
    "fpr, tpr, values =  roc_curve(binary_labels_3, pred_full_3.flatten(), sample_weight=(triplelabels_3 != 0))\n",
    "\n",
    "figsize(10,8)\n",
    "ax = plt.subplot(111)\n",
    "plt.xticks(fontsize ='xx-large')\n",
    "plt.yticks(fontsize ='xx-large') \n",
    "plt.xlabel('Signal Retention', fontsize='xx-large')\n",
    "plt.ylabel('Background Rejection', fontsize='xx-large')\n",
    "plt.xlim([0.90,1.])\n",
    "plt.ylim([0.90,1.])\n",
    "ax.plot(tpr, 1-fpr, label=\"Max of Normalized GBDT Sum for Layers\")\n",
    "\n",
    "plt.legend(fontsize='xx-large',loc=0)"
   ]
  },
  {
   "cell_type": "markdown",
   "metadata": {},
   "source": [
    "## Final quality of track finding vs track purity\n"
   ]
  },
  {
   "cell_type": "code",
   "execution_count": 67,
   "metadata": {
    "collapsed": true
   },
   "outputs": [],
   "source": [
    "def plot_output(data, pred):\n",
    "    # Plot the distribution\n",
    "    sig = numpy.where(data[: , : , -1] == 1) \n",
    "    bkg = numpy.where(data[: , : , -1] == 2) \n",
    "\n",
    "    figsize(10,10)\n",
    "    plt.xticks(fontsize ='xx-large')\n",
    "    plt.yticks(fontsize ='xx-large') \n",
    "    plt.xlabel('Output of Wire GBDT', fontsize='xx-large')\n",
    "    plt.ylabel('Normalized Distribution of Hit Wires', fontsize='xx-large')\n",
    "\n",
    "    plt.hist(pred[sig], normed=True, bins=50, label='Signal', log=False)\n",
    "    plt.hist(pred[bkg], normed=True, bins=50, label='Background', log=False)\n",
    "\n",
    "    plt.legend(fontsize='xx-large')"
   ]
  },
  {
   "cell_type": "code",
   "execution_count": 68,
   "metadata": {
    "collapsed": false
   },
   "outputs": [],
   "source": [
    "# Test again on the training data\n",
    "data_3 = data[sample_3]\n",
    "pred_3 = predict_classifier(data_3, features.keys(), neigh_gbdt, \n",
    "                                    apply_mask=data_3[:, :, -1] != 0)\n",
    "#plot_output(finding_data, finding_pred)"
   ]
  },
  {
   "cell_type": "code",
   "execution_count": null,
   "metadata": {
    "collapsed": true
   },
   "outputs": [],
   "source": []
  }
 ],
 "metadata": {
  "kernelspec": {
   "display_name": "Python 2",
   "language": "python",
   "name": "python2"
  },
  "language_info": {
   "codemirror_mode": {
    "name": "ipython",
    "version": 2
   },
   "file_extension": ".py",
   "mimetype": "text/x-python",
   "name": "python",
   "nbconvert_exporter": "python",
   "pygments_lexer": "ipython2",
   "version": "2.7.5"
  }
 },
 "nbformat": 4,
 "nbformat_minor": 0
}
