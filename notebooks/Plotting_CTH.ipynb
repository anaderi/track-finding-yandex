{
 "cells": [
  {
   "cell_type": "markdown",
   "metadata": {},
   "source": [
    "# Plotting the CTH Results"
   ]
  },
  {
   "cell_type": "code",
   "execution_count": 1,
   "metadata": {
    "collapsed": false,
    "scrolled": false
   },
   "outputs": [
    {
     "name": "stdout",
     "output_type": "stream",
     "text": [
      "Populating the interactive namespace from numpy and matplotlib\n",
      "Populating the interactive namespace from numpy and matplotlib\n"
     ]
    }
   ],
   "source": [
    "%pylab inline\n",
    "%run visualizations.ipynb\n",
    "import sys\n",
    "sys.path.insert(0, '../modules')"
   ]
  },
  {
   "cell_type": "code",
   "execution_count": 2,
   "metadata": {
    "collapsed": true
   },
   "outputs": [],
   "source": [
    "from tracking import HoughSpace\n",
    "from scipy import sparse\n",
    "from sklearn.metrics import roc_auc_score, roc_curve\n",
    "import matplotlib.ticker as mtick\n",
    "from hits import CyDetHits, CTHHits, CDCHits"
   ]
  },
  {
   "cell_type": "markdown",
   "metadata": {},
   "source": [
    "## Import Data"
   ]
  },
  {
   "cell_type": "code",
   "execution_count": 3,
   "metadata": {
    "collapsed": true
   },
   "outputs": [],
   "source": [
    "# Test on signal or background data files\n",
    "test_sig = True"
   ]
  },
  {
   "cell_type": "code",
   "execution_count": 6,
   "metadata": {
    "collapsed": false,
    "scrolled": true
   },
   "outputs": [
    {
     "ename": "IOError",
     "evalue": "unable to access tree 'COMETEventsSummary' in ../data/151209_signal_tracks.root",
     "output_type": "error",
     "traceback": [
      "\u001b[1;31m---------------------------------------------------------------------------\u001b[0m",
      "\u001b[1;31mIOError\u001b[0m                                   Traceback (most recent call last)",
      "\u001b[1;32m<ipython-input-6-24214fb60ed0>\u001b[0m in \u001b[0;36m<module>\u001b[1;34m()\u001b[0m\n\u001b[0;32m      9\u001b[0m                            \u001b[0mprefix\u001b[0m\u001b[1;33m=\u001b[0m\u001b[1;34m\"CdcCell_\"\u001b[0m\u001b[1;33m,\u001b[0m\u001b[1;33m\u001b[0m\u001b[0m\n\u001b[0;32m     10\u001b[0m                            \u001b[0medep_name\u001b[0m\u001b[1;33m=\u001b[0m\u001b[1;34m\"edep\"\u001b[0m\u001b[1;33m,\u001b[0m\u001b[1;33m\u001b[0m\u001b[0m\n\u001b[1;32m---> 11\u001b[1;33m                            time_name=\"tstart\")\n\u001b[0m\u001b[0;32m     12\u001b[0m     hits_cth = CTHHits('../data/151209_signal_tracks.root', \n\u001b[0;32m     13\u001b[0m                        \u001b[0msignal_coding\u001b[0m\u001b[1;33m=\u001b[0m\u001b[1;33m[\u001b[0m\u001b[1;36m1\u001b[0m\u001b[1;33m]\u001b[0m\u001b[1;33m,\u001b[0m\u001b[1;33m\u001b[0m\u001b[0m\n",
      "\u001b[1;32m/vols/build/comet/users/elg112/ICEDUST/track-finding-yandex/modules/hits.pyc\u001b[0m in \u001b[0;36m__init__\u001b[1;34m(self, path, tree, prefix, chan_name, finalize_data, time_offset, **kwargs)\u001b[0m\n\u001b[0;32m    786\u001b[0m                           \u001b[0mprefix\u001b[0m\u001b[1;33m=\u001b[0m\u001b[0mprefix\u001b[0m\u001b[1;33m,\u001b[0m\u001b[1;33m\u001b[0m\u001b[0m\n\u001b[0;32m    787\u001b[0m                           \u001b[0mfinalize_data\u001b[0m\u001b[1;33m=\u001b[0m\u001b[0mFalse\u001b[0m\u001b[1;33m,\u001b[0m\u001b[1;33m\u001b[0m\u001b[0m\n\u001b[1;32m--> 788\u001b[1;33m                           **kwargs)\n\u001b[0m\u001b[0;32m    789\u001b[0m \u001b[1;33m\u001b[0m\u001b[0m\n\u001b[0;32m    790\u001b[0m         \u001b[1;31m# Finialize the data if this is the final form\u001b[0m\u001b[1;33m\u001b[0m\u001b[1;33m\u001b[0m\u001b[0m\n",
      "\u001b[1;32m/vols/build/comet/users/elg112/ICEDUST/track-finding-yandex/modules/hits.pyc\u001b[0m in \u001b[0;36m__init__\u001b[1;34m(self, geom, path, tree, prefix, branches, empty_branches, row_name, idx_name, edep_name, time_name, flat_name, trig_name, finalize_data, **kwargs)\u001b[0m\n\u001b[0;32m    554\u001b[0m                                                               \u001b[0mself\u001b[0m\u001b[1;33m.\u001b[0m\u001b[0mtrig_name\u001b[0m\u001b[1;33m,\u001b[0m\u001b[1;33m\u001b[0m\u001b[0m\n\u001b[0;32m    555\u001b[0m                                                               \u001b[0mbranches\u001b[0m\u001b[1;33m,\u001b[0m\u001b[1;33m\u001b[0m\u001b[0m\n\u001b[1;32m--> 556\u001b[1;33m                                                               empty_branches)\n\u001b[0m\u001b[0;32m    557\u001b[0m         \u001b[1;31m# TODO move flat hits to the end\u001b[0m\u001b[1;33m\u001b[0m\u001b[1;33m\u001b[0m\u001b[0m\n\u001b[0;32m    558\u001b[0m         \u001b[1;31m# Initialize the base class\u001b[0m\u001b[1;33m\u001b[0m\u001b[1;33m\u001b[0m\u001b[0m\n",
      "\u001b[1;32m/vols/build/comet/users/elg112/ICEDUST/track-finding-yandex/modules/hits.pyc\u001b[0m in \u001b[0;36m_add_name_to_branches\u001b[1;34m(self, path, tree, name, branches, empty_branches)\u001b[0m\n\u001b[0;32m    177\u001b[0m         has_name = self._check_for_branches(path, tree,\n\u001b[0;32m    178\u001b[0m                                                \u001b[0mbranches\u001b[0m\u001b[1;33m=\u001b[0m\u001b[1;33m[\u001b[0m\u001b[0mname\u001b[0m\u001b[1;33m]\u001b[0m\u001b[1;33m,\u001b[0m\u001b[1;33m\u001b[0m\u001b[0m\n\u001b[1;32m--> 179\u001b[1;33m                                                soft_check=True)\n\u001b[0m\u001b[0;32m    180\u001b[0m         \u001b[1;32mif\u001b[0m \u001b[0mhas_name\u001b[0m\u001b[1;33m:\u001b[0m\u001b[1;33m\u001b[0m\u001b[0m\n\u001b[0;32m    181\u001b[0m             \u001b[0mbranches\u001b[0m \u001b[1;33m=\u001b[0m \u001b[0m_return_branches_as_list\u001b[0m\u001b[1;33m(\u001b[0m\u001b[0mbranches\u001b[0m\u001b[1;33m)\u001b[0m\u001b[1;33m\u001b[0m\u001b[0m\n",
      "\u001b[1;32m/vols/build/comet/users/elg112/ICEDUST/track-finding-yandex/modules/hits.pyc\u001b[0m in \u001b[0;36m_check_for_branches\u001b[1;34m(self, path, tree, branches, soft_check)\u001b[0m\n\u001b[0;32m    152\u001b[0m         \u001b[1;31m# branches\u001b[0m\u001b[1;33m\u001b[0m\u001b[1;33m\u001b[0m\u001b[0m\n\u001b[0;32m    153\u001b[0m         \u001b[1;31m# TODO use list_branches in root2array here\u001b[0m\u001b[1;33m\u001b[0m\u001b[1;33m\u001b[0m\u001b[0m\n\u001b[1;32m--> 154\u001b[1;33m         \u001b[0mdummy_root\u001b[0m \u001b[1;33m=\u001b[0m \u001b[0mroot2array\u001b[0m\u001b[1;33m(\u001b[0m\u001b[0mpath\u001b[0m\u001b[1;33m,\u001b[0m \u001b[0mtreename\u001b[0m\u001b[1;33m=\u001b[0m\u001b[0mtree\u001b[0m\u001b[1;33m,\u001b[0m \u001b[0mstart\u001b[0m\u001b[1;33m=\u001b[0m\u001b[1;36m0\u001b[0m\u001b[1;33m,\u001b[0m \u001b[0mstop\u001b[0m\u001b[1;33m=\u001b[0m\u001b[1;36m1\u001b[0m\u001b[1;33m)\u001b[0m\u001b[1;33m\u001b[0m\u001b[0m\n\u001b[0m\u001b[0;32m    155\u001b[0m         \u001b[1;31m# Get the names of the imported branches\u001b[0m\u001b[1;33m\u001b[0m\u001b[1;33m\u001b[0m\u001b[0m\n\u001b[0;32m    156\u001b[0m         \u001b[0mavailible_branches\u001b[0m \u001b[1;33m=\u001b[0m \u001b[0mdummy_root\u001b[0m\u001b[1;33m.\u001b[0m\u001b[0mdtype\u001b[0m\u001b[1;33m.\u001b[0m\u001b[0mnames\u001b[0m\u001b[1;33m\u001b[0m\u001b[0m\n",
      "\u001b[1;32m/vols/build/comet/users/elg112/anaconda2/envs/default/lib/python2.7/site-packages/root_numpy/_tree.pyc\u001b[0m in \u001b[0;36mroot2array\u001b[1;34m(filenames, treename, branches, selection, start, stop, step, include_weight, weight_name, cache_size)\u001b[0m\n\u001b[0;32m    173\u001b[0m         \u001b[0minclude_weight\u001b[0m\u001b[1;33m,\u001b[0m\u001b[1;33m\u001b[0m\u001b[0m\n\u001b[0;32m    174\u001b[0m         \u001b[0mweight_name\u001b[0m\u001b[1;33m,\u001b[0m\u001b[1;33m\u001b[0m\u001b[0m\n\u001b[1;32m--> 175\u001b[1;33m         cache_size)\n\u001b[0m\u001b[0;32m    176\u001b[0m \u001b[1;33m\u001b[0m\u001b[0m\n\u001b[0;32m    177\u001b[0m     \u001b[1;32mif\u001b[0m \u001b[0mflatten\u001b[0m\u001b[1;33m:\u001b[0m\u001b[1;33m\u001b[0m\u001b[0m\n",
      "\u001b[1;32mtree.pyx\u001b[0m in \u001b[0;36m_librootnumpy.root2array_fromfile (root_numpy/src/_librootnumpy.cpp:379)\u001b[1;34m()\u001b[0m\n",
      "\u001b[1;31mIOError\u001b[0m: unable to access tree 'COMETEventsSummary' in ../data/151209_signal_tracks.root"
     ]
    }
   ],
   "source": [
    "if test_sig:\n",
    "    hits_cydet = CyDetHits('../data/151209_signal_tracks.root', \n",
    "                           treename=\"tree\",\n",
    "                           signal_coding=[1], \n",
    "                           hit_type_name=\"tid\",\n",
    "                           branches=[\"x\", \"y\"], \n",
    "                           use_evt_idx=False, \n",
    "                           key_name=\"nHits\", \n",
    "                           prefix=\"CdcCell_\",\n",
    "                           edep_name=\"edep\",\n",
    "                           time_name=\"tstart\")\n",
    "    hits_cth = CTHHits('../data/151209_signal_tracks.root', \n",
    "                       signal_coding=[1], \n",
    "                       hit_type_name=\"tid\",\n",
    "                       branches=[\"x\", \"y\"], \n",
    "                       use_evt_idx=False, \n",
    "                       key_name=\"nHits\", \n",
    "                       prefix=\"M_\",\n",
    "                       edep_name=\"edep\",\n",
    "                       time_name=\"t\")\n",
    "else:\n",
    "    hits_cydet = CyDetHits('../data/151208_SimChen_noise.root', signal_coding=[1], branches=[\"x\", \"y\"])\n",
    "    hits_cth = CTHHits('../data/151208_SimChen_noise.root', signal_coding=[1], branches=[\"x\", \"y\"])"
   ]
  },
  {
   "cell_type": "code",
   "execution_count": null,
   "metadata": {
    "collapsed": false
   },
   "outputs": [],
   "source": [
    "hits = CDCHits(hits_cydet, hits_cth)\n",
    "\n",
    "from cylinder import CyDet\n",
    "geom = CyDet()\n",
    "n_events = hits_cth.n_events\n",
    "print \"Start Events: {}\".format(hits.cth.n_events)"
   ]
  },
  {
   "cell_type": "markdown",
   "metadata": {},
   "source": [
    "## Apply All Cuts"
   ]
  },
  {
   "cell_type": "code",
   "execution_count": null,
   "metadata": {
    "collapsed": true
   },
   "outputs": [],
   "source": [
    "# Define cuts to use\n",
    "n_hits_cut = False\n",
    "layer_cut = False\n",
    "timing_cut = False\n",
    "use_cth_cut = True"
   ]
  },
  {
   "cell_type": "code",
   "execution_count": null,
   "metadata": {
    "collapsed": false
   },
   "outputs": [],
   "source": [
    "if timing_cut:\n",
    "    # Apply the timing filter\n",
    "    print \"CTH Hits: {}\".format(hits.cth.n_hits)\n",
    "    print \"CyDet Hits: {}\".format(hits.cydet.n_hits)\n",
    "    hits.cth.trim_hits(variable=hits.cth.time_name, less_than=1100, greater_than=700)\n",
    "    hits.cydet.trim_hits(variable=hits.cydet.time_name, less_than=1620, greater_than=700)\n",
    "    print \"CTH Hits: {}\".format(hits.cth.n_hits)\n",
    "    print \"CyDet Hits: {}\".format(hits.cydet.n_hits)"
   ]
  },
  {
   "cell_type": "code",
   "execution_count": null,
   "metadata": {
    "collapsed": false
   },
   "outputs": [],
   "source": [
    "# Filter for CTH in time window.  Get the time\n",
    "trigger_events = []\n",
    "for evt in range(hits.n_events):\n",
    "    sig_hits = hits.cth.get_signal_hits(evt)\n",
    "    if len(sig_hits) != 0:\n",
    "        trigger_events.append(evt)\n",
    "trigger_events = np.array(trigger_events)\n",
    "print \"Events that pass CTH Trigger: {}\".format(len(trigger_events))"
   ]
  },
  {
   "cell_type": "code",
   "execution_count": null,
   "metadata": {
    "collapsed": false
   },
   "outputs": [],
   "source": [
    "# Filter for max layer is five\n",
    "max_layer = []\n",
    "for evt in range(hits.n_events):\n",
    "    these_layers = hits.cydet.geom.point_layers[hits.cydet.get_sig_wires(evt)]\n",
    "    if len(hits.cydet.get_sig_wires(evt)) != 0:\n",
    "        max_layer.append(np.max(these_layers))\n",
    "    else:\n",
    "        max_layer.append(-1)\n",
    "max_layer = np.array(max_layer)\n",
    "good_max_layer = np.where(max_layer >= 4)[0]\n",
    "print \"Number that pass layer cut: {}\".format(len(good_max_layer))"
   ]
  },
  {
   "cell_type": "code",
   "execution_count": null,
   "metadata": {
    "collapsed": false
   },
   "outputs": [],
   "source": [
    "# Filter for number of signal hits\n",
    "n_signal_hits  = np.array([len(hits.cydet.get_signal_hits(evt)) \n",
    "                         for evt in range(hits.n_events)])\n",
    "n_signal_hits = np.array(n_signal_hits)\n",
    "good_n_hits = np.where(n_signal_hits > 30)[0]\n",
    "print \"Number that pass n hits cut: {}\".format(len(good_n_hits))"
   ]
  },
  {
   "cell_type": "code",
   "execution_count": null,
   "metadata": {
    "collapsed": false,
    "scrolled": true
   },
   "outputs": [],
   "source": [
    "# Apply quality and CTH cuts\n",
    "print \"Start Events: {}\".format(hits.n_events)\n",
    "if use_cth_cut:\n",
    "    hits.trim_events(trigger_events)\n",
    "    print \"After CTH Trigger {}\".format(hits.n_events)\n",
    "if layer_cut:\n",
    "    hits.trim_events(good_max_layer)\n",
    "    print \"After Layer Cut Trigger {}\".format(hits.n_events)\n",
    "if n_hits_cut:\n",
    "    hits.trim_events(good_events)\n",
    "    print \"Afterb N Hits Cut Trigger {}\".format(hits.n_events)"
   ]
  },
  {
   "cell_type": "code",
   "execution_count": null,
   "metadata": {
    "collapsed": false
   },
   "outputs": [],
   "source": [
    "print hits.cth.all_branches"
   ]
  },
  {
   "cell_type": "markdown",
   "metadata": {},
   "source": [
    "## Experiment to get the correct geometric parameters"
   ]
  },
  {
   "cell_type": "code",
   "execution_count": null,
   "metadata": {
    "collapsed": true
   },
   "outputs": [],
   "source": [
    "from cylinder import CTH, CylindricalArray"
   ]
  },
  {
   "cell_type": "code",
   "execution_count": null,
   "metadata": {
    "collapsed": false
   },
   "outputs": [],
   "source": [
    "n_crystals = 64\n",
    "# The first two rows are for the active volumes, third is for excluded\n",
    "# volumes\n",
    "cth_n_vols = [n_crystals, n_crystals, n_crystals]\n",
    "cth_radii = [44.8, 48.3, 0.0]\n",
    "cth_phi0 = [-np.pi/2., -np.pi/2., -np.pi/2.]\n",
    "test_geom = CylindricalArray(cth_n_vols, cth_radii, cth_phi0)"
   ]
  },
  {
   "cell_type": "code",
   "execution_count": null,
   "metadata": {
    "collapsed": false,
    "scrolled": false
   },
   "outputs": [],
   "source": [
    "widths = [1, 0.5]\n",
    "heights = [9, 9]\n",
    "deflection_angles = [16.5, 10]\n",
    "all_vols_shown = [range(64), range(64,128)]\n",
    "print_me = False\n",
    "evt = 1"
   ]
  },
  {
   "cell_type": "markdown",
   "metadata": {},
   "source": [
    "### Plot the All CTH Hits From All Events"
   ]
  },
  {
   "cell_type": "code",
   "execution_count": null,
   "metadata": {
    "collapsed": false
   },
   "outputs": [],
   "source": [
    "all_hits = hits.cydet.get_hit_types(evt)\n",
    "plot_output(np.zeros(hits.cydet.geom.n_points), geom)\n",
    "cth_hits = hits.cth.get_hit_vols(evt)\n",
    "\n",
    "# Get all hit points in first volumev\n",
    "vol_hits = hits.cth.filter_hits(hits.cth.down_data, \"M_vol_id\", values=range(128))\n",
    "plt.scatter(vol_hits[\"M_x\"], vol_hits[\"M_y\"], s=1, transform=gca().transData._b)    "
   ]
  },
  {
   "cell_type": "markdown",
   "metadata": {},
   "source": [
    "### Ensure Drawn Volumes Overlap With Hits"
   ]
  },
  {
   "cell_type": "code",
   "execution_count": null,
   "metadata": {
    "collapsed": false
   },
   "outputs": [],
   "source": [
    "for wid, hgt, deflection, vols_shown in zip(widths, heights, deflection_angles, all_vols_shown):\n",
    "    for vol in vols_shown[:3]: \n",
    "        x = test_geom.point_x[vol]\n",
    "        y = test_geom.point_y[vol]\n",
    "\n",
    "        theta_rotate = np.arctan((y)/(x)) - deflection*np.pi/180.\n",
    "        x_plt = x + sin(theta_rotate)*hgt/2. - cos(theta_rotate)*wid/2.\n",
    "        y_plt = y - cos(theta_rotate)*hgt/2. - sin(theta_rotate)*wid/2.\n",
    "\n",
    "        this_vol = hits.cth.filter_hits(vol_hits, \"M_vol_id\", values=vol)\n",
    "\n",
    "        plt.scatter(this_vol[\"M_x\"], this_vol[\"M_y\"], s=1, transform=gca().transData._b)\n",
    "        plot_angle = (theta_rotate/np.pi) * 180.\n",
    "        plot_rect = plt.Rectangle((x_plt, y_plt), wid, hgt, angle=plot_angle,\\\n",
    "                                    color=\"red\", fill=False)\n",
    "        gca().add_artist(plot_rect)\n",
    "        plt.show()"
   ]
  },
  {
   "cell_type": "markdown",
   "metadata": {},
   "source": [
    "### Draw Volumes over Hits"
   ]
  },
  {
   "cell_type": "code",
   "execution_count": null,
   "metadata": {
    "collapsed": false
   },
   "outputs": [],
   "source": [
    "all_hits = hits.cydet.get_hit_types(evt)\n",
    "plot_output(np.zeros(hits.cydet.geom.n_points), geom)\n",
    "cth_hits = hits.cth.get_hit_vols(evt)\n",
    "\n",
    "# Get all hit points in first volumev\n",
    "vol_hits = hits.cth.filter_hits(hits.cth.down_data, \"M_vol_id\", values=range(128))\n",
    "plt.scatter(vol_hits[\"M_x\"], vol_hits[\"M_y\"], s=1, transform=gca().transData._b)    \n",
    "\n",
    "for wid, hgt, deflection, vols_shown in zip(widths, heights, deflection_angles, all_vols_shown):\n",
    "\n",
    "    for vol, x, y in zip(vols_shown, test_geom.point_x[vols_shown],test_geom.point_y[vols_shown]): \n",
    "\n",
    "        theta_rotate = np.arctan((y)/(x)) - deflection*np.pi/180\n",
    "        x_plt = x + sin(theta_rotate)*hgt/2. - cos(theta_rotate)*wid/2.\n",
    "        y_plt = y - cos(theta_rotate)*hgt/2. - sin(theta_rotate)*wid/2.\n",
    "\n",
    "        # Truth information\n",
    "        this_vol = hits.cth.filter_hits(vol_hits, \"M_vol_id\", values=vol)\n",
    "\n",
    "        if print_me:\n",
    "            # Range\n",
    "            #x_true = (max(this_vol[\"M_x\"]) - min(this_vol[\"M_x\"]))\n",
    "            #y_true = (max(this_vol[\"M_y\"]) - min(this_vol[\"M_y\"]))\n",
    "            # Average\n",
    "            x_true = average(this_vol[\"M_x\"])\n",
    "            y_true = average(this_vol[\"M_y\"])\n",
    "            print \"index \" + str(vol)\n",
    "            print \"  x \" + str(test_geom.point_x[vol])\n",
    "            #print \"  x_plt \" + str(x_plt)\n",
    "            print \"  x_true \" + str(x_true)\n",
    "            print \"  y \" + str(test_geom.point_y[vol])\n",
    "            #print \"  y_plt \" + str(y_plt)\n",
    "            print \"  y_true \" + str(y_true)\n",
    "            print y_true - y \n",
    "            print x_true - x\n",
    "            print sqrt(x_true**2 + y_true**2)\n",
    "\n",
    "        plot_angle = (theta_rotate/np.pi) * 180.\n",
    "\n",
    "        plot_rect = plt.Rectangle((x_plt, y_plt), wid, hgt, angle=plot_angle,\\\n",
    "                                  transform=gca().transData._b, fill=False, color=\"red\")\n",
    "           #     color=\"green\", fill=False, alpha=l_alpha, lw=lw)\n",
    "        gca().add_artist(plot_rect)"
   ]
  },
  {
   "cell_type": "markdown",
   "metadata": {},
   "source": [
    "### Draw Volumes with no Hits"
   ]
  },
  {
   "cell_type": "code",
   "execution_count": null,
   "metadata": {
    "collapsed": false
   },
   "outputs": [],
   "source": [
    "all_hits = hits.cydet.get_hit_types(evt)\n",
    "plot_output(np.zeros(hits.cydet.geom.n_points), geom)\n",
    "cth_hits = hits.cth.get_hit_vols(evt)\n",
    "\n",
    "for wid, hgt, deflection, vols_shown in zip(widths, heights, deflection_angles, all_vols_shown):\n",
    "\n",
    "    for vol, x, y in zip(vols_shown, test_geom.point_x[vols_shown],test_geom.point_y[vols_shown]): \n",
    "\n",
    "        theta_rotate = np.arctan((y)/(x)) - deflection*np.pi/180\n",
    "        x_plt = x + sin(theta_rotate)*hgt/2. - cos(theta_rotate)*wid/2.\n",
    "        y_plt = y - cos(theta_rotate)*hgt/2. - sin(theta_rotate)*wid/2.\n",
    "\n",
    "        # Truth information\n",
    "        this_vol = hits.cth.filter_hits(vol_hits, \"M_vol_id\", values=vol)\n",
    "\n",
    "        if print_me:\n",
    "            # Range\n",
    "            #x_true = (max(this_vol[\"M_x\"]) - min(this_vol[\"M_x\"]))\n",
    "            #y_true = (max(this_vol[\"M_y\"]) - min(this_vol[\"M_y\"]))\n",
    "            # Average\n",
    "            x_true = average(this_vol[\"M_x\"])\n",
    "            y_true = average(this_vol[\"M_y\"])\n",
    "            print \"index \" + str(vol)\n",
    "            print \"  x \" + str(test_geom.point_x[vol])\n",
    "            #print \"  x_plt \" + str(x_plt)\n",
    "            print \"  x_true \" + str(x_true)\n",
    "            print \"  y \" + str(test_geom.point_y[vol])\n",
    "            #print \"  y_plt \" + str(y_plt)\n",
    "            print \"  y_true \" + str(y_true)\n",
    "            print y_true - y \n",
    "            print x_true - x\n",
    "            print sqrt(x_true**2 + y_true**2)\n",
    "\n",
    "        plot_angle = (theta_rotate/np.pi) * 180.\n",
    "\n",
    "        plot_rect = plt.Rectangle((x_plt, y_plt), wid, hgt, angle=plot_angle,\\\n",
    "                                  transform=gca().transData._b, fill=False, color=\"red\")\n",
    "           #     color=\"green\", fill=False, alpha=l_alpha, lw=lw)\n",
    "        gca().add_artist(plot_rect)"
   ]
  },
  {
   "cell_type": "markdown",
   "metadata": {},
   "source": [
    "## Drawing the Hit Volumes"
   ]
  },
  {
   "cell_type": "code",
   "execution_count": null,
   "metadata": {
    "collapsed": false
   },
   "outputs": [],
   "source": [
    "all_hits = hits.cydet.get_hit_types(evt)\n",
    "plot_output(all_hits, geom)\n",
    "cth_hits = hits.cth.get_hit_vols(evt)\n",
    "\n",
    "# Get all hit points in first volume\n",
    "sig_vols_shown = hits.cth.get_sig_vols(events=evt)\n",
    "bkg_vols_shown = hits.cth.get_bkg_vols(events=evt)\n",
    "\n",
    "for wid, hgt, deflection, vols_shown in zip(widths, heights, deflection_angles, all_vols_shown):\n",
    "\n",
    "    for vol, x, y in zip(vols_shown, test_geom.point_x[vols_shown],test_geom.point_y[vols_shown]): \n",
    "        theta_rotate = np.arctan((y)/(x)) - deflection*np.pi/180\n",
    "        x_plt = x + sin(theta_rotate)*hgt/2. - cos(theta_rotate)*wid/2.\n",
    "        y_plt = y - cos(theta_rotate)*hgt/2. - sin(theta_rotate)*wid/2.\n",
    "\n",
    "        # Truth information\n",
    "        this_vol = hits.cth.filter_hits(vol_hits, \"M_vol_id\", values=vol)\n",
    "\n",
    "        if print_me:\n",
    "            # Range\n",
    "            #x_true = (max(this_vol[\"M_x\"]) - min(this_vol[\"M_x\"]))\n",
    "            #y_true = (max(this_vol[\"M_y\"]) - min(this_vol[\"M_y\"]))\n",
    "            # Average\n",
    "            x_true = average(this_vol[\"M_x\"])\n",
    "            y_true = average(this_vol[\"M_y\"])\n",
    "            print \"index \" + str(vol)\n",
    "            print \"  x \" + str(test_geom.point_x[vol])\n",
    "            #print \"  x_plt \" + str(x_plt)\n",
    "            print \"  x_true \" + str(x_true)\n",
    "            print \"  y \" + str(test_geom.point_y[vol])\n",
    "            #print \"  y_plt \" + str(y_plt)\n",
    "            print \"  y_true \" + str(y_true)\n",
    "            print y_true - y \n",
    "            print x_true - x\n",
    "            print sqrt(x_true**2 + y_true**2)\n",
    "\n",
    "        plot_angle = (theta_rotate/np.pi) * 180.\n",
    "        if vol in sig_vols_shown:\n",
    "            plot_rect = plt.Rectangle((x_plt, y_plt), wid, hgt, angle=plot_angle,\\\n",
    "                                      transform=gca().transData._b, color=\"blue\")\n",
    "        elif vol in bkg_vols_shown:\n",
    "            plot_rect = plt.Rectangle((x_plt, y_plt), wid, hgt, angle=plot_angle,\\\n",
    "                                      transform=gca().transData._b, color=\"red\")\n",
    "            #     color=\"green\", fill=False, alpha=l_alpha, lw=lw)\n",
    "        else: \n",
    "            plot_rect = plt.Rectangle((x_plt, y_plt), wid, hgt, angle=plot_angle,\\\n",
    "                                      transform=gca().transData._b, fill=False, lw=1, alpha=0.3,\n",
    "                                      color=\"black\")\n",
    "        gca().add_artist(plot_rect)  "
   ]
  }
 ],
 "metadata": {
  "kernelspec": {
   "display_name": "Python 2",
   "language": "python",
   "name": "python2"
  },
  "language_info": {
   "codemirror_mode": {
    "name": "ipython",
    "version": 2
   },
   "file_extension": ".py",
   "mimetype": "text/x-python",
   "name": "python",
   "nbconvert_exporter": "python",
   "pygments_lexer": "ipython2",
   "version": "2.7.12"
  }
 },
 "nbformat": 4,
 "nbformat_minor": 0
}
