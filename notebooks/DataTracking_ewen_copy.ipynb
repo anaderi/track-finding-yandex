{
 "cells": [
  {
   "cell_type": "code",
   "execution_count": null,
   "metadata": {
    "collapsed": false
   },
   "outputs": [],
   "source": [
    "%pylab inline"
   ]
  },
  {
   "cell_type": "code",
   "execution_count": 1,
   "metadata": {
    "collapsed": true
   },
   "outputs": [],
   "source": [
    "import sys\n",
    "sys.path.insert(0, '..')"
   ]
  },
  {
   "cell_type": "code",
   "execution_count": 2,
   "metadata": {
    "collapsed": false
   },
   "outputs": [],
   "source": [
    "from data import Dataset"
   ]
  },
  {
   "cell_type": "code",
   "execution_count": 3,
   "metadata": {
    "collapsed": false,
    "scrolled": true
   },
   "outputs": [],
   "source": [
    "dataset = Dataset('../data/signal_TDR.root')"
   ]
  },
  {
   "cell_type": "code",
   "execution_count": null,
   "metadata": {
    "collapsed": true
   },
   "outputs": [],
   "source": []
  },
  {
   "cell_type": "markdown",
   "metadata": {},
   "source": [
    "### Energy deposits"
   ]
  },
  {
   "cell_type": "code",
   "execution_count": 4,
   "metadata": {
    "collapsed": false
   },
   "outputs": [
    {
     "data": {
      "text/plain": [
       "array([ 0.,  0.,  0., ...,  0.,  0.,  0.])"
      ]
     },
     "execution_count": 4,
     "metadata": {},
     "output_type": "execute_result"
    }
   ],
   "source": [
    "dataset.get_energy_deposits(event_id=0)"
   ]
  },
  {
   "cell_type": "markdown",
   "metadata": {},
   "source": [
    "### Indices of those wires that activated"
   ]
  },
  {
   "cell_type": "code",
   "execution_count": 5,
   "metadata": {
    "collapsed": false
   },
   "outputs": [
    {
     "data": {
      "text/plain": [
       "array([ 362,  363,  558,  559,  775,  776,  984,  985, 1214, 1215, 1434,\n",
       "       1435, 1436, 1677, 1678, 1679, 1910, 1911, 1912, 2166, 2167, 2168,\n",
       "       2411, 2412, 2413, 2414, 2681, 2682, 2683, 2684, 2685, 2686, 2687,\n",
       "       2688, 2689, 2690, 2691, 2692, 2693, 2694, 2695, 2696, 2429, 2430,\n",
       "       2431, 2432, 2190, 2191, 2192, 2193, 1937, 1938, 1939, 1709, 1476,\n",
       "       1477, 1468, 1469, 1029, 1030, 1021, 1022, 1023,  605,  606,  597,\n",
       "        598,  599,  206,  207,  365,  564,  987, 1211, 1433, 1670, 1905,\n",
       "       2153, 2400, 2399, 2660, 2659, 2918, 3190, 3189, 3460, 3459, 3744,\n",
       "       3743, 4026, 4025, 4322, 4321, 4616, 4615, 4614,  350,  349,  542,\n",
       "        541,  759,  758,  963,  962, 1192, 1191, 1407, 1406, 1649, 1648,\n",
       "       1647, 1874, 1873, 1872, 2127, 2126, 2125, 2124, 2363, 2362, 2361,\n",
       "       2360, 2359, 2358, 2357, 2356, 2355, 2354, 2116, 2115, 2114, 2113,\n",
       "       1857,  338,  536,  535,  746,  957,  956, 1179, 1178, 1401, 1400,\n",
       "       1636, 1635, 1869, 1868, 2619, 2618, 2876, 2875, 2874, 3146, 3145,\n",
       "       3414, 3413, 3697, 3696, 3695, 3976, 3975, 3974, 4271, 4270, 4269,\n",
       "       4268, 4561, 4560, 4559, 4558,  212,  403,  402,  613,  612,  815,\n",
       "        814, 1037, 1036, 1035, 1250, 1249, 1248, 1475, 1483, 1482, 1481,\n",
       "       1480, 1471,  325,  518,  517,  733,  938, 1166, 1165, 1382, 1623,\n",
       "       1622, 1851, 1850, 2103, 2102, 2343, 2342, 2607, 2606, 2859, 2858,\n",
       "       3135, 3399, 3398, 3687, 3962, 3961, 4263, 4549, 4548, 4346,  224,\n",
       "       3514, 3515, 2980, 2981, 2968, 2967, 2979, 2969, 2978, 2977, 2706,\n",
       "       2976, 3240, 3241, 2975, 3242, 3521, 3243, 3520, 3519, 3800, 3801,\n",
       "       4090, 3802, 3071, 2164, 2673, 2674, 2416, 2165, 3867, 3818,  413,\n",
       "        629,  628, 2887, 3431, 3714, 3715, 3716, 3434, 3433, 3161, 3160,\n",
       "       3432, 3713, 3998, 3999, 4000, 4292, 4293, 4294, 4001, 2889, 2888,\n",
       "       2886, 2885, 2884, 3165,  202,  361,  463,  264,  265,  393,  392,\n",
       "        596, 2820, 2571, 2570, 2819, 4668, 4088, 4087, 4667, 4666, 4669,\n",
       "       4086, 4379, 4670, 4378, 4377, 4671, 4376, 4672, 4673, 1830, 4231,\n",
       "       2736,  356,  357,  358, 2615,  320,  319,  981, 3039, 3040, 2766,\n",
       "       2765, 2767, 3038, 3304, 3037, 3305, 3306, 3585, 3586, 3302, 3303,\n",
       "       3584, 3866, 3583, 3378, 3377, 4102, 4353, 4352, 4351, 4350, 4644,\n",
       "       4645,  309,  308, 4492, 4491, 4203, 3848, 3095, 3394, 3393, 1563,\n",
       "       1366,  561,  391,  390,  394,  395, 3596, 2271, 2025,  217,  216,\n",
       "        354,  556,  557, 3279, 3018, 3819, 3542, 3820, 4112, 4111, 4404,\n",
       "       4405, 1039, 4625, 4626,  385,  384,  383,  586,  587, 4361, 4658,\n",
       "       2661,  978,  979,  774, 1210,  980, 1209,  773,  772, 1208,  982,\n",
       "       1207,  983, 1206, 1430, 1205, 1431, 1432, 1665, 1666, 1664, 4342,\n",
       "       3034, 2004, 2005, 2248,  593,  876, 2466, 2212,  551, 2049, 4648,\n",
       "       4363, 4362, 4647, 4649, 4360, 4650, 4056, 4057, 4359, 4651, 4358,\n",
       "       4652, 4357, 4653, 1346, 1345, 1121, 1122,  902,  901,  900,  693,\n",
       "        692, 1653, 1412, 1654, 1411, 1410, 1655,  241,  242,  240,  439,\n",
       "        440, 2287, 2286, 4229, 4600, 3764, 3763, 1943,  665,  666, 1492,\n",
       "       3174, 3692, 4490, 4489, 3828, 2002,  931,  498,  499,  307,  500,\n",
       "        306,  501,  502,  712,  503,  711,  923,  924,  710, 1143, 3803,\n",
       "       4315, 4316, 4009, 4010, 4314, 4011, 4313, 4012, 4312, 4013, 4311,\n",
       "       4310, 4605, 4606,  353, 4196, 4197, 4198, 4054, 3484, 3210, 3209,\n",
       "       3483, 2938, 2939, 2937, 2677, 2678, 2679, 2936, 2680, 2415, 2933,\n",
       "        607,  398,  397,  813, 1031, 2368, 2110, 2111, 1866, 1865, 1629,\n",
       "       1630, 1631, 1395, 1394, 1393, 1632, 1392, 1391, 1390, 1634, 4607,\n",
       "       4608, 4609,  406, 3475, 3902, 3903, 4628,  718,  930,  532,  481,\n",
       "       4664, 3973, 4273, 2521, 2777, 3097, 1543, 3876, 3875,  369,  368,\n",
       "        565,  717, 3338, 3337, 2372, 4494, 4386,  488, 3969, 4307, 4597,\n",
       "       4306,  371,  370,  571,  570, 4249, 4250, 3952, 3953, 2386, 4113,\n",
       "       3104, 2834, 3103, 3374, 3375, 3654, 3655, 3376, 2833, 2578, 2832,\n",
       "       2577, 2579, 4485,  781, 2079, 2844, 4072,  547,  755, 1268, 1498,\n",
       "       1269, 1046, 1047, 1497,  829,  828,  623,  624,  625,  840, 4320,\n",
       "       4441, 4530, 4661, 2716, 3084, 2808, 4459,  850, 4014, 2928, 1385,\n",
       "       1465,  761,  507, 1423, 1663, 1662, 1661, 3781, 3965, 1899, 3582,\n",
       "       3296,  782, 2439, 2195, 4401, 1034, 3554, 3832, 2288, 1128, 1921,\n",
       "       1920, 1682, 1683, 1447, 1448, 1446, 1223, 1224, 1225, 1226, 2322,\n",
       "       2315, 2316, 2317, 2318, 2319, 2836, 2837, 3105, 4430, 4429, 4136,\n",
       "       4137, 3845, 3844, 1768, 1769, 1770, 1160, 4580,  331, 1170, 2925,\n",
       "       4409, 4121, 4120, 4408, 4122, 3981, 1940, 3335, 3336, 3067, 1639,\n",
       "       3531,  619,  430, 2596, 3334, 1449, 1222, 1221, 1001, 1000,  999,\n",
       "        786,  787,  788,  574,  789,  572,  790,  791, 2428,  770, 3685,\n",
       "        756,  966, 3022, 3023,  472, 4093, 2029])"
      ]
     },
     "execution_count": 5,
     "metadata": {},
     "output_type": "execute_result"
    }
   ],
   "source": [
    "dataset._get_wire_ids(event_id=0)"
   ]
  },
  {
   "cell_type": "markdown",
   "metadata": {},
   "source": [
    "### Benchmarking the time needed to load all the events"
   ]
  },
  {
   "cell_type": "code",
   "execution_count": 6,
   "metadata": {
    "collapsed": false
   },
   "outputs": [
    {
     "data": {
      "text/plain": [
       "3445"
      ]
     },
     "execution_count": 6,
     "metadata": {},
     "output_type": "execute_result"
    }
   ],
   "source": [
    "dataset.n_events"
   ]
  },
  {
   "cell_type": "code",
   "execution_count": 7,
   "metadata": {
    "collapsed": false
   },
   "outputs": [
    {
     "name": "stdout",
     "output_type": "stream",
     "text": [
      "CPU times: user 242 ms, sys: 4.74 ms, total: 246 ms\n",
      "Wall time: 250 ms\n"
     ]
    }
   ],
   "source": [
    "%%time\n",
    "for i in range(dataset.n_events):\n",
    "    z = dataset.get_energy_deposits(i)"
   ]
  },
  {
   "cell_type": "code",
   "execution_count": 2,
   "metadata": {
    "collapsed": false
   },
   "outputs": [
    {
     "name": "stdout",
     "output_type": "stream",
     "text": [
      "nan 0.0\n",
      "0.05617 15.867\n",
      "0.14354 15.4\n",
      "0.09505 0.0\n",
      "0.12454 14.544\n",
      "0.01573 0.0\n",
      "0.11911 0.0\n",
      "0.10985 13.426\n",
      "0.03572 0.0\n",
      "0.00563 12.771\n",
      "0.14472 0.0\n",
      "0.03971 12.177\n",
      "0.09166 0.0\n",
      "0.04259 11.636\n",
      "0.04779 0.0\n",
      "0.05454 0.0\n",
      "0.03017 0.0\n",
      "0.10389 10.686\n",
      "nan 0.0\n",
      "nan 10.267\n",
      "15769.1426713\n"
     ]
    },
    {
     "name": "stderr",
     "output_type": "stream",
     "text": [
      "/home/elg112/.local/lib/python2.7/site-packages/IPython/kernel/__main__.py:25: RuntimeWarning: invalid value encountered in double_scalars\n"
     ]
    }
   ],
   "source": [
    "import sys\n",
    "sys.path.insert(0, '..')\n",
    "from data import Dataset\n",
    "import math\n",
    "import numpy\n",
    "positions_x = numpy.zeros(20)\n",
    "positions_y = numpy.zeros(20)\n",
    "interval = numpy.zeros(20)\n",
    "dataset = Dataset('../data/signal_TDR.root')\n",
    "for event in range(dataset.n_events):\n",
    "    x_vals = dataset.get_measurement(event,\"CdcCell_wx\")\n",
    "    y_vals = dataset.get_measurement(event,\"CdcCell_wy\")\n",
    "    first_wire = 0\n",
    "    for layer_id, layer_size in enumerate(dataset.n_wires_in_layers):\n",
    "        if positions_x[layer_id] == 0 : \n",
    "            positions_x[layer_id] = x_vals[first_wire]\n",
    "            positions_y[layer_id] = y_vals[first_wire]\n",
    "            interval[layer_id] = 2*math.pi/layer_size\n",
    "        first_wire += layer_size\n",
    "sumsqr = 0\n",
    "n=0\n",
    "for x,y,r,inter,theta in zip(positions_x,positions_y,dataset.r_layers,interval,dataset.start_phi_layer):\n",
    "    sumsqr += (math.sqrt(x*x)-r)**2\n",
    "    r_measu = math.sqrt(x*x+y*y)\n",
    "    theta_meas = math.acos(x/r_measu)\n",
    "    print round(theta_meas-theta*0.001, 5), theta\n",
    "    n += 1\n",
    "print sumsqr"
   ]
  },
  {
   "cell_type": "code",
   "execution_count": 3,
   "metadata": {
    "collapsed": false
   },
   "outputs": [
    {
     "ename": "KeyboardInterrupt",
     "evalue": "",
     "output_type": "error",
     "traceback": [
      "\u001b[1;31m---------------------------------------------------------------------------\u001b[0m",
      "\u001b[1;31mKeyboardInterrupt\u001b[0m                         Traceback (most recent call last)",
      "\u001b[1;32m<ipython-input-3-3ad98a8f2641>\u001b[0m in \u001b[0;36m<module>\u001b[1;34m()\u001b[0m\n\u001b[0;32m     16\u001b[0m     \u001b[0my_vals\u001b[0m \u001b[1;33m=\u001b[0m \u001b[0mdataset\u001b[0m\u001b[1;33m.\u001b[0m\u001b[0mget_measurement\u001b[0m\u001b[1;33m(\u001b[0m\u001b[0mevent\u001b[0m\u001b[1;33m,\u001b[0m\u001b[1;34m\"CdcCell_wy\"\u001b[0m\u001b[1;33m)\u001b[0m\u001b[1;33m\u001b[0m\u001b[0m\n\u001b[0;32m     17\u001b[0m     \u001b[1;32mfor\u001b[0m \u001b[0mwire\u001b[0m \u001b[1;32min\u001b[0m \u001b[0mrange\u001b[0m\u001b[1;33m(\u001b[0m\u001b[0mdataset\u001b[0m\u001b[1;33m.\u001b[0m\u001b[0mtotal_wires\u001b[0m\u001b[1;33m)\u001b[0m\u001b[1;33m:\u001b[0m\u001b[1;33m\u001b[0m\u001b[0m\n\u001b[1;32m---> 18\u001b[1;33m         \u001b[1;32mif\u001b[0m \u001b[1;33m(\u001b[0m\u001b[0mx_vals\u001b[0m\u001b[1;33m[\u001b[0m\u001b[0mwire\u001b[0m\u001b[1;33m]\u001b[0m \u001b[1;33m!=\u001b[0m \u001b[1;36m0.\u001b[0m \u001b[1;32mand\u001b[0m \u001b[0my_vals\u001b[0m\u001b[1;33m[\u001b[0m\u001b[0mwire\u001b[0m\u001b[1;33m]\u001b[0m \u001b[1;33m!=\u001b[0m \u001b[1;36m0.\u001b[0m \u001b[1;33m)\u001b[0m\u001b[1;33m:\u001b[0m\u001b[1;33m\u001b[0m\u001b[0m\n\u001b[0m\u001b[0;32m     19\u001b[0m             \u001b[1;32mif\u001b[0m \u001b[1;33m(\u001b[0m\u001b[0mwire_pos_x\u001b[0m\u001b[1;33m[\u001b[0m\u001b[0mwire\u001b[0m\u001b[1;33m]\u001b[0m \u001b[1;33m==\u001b[0m \u001b[1;36m0.\u001b[0m \u001b[1;32mand\u001b[0m \u001b[0mwire_pos_x\u001b[0m\u001b[1;33m[\u001b[0m\u001b[0mwire\u001b[0m\u001b[1;33m]\u001b[0m \u001b[1;33m==\u001b[0m \u001b[1;36m0.\u001b[0m \u001b[1;33m)\u001b[0m\u001b[1;33m:\u001b[0m\u001b[1;33m\u001b[0m\u001b[0m\n\u001b[0;32m     20\u001b[0m                 \u001b[0mwire_pos_x\u001b[0m\u001b[1;33m[\u001b[0m\u001b[0mwire\u001b[0m\u001b[1;33m]\u001b[0m \u001b[1;33m=\u001b[0m \u001b[0mx_vals\u001b[0m\u001b[1;33m[\u001b[0m\u001b[0mwire\u001b[0m\u001b[1;33m]\u001b[0m\u001b[1;33m\u001b[0m\u001b[0m\n",
      "\u001b[1;31mKeyboardInterrupt\u001b[0m: "
     ]
    }
   ],
   "source": [
    "import sys\n",
    "sys.path.insert(0, '..')\n",
    "from data import Dataset\n",
    "import math\n",
    "import numpy\n",
    "import pylab\n",
    "wire_pos_x = numpy.zeros(dataset.total_wires)\n",
    "wire_pos_y = numpy.zeros(dataset.total_wires)\n",
    "wire_pos_x[:] = 0.\n",
    "wire_pos_y[:] = 0.\n",
    "nhit = 0\n",
    "dataset = Dataset('../data/signal_TDR.root')\n",
    "\n",
    "for event in range(dataset.n_events):\n",
    "    x_vals = dataset.get_measurement(event,\"CdcCell_wx\")\n",
    "    y_vals = dataset.get_measurement(event,\"CdcCell_wy\")\n",
    "    for wire in range(dataset.total_wires):\n",
    "        if (x_vals[wire] != 0. and y_vals[wire] != 0. ):\n",
    "            if (wire_pos_x[wire] == 0. and wire_pos_x[wire] == 0. ):\n",
    "                wire_pos_x[wire] = x_vals[wire]\n",
    "                wire_pos_y[wire] = y_vals[wire]\n",
    "                nhit += 1\n",
    "print nhit"
   ]
  },
  {
   "cell_type": "code",
   "execution_count": 3,
   "metadata": {
    "collapsed": false
   },
   "outputs": [],
   "source": [
    "import matplotlib.pyplot as plt\n",
    "import sys\n",
    "sys.path.insert(0, '..')\n",
    "from data import Dataset\n",
    "import math\n",
    "import numpy as np\n",
    "import matplotlib.pyplot as plt\n",
    "dataset = Dataset('../data/signal_TDR.root')\n",
    "\n",
    "first_r = np.zeros(20)\n",
    "first_a = np.zeros(20)\n",
    "first_wire = 0\n",
    "\n",
    "for n in r(dataset.n_wires_in_layers):\n",
    "    first_r[n] = dataset.radii_table[first_wire]\n",
    "    first_a[n] = dataset.angles_table[first_wire]\n",
    "    first_wire += wires\n",
    "\n",
    "ax = plt.subplot(111, polar=True)\n",
    "ax.scatter(dataset.angles_table, dataset.radii_table, color='r', marker=\".\")\n",
    "ax.scatter(first_a, first_r, color='b')\n",
    "plt.show()"
   ]
  },
  {
   "cell_type": "code",
   "execution_count": 1,
   "metadata": {
    "collapsed": false
   },
   "outputs": [
    {
     "name": "stdout",
     "output_type": "stream",
     "text": [
      "[199 201 495 496 497 498 499 500 501 502]\n"
     ]
    }
   ],
   "source": [
    "import matplotlib.pyplot as plt\n",
    "import sys\n",
    "sys.path.insert(0, '..')\n",
    "from data import Dataset\n",
    "import math\n",
    "import numpy as np\n",
    "import matplotlib.pyplot as plt\n",
    "from scipy.sparse import *\n",
    "dataset = Dataset('../data/signal_TDR.root')\n",
    "\n",
    "\n",
    "neigh = find(dataset.neighbours_table[100,:])[1]\n",
    "print neigh\n",
    "first_a = np.zeros(len(neigh))\n",
    "first_r = np.zeros(len(neigh))\n",
    "\n",
    "for n,nei in enumerate(neigh):\n",
    "    first_a[n] = dataset.angles_table[nei]\n",
    "    first_r[n] = dataset.radii_table[nei]\n",
    "\n",
    "ax = plt.subplot(111, polar=True)\n",
    "ax.scatter(dataset.angles_table, dataset.radii_table, color='r', marker=\".\")\n",
    "ax.scatter(first_a, first_r, color='b')\n",
    "plt.show()"
   ]
  },
  {
   "cell_type": "code",
   "execution_count": 1,
   "metadata": {
    "collapsed": false
   },
   "outputs": [
    {
     "ename": "ValueError",
     "evalue": "The truth value of an array with more than one element is ambiguous. Use a.any() or a.all()",
     "output_type": "error",
     "traceback": [
      "\u001b[1;31m---------------------------------------------------------------------------\u001b[0m",
      "\u001b[1;31mValueError\u001b[0m                                Traceback (most recent call last)",
      "\u001b[1;32m<ipython-input-1-2c9eed96afe0>\u001b[0m in \u001b[0;36m<module>\u001b[1;34m()\u001b[0m\n\u001b[0;32m      6\u001b[0m \u001b[1;32mimport\u001b[0m \u001b[0mnumpy\u001b[0m \u001b[1;32mas\u001b[0m \u001b[0mnp\u001b[0m\u001b[1;33m\u001b[0m\u001b[0m\n\u001b[0;32m      7\u001b[0m \u001b[1;32mimport\u001b[0m \u001b[0mmatplotlib\u001b[0m\u001b[1;33m.\u001b[0m\u001b[0mpyplot\u001b[0m \u001b[1;32mas\u001b[0m \u001b[0mplt\u001b[0m\u001b[1;33m\u001b[0m\u001b[0m\n\u001b[1;32m----> 8\u001b[1;33m \u001b[0mdataset\u001b[0m \u001b[1;33m=\u001b[0m \u001b[0mDataset\u001b[0m\u001b[1;33m(\u001b[0m\u001b[1;34m'../data/signal_TDR.root'\u001b[0m\u001b[1;33m)\u001b[0m\u001b[1;33m\u001b[0m\u001b[0m\n\u001b[0m\u001b[0;32m      9\u001b[0m \u001b[1;33m\u001b[0m\u001b[0m\n\u001b[0;32m     10\u001b[0m \u001b[0msignal_tracks\u001b[0m \u001b[1;33m=\u001b[0m \u001b[0mnp\u001b[0m\u001b[1;33m.\u001b[0m\u001b[0mwhere\u001b[0m\u001b[1;33m(\u001b[0m\u001b[0mdataset\u001b[0m\u001b[1;33m.\u001b[0m\u001b[0mget_hit_types\u001b[0m\u001b[1;33m(\u001b[0m\u001b[1;36m1\u001b[0m\u001b[1;33m)\u001b[0m \u001b[1;33m==\u001b[0m \u001b[1;36m1\u001b[0m\u001b[1;33m)\u001b[0m\u001b[1;33m[\u001b[0m\u001b[1;36m0\u001b[0m\u001b[1;33m]\u001b[0m\u001b[1;33m\u001b[0m\u001b[0m\n",
      "\u001b[1;32m/home/elg112/ICEDUST/OfflineProject/packages/ReconTrackFinding/track_finding_standalone/track-finding-yandex/data.py\u001b[0m in \u001b[0;36m__init__\u001b[1;34m(self, path, treename)\u001b[0m\n\u001b[0;32m     38\u001b[0m         \u001b[0mself\u001b[0m\u001b[1;33m.\u001b[0m\u001b[0mradii_table\u001b[0m \u001b[1;33m=\u001b[0m \u001b[0mself\u001b[0m\u001b[1;33m.\u001b[0m\u001b[0m_prepare_wire_radius_lookup\u001b[0m\u001b[1;33m(\u001b[0m\u001b[1;33m)\u001b[0m\u001b[1;33m\u001b[0m\u001b[0m\n\u001b[0;32m     39\u001b[0m         \u001b[0mself\u001b[0m\u001b[1;33m.\u001b[0m\u001b[0mangles_table\u001b[0m \u001b[1;33m=\u001b[0m \u001b[0mself\u001b[0m\u001b[1;33m.\u001b[0m\u001b[0m_prepare_wire_angles_lookup\u001b[0m\u001b[1;33m(\u001b[0m\u001b[1;33m)\u001b[0m\u001b[1;33m\u001b[0m\u001b[0m\n\u001b[1;32m---> 40\u001b[1;33m         \u001b[0mself\u001b[0m\u001b[1;33m.\u001b[0m\u001b[0mneighbours_table\u001b[0m \u001b[1;33m=\u001b[0m \u001b[0mself\u001b[0m\u001b[1;33m.\u001b[0m\u001b[0mget_neighbours\u001b[0m\u001b[1;33m(\u001b[0m\u001b[1;33m)\u001b[0m\u001b[1;33m\u001b[0m\u001b[0m\n\u001b[0m\u001b[0;32m     41\u001b[0m \u001b[1;33m\u001b[0m\u001b[0m\n\u001b[0;32m     42\u001b[0m     \u001b[1;33m@\u001b[0m\u001b[0mproperty\u001b[0m\u001b[1;33m\u001b[0m\u001b[0m\n",
      "\u001b[1;32m/home/elg112/ICEDUST/OfflineProject/packages/ReconTrackFinding/track_finding_standalone/track-finding-yandex/data.py\u001b[0m in \u001b[0;36mget_neighbours\u001b[1;34m(self)\u001b[0m\n\u001b[0;32m    147\u001b[0m                 \u001b[0mneighbours\u001b[0m\u001b[1;33m[\u001b[0m\u001b[0mthis_wire\u001b[0m\u001b[1;33m,\u001b[0m\u001b[0mthis_wire\u001b[0m\u001b[1;33m+\u001b[0m\u001b[1;33m(\u001b[0m\u001b[0mwire_index\u001b[0m\u001b[1;33m-\u001b[0m\u001b[1;36m1\u001b[0m\u001b[1;33m)\u001b[0m\u001b[1;33m%\u001b[0m\u001b[0mlayer_size\u001b[0m\u001b[1;33m]\u001b[0m \u001b[1;33m=\u001b[0m \u001b[1;36m1\u001b[0m \u001b[1;31m# Anti-Clockwise\u001b[0m\u001b[1;33m\u001b[0m\u001b[0m\n\u001b[0;32m    148\u001b[0m                 \u001b[0mabove\u001b[0m \u001b[1;33m=\u001b[0m \u001b[0mnp\u001b[0m\u001b[1;33m.\u001b[0m\u001b[0mwhere\u001b[0m\u001b[1;33m(\u001b[0m\u001b[1;33m(\u001b[0m\u001b[0mabs\u001b[0m\u001b[1;33m(\u001b[0m\u001b[0mself\u001b[0m\u001b[1;33m.\u001b[0m\u001b[0mangles_table\u001b[0m\u001b[1;33m-\u001b[0m\u001b[0mself\u001b[0m\u001b[1;33m.\u001b[0m\u001b[0mangles_table\u001b[0m\u001b[1;33m[\u001b[0m\u001b[0mthis_wire\u001b[0m\u001b[1;33m]\u001b[0m\u001b[1;33m)\u001b[0m \u001b[1;33m<\u001b[0m \u001b[1;36m0.015\u001b[0m\u001b[1;33m)\u001b[0m \u001b[1;33m&\u001b[0m \u001b[1;33m(\u001b[0m\u001b[0mself\u001b[0m\u001b[1;33m.\u001b[0m\u001b[0mradii_table\u001b[0m \u001b[1;33m==\u001b[0m \u001b[0mself\u001b[0m\u001b[1;33m.\u001b[0m\u001b[0mr_layers\u001b[0m\u001b[1;33m[\u001b[0m\u001b[0mlayer_id\u001b[0m\u001b[1;33m+\u001b[0m\u001b[1;36m1\u001b[0m\u001b[1;33m]\u001b[0m\u001b[1;33m)\u001b[0m\u001b[1;33m)\u001b[0m\u001b[1;33m\u001b[0m\u001b[0m\n\u001b[1;32m--> 149\u001b[1;33m                 \u001b[0mneighbours\u001b[0m\u001b[1;33m[\u001b[0m\u001b[0mthis_wire\u001b[0m\u001b[1;33m,\u001b[0m\u001b[0mabove\u001b[0m\u001b[1;33m[\u001b[0m\u001b[1;33m:\u001b[0m\u001b[1;33m]\u001b[0m\u001b[1;33m]\u001b[0m \u001b[1;33m=\u001b[0m \u001b[1;36m1\u001b[0m\u001b[1;33m\u001b[0m\u001b[0m\n\u001b[0m\u001b[0;32m    150\u001b[0m             \u001b[0mfirst_wire\u001b[0m \u001b[1;33m+=\u001b[0m \u001b[0mlayer_size\u001b[0m\u001b[1;33m\u001b[0m\u001b[0m\n\u001b[0;32m    151\u001b[0m         \u001b[1;32mreturn\u001b[0m \u001b[0mneighbours\u001b[0m\u001b[1;33m\u001b[0m\u001b[0m\n",
      "\u001b[1;32m/usr/lib64/python2.7/site-packages/scipy/sparse/lil.pyc\u001b[0m in \u001b[0;36m__setitem__\u001b[1;34m(self, index, x)\u001b[0m\n\u001b[0;32m    351\u001b[0m         \u001b[1;32mif\u001b[0m \u001b[0mxrows\u001b[0m \u001b[1;33m==\u001b[0m \u001b[0mlen\u001b[0m\u001b[1;33m(\u001b[0m\u001b[0mrows\u001b[0m\u001b[1;33m)\u001b[0m\u001b[1;33m:\u001b[0m    \u001b[1;31m# normal rectangular copy\u001b[0m\u001b[1;33m\u001b[0m\u001b[0m\n\u001b[0;32m    352\u001b[0m             \u001b[1;32mfor\u001b[0m \u001b[0mrow\u001b[0m\u001b[1;33m,\u001b[0m \u001b[0mdata\u001b[0m\u001b[1;33m,\u001b[0m \u001b[0mxrow\u001b[0m\u001b[1;33m,\u001b[0m \u001b[0mxdata\u001b[0m \u001b[1;32min\u001b[0m \u001b[0mzip\u001b[0m\u001b[1;33m(\u001b[0m\u001b[0mrows\u001b[0m\u001b[1;33m,\u001b[0m \u001b[0mdatas\u001b[0m\u001b[1;33m,\u001b[0m \u001b[0mx\u001b[0m\u001b[1;33m.\u001b[0m\u001b[0mrows\u001b[0m\u001b[1;33m,\u001b[0m \u001b[0mx\u001b[0m\u001b[1;33m.\u001b[0m\u001b[0mdata\u001b[0m\u001b[1;33m)\u001b[0m\u001b[1;33m:\u001b[0m\u001b[1;33m\u001b[0m\u001b[0m\n\u001b[1;32m--> 353\u001b[1;33m                 \u001b[0mself\u001b[0m\u001b[1;33m.\u001b[0m\u001b[0m_setitem_setrow\u001b[0m\u001b[1;33m(\u001b[0m\u001b[0mrow\u001b[0m\u001b[1;33m,\u001b[0m \u001b[0mdata\u001b[0m\u001b[1;33m,\u001b[0m \u001b[0mj\u001b[0m\u001b[1;33m,\u001b[0m \u001b[0mxrow\u001b[0m\u001b[1;33m,\u001b[0m \u001b[0mxdata\u001b[0m\u001b[1;33m,\u001b[0m \u001b[0mxcols\u001b[0m\u001b[1;33m)\u001b[0m\u001b[1;33m\u001b[0m\u001b[0m\n\u001b[0m\u001b[0;32m    354\u001b[0m         \u001b[1;32melif\u001b[0m \u001b[0mxrows\u001b[0m \u001b[1;33m==\u001b[0m \u001b[1;36m1\u001b[0m\u001b[1;33m:\u001b[0m          \u001b[1;31m# OK, broadcast down column\u001b[0m\u001b[1;33m\u001b[0m\u001b[0m\n\u001b[0;32m    355\u001b[0m             \u001b[1;32mfor\u001b[0m \u001b[0mrow\u001b[0m\u001b[1;33m,\u001b[0m \u001b[0mdata\u001b[0m \u001b[1;32min\u001b[0m \u001b[0mzip\u001b[0m\u001b[1;33m(\u001b[0m\u001b[0mrows\u001b[0m\u001b[1;33m,\u001b[0m \u001b[0mdatas\u001b[0m\u001b[1;33m)\u001b[0m\u001b[1;33m:\u001b[0m\u001b[1;33m\u001b[0m\u001b[0m\n",
      "\u001b[1;32m/usr/lib64/python2.7/site-packages/scipy/sparse/lil.pyc\u001b[0m in \u001b[0;36m_setitem_setrow\u001b[1;34m(self, row, data, j, xrow, xdata, xcols)\u001b[0m\n\u001b[0;32m    295\u001b[0m                     \u001b[0mpos\u001b[0m \u001b[1;33m=\u001b[0m \u001b[0mbisect_left\u001b[0m\u001b[1;33m(\u001b[0m\u001b[0mxrow\u001b[0m\u001b[1;33m,\u001b[0m \u001b[0mxi\u001b[0m\u001b[1;33m)\u001b[0m\u001b[1;33m\u001b[0m\u001b[0m\n\u001b[0;32m    296\u001b[0m                     \u001b[1;32mif\u001b[0m \u001b[0mpos\u001b[0m \u001b[1;33m!=\u001b[0m \u001b[0mlen\u001b[0m\u001b[1;33m(\u001b[0m\u001b[0mxdata\u001b[0m\u001b[1;33m)\u001b[0m \u001b[1;32mand\u001b[0m \u001b[0mxrow\u001b[0m\u001b[1;33m[\u001b[0m\u001b[0mpos\u001b[0m\u001b[1;33m]\u001b[0m \u001b[1;33m==\u001b[0m \u001b[0mxi\u001b[0m\u001b[1;33m:\u001b[0m\u001b[1;33m\u001b[0m\u001b[0m\n\u001b[1;32m--> 297\u001b[1;33m                         \u001b[0mself\u001b[0m\u001b[1;33m.\u001b[0m\u001b[0m_insertat2\u001b[0m\u001b[1;33m(\u001b[0m\u001b[0mrow\u001b[0m\u001b[1;33m,\u001b[0m \u001b[0mdata\u001b[0m\u001b[1;33m,\u001b[0m \u001b[0mjj\u001b[0m\u001b[1;33m,\u001b[0m \u001b[0mxdata\u001b[0m\u001b[1;33m[\u001b[0m\u001b[0mpos\u001b[0m\u001b[1;33m]\u001b[0m\u001b[1;33m)\u001b[0m\u001b[1;33m\u001b[0m\u001b[0m\n\u001b[0m\u001b[0;32m    298\u001b[0m                     \u001b[1;32melse\u001b[0m\u001b[1;33m:\u001b[0m\u001b[1;33m\u001b[0m\u001b[0m\n\u001b[0;32m    299\u001b[0m                         \u001b[0mself\u001b[0m\u001b[1;33m.\u001b[0m\u001b[0m_insertat2\u001b[0m\u001b[1;33m(\u001b[0m\u001b[0mrow\u001b[0m\u001b[1;33m,\u001b[0m \u001b[0mdata\u001b[0m\u001b[1;33m,\u001b[0m \u001b[0mjj\u001b[0m\u001b[1;33m,\u001b[0m \u001b[1;36m0\u001b[0m\u001b[1;33m)\u001b[0m\u001b[1;33m\u001b[0m\u001b[0m\n",
      "\u001b[1;32m/usr/lib64/python2.7/site-packages/scipy/sparse/lil.pyc\u001b[0m in \u001b[0;36m_insertat2\u001b[1;34m(self, row, data, j, x)\u001b[0m\n\u001b[0;32m    258\u001b[0m         column j. \"\"\"\n\u001b[0;32m    259\u001b[0m \u001b[1;33m\u001b[0m\u001b[0m\n\u001b[1;32m--> 260\u001b[1;33m         \u001b[1;32mif\u001b[0m \u001b[0mj\u001b[0m \u001b[1;33m<\u001b[0m \u001b[1;36m0\u001b[0m\u001b[1;33m:\u001b[0m \u001b[1;31m#handle negative column indices\u001b[0m\u001b[1;33m\u001b[0m\u001b[0m\n\u001b[0m\u001b[0;32m    261\u001b[0m             \u001b[0mj\u001b[0m \u001b[1;33m+=\u001b[0m \u001b[0mself\u001b[0m\u001b[1;33m.\u001b[0m\u001b[0mshape\u001b[0m\u001b[1;33m[\u001b[0m\u001b[1;36m1\u001b[0m\u001b[1;33m]\u001b[0m\u001b[1;33m\u001b[0m\u001b[0m\n\u001b[0;32m    262\u001b[0m \u001b[1;33m\u001b[0m\u001b[0m\n",
      "\u001b[1;31mValueError\u001b[0m: The truth value of an array with more than one element is ambiguous. Use a.any() or a.all()"
     ]
    }
   ],
   "source": [
    "import matplotlib.pyplot as plt\n",
    "import sys\n",
    "sys.path.insert(0, '..')\n",
    "from data import Dataset\n",
    "import math\n",
    "import numpy as np\n",
    "import matplotlib.pyplot as plt\n",
    "dataset = Dataset('../data/signal_TDR.root')\n",
    "\n",
    "signal_tracks = np.where(dataset.get_hit_types(1) == 1)[0]\n",
    "signal_a = np.zeros(len(signal_tracks) )\n",
    "signal_r = np.zeros(len(signal_tracks) )\n",
    "\n",
    "for n,sig in enumerate(signal_tracks):\n",
    "    signal_a[n] = dataset.angles_table[sig]\n",
    "    signal_r[n] = dataset.radii_table[sig]\n",
    "\n",
    "back_tracks = np.where(dataset.get_hit_types(1) == 2)[0]\n",
    "back_a = np.zeros(len(back_tracks) )\n",
    "back_r = np.zeros(len(back_tracks) )\n",
    "\n",
    "for n,bck in enumerate(back_tracks):\n",
    "    back_a[n] = dataset.angles_table[bck]\n",
    "    back_r[n] = dataset.radii_table[bck]    \n",
    "    \n",
    "ax = plt.subplot(111, polar=True)\n",
    "ax.scatter(dataset.angles_table, dataset.radii_table, color='b', marker=\".\")\n",
    "ax.scatter(signal_a, signal_r, color='g')\n",
    "ax.scatter(back_a, back_r, color='r')\n",
    "plt.show()"
   ]
  },
  {
   "cell_type": "code",
   "execution_count": null,
   "metadata": {
    "collapsed": true
   },
   "outputs": [],
   "source": []
  },
  {
   "cell_type": "code",
   "execution_count": null,
   "metadata": {
    "collapsed": true
   },
   "outputs": [],
   "source": []
  }
 ],
 "metadata": {
  "kernelspec": {
   "display_name": "Python 2",
   "language": "python",
   "name": "python2"
  },
  "language_info": {
   "codemirror_mode": {
    "name": "ipython",
    "version": 2
   },
   "file_extension": ".py",
   "mimetype": "text/x-python",
   "name": "python",
   "nbconvert_exporter": "python",
   "pygments_lexer": "ipython2",
   "version": "2.7.5"
  }
 },
 "nbformat": 4,
 "nbformat_minor": 0
}
