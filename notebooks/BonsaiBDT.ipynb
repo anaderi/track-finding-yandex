{
 "cells": [
  {
   "cell_type": "markdown",
   "metadata": {},
   "source": [
    "# Building Bonsai BDT for Online Triggering\n",
    "\n",
    "* Step 1 : Pull out features for classification.  These include energy deposit on wire, energy deposit of left neighbour, energy deposit of right neighbour, and layer id (radial distance).\n",
    "* Step 2 : Bin these features into 11 bins, 10 with deposits, one with no deposits\n",
    "* Step 3 : Train the GBDT to recognize hit wires based on these binned energy features and layer_id\n",
    "* Step 4 : Build a look up table of dimention [11,11,11,18], so it has an entry for each possible combination of features\n",
    "* Step 5 : Fill the table with the output of the wire GBDT\n",
    "* Step 6 : Define layer features based on this output\n",
    "* Step 7 : Pass layer features through event GBDT\n",
    "* Step 8 : Determine signal or background based on this output"
   ]
  },
  {
   "cell_type": "code",
   "execution_count": 1,
   "metadata": {
    "collapsed": false,
    "scrolled": false
   },
   "outputs": [
    {
     "name": "stdout",
     "output_type": "stream",
     "text": [
      "Populating the interactive namespace from numpy and matplotlib\n",
      "Populating the interactive namespace from numpy and matplotlib\n"
     ]
    }
   ],
   "source": [
    "%pylab inline\n",
    "%run visualizations.ipynb\n",
    "import sys\n",
    "sys.path.insert(0, '../modules')"
   ]
  },
  {
   "cell_type": "code",
   "execution_count": 2,
   "metadata": {
    "collapsed": true
   },
   "outputs": [],
   "source": [
    "from tracking import HoughSpace\n",
    "from scipy import sparse\n",
    "from sklearn.metrics import roc_auc_score, roc_curve\n",
    "import matplotlib.ticker as mtick\n",
    "from hits import CyDetHits, CTHHits, CDCHits"
   ]
  },
  {
   "cell_type": "code",
   "execution_count": 3,
   "metadata": {
    "collapsed": true
   },
   "outputs": [],
   "source": [
    "def bin_energies(deposits, edges=[5,15,20,25,30,35], zero_bin=True):\n",
    "    deposits_f = deposits.flatten()\n",
    "    edges = numpy.percentile(deposits_f[deposits_f > 0],edges)\n",
    "    new_deps = numpy.searchsorted(edges,deposits)\n",
    "    if zero_bin:\n",
    "        new_deps = new_deps + 1\n",
    "        new_deps[deposits == 0] = 0\n",
    "    return new_deps"
   ]
  },
  {
   "cell_type": "code",
   "execution_count": 4,
   "metadata": {
    "collapsed": true
   },
   "outputs": [],
   "source": [
    "def binary_binning(deposits, threshold=0.000005):\n",
    "    new_deps = deposits < threshold\n",
    "    new_deps[deposits == 0] = 0\n",
    "    return new_deps.astype(int)"
   ]
  },
  {
   "cell_type": "code",
   "execution_count": 5,
   "metadata": {
    "collapsed": true
   },
   "outputs": [],
   "source": [
    "def plot_rocs(labels, predictions, zoom=False):\n",
    "    predicts = predictions.keys()\n",
    "    fig = plt.figure(1)\n",
    "    axs = [fig.add_subplot(111)]*len(predicts)\n",
    "\n",
    "    for pred, ax in zip(predicts,axs):\n",
    "        fpr, tpr, values =  roc_curve(labels, predictions[pred][:,1])\n",
    "        fpr *= 100.\n",
    "        tpr *= 100.\n",
    "        ax.xaxis.tick_top()\n",
    "        ax.set_xlabel('Signal Retention Efficiency', fontsize=15)\n",
    "        ax.xaxis.set_label_position('top') \n",
    "        ax.set_ylabel('Background Rejection Efficiency', fontsize=15)    \n",
    "        ax.plot(tpr, 100-fpr, label=pred)\n",
    "        ax.grid(b=True, which='minor', color='grey', linestyle=':')\n",
    "        ax.grid(b=True, which='major', color='grey', linestyle='--')\n",
    "        \n",
    "        \n",
    "        fmt = '%.0f%%' # Format you want the ticks, e.g. '40%'\n",
    "        xticks = mtick.FormatStrFormatter(fmt)\n",
    "        ax.xaxis.set_major_formatter(xticks)\n",
    "        ax.yaxis.set_major_formatter(xticks)\n",
    "        \n",
    "        ax.set_axisbelow(True)\n",
    "        if zoom:\n",
    "            ax.set_xlim([70,100])\n",
    "            ax.set_ylim([70,100])\n",
    "            #ax.set_xticklabels([\"98%\",\"98.5%\",\"99%\",\"99.5%\",\"100%\"])\n",
    "        ax.minorticks_on()\n",
    "        leg = ax.legend(loc=0, frameon=1, fontsize=15)\n",
    "    frame = leg.get_frame()\n",
    "    frame.set_facecolor('white')"
   ]
  },
  {
   "cell_type": "markdown",
   "metadata": {},
   "source": [
    "# Signal Data"
   ]
  },
  {
   "cell_type": "code",
   "execution_count": 15,
   "metadata": {
    "collapsed": false
   },
   "outputs": [
    {
     "name": "stdout",
     "output_type": "stream",
     "text": [
      "Start Events: 79587\n"
     ]
    }
   ],
   "source": [
    "sig_cydet = CyDetHits('../data/151209_signal_tracks.root', signal_coding=[1], hit_type_name=\"tid\")\n",
    "sig_cth = CTHHits('../data/151209_signal_tracks.root', signal_coding=[1], hit_type_name=\"tid\")\n",
    "sig = CDCHits(sig_cydet, sig_cth)\n",
    "\n",
    "from cylinder import CyDet\n",
    "geom = CyDet()\n",
    "n_events = sig_cth.n_events\n",
    "print \"Start Events: {}\".format(sig.cth.n_events)"
   ]
  },
  {
   "cell_type": "code",
   "execution_count": 7,
   "metadata": {
    "collapsed": true
   },
   "outputs": [],
   "source": [
    "# Define cuts to use\n",
    "n_hits_cut = False\n",
    "layer_cut = False\n",
    "timing_cut = False\n",
    "use_cth_cut = False"
   ]
  },
  {
   "cell_type": "code",
   "execution_count": 8,
   "metadata": {
    "collapsed": false
   },
   "outputs": [],
   "source": [
    "if timing_cut:\n",
    "    # Apply the timing filter\n",
    "    print \"CTH Hits: {}\".format(sig.cth.n_hits)\n",
    "    print \"CyDet Hits: {}\".format(sig.cydet.n_hits)\n",
    "    sig.cth.trim_hits(variable=sig.cth.time_name, less_than=1100, greater_than=700)\n",
    "    sig.cydet.trim_hits(variable=sig.cydet.time_name, less_than=1620, greater_than=700)\n",
    "    print \"CTH Hits: {}\".format(sig.cth.n_hits)\n",
    "    print \"CyDet Hits: {}\".format(sig.cydet.n_hits)"
   ]
  },
  {
   "cell_type": "code",
   "execution_count": 9,
   "metadata": {
    "collapsed": false
   },
   "outputs": [
    {
     "name": "stdout",
     "output_type": "stream",
     "text": [
      "Events that pass CTH Trigger: 22091\n"
     ]
    }
   ],
   "source": [
    "# Filter for CTH in time window.  Get the time\n",
    "trigger_events = []\n",
    "for evt in range(sig.n_events):\n",
    "    sig_hits = sig.cth.get_signal_hits(evt)\n",
    "    if len(sig_hits) != 0:\n",
    "        trigger_events.append(evt)\n",
    "trigger_events = np.array(trigger_events)\n",
    "print \"Events that pass CTH Trigger: {}\".format(len(trigger_events))"
   ]
  },
  {
   "cell_type": "code",
   "execution_count": 10,
   "metadata": {
    "collapsed": false
   },
   "outputs": [
    {
     "name": "stdout",
     "output_type": "stream",
     "text": [
      "Number that pass layer cut: 42646\n"
     ]
    }
   ],
   "source": [
    "# Filter for max layer is five\n",
    "max_layer = []\n",
    "for evt in range(sig.n_events):\n",
    "    these_layers = sig.cydet.geom.point_layers[sig.cydet.get_sig_wires(evt)]\n",
    "    if len(sig.cydet.get_sig_wires(evt)) != 0:\n",
    "        max_layer.append(np.max(these_layers))\n",
    "    else:\n",
    "        max_layer.append(-1)\n",
    "max_layer = np.array(max_layer)\n",
    "good_max_layer = np.where(max_layer >= 4)[0]\n",
    "print \"Number that pass layer cut: {}\".format(len(good_max_layer))"
   ]
  },
  {
   "cell_type": "code",
   "execution_count": 11,
   "metadata": {
    "collapsed": false
   },
   "outputs": [
    {
     "name": "stdout",
     "output_type": "stream",
     "text": [
      "Number that pass n hits cut: 45145\n"
     ]
    }
   ],
   "source": [
    "# Filter for number of signal hits\n",
    "n_signal_hits  = np.array([len(sig.cydet.get_signal_hits(evt)) \n",
    "                         for evt in range(sig.n_events)])\n",
    "n_signal_hits = np.array(n_signal_hits)\n",
    "good_n_hits = np.where(n_signal_hits > 30)[0]\n",
    "print \"Number that pass n hits cut: {}\".format(len(good_n_hits))"
   ]
  },
  {
   "cell_type": "code",
   "execution_count": 12,
   "metadata": {
    "collapsed": false,
    "scrolled": true
   },
   "outputs": [
    {
     "name": "stdout",
     "output_type": "stream",
     "text": [
      "Start Events: 79587\n"
     ]
    }
   ],
   "source": [
    "# Apply quality and CTH cuts\n",
    "print \"Start Events: {}\".format(sig.n_events)\n",
    "if use_cth_cut:\n",
    "    sig.trim_events(trigger_events)\n",
    "    print \"After CTH Trigger {}\".format(sig.n_events)\n",
    "if layer_cut:\n",
    "    sig.trim_events(good_max_layer)\n",
    "    print \"After Layer Cut Trigger {}\".format(sig.n_events)\n",
    "if n_hits_cut:\n",
    "    sig.trim_events(good_events)\n",
    "    print \"Afterb N Hits Cut Trigger {}\".format(sig.n_events)"
   ]
  },
  {
   "cell_type": "markdown",
   "metadata": {},
   "source": [
    "# Background Data"
   ]
  },
  {
   "cell_type": "code",
   "execution_count": 26,
   "metadata": {
    "collapsed": true
   },
   "outputs": [],
   "source": [
    "hits_cydet = CyDetHits('../data/151208_SimChen_noise.root', signal_coding=[1])\n",
    "hits_cth = CTHHits('../data/151208_SimChen_noise.root', signal_coding=[1])\n",
    "hits = CDCHits(hits_cydet, hits_cth)\n",
    "\n",
    "n_events = min(sig.n_events, hits.n_events)"
   ]
  },
  {
   "cell_type": "code",
   "execution_count": 27,
   "metadata": {
    "collapsed": false
   },
   "outputs": [],
   "source": [
    "# Set the trigger times\n",
    "trig_time_evt = []\n",
    "for evt in range(n_events):\n",
    "    sig_hits = sig.cth.get_signal_hits(evt)\n",
    "    if len(sig_hits) != 0:\n",
    "        this_trig_time = sig_hits[sig.cth.time_name][0]\n",
    "        trig_time_evt.append(this_trig_time)\n",
    "        sig.cydet.data[sig.cydet.trig_name][sig.cydet.event_to_hits[evt]] = this_trig_time\n",
    "        hits.cydet.data[hits.cydet.trig_name][hits.cydet.event_to_hits[evt]] = this_trig_time"
   ]
  },
  {
   "cell_type": "code",
   "execution_count": 28,
   "metadata": {
    "collapsed": true
   },
   "outputs": [],
   "source": [
    "figsize(8,8)\n",
    "font = {'family' : 'normal',\n",
    "        'weight' : 'normal',\n",
    "        'size'   : 15}\n",
    "\n",
    "matplotlib.rc('font', **font)"
   ]
  },
  {
   "cell_type": "markdown",
   "metadata": {},
   "source": [
    "## Define Training Sample For Track Finding"
   ]
  },
  {
   "cell_type": "code",
   "execution_count": 37,
   "metadata": {
    "collapsed": true
   },
   "outputs": [],
   "source": [
    "from sklearn.cross_validation import train_test_split"
   ]
  },
  {
   "cell_type": "code",
   "execution_count": null,
   "metadata": {
    "collapsed": true
   },
   "outputs": [],
   "source": [
    "# Trim to the "
   ]
  },
  {
   "cell_type": "code",
   "execution_count": 38,
   "metadata": {
    "collapsed": false
   },
   "outputs": [],
   "source": [
    "# Quality tracks\n",
    "quality_tracks_set = np.intersect1d(good_max_layer, good_n_hits)\n",
    "quality_tracks_set = np.intersect1d(best_tracks_set, trigger_events)\n",
    "\n",
    "# Trigger events without quality\n",
    "bad_tracks_set = np.setdiff1d(trigger_events, quality_tracks_set)"
   ]
  },
  {
   "cell_type": "code",
   "execution_count": 42,
   "metadata": {
    "collapsed": false
   },
   "outputs": [],
   "source": [
    "# Splt the quality tracks sample for hit filter\n",
    "remain_quality_tracks, wire_train =\\\n",
    "    train_test_split(quality_tracks_set, train_size=0.30, test_size=0.60)\n",
    "    \n",
    "# Get a filter testing sample out of the remaining, define the rest as the signal for the trigger testing\n",
    "wire_test, trig_sig_trk_test =\\\n",
    "    train_test_split(remain_quality_tracks, train_size=0.50, test_size=0.50)\n",
    "\n",
    "# Define the trigger signal training sample as the wire testing sample\n",
    "trig_sig_trk_train = wire_test\n",
    "\n",
    "# Split the bad tracks indexes into two samples, \n",
    "# one which will include the bad tracks in the background, one which will not\n",
    "trig_bad_trk, trig_no_trk = train_test_split(bad_tracks_set, train_size=0.45, test_size=0.45)\n",
    "\n",
    "# Split these samples into testing \n",
    "trig_bad_trk_test, trig_bad_trk_train =\\\n",
    "    train_test_split(trig_bad_trk, train_size=0.50, test_size=0.50)\n",
    "    \n",
    "# Split these samples into testing \n",
    "trig_no_track_test, trig_no_track_train =\\\n",
    "    train_test_split(trig_no_trk, train_size=0.50, test_size=0.50)\n",
    "    \n",
    "# Define which events are in which stage for the wire events\n",
    "wire_events = np.unique(np.append(wire_test,wire_train))\n",
    "\n",
    "# Define the total training and testing samples for trigger\n",
    "trig_test = np.append(np.append(trig_no_track_test, trig_bad_trk_test), trig_sig_trk_test)\n",
    "trig_train = np.append(np.append(trig_no_track_train, trig_bad_trk_train), trig_sig_trk_train)"
   ]
  },
  {
   "cell_type": "markdown",
   "metadata": {},
   "source": [
    "## Define Wire Features "
   ]
  },
  {
   "cell_type": "code",
   "execution_count": 51,
   "metadata": {
    "collapsed": false
   },
   "outputs": [
    {
     "ename": "IndexError",
     "evalue": "index 5755 is out of bounds for axis 0 with size 5750",
     "output_type": "error",
     "traceback": [
      "\u001b[1;31m---------------------------------------------------------------------------\u001b[0m",
      "\u001b[1;31mIndexError\u001b[0m                                Traceback (most recent call last)",
      "\u001b[1;32m<ipython-input-51-31f6d0b131b1>\u001b[0m in \u001b[0;36m<module>\u001b[1;34m()\u001b[0m\n\u001b[0;32m      1\u001b[0m \u001b[1;31m# Figure out coincidence\u001b[0m\u001b[1;33m\u001b[0m\u001b[1;33m\u001b[0m\u001b[0m\n\u001b[0;32m      2\u001b[0m \u001b[0msig_time\u001b[0m \u001b[1;33m=\u001b[0m  \u001b[0mnumpy\u001b[0m\u001b[1;33m.\u001b[0m\u001b[0mvstack\u001b[0m\u001b[1;33m(\u001b[0m\u001b[0msig\u001b[0m\u001b[1;33m.\u001b[0m\u001b[0mcydet\u001b[0m\u001b[1;33m.\u001b[0m\u001b[0mget_hit_time\u001b[0m\u001b[1;33m(\u001b[0m\u001b[0mi\u001b[0m\u001b[1;33m)\u001b[0m  \u001b[1;32mfor\u001b[0m \u001b[0mi\u001b[0m \u001b[1;32min\u001b[0m \u001b[0mwire_events\u001b[0m\u001b[1;33m)\u001b[0m \u001b[1;31m# + 700.\u001b[0m\u001b[1;33m\u001b[0m\u001b[0m\n\u001b[1;32m----> 3\u001b[1;33m \u001b[0mhit_time\u001b[0m \u001b[1;33m=\u001b[0m  \u001b[0mnumpy\u001b[0m\u001b[1;33m.\u001b[0m\u001b[0mvstack\u001b[0m\u001b[1;33m(\u001b[0m\u001b[0mhits\u001b[0m\u001b[1;33m.\u001b[0m\u001b[0mcydet\u001b[0m\u001b[1;33m.\u001b[0m\u001b[0mget_hit_time\u001b[0m\u001b[1;33m(\u001b[0m\u001b[0mi\u001b[0m\u001b[1;33m)\u001b[0m \u001b[1;32mfor\u001b[0m \u001b[0mi\u001b[0m \u001b[1;32min\u001b[0m \u001b[0mwire_events\u001b[0m\u001b[1;33m)\u001b[0m\u001b[1;33m\u001b[0m\u001b[0m\n\u001b[0m\u001b[0;32m      4\u001b[0m \u001b[1;31m# Flatten at first\u001b[0m\u001b[1;33m\u001b[0m\u001b[1;33m\u001b[0m\u001b[0m\n\u001b[0;32m      5\u001b[0m \u001b[0msig_time\u001b[0m \u001b[1;33m=\u001b[0m \u001b[0msig_time\u001b[0m\u001b[1;33m.\u001b[0m\u001b[0mflatten\u001b[0m\u001b[1;33m(\u001b[0m\u001b[1;33m)\u001b[0m\u001b[1;33m\u001b[0m\u001b[0m\n",
      "\u001b[1;32m/usr/lib64/python2.7/site-packages/numpy/core/shape_base.pyc\u001b[0m in \u001b[0;36mvstack\u001b[1;34m(tup)\u001b[0m\n\u001b[0;32m    226\u001b[0m \u001b[1;33m\u001b[0m\u001b[0m\n\u001b[0;32m    227\u001b[0m     \"\"\"\n\u001b[1;32m--> 228\u001b[1;33m     \u001b[1;32mreturn\u001b[0m \u001b[0m_nx\u001b[0m\u001b[1;33m.\u001b[0m\u001b[0mconcatenate\u001b[0m\u001b[1;33m(\u001b[0m\u001b[1;33m[\u001b[0m\u001b[0matleast_2d\u001b[0m\u001b[1;33m(\u001b[0m\u001b[0m_m\u001b[0m\u001b[1;33m)\u001b[0m \u001b[1;32mfor\u001b[0m \u001b[0m_m\u001b[0m \u001b[1;32min\u001b[0m \u001b[0mtup\u001b[0m\u001b[1;33m]\u001b[0m\u001b[1;33m,\u001b[0m \u001b[1;36m0\u001b[0m\u001b[1;33m)\u001b[0m\u001b[1;33m\u001b[0m\u001b[0m\n\u001b[0m\u001b[0;32m    229\u001b[0m \u001b[1;33m\u001b[0m\u001b[0m\n\u001b[0;32m    230\u001b[0m \u001b[1;32mdef\u001b[0m \u001b[0mhstack\u001b[0m\u001b[1;33m(\u001b[0m\u001b[0mtup\u001b[0m\u001b[1;33m)\u001b[0m\u001b[1;33m:\u001b[0m\u001b[1;33m\u001b[0m\u001b[0m\n",
      "\u001b[1;32m<ipython-input-51-31f6d0b131b1>\u001b[0m in \u001b[0;36m<genexpr>\u001b[1;34m((i,))\u001b[0m\n\u001b[0;32m      1\u001b[0m \u001b[1;31m# Figure out coincidence\u001b[0m\u001b[1;33m\u001b[0m\u001b[1;33m\u001b[0m\u001b[0m\n\u001b[0;32m      2\u001b[0m \u001b[0msig_time\u001b[0m \u001b[1;33m=\u001b[0m  \u001b[0mnumpy\u001b[0m\u001b[1;33m.\u001b[0m\u001b[0mvstack\u001b[0m\u001b[1;33m(\u001b[0m\u001b[0msig\u001b[0m\u001b[1;33m.\u001b[0m\u001b[0mcydet\u001b[0m\u001b[1;33m.\u001b[0m\u001b[0mget_hit_time\u001b[0m\u001b[1;33m(\u001b[0m\u001b[0mi\u001b[0m\u001b[1;33m)\u001b[0m  \u001b[1;32mfor\u001b[0m \u001b[0mi\u001b[0m \u001b[1;32min\u001b[0m \u001b[0mwire_events\u001b[0m\u001b[1;33m)\u001b[0m \u001b[1;31m# + 700.\u001b[0m\u001b[1;33m\u001b[0m\u001b[0m\n\u001b[1;32m----> 3\u001b[1;33m \u001b[0mhit_time\u001b[0m \u001b[1;33m=\u001b[0m  \u001b[0mnumpy\u001b[0m\u001b[1;33m.\u001b[0m\u001b[0mvstack\u001b[0m\u001b[1;33m(\u001b[0m\u001b[0mhits\u001b[0m\u001b[1;33m.\u001b[0m\u001b[0mcydet\u001b[0m\u001b[1;33m.\u001b[0m\u001b[0mget_hit_time\u001b[0m\u001b[1;33m(\u001b[0m\u001b[0mi\u001b[0m\u001b[1;33m)\u001b[0m \u001b[1;32mfor\u001b[0m \u001b[0mi\u001b[0m \u001b[1;32min\u001b[0m \u001b[0mwire_events\u001b[0m\u001b[1;33m)\u001b[0m\u001b[1;33m\u001b[0m\u001b[0m\n\u001b[0m\u001b[0;32m      4\u001b[0m \u001b[1;31m# Flatten at first\u001b[0m\u001b[1;33m\u001b[0m\u001b[1;33m\u001b[0m\u001b[0m\n\u001b[0;32m      5\u001b[0m \u001b[0msig_time\u001b[0m \u001b[1;33m=\u001b[0m \u001b[0msig_time\u001b[0m\u001b[1;33m.\u001b[0m\u001b[0mflatten\u001b[0m\u001b[1;33m(\u001b[0m\u001b[1;33m)\u001b[0m\u001b[1;33m\u001b[0m\u001b[0m\n",
      "\u001b[1;32m/home/elg112/ICEDUST/OfflineProject/packages/ReconTrackFinding/track_finding_standalone/track_finding_yandex/modules/hits.pyc\u001b[0m in \u001b[0;36mget_hit_time\u001b[1;34m(self, events)\u001b[0m\n\u001b[0;32m    603\u001b[0m         \u001b[1;33m:\u001b[0m\u001b[1;32mreturn\u001b[0m\u001b[1;33m:\u001b[0m \u001b[0mnumpy\u001b[0m\u001b[1;33m.\u001b[0m\u001b[0marray\u001b[0m \u001b[0mof\u001b[0m \u001b[0mshape\u001b[0m \u001b[1;33m[\u001b[0m\u001b[0mCyDet\u001b[0m\u001b[1;33m.\u001b[0m\u001b[0mn_points\u001b[0m\u001b[1;33m]\u001b[0m\u001b[1;33m\u001b[0m\u001b[0m\n\u001b[0;32m    604\u001b[0m         \"\"\"\n\u001b[1;32m--> 605\u001b[1;33m         \u001b[0mtime_hit\u001b[0m \u001b[1;33m=\u001b[0m \u001b[0mself\u001b[0m\u001b[1;33m.\u001b[0m\u001b[0mget_measurement\u001b[0m\u001b[1;33m(\u001b[0m\u001b[0mevents\u001b[0m\u001b[1;33m,\u001b[0m \u001b[0mself\u001b[0m\u001b[1;33m.\u001b[0m\u001b[0mtime_name\u001b[0m\u001b[1;33m)\u001b[0m\u001b[1;33m\u001b[0m\u001b[0m\n\u001b[0m\u001b[0;32m    606\u001b[0m         \u001b[1;32mreturn\u001b[0m \u001b[0mtime_hit\u001b[0m\u001b[1;33m\u001b[0m\u001b[0m\n\u001b[0;32m    607\u001b[0m \u001b[1;33m\u001b[0m\u001b[0m\n",
      "\u001b[1;32m/home/elg112/ICEDUST/OfflineProject/packages/ReconTrackFinding/track_finding_standalone/track_finding_yandex/modules/hits.pyc\u001b[0m in \u001b[0;36mget_measurement\u001b[1;34m(self, events, name)\u001b[0m\n\u001b[0;32m    675\u001b[0m         \u001b[0mresult\u001b[0m \u001b[1;33m=\u001b[0m \u001b[0mnp\u001b[0m\u001b[1;33m.\u001b[0m\u001b[0mzeros\u001b[0m\u001b[1;33m(\u001b[0m\u001b[0mself\u001b[0m\u001b[1;33m.\u001b[0m\u001b[0mgeom\u001b[0m\u001b[1;33m.\u001b[0m\u001b[0mn_points\u001b[0m\u001b[1;33m,\u001b[0m \u001b[0mdtype\u001b[0m\u001b[1;33m=\u001b[0m\u001b[0mfloat\u001b[0m\u001b[1;33m)\u001b[0m\u001b[1;33m\u001b[0m\u001b[0m\n\u001b[0;32m    676\u001b[0m         \u001b[1;31m# Select the relevant event from data\u001b[0m\u001b[1;33m\u001b[0m\u001b[1;33m\u001b[0m\u001b[0m\n\u001b[1;32m--> 677\u001b[1;33m         \u001b[0mmeas\u001b[0m \u001b[1;33m=\u001b[0m \u001b[0mself\u001b[0m\u001b[1;33m.\u001b[0m\u001b[0mget_events\u001b[0m\u001b[1;33m(\u001b[0m\u001b[0mevents\u001b[0m\u001b[1;33m)\u001b[0m\u001b[1;33m[\u001b[0m\u001b[0mname\u001b[0m\u001b[1;33m]\u001b[0m\u001b[1;33m\u001b[0m\u001b[0m\n\u001b[0m\u001b[0;32m    678\u001b[0m         \u001b[1;31m# Get the wire_ids of the hit data\u001b[0m\u001b[1;33m\u001b[0m\u001b[1;33m\u001b[0m\u001b[0m\n\u001b[0;32m    679\u001b[0m         \u001b[0mwire_ids\u001b[0m \u001b[1;33m=\u001b[0m \u001b[0mself\u001b[0m\u001b[1;33m.\u001b[0m\u001b[0mget_hit_vols\u001b[0m\u001b[1;33m(\u001b[0m\u001b[0mevents\u001b[0m\u001b[1;33m,\u001b[0m \u001b[0munique\u001b[0m\u001b[1;33m=\u001b[0m\u001b[0mFalse\u001b[0m\u001b[1;33m)\u001b[0m\u001b[1;33m\u001b[0m\u001b[0m\n",
      "\u001b[1;32m/home/elg112/ICEDUST/OfflineProject/packages/ReconTrackFinding/track_finding_standalone/track_finding_yandex/modules/hits.pyc\u001b[0m in \u001b[0;36mget_events\u001b[1;34m(self, events, unique)\u001b[0m\n\u001b[0;32m    285\u001b[0m         \u001b[1;31m# Allow for a single event\u001b[0m\u001b[1;33m\u001b[0m\u001b[1;33m\u001b[0m\u001b[0m\n\u001b[0;32m    286\u001b[0m         \u001b[1;32mif\u001b[0m \u001b[0misinstance\u001b[0m\u001b[1;33m(\u001b[0m\u001b[0mevents\u001b[0m\u001b[1;33m,\u001b[0m \u001b[0mint\u001b[0m\u001b[1;33m)\u001b[0m\u001b[1;33m:\u001b[0m\u001b[1;33m\u001b[0m\u001b[0m\n\u001b[1;32m--> 287\u001b[1;33m             \u001b[0mevt_hits\u001b[0m \u001b[1;33m=\u001b[0m \u001b[0mself\u001b[0m\u001b[1;33m.\u001b[0m\u001b[0mevent_to_hits\u001b[0m\u001b[1;33m[\u001b[0m\u001b[0mevents\u001b[0m\u001b[1;33m]\u001b[0m\u001b[1;33m\u001b[0m\u001b[0m\n\u001b[0m\u001b[0;32m    288\u001b[0m         \u001b[1;31m# Otherwise assume it is a list of events.\u001b[0m\u001b[1;33m\u001b[0m\u001b[1;33m\u001b[0m\u001b[0m\n\u001b[0;32m    289\u001b[0m         \u001b[1;32melse\u001b[0m\u001b[1;33m:\u001b[0m\u001b[1;33m\u001b[0m\u001b[0m\n",
      "\u001b[1;31mIndexError\u001b[0m: index 5755 is out of bounds for axis 0 with size 5750"
     ]
    }
   ],
   "source": [
    "# Figure out coincidence\n",
    "sig_time =  numpy.vstack(sig.cydet.get_hit_time(i)  for i in wire_events) # + 700.\n",
    "hit_time =  numpy.vstack(hits.cydet.get_hit_time(i) for i in wire_events)\n",
    "# Flatten at first\n",
    "sig_time = sig_time.flatten()\n",
    "hit_time = hit_time.flatten()\n",
    "# Find signal hits\n",
    "sig_mask = np.where(sig_time != 0)[0]\n",
    "# Find background hits\n",
    "hit_mask = np.where(hit_time != 0)[0]\n",
    "# Find coincidence\n",
    "both = np.where( (sig_time != 0) & \\\n",
    "                 (hit_time != 0) )[0]\n",
    "# Find when coincidence meant signal was sooner\n",
    "sig_sooner = np.where(sig_time[both] < hit_time[both])[0]\n",
    "# Take these away from background mask\n",
    "hit_mask = np.setdiff1d(hit_mask, sig_sooner)"
   ]
  },
  {
   "cell_type": "code",
   "execution_count": 29,
   "metadata": {
    "collapsed": false
   },
   "outputs": [
    {
     "ename": "NameError",
     "evalue": "name 'wire_sample' is not defined",
     "output_type": "error",
     "traceback": [
      "\u001b[1;31m---------------------------------------------------------------------------\u001b[0m",
      "\u001b[1;31mNameError\u001b[0m                                 Traceback (most recent call last)",
      "\u001b[1;32m<ipython-input-29-6140abf14b41>\u001b[0m in \u001b[0;36m<module>\u001b[1;34m()\u001b[0m\n\u001b[0;32m      1\u001b[0m \u001b[1;31m# Truth Values\u001b[0m\u001b[1;33m\u001b[0m\u001b[1;33m\u001b[0m\u001b[0m\n\u001b[1;32m----> 2\u001b[1;33m \u001b[0msig_labels\u001b[0m \u001b[1;33m=\u001b[0m \u001b[0mnumpy\u001b[0m\u001b[1;33m.\u001b[0m\u001b[0mvstack\u001b[0m\u001b[1;33m(\u001b[0m\u001b[0msig\u001b[0m\u001b[1;33m.\u001b[0m\u001b[0mcydet\u001b[0m\u001b[1;33m.\u001b[0m\u001b[0mget_hit_types\u001b[0m\u001b[1;33m(\u001b[0m\u001b[0mi\u001b[0m\u001b[1;33m)\u001b[0m \u001b[1;32mfor\u001b[0m \u001b[0mi\u001b[0m \u001b[1;32min\u001b[0m \u001b[0mrange\u001b[0m\u001b[1;33m(\u001b[0m\u001b[0mwire_sample\u001b[0m\u001b[1;33m)\u001b[0m\u001b[1;33m)\u001b[0m\u001b[1;33m\u001b[0m\u001b[0m\n\u001b[0m\u001b[0;32m      3\u001b[0m \u001b[0mhit_labels\u001b[0m \u001b[1;33m=\u001b[0m \u001b[0mnumpy\u001b[0m\u001b[1;33m.\u001b[0m\u001b[0mvstack\u001b[0m\u001b[1;33m(\u001b[0m\u001b[0mhits\u001b[0m\u001b[1;33m.\u001b[0m\u001b[0mcydet\u001b[0m\u001b[1;33m.\u001b[0m\u001b[0mget_hit_types\u001b[0m\u001b[1;33m(\u001b[0m\u001b[0mi\u001b[0m\u001b[1;33m)\u001b[0m \u001b[1;32mfor\u001b[0m \u001b[0mi\u001b[0m \u001b[1;32min\u001b[0m \u001b[0mrange\u001b[0m\u001b[1;33m(\u001b[0m\u001b[0mwire_sample\u001b[0m\u001b[1;33m)\u001b[0m\u001b[1;33m)\u001b[0m\u001b[1;33m\u001b[0m\u001b[0m\n\u001b[0;32m      4\u001b[0m \u001b[1;31m# Flatten at first\u001b[0m\u001b[1;33m\u001b[0m\u001b[1;33m\u001b[0m\u001b[0m\n\u001b[0;32m      5\u001b[0m \u001b[0msig_labels\u001b[0m \u001b[1;33m=\u001b[0m \u001b[0msig_labels\u001b[0m\u001b[1;33m.\u001b[0m\u001b[0mflatten\u001b[0m\u001b[1;33m(\u001b[0m\u001b[1;33m)\u001b[0m\u001b[1;33m\u001b[0m\u001b[0m\n",
      "\u001b[1;31mNameError\u001b[0m: name 'wire_sample' is not defined"
     ]
    }
   ],
   "source": [
    "# Truth Values\n",
    "sig_labels = numpy.vstack(sig.cydet.get_hit_types(i) for i in range(wire_sample))\n",
    "hit_labels = numpy.vstack(hits.cydet.get_hit_types(i) for i in range(wire_sample)) \n",
    "# Flatten at first\n",
    "sig_labels = sig_labels.flatten()\n",
    "hit_labels = hit_labels.flatten()\n",
    "# Define the overall relative time\n",
    "labels =  hit_labels\n",
    "# Factor in signal (and coincidence)\n",
    "labels[sig_mask] = sig_labels[sig_mask]\n",
    "# Reshape bacl\n",
    "labels = labels.reshape((n_events,-1))"
   ]
  },
  {
   "cell_type": "code",
   "execution_count": 30,
   "metadata": {
    "collapsed": false,
    "scrolled": false
   },
   "outputs": [
    {
     "ename": "NameError",
     "evalue": "name 'wire_sample' is not defined",
     "output_type": "error",
     "traceback": [
      "\u001b[1;31m---------------------------------------------------------------------------\u001b[0m",
      "\u001b[1;31mNameError\u001b[0m                                 Traceback (most recent call last)",
      "\u001b[1;32m<ipython-input-30-98d35caf9c91>\u001b[0m in \u001b[0;36m<module>\u001b[1;34m()\u001b[0m\n\u001b[0;32m      1\u001b[0m \u001b[1;31m# Energy deposits\u001b[0m\u001b[1;33m\u001b[0m\u001b[1;33m\u001b[0m\u001b[0m\n\u001b[1;32m----> 2\u001b[1;33m \u001b[0mdeposits\u001b[0m \u001b[1;33m=\u001b[0m \u001b[0mnumpy\u001b[0m\u001b[1;33m.\u001b[0m\u001b[0mvstack\u001b[0m\u001b[1;33m(\u001b[0m\u001b[0mhits\u001b[0m\u001b[1;33m.\u001b[0m\u001b[0mget_energy_deposits\u001b[0m\u001b[1;33m(\u001b[0m\u001b[0mi\u001b[0m\u001b[1;33m)\u001b[0m \u001b[1;33m+\u001b[0m \u001b[0msig\u001b[0m\u001b[1;33m.\u001b[0m\u001b[0mget_energy_deposits\u001b[0m\u001b[1;33m(\u001b[0m\u001b[0mi\u001b[0m\u001b[1;33m)\u001b[0m                        \u001b[1;32mfor\u001b[0m \u001b[0mi\u001b[0m \u001b[1;32min\u001b[0m \u001b[0mrange\u001b[0m\u001b[1;33m(\u001b[0m\u001b[0mwire_sample\u001b[0m\u001b[1;33m)\u001b[0m\u001b[1;33m)\u001b[0m\u001b[1;33m\u001b[0m\u001b[0m\n\u001b[0m\u001b[0;32m      3\u001b[0m \u001b[1;31m# Flatten before binning\u001b[0m\u001b[1;33m\u001b[0m\u001b[1;33m\u001b[0m\u001b[0m\n\u001b[0;32m      4\u001b[0m \u001b[0mdeposits_f\u001b[0m \u001b[1;33m=\u001b[0m \u001b[0mdeposits\u001b[0m\u001b[1;33m.\u001b[0m\u001b[0mflatten\u001b[0m\u001b[1;33m(\u001b[0m\u001b[1;33m)\u001b[0m\u001b[1;33m\u001b[0m\u001b[0m\n\u001b[0;32m      5\u001b[0m \u001b[1;33m\u001b[0m\u001b[0m\n",
      "\u001b[1;31mNameError\u001b[0m: name 'wire_sample' is not defined"
     ]
    }
   ],
   "source": [
    "# Energy deposits\n",
    "deposits = numpy.vstack(hits.get_energy_deposits(i) + sig.get_energy_deposits(i)\\\n",
    "                        for i in range(wire_sample))\n",
    "# Flatten before binning \n",
    "deposits_f = deposits.flatten()\n",
    "\n",
    "## Bin the deposits data\n",
    "#new_deps = bin_energies(deposits, e_bin_edges)\n",
    "\n",
    "## Binary Binning\n",
    "new_deps = binary_binning(deposits)"
   ]
  },
  {
   "cell_type": "markdown",
   "metadata": {},
   "source": [
    "### Define Left/Right Neighbours"
   ]
  },
  {
   "cell_type": "code",
   "execution_count": 31,
   "metadata": {
    "collapsed": false
   },
   "outputs": [
    {
     "ename": "AttributeError",
     "evalue": "'CyDetHits' object has no attribute 'n_points'",
     "output_type": "error",
     "traceback": [
      "\u001b[1;31m---------------------------------------------------------------------------\u001b[0m",
      "\u001b[1;31mAttributeError\u001b[0m                            Traceback (most recent call last)",
      "\u001b[1;32m<ipython-input-31-9dbcd316612e>\u001b[0m in \u001b[0;36m<module>\u001b[1;34m()\u001b[0m\n\u001b[1;32m----> 1\u001b[1;33m \u001b[0mright_neighs\u001b[0m \u001b[1;33m=\u001b[0m \u001b[0mnumpy\u001b[0m\u001b[1;33m.\u001b[0m\u001b[0marray\u001b[0m\u001b[1;33m(\u001b[0m\u001b[1;33m[\u001b[0m\u001b[0mhits\u001b[0m\u001b[1;33m.\u001b[0m\u001b[0mcydet\u001b[0m\u001b[1;33m.\u001b[0m\u001b[0mshift_wire\u001b[0m\u001b[1;33m(\u001b[0m\u001b[0mwire\u001b[0m\u001b[1;33m,\u001b[0m \u001b[1;36m1\u001b[0m\u001b[1;33m)\u001b[0m \u001b[1;32mfor\u001b[0m \u001b[0mwire\u001b[0m \u001b[1;32min\u001b[0m \u001b[0mrange\u001b[0m\u001b[1;33m(\u001b[0m\u001b[0mhits\u001b[0m\u001b[1;33m.\u001b[0m\u001b[0mcydet\u001b[0m\u001b[1;33m.\u001b[0m\u001b[0mn_points\u001b[0m\u001b[1;33m)\u001b[0m\u001b[1;33m]\u001b[0m\u001b[1;33m)\u001b[0m\u001b[1;33m\u001b[0m\u001b[0m\n\u001b[0m\u001b[0;32m      2\u001b[0m \u001b[0mleft_neighs\u001b[0m \u001b[1;33m=\u001b[0m \u001b[0mnumpy\u001b[0m\u001b[1;33m.\u001b[0m\u001b[0marray\u001b[0m\u001b[1;33m(\u001b[0m\u001b[1;33m[\u001b[0m\u001b[0mhits\u001b[0m\u001b[1;33m.\u001b[0m\u001b[0mcydet\u001b[0m\u001b[1;33m.\u001b[0m\u001b[0mshift_wire\u001b[0m\u001b[1;33m(\u001b[0m\u001b[0mwire\u001b[0m\u001b[1;33m,\u001b[0m \u001b[1;33m-\u001b[0m\u001b[1;36m1\u001b[0m\u001b[1;33m)\u001b[0m \u001b[1;32mfor\u001b[0m \u001b[0mwire\u001b[0m \u001b[1;32min\u001b[0m \u001b[0mrange\u001b[0m\u001b[1;33m(\u001b[0m\u001b[0mhits\u001b[0m\u001b[1;33m.\u001b[0m\u001b[0mcydet\u001b[0m\u001b[1;33m.\u001b[0m\u001b[0mn_points\u001b[0m\u001b[1;33m)\u001b[0m\u001b[1;33m]\u001b[0m\u001b[1;33m)\u001b[0m\u001b[1;33m\u001b[0m\u001b[0m\n",
      "\u001b[1;31mAttributeError\u001b[0m: 'CyDetHits' object has no attribute 'n_points'"
     ]
    }
   ],
   "source": [
    "right_neighs = numpy.array([hits.cydet.shift_wire(wire, 1) for wire in range(hits.cydet.n_points)])\n",
    "left_neighs = numpy.array([hits.cydet.shift_wire(wire, -1) for wire in range(hits.cydet.n_points)])"
   ]
  },
  {
   "cell_type": "markdown",
   "metadata": {},
   "source": [
    "### Define Features"
   ]
  },
  {
   "cell_type": "code",
   "execution_count": 32,
   "metadata": {
    "collapsed": false
   },
   "outputs": [
    {
     "ename": "NameError",
     "evalue": "name 'layer_id' is not defined",
     "output_type": "error",
     "traceback": [
      "\u001b[1;31m---------------------------------------------------------------------------\u001b[0m",
      "\u001b[1;31mNameError\u001b[0m                                 Traceback (most recent call last)",
      "\u001b[1;32m<ipython-input-32-b5c9d4d209b9>\u001b[0m in \u001b[0;36m<module>\u001b[1;34m()\u001b[0m\n\u001b[0;32m      2\u001b[0m \u001b[0mfeatures\u001b[0m \u001b[1;33m=\u001b[0m \u001b[0mOrderedDict\u001b[0m\u001b[1;33m(\u001b[0m\u001b[1;33m)\u001b[0m\u001b[1;33m\u001b[0m\u001b[0m\n\u001b[0;32m      3\u001b[0m \u001b[1;31m# Features\u001b[0m\u001b[1;33m\u001b[0m\u001b[1;33m\u001b[0m\u001b[0m\n\u001b[1;32m----> 4\u001b[1;33m \u001b[0mfeatures\u001b[0m\u001b[1;33m[\u001b[0m\u001b[1;34m'Layer_ID'\u001b[0m\u001b[1;33m]\u001b[0m \u001b[1;33m=\u001b[0m \u001b[0mlayer_id\u001b[0m\u001b[1;33m\u001b[0m\u001b[0m\n\u001b[0m\u001b[0;32m      5\u001b[0m \u001b[1;33m\u001b[0m\u001b[0m\n\u001b[0;32m      6\u001b[0m \u001b[1;31m## Unbinned deposits\u001b[0m\u001b[1;33m\u001b[0m\u001b[1;33m\u001b[0m\u001b[0m\n",
      "\u001b[1;31mNameError\u001b[0m: name 'layer_id' is not defined"
     ]
    }
   ],
   "source": [
    "from collections import OrderedDict\n",
    "features = OrderedDict()\n",
    "# Features\n",
    "features['Layer_ID'] = layer_id\n",
    "\n",
    "## Unbinned deposits\n",
    "# Wire deposits scaled by 1000 to avoid small numbers for GBDT\n",
    "features['Deposits'] = deposits * 1000\n",
    "# LR-Neighbour Features\n",
    "features['R_Deposits'] = (deposits * 1000)[:, right_neighs]\n",
    "features['L_Deposits'] = (deposits * 1000)[:, left_neighs]\n",
    "\n",
    "\n",
    "# Wire features\n",
    "features['Binned_Deposits'] = new_deps\n",
    "# LR-Neighbour Features\n",
    "features['Binned_R_Deposits'] = new_deps[:, right_neighs]\n",
    "features['Binned_L_Deposits'] = new_deps[:, left_neighs]\n",
    "\n",
    "# Truth values\n",
    "features['Labels'] = labels"
   ]
  },
  {
   "cell_type": "code",
   "execution_count": 33,
   "metadata": {
    "collapsed": false
   },
   "outputs": [
    {
     "ename": "NameError",
     "evalue": "name 'new_deps' is not defined",
     "output_type": "error",
     "traceback": [
      "\u001b[1;31m---------------------------------------------------------------------------\u001b[0m",
      "\u001b[1;31mNameError\u001b[0m                                 Traceback (most recent call last)",
      "\u001b[1;32m<ipython-input-33-f65ec734605d>\u001b[0m in \u001b[0;36m<module>\u001b[1;34m()\u001b[0m\n\u001b[1;32m----> 1\u001b[1;33m \u001b[1;32mprint\u001b[0m \u001b[0mnumpy\u001b[0m\u001b[1;33m.\u001b[0m\u001b[0munique\u001b[0m\u001b[1;33m(\u001b[0m\u001b[0mnew_deps\u001b[0m\u001b[1;33m)\u001b[0m\u001b[1;33m\u001b[0m\u001b[0m\n\u001b[0m",
      "\u001b[1;31mNameError\u001b[0m: name 'new_deps' is not defined"
     ]
    }
   ],
   "source": [
    "print numpy.unique(new_deps)"
   ]
  },
  {
   "cell_type": "code",
   "execution_count": 34,
   "metadata": {
    "collapsed": false
   },
   "outputs": [
    {
     "ename": "ValueError",
     "evalue": "need at least one array to concatenate",
     "output_type": "error",
     "traceback": [
      "\u001b[1;31m---------------------------------------------------------------------------\u001b[0m",
      "\u001b[1;31mValueError\u001b[0m                                Traceback (most recent call last)",
      "\u001b[1;32m<ipython-input-34-fdf3997952a6>\u001b[0m in \u001b[0;36m<module>\u001b[1;34m()\u001b[0m\n\u001b[0;32m      2\u001b[0m \u001b[0mtrain_features\u001b[0m \u001b[1;33m=\u001b[0m \u001b[0mfeatures\u001b[0m\u001b[1;33m.\u001b[0m\u001b[0mkeys\u001b[0m\u001b[1;33m(\u001b[0m\u001b[1;33m)\u001b[0m\u001b[1;33m[\u001b[0m\u001b[1;33m:\u001b[0m\u001b[1;33m-\u001b[0m\u001b[1;36m1\u001b[0m\u001b[1;33m]\u001b[0m\u001b[1;33m\u001b[0m\u001b[0m\n\u001b[0;32m      3\u001b[0m \u001b[1;31m# Name data as all features stacked in 3D array\u001b[0m\u001b[1;33m\u001b[0m\u001b[1;33m\u001b[0m\u001b[0m\n\u001b[1;32m----> 4\u001b[1;33m \u001b[0mdata\u001b[0m \u001b[1;33m=\u001b[0m \u001b[0mnumpy\u001b[0m\u001b[1;33m.\u001b[0m\u001b[0mdstack\u001b[0m\u001b[1;33m(\u001b[0m\u001b[0mfeatures\u001b[0m\u001b[1;33m.\u001b[0m\u001b[0mvalues\u001b[0m\u001b[1;33m(\u001b[0m\u001b[1;33m)\u001b[0m\u001b[1;33m)\u001b[0m\u001b[1;33m\u001b[0m\u001b[0m\n\u001b[0m\u001b[0;32m      5\u001b[0m \u001b[1;31m# Count the number of features\u001b[0m\u001b[1;33m\u001b[0m\u001b[1;33m\u001b[0m\u001b[0m\n\u001b[0;32m      6\u001b[0m \u001b[0mn_feats\u001b[0m \u001b[1;33m=\u001b[0m \u001b[0mdata\u001b[0m\u001b[1;33m.\u001b[0m\u001b[0mshape\u001b[0m\u001b[1;33m[\u001b[0m\u001b[1;33m-\u001b[0m\u001b[1;36m1\u001b[0m\u001b[1;33m]\u001b[0m\u001b[1;33m\u001b[0m\u001b[0m\n",
      "\u001b[1;32m/usr/lib64/python2.7/site-packages/numpy/lib/shape_base.pyc\u001b[0m in \u001b[0;36mdstack\u001b[1;34m(tup)\u001b[0m\n\u001b[0;32m    365\u001b[0m \u001b[1;33m\u001b[0m\u001b[0m\n\u001b[0;32m    366\u001b[0m     \"\"\"\n\u001b[1;32m--> 367\u001b[1;33m     \u001b[1;32mreturn\u001b[0m \u001b[0m_nx\u001b[0m\u001b[1;33m.\u001b[0m\u001b[0mconcatenate\u001b[0m\u001b[1;33m(\u001b[0m\u001b[1;33m[\u001b[0m\u001b[0matleast_3d\u001b[0m\u001b[1;33m(\u001b[0m\u001b[0m_m\u001b[0m\u001b[1;33m)\u001b[0m \u001b[1;32mfor\u001b[0m \u001b[0m_m\u001b[0m \u001b[1;32min\u001b[0m \u001b[0mtup\u001b[0m\u001b[1;33m]\u001b[0m\u001b[1;33m,\u001b[0m \u001b[1;36m2\u001b[0m\u001b[1;33m)\u001b[0m\u001b[1;33m\u001b[0m\u001b[0m\n\u001b[0m\u001b[0;32m    368\u001b[0m \u001b[1;33m\u001b[0m\u001b[0m\n\u001b[0;32m    369\u001b[0m \u001b[1;32mdef\u001b[0m \u001b[0m_replace_zero_by_x_arrays\u001b[0m\u001b[1;33m(\u001b[0m\u001b[0msub_arys\u001b[0m\u001b[1;33m)\u001b[0m\u001b[1;33m:\u001b[0m\u001b[1;33m\u001b[0m\u001b[0m\n",
      "\u001b[1;31mValueError\u001b[0m: need at least one array to concatenate"
     ]
    }
   ],
   "source": [
    "# Name train features as all featurs except label\n",
    "train_features = features.keys()[:-1]\n",
    "# Name data as all features stacked in 3D array\n",
    "data = numpy.dstack(features.values())\n",
    "# Count the number of features\n",
    "n_feats = data.shape[-1]\n",
    "print data.shape"
   ]
  },
  {
   "cell_type": "markdown",
   "metadata": {},
   "source": [
    "## Train/test splitting "
   ]
  },
  {
   "cell_type": "code",
   "execution_count": 35,
   "metadata": {
    "collapsed": false,
    "scrolled": false
   },
   "outputs": [
    {
     "ename": "NameError",
     "evalue": "name 'labels' is not defined",
     "output_type": "error",
     "traceback": [
      "\u001b[1;31m---------------------------------------------------------------------------\u001b[0m",
      "\u001b[1;31mNameError\u001b[0m                                 Traceback (most recent call last)",
      "\u001b[1;32m<ipython-input-35-2e91cb000f22>\u001b[0m in \u001b[0;36m<module>\u001b[1;34m()\u001b[0m\n\u001b[0;32m      1\u001b[0m \u001b[1;32mfrom\u001b[0m \u001b[0msklearn\u001b[0m\u001b[1;33m.\u001b[0m\u001b[0mcross_validation\u001b[0m \u001b[1;32mimport\u001b[0m \u001b[0mtrain_test_split\u001b[0m\u001b[1;33m\u001b[0m\u001b[0m\n\u001b[1;32m----> 2\u001b[1;33m \u001b[0mtrain_events\u001b[0m\u001b[1;33m,\u001b[0m \u001b[0mtest_events\u001b[0m \u001b[1;33m=\u001b[0m \u001b[0mtrain_test_split\u001b[0m\u001b[1;33m(\u001b[0m\u001b[0mrange\u001b[0m\u001b[1;33m(\u001b[0m\u001b[0mlen\u001b[0m\u001b[1;33m(\u001b[0m\u001b[0mlabels\u001b[0m\u001b[1;33m)\u001b[0m\u001b[1;33m)\u001b[0m\u001b[1;33m,\u001b[0m \u001b[0mtrain_size\u001b[0m\u001b[1;33m=\u001b[0m\u001b[1;36m0.15\u001b[0m\u001b[1;33m,\u001b[0m \u001b[0mtest_size\u001b[0m\u001b[1;33m=\u001b[0m\u001b[1;36m0.25\u001b[0m\u001b[1;33m)\u001b[0m\u001b[1;33m\u001b[0m\u001b[0m\n\u001b[0m",
      "\u001b[1;31mNameError\u001b[0m: name 'labels' is not defined"
     ]
    }
   ],
   "source": [
    "from sklearn.cross_validation import train_test_split\n",
    "train_events, test_events = train_test_split(range(len(labels)), train_size=0.15, test_size=0.25)"
   ]
  },
  {
   "cell_type": "markdown",
   "metadata": {},
   "source": [
    "## Features for Wire GBDT"
   ]
  },
  {
   "cell_type": "code",
   "execution_count": 36,
   "metadata": {
    "collapsed": false,
    "scrolled": false
   },
   "outputs": [
    {
     "name": "stderr",
     "output_type": "stream",
     "text": [
      "/usr/lib64/python2.7/site-packages/numexpr/cpuinfo.py:42: UserWarning: [Errno 12] Cannot allocate memory\n",
      "  warnings.warn(str(e), UserWarning, stacklevel=stacklevel)\n"
     ]
    },
    {
     "ename": "NameError",
     "evalue": "name 'data' is not defined",
     "output_type": "error",
     "traceback": [
      "\u001b[1;31m---------------------------------------------------------------------------\u001b[0m",
      "\u001b[1;31mNameError\u001b[0m                                 Traceback (most recent call last)",
      "\u001b[1;32m<ipython-input-36-90c5502f9d29>\u001b[0m in \u001b[0;36m<module>\u001b[1;34m()\u001b[0m\n\u001b[0;32m      1\u001b[0m \u001b[1;32mimport\u001b[0m \u001b[0mpandas\u001b[0m\u001b[1;33m\u001b[0m\u001b[0m\n\u001b[0;32m      2\u001b[0m \u001b[1;31m# Define a small portion of the data to be used as a 0th order guess of if the wire is a signal or not\u001b[0m\u001b[1;33m\u001b[0m\u001b[1;33m\u001b[0m\u001b[0m\n\u001b[1;32m----> 3\u001b[1;33m \u001b[0mwire_trn_data\u001b[0m \u001b[1;33m=\u001b[0m \u001b[0mdata\u001b[0m\u001b[1;33m[\u001b[0m\u001b[0mwire_\u001b[0m\u001b[1;33m]\u001b[0m\u001b[1;33m.\u001b[0m\u001b[0mreshape\u001b[0m\u001b[1;33m(\u001b[0m\u001b[1;33m-\u001b[0m\u001b[1;36m1\u001b[0m\u001b[1;33m,\u001b[0m \u001b[0mn_feats\u001b[0m\u001b[1;33m)\u001b[0m\u001b[1;33m\u001b[0m\u001b[0m\n\u001b[0m\u001b[0;32m      4\u001b[0m \u001b[0mwire_trn_data\u001b[0m \u001b[1;33m=\u001b[0m \u001b[0mpandas\u001b[0m\u001b[1;33m.\u001b[0m\u001b[0mDataFrame\u001b[0m\u001b[1;33m(\u001b[0m\u001b[0mdata\u001b[0m\u001b[1;33m=\u001b[0m\u001b[0mwire_trn_data\u001b[0m\u001b[1;33m,\u001b[0m \u001b[0mcolumns\u001b[0m\u001b[1;33m=\u001b[0m\u001b[0mfeatures\u001b[0m\u001b[1;33m.\u001b[0m\u001b[0mkeys\u001b[0m\u001b[1;33m(\u001b[0m\u001b[1;33m)\u001b[0m\u001b[1;33m)\u001b[0m\u001b[1;33m\u001b[0m\u001b[0m\n\u001b[0;32m      5\u001b[0m \u001b[0mwire_tst_data\u001b[0m \u001b[1;33m=\u001b[0m \u001b[0mdata\u001b[0m\u001b[1;33m[\u001b[0m\u001b[0mtest_events\u001b[0m\u001b[1;33m]\u001b[0m\u001b[1;33m.\u001b[0m\u001b[0mreshape\u001b[0m\u001b[1;33m(\u001b[0m\u001b[1;33m-\u001b[0m\u001b[1;36m1\u001b[0m\u001b[1;33m,\u001b[0m \u001b[0mn_feats\u001b[0m\u001b[1;33m)\u001b[0m\u001b[1;33m\u001b[0m\u001b[0m\n",
      "\u001b[1;31mNameError\u001b[0m: name 'data' is not defined"
     ]
    }
   ],
   "source": [
    "import pandas\n",
    "# Define a small portion of the data to be used as a 0th order guess of if the wire is a signal or not\n",
    "wire_trn_data = data[wire_].reshape(-1, n_feats)\n",
    "wire_trn_data = pandas.DataFrame(data=wire_trn_data, columns=features.keys())\n",
    "wire_tst_data = data[test_events].reshape(-1, n_feats)\n",
    "wire_tst_data = pandas.DataFrame(data=wire_tst_data, columns=features.keys())"
   ]
  },
  {
   "cell_type": "code",
   "execution_count": null,
   "metadata": {
    "collapsed": false,
    "scrolled": false
   },
   "outputs": [],
   "source": [
    "# Purge cells with no hits out\n",
    "wire_trn_data = wire_trn_data[wire_trn_data['Labels'] != 0]\n",
    "wire_tst_data = wire_tst_data[wire_tst_data['Labels'] != 0]\n",
    "\n",
    "# Define signal hit as 1, background hit as 0\n",
    "wire_trn_data['Labels'] = 2 - wire_trn_data['Labels']\n",
    "wire_tst_data['Labels'] = 2 - wire_tst_data['Labels']"
   ]
  },
  {
   "cell_type": "markdown",
   "metadata": {},
   "source": [
    "## Prepare the GBDT"
   ]
  },
  {
   "cell_type": "code",
   "execution_count": null,
   "metadata": {
    "collapsed": true
   },
   "outputs": [],
   "source": [
    "from rep.metaml.factory import ClassifiersFactory\n",
    "from rep.estimators import SklearnClassifier\n",
    "from sklearn.ensemble import GradientBoostingClassifier\n",
    "from rep.report.metrics import RocAuc"
   ]
  },
  {
   "cell_type": "code",
   "execution_count": null,
   "metadata": {
    "collapsed": true
   },
   "outputs": [],
   "source": [
    "factory = ClassifiersFactory()\n",
    "\n",
    "train_features_org = ['Deposits','L_Deposits','R_Deposits', 'Layer_ID']\n",
    "train_features_bin = ['Binned_Deposits','Binned_L_Deposits','Binned_R_Deposits', 'Layer_ID']\n",
    "\n",
    "\n",
    "# Define GBDT over unbinned wire features\n",
    "gb_wire_features_org = SklearnClassifier(GradientBoostingClassifier(n_estimators=400), \n",
    "                                    features=train_features_org)\n",
    "# Define GBDT over binned wire features\n",
    "gb_wire_features_bin = SklearnClassifier(GradientBoostingClassifier(n_estimators=400), \n",
    "                                    features=train_features_bin)\n",
    "# Define GBDT over energy deposit\n",
    "gb_energy = SklearnClassifier(GradientBoostingClassifier(n_estimators=100), \n",
    "                                    features=['Deposits'])\n",
    "\n",
    "factory.add_classifier('Energy Deposit Only', gb_energy)\n",
    "factory.add_classifier('Original Wire Features', gb_wire_features_org)\n",
    "factory.add_classifier('Binned Wire Features', gb_wire_features_bin)\n",
    "\n",
    "#only_binned = ClassifiersFactory()\n",
    "#only_binned.add_classifier('Binned Wire Features', gb_wire_features_bin)"
   ]
  },
  {
   "cell_type": "code",
   "execution_count": null,
   "metadata": {
    "collapsed": false
   },
   "outputs": [],
   "source": [
    "# Train the classifier\n",
    "factory.fit(wire_trn_data, wire_trn_data['Labels'])\n",
    "#only_binned.fit(wire_trn_data, wire_trn_data['Labels'])\n",
    "pass"
   ]
  },
  {
   "cell_type": "code",
   "execution_count": null,
   "metadata": {
    "collapsed": false
   },
   "outputs": [],
   "source": [
    "# Test the classifier\n",
    "wire_predictions = factory.test_on(wire_tst_data, wire_tst_data['Labels'])\n",
    "#binned_predictions = only_binned.test_on(wire_tst_data, wire_tst_data['Labels'])"
   ]
  },
  {
   "cell_type": "code",
   "execution_count": null,
   "metadata": {
    "collapsed": false
   },
   "outputs": [],
   "source": [
    "figsize(6,6) \n",
    "savedir = \"/home/elg112/COMET/Presentations_Papers/COMET_TDR_2015/images/\"\n",
    "save_all = True\n",
    "\n",
    "plot_rocs(wire_tst_data['Labels'], wire_predictions.prediction, zoom=False)\n",
    "if save_all:\n",
    "    savefig(savedir+\"roc_bbdt.png\", bbox_inches='tight')\n",
    "show()\n",
    "\n",
    "plot_rocs(wire_tst_data['Labels'], wire_predictions.prediction, zoom=True)\n",
    "if save_all:\n",
    "    savefig(savedir+\"roc_bbdt_zoom.png\", bbox_inches='tight')"
   ]
  },
  {
   "cell_type": "code",
   "execution_count": null,
   "metadata": {
    "collapsed": false
   },
   "outputs": [],
   "source": [
    "#plt.plot([.99, .99], [0.75, 1.], 'k-', lw=2,  c='g' )\n",
    "#plt.plot([.997, .997], [0.75, 1.], 'k-', lw=2,c='orange')"
   ]
  },
  {
   "cell_type": "code",
   "execution_count": null,
   "metadata": {
    "collapsed": false
   },
   "outputs": [],
   "source": [
    "wire_predictions.feature_importance().plot(figsize=[14, 14])"
   ]
  },
  {
   "cell_type": "code",
   "execution_count": null,
   "metadata": {
    "collapsed": false
   },
   "outputs": [],
   "source": [
    "dep = wire_predictions.features_pdf(features=['Binned_Deposits'], bins=10)\n",
    "dep.plot()"
   ]
  },
  {
   "cell_type": "code",
   "execution_count": null,
   "metadata": {
    "collapsed": false
   },
   "outputs": [],
   "source": [
    "# Take only the all features GBDT from here on out\n",
    "binned_gbdt = factory['Binned Wire Features']\n",
    "\n",
    "# Apply to the final training data\n",
    "binned_gbdt_out = binned_gbdt.predict_proba(wire_tst_data)\n",
    "\n",
    "# Take only the signal probability\n",
    "binned_gbdt_out = binned_gbdt_out[:,1]\n",
    "\n",
    "print len(numpy.unique(binned_gbdt_out))\n",
    "\n",
    "# Remind outselves of the labels\n",
    "binned_labels = wire_tst_data['Labels']"
   ]
  },
  {
   "cell_type": "code",
   "execution_count": null,
   "metadata": {
    "collapsed": false
   },
   "outputs": [],
   "source": [
    "print shape(wire_tst_data)\n",
    "print shape(binned_gbdt_out)"
   ]
  },
  {
   "cell_type": "code",
   "execution_count": null,
   "metadata": {
    "collapsed": false
   },
   "outputs": [],
   "source": [
    "%run visualizations.ipynb\n",
    "figsize(11,6)\n",
    "plot_evt_feature( binned_gbdt_out, binned_labels, \n",
    "             xlabel=\"BBDT Classification Output\", ylabel=\"Normalised Event Count\",\n",
    "            title=\"BBDT Output\", nbins=20)\n",
    "if save_all:\n",
    "    savefig(savedir+\"bbdt_out.png\", bbox_inches='tight')"
   ]
  },
  {
   "cell_type": "markdown",
   "metadata": {},
   "source": [
    "### Build Bonsai BDT"
   ]
  },
  {
   "cell_type": "code",
   "execution_count": null,
   "metadata": {
    "collapsed": false
   },
   "outputs": [],
   "source": [
    "# Check for the binning used in the bonsai BDT\n",
    "n_bins = len(numpy.unique(new_deps))\n",
    "n_layers = len(numpy.unique(layer_id))\n",
    "# Get the GBDT we want\n",
    "binned_gbdt = factory['Binned Wire Features']"
   ]
  },
  {
   "cell_type": "code",
   "execution_count": null,
   "metadata": {
    "collapsed": false
   },
   "outputs": [],
   "source": [
    "# Build a numpy array to hold all possible combinations\n",
    "combinations = numpy.zeros((n_bins*n_bins*n_bins*n_layers,4))\n",
    "n = 0\n",
    "print n_layers\n",
    "\n",
    "# Fill the combinations\n",
    "for wire in range(n_bins):\n",
    "    for left in range(n_bins):\n",
    "        for right in range(n_bins):\n",
    "            for layer in range(n_layers): \n",
    "                combinations[n,:] = wire, left, right, layer\n",
    "                n += 1\n",
    "# Make it a data frame with the correct labels\n",
    "combinations = pandas.DataFrame(data=combinations,columns=['Binned_Deposits','Binned_L_Deposits',\\\n",
    "                                                           'Binned_R_Deposits','Layer_ID'])"
   ]
  },
  {
   "cell_type": "code",
   "execution_count": null,
   "metadata": {
    "collapsed": false
   },
   "outputs": [],
   "source": [
    "# Check the shapes and indecies\n",
    "print combinations.shape\n",
    "print combinations.keys()\n",
    "# Get the desired outputs for these combinations\n",
    "binned_gbdt_all = binned_gbdt.predict_proba(combinations)[:,1]"
   ]
  },
  {
   "cell_type": "code",
   "execution_count": null,
   "metadata": {
    "collapsed": false
   },
   "outputs": [],
   "source": [
    "# Reshape into a Bonsai BDT\n",
    "print binned_gbdt_all.shape\n",
    "bonsai_gbdt = binned_gbdt_all.reshape(n_bins,n_bins,n_bins,-1)\n",
    "# Set no hits equal to zero chance of signal\n",
    "## CONTROVERCIAL MOVE\n",
    "bonsai_gbdt[0,:,:,:] = 0"
   ]
  },
  {
   "cell_type": "code",
   "execution_count": null,
   "metadata": {
    "collapsed": false
   },
   "outputs": [],
   "source": [
    "# Test the output of the bonsai BDT\n",
    "event = 10000\n",
    "dummy_event = wire_trn_data[event:event+1]\n",
    "print dummy_event\n",
    "this_event = dummy_event.values[0]\n",
    "print binned_gbdt.predict_proba(dummy_event)[:,1][0]\n",
    "print bonsai_gbdt[round(this_event[4]), round(this_event[6]), round(this_event[5]), round(this_event[0])]"
   ]
  },
  {
   "cell_type": "markdown",
   "metadata": {},
   "source": [
    "## Recover Layer Level Features"
   ]
  },
  {
   "cell_type": "code",
   "execution_count": null,
   "metadata": {
    "collapsed": false
   },
   "outputs": [],
   "source": [
    "signal = ResampledHits(occupancy=0.30)\n",
    "background = OnlyBackgroundHits(occupancy=0.30, n_events=2000)"
   ]
  },
  {
   "cell_type": "code",
   "execution_count": null,
   "metadata": {
    "collapsed": false
   },
   "outputs": [],
   "source": [
    "#signal = AllHits('../data/online_sig_and_noise.root')\n",
    "#background = AllHits('../data/online_noise.root')\n",
    "used_signal = 2000\n",
    "combined_events = used_signal + background.n_events\n",
    "event_to_hit_look = np.arange(combined_events*signal.cydet.n_points).reshape(combined_events, -1)\n",
    "print combined_events"
   ]
  },
  {
   "cell_type": "code",
   "execution_count": null,
   "metadata": {
    "collapsed": false
   },
   "outputs": [],
   "source": [
    "event_features = OrderedDict()\n",
    "\n",
    "# Energy deposits\n",
    "sig_deposits = numpy.vstack(signal.get_energy_deposits(i) for i in range(used_signal))\n",
    "sig_deposits = numpy.array()\n",
    "bkg_deposits = numpy.vstack(background.get_energy_deposits(i) for i in range(background.n_events))\n",
    "evt_deposits = numpy.vstack([sig_deposits,bkg_deposits])\n",
    "print shape(evt_deposits)"
   ]
  },
  {
   "cell_type": "code",
   "execution_count": null,
   "metadata": {
    "collapsed": false
   },
   "outputs": [],
   "source": [
    "# Layer ID of hit wires\n",
    "evt_layer_id = numpy.vstack(signal.cydet.point_layers for i in range(combined_events))\n",
    "\n",
    "# Truth labels\n",
    "evt_labels = numpy.append(numpy.ones(used_signal), numpy.zeros(background.n_events)).transpose()\n",
    "\n",
    "# Bin the energies\n",
    "#evt_new_deps = bin_energies(evt_deposits)\n",
    "\n",
    "## Binary Binning\n",
    "evt_new_deps = binary_binning(evt_deposits)\n",
    "\n",
    "# Get the left and right neighbours \n",
    "evt_new_deps_r =  evt_new_deps[:, right_neighs]\n",
    "evt_new_deps_l =  evt_new_deps[:, left_neighs]\n",
    "\n",
    "print evt_deposits.shape"
   ]
  },
  {
   "cell_type": "code",
   "execution_count": null,
   "metadata": {
    "collapsed": false
   },
   "outputs": [],
   "source": [
    "# Get Bonsai Output\n",
    "## Simple sum\n",
    "evt_bonsai_out = numpy.vstack( bonsai_gbdt[evt_new_deps[i,:],\\\n",
    "                                           evt_new_deps_l[i,:],\\\n",
    "                                           evt_new_deps_r[i,:],\\\n",
    "                                           evt_layer_id[i,:]] for i in range(combined_events))\n",
    "## Sum of squares\n",
    "#evt_bonsai_out = numpy.square(evt_bonsai_out)\n",
    "## Cut the values\n",
    "#evt_bonsai_out = numpy.vstack( evt_bonsai_out[i,:] > 0.2 for i in range(combined_events))"
   ]
  },
  {
   "cell_type": "code",
   "execution_count": null,
   "metadata": {
    "collapsed": false
   },
   "outputs": [],
   "source": [
    "def classify_layers(evt):\n",
    "    sum_by_layer = [sum(evt_bonsai_out[evt,f_wre:f_wre+n_wres]) for f_wre, n_wres\\\n",
    "                            in zip(signal.cydet.first_point,signal.cydet.n_by_layer)]\n",
    "    return numpy.array(sum_by_layer)"
   ]
  },
  {
   "cell_type": "code",
   "execution_count": null,
   "metadata": {
    "collapsed": false
   },
   "outputs": [],
   "source": [
    "evt_layer_out = numpy.vstack( classify_layers(i) for i in range(combined_events))\n",
    "evt_layer_out = numpy.vstack( np.divide(classify_layers(i), hits.cydet.n_points)\\\n",
    "                              for i in range(combined_events))\n",
    "\n",
    "print evt_layer_out.shape"
   ]
  },
  {
   "cell_type": "markdown",
   "metadata": {},
   "source": [
    "## Prepare GBDT Over Layer Features"
   ]
  },
  {
   "cell_type": "code",
   "execution_count": null,
   "metadata": {
    "collapsed": false
   },
   "outputs": [],
   "source": [
    "layer_features = OrderedDict()\n",
    "layer_labels = OrderedDict()\n",
    "\n",
    "# First order is to just add each layer value as a feature.  This is upper limit of performance\n",
    "for lay in range(n_layers):\n",
    "    layer_features[\"Layer_\"+str(lay)] = evt_layer_out[:,lay]\n",
    "    layer_labels[\"Layer_\"+str(lay)] = \"Layer \"+str(lay)\n",
    "\n",
    "max_layer = numpy.hstack( [ np.where(evt_layer_out[i,:] == np.sort(evt_layer_out[i,:])[-1])[0][0]\\\n",
    "                                                      for i in range(combined_events)])\n",
    "max_value = numpy.hstack( np.sort(evt_layer_out[i,:])[-1] for i in range(combined_events) )\n",
    "\n",
    "n_max_layer = numpy.hstack( [ np.where(evt_layer_out[i,:] == np.sort(evt_layer_out[i,:])[-2])[0][0]\\\n",
    "                                                      for i in range(combined_events)])\n",
    "n_max_value = numpy.hstack( [np.sort(evt_layer_out[i,:])[-2] for i in range(combined_events)])\n",
    "\n",
    "nn_max_layer = numpy.hstack( [ np.where(evt_layer_out[i,:] == np.sort(evt_layer_out[i,:])[-3])[0][0]\\\n",
    "                                                      for i in range(combined_events)])\n",
    "nn_max_value = numpy.hstack([np.sort(evt_layer_out[i,:])[-3] for i in range(combined_events)])\n",
    "\n",
    "#layer_features[\"Max_Layer\"] = max_layer\n",
    "layer_features[\"Max_Value\"] = max_value/(max_layer+np.ones(len(max_layer))).astype(float)\n",
    "#np.array([signal.cydet.n_by_layer[max_l] for max_l in max_layer])\n",
    "#layer_features[\"N_Max_Layer\"] = n_max_layer\n",
    "layer_features[\"N_Max_Value\"] =n_max_value/(n_max_layer+np.ones(len(n_max_layer))).astype(float)\n",
    "#layer_features[\"NN_Max_Layer\"] = nn_max_layer\n",
    "layer_features[\"NN_Max_Value\"] = nn_max_value/(nn_max_layer+np.ones(len(nn_max_layer))).astype(float)\n",
    "# Truth labels for each event\n",
    "layer_features[\"Labels\"] = evt_labels"
   ]
  },
  {
   "cell_type": "code",
   "execution_count": null,
   "metadata": {
    "collapsed": false
   },
   "outputs": [],
   "source": [
    "# Name train features as all featurs except label\n",
    "evt_train_features = layer_features.keys()[:-1]\n",
    "# Name data as all features stacked in 3D array\n",
    "evt_data = numpy.vstack(layer_features.values()).transpose()\n",
    "\n",
    "# Count the number of features\n",
    "n_evt_feats = evt_data.shape[-1]"
   ]
  },
  {
   "cell_type": "code",
   "execution_count": null,
   "metadata": {
    "collapsed": false
   },
   "outputs": [],
   "source": [
    "evt_train_events, evt_test_events = train_test_split(range(len(evt_labels)), train_size=0.50, test_size=0.40)\n",
    "evt_trn_data = pandas.DataFrame(data=evt_data[evt_train_events], columns=layer_features.keys())\n",
    "evt_tst_data = pandas.DataFrame(data=evt_data[evt_test_events], columns=layer_features.keys())"
   ]
  },
  {
   "cell_type": "code",
   "execution_count": null,
   "metadata": {
    "collapsed": false
   },
   "outputs": [],
   "source": [
    "print evt_train_features[0:9],"
   ]
  },
  {
   "cell_type": "code",
   "execution_count": null,
   "metadata": {
    "collapsed": false
   },
   "outputs": [],
   "source": [
    "evt_factory = ClassifiersFactory()\n",
    "\n",
    "evt_trn_feats_full = evt_train_features[:n_layers]\n",
    "evt_all_layers = evt_train_features[:9]\n",
    "evt_special_layers = evt_train_features[:n_layers][::3]+evt_train_features[1:n_layers][::3]\n",
    "\n",
    "# Define GBDT over all layer sums\n",
    "gb_full_layer_features = SklearnClassifier(GradientBoostingClassifier(n_estimators=200), \n",
    "                                    features=evt_trn_feats_full)\n",
    "gb_sum_layer_features = SklearnClassifier(GradientBoostingClassifier(n_estimators=200), \n",
    "                                    features=evt_all_layers)\n",
    "gb_special_layer_features = SklearnClassifier(GradientBoostingClassifier(n_estimators=200), \n",
    "                                    features=evt_special_layers)\n",
    " \n",
    "\n",
    "evt_factory.add_classifier('Sums from All Layers', gb_full_layer_features)\n",
    "evt_factory.add_classifier('Sums from Inner Layers', gb_sum_layer_features)\n",
    "#evt_factory.add_classifier('Special Features', gb_special_layer_features)\n",
    "\n",
    "#only_binned = ClassifiersFactory()\n",
    "#only_binned.add_classifier('Binned Wire Features', gb_wire_features_bin)"
   ]
  },
  {
   "cell_type": "code",
   "execution_count": null,
   "metadata": {
    "collapsed": false
   },
   "outputs": [],
   "source": [
    "# Train the classifier\n",
    "evt_factory.fit(evt_trn_data, evt_trn_data['Labels'])\n",
    "#only_binned.fit(wire_trn_data, wire_trn_data['Labels'])\n",
    "pass"
   ]
  },
  {
   "cell_type": "code",
   "execution_count": null,
   "metadata": {
    "collapsed": false
   },
   "outputs": [],
   "source": [
    "# Test the classifier\n",
    "evt_predictions = evt_factory.test_on(evt_tst_data, evt_tst_data['Labels'])\n",
    "#binned_predictions = only_binned.test_on(wire_tst_data, wire_tst_data['Labels'])"
   ]
  },
  {
   "cell_type": "code",
   "execution_count": null,
   "metadata": {
    "collapsed": false
   },
   "outputs": [],
   "source": [
    "# Look at learning curves\n",
    "figsize(10,10)\n",
    "evt_predictions.learning_curve(RocAuc(), steps=1)"
   ]
  },
  {
   "cell_type": "code",
   "execution_count": null,
   "metadata": {
    "collapsed": false
   },
   "outputs": [],
   "source": [
    "print sum(signal.cydet.n_by_layer[:9])\n",
    "print sum(signal.cydet.n_by_layer[9:])"
   ]
  },
  {
   "cell_type": "code",
   "execution_count": null,
   "metadata": {
    "collapsed": false
   },
   "outputs": [],
   "source": [
    "figsize(6,6) \n",
    "plot_rocs(evt_tst_data['Labels'], evt_predictions.prediction, zoom=False)\n",
    "if save_all:\n",
    "    savefig(savedir+\"roc_evt.png\", bbox_inches='tight')\n",
    "show()\n",
    "plot_rocs(evt_tst_data['Labels'], evt_predictions.prediction, zoom=True)\n",
    "if save_all:\n",
    "    savefig(savedir+\"roc_evt_zoom.png\", bbox_inches='tight')"
   ]
  },
  {
   "cell_type": "code",
   "execution_count": null,
   "metadata": {
    "collapsed": false
   },
   "outputs": [],
   "source": [
    "figsize(11,6)\n",
    "#figsize(5.5,3)\n",
    "all_layers = evt_factory[\"Sums from All Layers\"]\n",
    "plot_feature_importance(all_layers, layer_labels)\n",
    "if save_all:\n",
    "    savefig(savedir+\"feature_importance.png\",bbox_inches=\"tight\")\n",
    "#show()\n",
    "#plot_feature_correlations(factory, feat_label_dict)\n",
    "#show()\n",
    "\n",
    "#evt_predictions.feature_importance().plot(figsize=[11, 6])"
   ]
  },
  {
   "cell_type": "code",
   "execution_count": null,
   "metadata": {
    "collapsed": false
   },
   "outputs": [],
   "source": [
    "corr = evt_predictions.features_correlation_matrix(evt_trn_feats_full+evt_special_layers)\n",
    "                            #tick_labels=[feat_label_dict[key] for key in hough_gbdt_f])\n",
    "corr.plot()"
   ]
  },
  {
   "cell_type": "code",
   "execution_count": null,
   "metadata": {
    "collapsed": false
   },
   "outputs": [],
   "source": [
    "figsize(11,6)\n",
    "plot_evt_feature( layer_features['Layer_0'], layer_features['Labels'], \n",
    "             xlabel=\"Average BBDT Output\", ylabel=\"Normalised Event Count\",\n",
    "            title=\"Average BBDT Output for wires on Layer 0\", nbins=20)\n",
    "if save_all:\n",
    "    plt.savefig(savedir+\"layer_0_dist.png\", bbox_inches='tight')"
   ]
  },
  {
   "cell_type": "code",
   "execution_count": null,
   "metadata": {
    "collapsed": false
   },
   "outputs": [],
   "source": [
    "print sum(signal.cydet.n_by_layer[0:9])"
   ]
  },
  {
   "cell_type": "code",
   "execution_count": null,
   "metadata": {
    "collapsed": false
   },
   "outputs": [],
   "source": [
    "figsize(11,6)\n",
    "plot_evt_feature( layer_features['Layer_12'], layer_features['Labels'], \n",
    "             xlabel=\"Average BBDT Output\", ylabel=\"Normalised Event Count\",\n",
    "            title=\"Average BBDT Output for wires on Layer 12\", nbins=20)\n",
    "if save_all:\n",
    "    plt.savefig(savedir+\"layer_12_dist.png\", bbox_inches='tight')"
   ]
  },
  {
   "cell_type": "code",
   "execution_count": null,
   "metadata": {
    "collapsed": true
   },
   "outputs": [],
   "source": [
    "# Event information\\\n",
    "event = 3\n",
    "signal_event = True\n",
    "add_trans = True\n",
    "\n",
    "if signal_event:\n",
    "    result = np.zeros(signal.cydet.n_points, dtype=int)\n",
    "    result[signal.get_bkg_wires(event)] = 2\n",
    "    result[signal.get_sig_wires(event)] = 1\n",
    "else:\n",
    "    result = np.zeros(background.cydet.n_points, dtype=int)\n",
    "    result[background.get_bkg_wires(event)] = 2\n",
    "    result[background.get_sig_wires(event)] = 1"
   ]
  },
  {
   "cell_type": "code",
   "execution_count": null,
   "metadata": {
    "collapsed": false
   },
   "outputs": [],
   "source": [
    "# Basic output\n",
    "plot_output(result, hits.cydet)\n",
    "if save_all:\n",
    "    plt.savefig(savedir+\"orig_evt.png\", bbox_inches='tight')\n",
    "show()\n",
    "\n",
    "# First GBDT output\n",
    "plot_output(result, hits.cydet, size=plot_norm_size(evt_bonsai_out[event,:]))\n",
    "plot_add_circle(2,38,36,lw=10, color=\"blue\", l_alpha=0.35)\n",
    "plot_add_outlines(result, hits.cydet)\n",
    "plot_add_circle(0,0,5,color=\"grey\", lw=40)\n",
    "if save_all:\n",
    "    plt.savefig(savedir+\"bbdt_visual.png\", bbox_inches='tight')\n",
    "show()\n"
   ]
  },
  {
   "cell_type": "markdown",
   "metadata": {},
   "source": [
    "## Check Mislabeled Events\n"
   ]
  },
  {
   "cell_type": "code",
   "execution_count": null,
   "metadata": {
    "collapsed": false
   },
   "outputs": [],
   "source": [
    "# Get \"is signal\" predictions, i.e. 1 is signal, 0 is backgroun\n",
    "is_signal = evt_predictions.prediction['Sums from Inner Layers'][:,1]"
   ]
  },
  {
   "cell_type": "code",
   "execution_count": null,
   "metadata": {
    "collapsed": false
   },
   "outputs": [],
   "source": [
    "# Get False positive rate, true positive rate \n",
    "f_fpr, f_tpr, f_thersh = roc_curve(evt_tst_data['Labels'], is_signal)"
   ]
  },
  {
   "cell_type": "code",
   "execution_count": null,
   "metadata": {
    "collapsed": false
   },
   "outputs": [],
   "source": [
    "# Get the needed threshold for background rejection at factor 20 suppression\n",
    "ideal_thresh = f_thersh[np.where(f_fpr < 0.05)[0][-1]]\n",
    "print ideal_thresh"
   ]
  },
  {
   "cell_type": "code",
   "execution_count": null,
   "metadata": {
    "collapsed": false
   },
   "outputs": [],
   "source": [
    "# Get the signal events that pass through this threshold\n",
    "mislabelled_signal = np.where( (is_signal < ideal_thresh) & \n",
    "                               (evt_tst_data['Labels'] == 1)\n",
    "                              )[0]\n",
    "print len(mislabelled_signal)"
   ]
  },
  {
   "cell_type": "code",
   "execution_count": null,
   "metadata": {
    "collapsed": false
   },
   "outputs": [],
   "source": [
    "n_hits_mis_evts = [len(signal.get_sig_wires(evt)) for evt in mislabelled_signal]\n",
    "print np.average(n_hits_mis_evts)\n",
    "print np.std(n_hits_mis_evts)/np.sqrt(len(mislabelled_signal))"
   ]
  },
  {
   "cell_type": "code",
   "execution_count": null,
   "metadata": {
    "collapsed": false
   },
   "outputs": [],
   "source": [
    "n_hits_evts = [len(signal.get_sig_wires(evt)) for evt in range(signal.n_events)]\n",
    "print np.average(n_hits_evts)\n",
    "print np.std(n_hits_evts)/np.sqrt(signal.n_events)"
   ]
  }
 ],
 "metadata": {
  "kernelspec": {
   "display_name": "Python 2",
   "language": "python",
   "name": "python2"
  },
  "language_info": {
   "codemirror_mode": {
    "name": "ipython",
    "version": 2
   },
   "file_extension": ".py",
   "mimetype": "text/x-python",
   "name": "python",
   "nbconvert_exporter": "python",
   "pygments_lexer": "ipython2",
   "version": "2.7.12"
  }
 },
 "nbformat": 4,
 "nbformat_minor": 0
}
