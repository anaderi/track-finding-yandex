{
 "cells": [
  {
   "cell_type": "markdown",
   "metadata": {},
   "source": [
    "# Building Bonsai BDT for Online Triggering\n",
    "\n",
    "* Step 1 : Pull out features for classification.  These include energy deposit on wire, energy deposit of left neighbour, energy deposit of right neighbour, and layer id (radial distance).\n",
    "* Step 2 : Bin these features into 11 bins, 10 with deposits, one with no deposits\n",
    "* Step 3 : Train the GBDT to recognize hit wires based on these binned energy features and layer_id\n",
    "* Step 4 : Build a look up table of dimention [11,11,11,18], so it has an entry for each possible combination of features\n",
    "* Step 5 : Fill the table with the output of the wire GBDT\n",
    "* Step 6 : Define layer features based on this output\n",
    "* Step 7 : Pass layer features through event GBDT\n",
    "* Step 8 : Determine signal or background based on this output"
   ]
  },
  {
   "cell_type": "code",
   "execution_count": 1,
   "metadata": {
    "collapsed": false
   },
   "outputs": [
    {
     "name": "stdout",
     "output_type": "stream",
     "text": [
      "Populating the interactive namespace from numpy and matplotlib\n"
     ]
    }
   ],
   "source": [
    "get_ipython().magic(u'run visualizations.ipynb')\n",
    "import sys\n",
    "from hits import CDCHits, CTHHits, CyDetHits\n",
    "from memory_profiler import memory_usage\n",
    "from pprint import pprint\n",
    "from collections import Counter, OrderedDict\n",
    "sys.path.insert(0, '../modules')\n",
    "%load_ext memory_profiler\n",
    "from root_numpy import root2array\n",
    "import scipy.sparse"
   ]
  },
  {
   "cell_type": "code",
   "execution_count": 2,
   "metadata": {
    "collapsed": true
   },
   "outputs": [],
   "source": [
    "%run data_tools.ipynb"
   ]
  },
  {
   "cell_type": "code",
   "execution_count": 3,
   "metadata": {
    "collapsed": false
   },
   "outputs": [],
   "source": [
    "recbe_wiring_file = \"~/development/ICEDUST/track-finding-yandex/data/chanmap_20160814.root\"\n",
    "recbe_positions = root2array(recbe_wiring_file, selection=\"isSenseWire == 1 && LayerID > 0 && LayerID < 19\", \n",
    "                                        branches=[\"LayerID\", \"CellID\",\"BoardID\",\n",
    "                                                  \"BrdLayID\", \"BrdLocID\",\"ChanID\"])\n",
    "recbe_positions[\"LayerID\"] = recbe_positions[\"LayerID\"] - 1"
   ]
  },
  {
   "cell_type": "markdown",
   "metadata": {},
   "source": [
    "# Signal Data"
   ]
  },
  {
   "cell_type": "code",
   "execution_count": 4,
   "metadata": {
    "collapsed": true
   },
   "outputs": [],
   "source": [
    "file_root = \"~/development/ICEDUST/track-finding-yandex/data/MC4p/\"\n",
    "\n",
    "back_samples = [\"MC4p_background_sample_3bunch-train_1.root\",\n",
    "                \"MC4p_background_sample_3bunch-train_2.root\",\n",
    "                \"MC4p_background_sample_3bunch-train_3.root\",\n",
    "                \"MC4p_background_sample_3bunch-train_4.root\"]\n",
    "sig_samples = [\n",
    "    \"oa_xx_xxx_09010000-0000_xerynzb6emaf_user-TrkTree_000_500signal-label.root\",\n",
    "    \"oa_xx_xxx_09110000-0000_2mdcao2ehzya_user-TrkTree_000_500signal-label.root\",\n",
    "    \"oa_xx_xxx_09210000-0000_opfmr3awxs2m_user-TrkTree_000_500signal-label.root\",\n",
    "    \"oa_xx_xxx_09310000-0000_v62e3u5ppkju_user-TrkTree_000_500signal-label.root\",\n",
    "    \"oa_xx_xxx_09410000-0000_z2p5ysva45vx_user-TrkTree_000_500signal-label.root\",\n",
    "    \"oa_xx_xxx_09510000-0000_3eox62hw5ygi_user-TrkTree_000_500signal-label.root\",\n",
    "    \"oa_xx_xxx_09610000-0000_7ctgq54tptae_user-TrkTree_000_500signal-label.root\",\n",
    "    \"oa_xx_xxx_09710000-0000_kah3t5htgouf_user-TrkTree_000_500signal-label.root\",\n",
    "    \"oa_xx_xxx_09810000-0000_a4tlhqvqnv4p_user-TrkTree_000_500signal-label.root\",\n",
    "    \"oa_xx_xxx_09910000-0000_h6g347twij7d_user-TrkTree_000_500signal-label.root\"]\n",
    "\n",
    "sig_samples_700 = [\n",
    "    \"oa_xx_xxx_09010000-0000_bgd5wd5uhw2n_user-TrkTree_000_700signal-label.root\",\n",
    "    \"oa_xx_xxx_09110000-0000_fiey62djp4gd_user-TrkTree_000_700signal-label.root\",\n",
    "    \"oa_xx_xxx_09210000-0000_chqno3g2fxqs_user-TrkTree_000_700signal-label.root\",\n",
    "    \"oa_xx_xxx_09310000-0000_paynw633hzqk_user-TrkTree_000_700signal-label.root\",\n",
    "    \"oa_xx_xxx_09410000-0000_kd234xkjqddc_user-TrkTree_000_700signal-label.root\",\n",
    "    \"oa_xx_xxx_09510000-0000_lpd33ym64roi_user-TrkTree_000_700signal-label.root\",\n",
    "    \"oa_xx_xxx_09610000-0000_i37ocps322kr_user-TrkTree_000_700signal-label.root\",\n",
    "    \"oa_xx_xxx_09710000-0000_t2l7rgghqqdq_user-TrkTree_000_700signal-label.root\",\n",
    "    \"oa_xx_xxx_09810000-0000_mzoackf2gbk7_user-TrkTree_000_700signal-label.root\",\n",
    "    \"oa_xx_xxx_09910000-0000_cbwuzp2l4inz_user-TrkTree_000_700signal-label.root\"]\n",
    "\n",
    "back_samples = [file_root + this_file for this_file in back_samples]\n",
    "sig_samples = [file_root + this_file for this_file in sig_samples_700]"
   ]
  },
  {
   "cell_type": "code",
   "execution_count": 5,
   "metadata": {
    "collapsed": true
   },
   "outputs": [],
   "source": [
    "import root_numpy"
   ]
  },
  {
   "cell_type": "code",
   "execution_count": 6,
   "metadata": {
    "collapsed": true
   },
   "outputs": [],
   "source": [
    "these_branches = {}\n",
    "these_branches[\"CDC\"] = [\"MCPos.fP.fX\", \"MCPos.fP.fY\", \"MCPos.fP.fZ\"]\n",
    "these_branches[\"CTH\"] = [\"MCPos.fP.fX\", \"MCPos.fP.fY\", \"MCPos.fP.fZ\"]"
   ]
  },
  {
   "cell_type": "code",
   "execution_count": 7,
   "metadata": {
    "collapsed": false,
    "scrolled": false
   },
   "outputs": [
    {
     "name": "stdout",
     "output_type": "stream",
     "text": [
      "Getting branches\n",
      "{'CDC': ['MCPos.fP.fX', 'MCPos.fP.fY', 'MCPos.fP.fZ'],\n",
      " 'CTH': ['MCPos.fP.fX', 'MCPos.fP.fY', 'MCPos.fP.fZ']}\n",
      "Using cuts\n",
      "{ 'CDC': '1 == 1 && 1 == 1 && CDCHit.fDetectedTime < 1620 && '\n",
      "         'CDCHit.fDetectedTime > 700',\n",
      "  'CTH': '1 == 1 && 1 == 1 && CTHHit.fMCPos.fE < 1620 && CTHHit.fMCPos.fE > '\n",
      "         '700'}\n"
     ]
    },
    {
     "name": "stderr",
     "output_type": "stream",
     "text": [
      "TClass::Init:0: RuntimeWarning: no dictionary for class COMET::ICOMETEvent is available\n",
      "TClass::Init:0: RuntimeWarning: no dictionary for class COMET::IDataVector is available\n",
      "TClass::Init:0: RuntimeWarning: no dictionary for class COMET::IData is available\n",
      "TClass::Init:0: RuntimeWarning: no dictionary for class COMET::IDatum is available\n",
      "TClass::Init:0: RuntimeWarning: no dictionary for class COMET::ICOMETContext is available\n",
      "TClass::Init:0: RuntimeWarning: no dictionary for class COMET::ISHAHashValue is available\n",
      "TClass::Init:0: RuntimeWarning: no dictionary for class COMET::IAlignmentId is available\n",
      "TClass::Init:0: RuntimeWarning: no dictionary for class COMET::ICOMETEvent::Header is available\n"
     ]
    },
    {
     "name": "stdout",
     "output_type": "stream",
     "text": [
      "Using cuts\n",
      "{ 'CDC': 'CDCHit.fGoodTrig == 1 && CDCHit.fGoodTrack == 1 && '\n",
      "         'CDCHit.fDetectedTime < 1620 && CDCHit.fDetectedTime > 700',\n",
      "  'CTH': 'CTHHit.fGoodTrig == 1 && CTHHit.fGoodTrack == 1 && '\n",
      "         'CTHHit.fMCPos.fE < 1620 && CTHHit.fMCPos.fE > 700'}\n",
      "Getting branches\n",
      "{'CDC': ['MCPos.fP.fX', 'MCPos.fP.fY', 'MCPos.fP.fZ'],\n",
      " 'CTH': ['MCPos.fP.fX', 'MCPos.fP.fY', 'MCPos.fP.fZ']}\n",
      "Trimming Background Events\n",
      "CTH Sig Events 2856 \n",
      "CDC Sig Events 2856 \n",
      "CDC Back Events 2856 \n",
      "Getting branches\n",
      "{'CDC': ['MCPos.fP.fX', 'MCPos.fP.fY', 'MCPos.fP.fZ'],\n",
      " 'CTH': ['MCPos.fP.fX', 'MCPos.fP.fY', 'MCPos.fP.fZ']}\n",
      "Using cuts\n",
      "{ 'CDC': '1 == 1 && 1 == 1 && CDCHit.fDetectedTime < 1620 && '\n",
      "         'CDCHit.fDetectedTime > 700',\n",
      "  'CTH': '1 == 1 && 1 == 1 && CTHHit.fMCPos.fE < 1620 && CTHHit.fMCPos.fE > '\n",
      "         '700'}\n",
      "Using cuts\n",
      "{ 'CDC': 'CDCHit.fGoodTrig == 1 && CDCHit.fGoodTrack == 1 && '\n",
      "         'CDCHit.fDetectedTime < 1620 && CDCHit.fDetectedTime > 700',\n",
      "  'CTH': 'CTHHit.fGoodTrig == 1 && CTHHit.fGoodTrack == 1 && '\n",
      "         'CTHHit.fMCPos.fE < 1620 && CTHHit.fMCPos.fE > 700'}\n",
      "Getting branches\n",
      "{'CDC': ['MCPos.fP.fX', 'MCPos.fP.fY', 'MCPos.fP.fZ'],\n",
      " 'CTH': ['MCPos.fP.fX', 'MCPos.fP.fY', 'MCPos.fP.fZ']}\n",
      "Trimming Signal Events\n",
      "CTH Sig Events 3039 \n",
      "CDC Sig Events 3039 \n",
      "CDC Back Events 3039 \n"
     ]
    }
   ],
   "source": [
    "train_s = data_import_sample(sig_samples[0], back_samples[0], \n",
    "                      these_cuts=[\"Trig\",\"Track\",\"700\"],\n",
    "                      branches=these_branches)\n",
    "test_s = data_import_sample(sig_samples[1], back_samples[1], \n",
    "                      these_cuts=[\"Trig\",\"Track\",\"700\"],\n",
    "                      branches=these_branches)\n",
    "train_s.cth.set_trigger_time()\n",
    "test_s.cth.set_trigger_time()\n",
    "data_remove_coincidence(train_s)\n",
    "data_remove_coincidence(test_s)"
   ]
  },
  {
   "cell_type": "markdown",
   "metadata": {},
   "source": [
    "## Define Training Sample For Track Finding"
   ]
  },
  {
   "cell_type": "code",
   "execution_count": 8,
   "metadata": {
    "collapsed": true
   },
   "outputs": [],
   "source": [
    "def reset_masks(evt_samp, hit_sample):\n",
    "    total_events = hit_sample.n_events\n",
    "    total_hits = hit_sample.n_hits\n",
    "\n",
    "    evt_samp_masks = [ np.zeros(total_events, dtype=bool) for samp in evt_samp ]\n",
    "    hit_masks      = [ np.zeros(total_hits, dtype=bool) for samp in evt_samp ]\n",
    "    for i in range(len(evt_samp)):\n",
    "        evt_samp_masks[i][evt_samp[i]] = True\n",
    "        hit_masks[i][hit_sample.get_events(evt_samp[i])[hit_sample.hits_index_name]] = True\n",
    "    return evt_samp_masks, hit_masks"
   ]
  },
  {
   "cell_type": "code",
   "execution_count": 9,
   "metadata": {
    "collapsed": true
   },
   "outputs": [],
   "source": [
    "# Split up the data first\n",
    "from sklearn.model_selection import train_test_split\n",
    "\n",
    "# Seed for sample mixing\n",
    "seed = 10\n",
    "\n",
    "# Get samples\n",
    "rest = range(train_s.cdc.n_events)\n",
    "sample_1, sample_2 = train_test_split(rest, train_size=0.90, test_size=0.10, random_state=seed)\n",
    "\n",
    "# Get event masks\n",
    "evt_samp       = [ np.sort(sample_1), np.sort(sample_2) ]\n",
    "evt_samp_masks, hit_masks = reset_masks(evt_samp, train_s.cdc)"
   ]
  },
  {
   "cell_type": "code",
   "execution_count": 10,
   "metadata": {
    "collapsed": true
   },
   "outputs": [],
   "source": [
    "# Get samples\n",
    "# TODO clean me up a lot\n",
    "test_s_rest = range(test_s.cdc.n_events)\n",
    "test_s_sample_1, test_s_sample_2 = train_test_split(test_s_rest, train_size=0.90, test_size=0.10, random_state=seed)\n",
    "\n",
    "# Get event masks\n",
    "test_s_evt_samp       = [ np.sort(test_s_sample_1), np.sort(test_s_sample_2) ]\n",
    "test_s_evt_samp_masks, test_s_hit_masks = reset_masks(test_s_evt_samp, test_s.cdc)"
   ]
  },
  {
   "cell_type": "markdown",
   "metadata": {},
   "source": [
    "# Look at features"
   ]
  },
  {
   "cell_type": "code",
   "execution_count": 11,
   "metadata": {
    "collapsed": false
   },
   "outputs": [
    {
     "name": "stdout",
     "output_type": "stream",
     "text": [
      "Populating the interactive namespace from numpy and matplotlib\n"
     ]
    },
    {
     "name": "stderr",
     "output_type": "stream",
     "text": [
      "/home/elg112/development/miniconda2/envs/rep3/lib/python3.4/site-packages/IPython/core/magics/pylab.py:161: UserWarning: pylab import has clobbered these variables: ['seed']\n",
      "`%matplotlib` prevents importing * from pylab and numpy\n",
      "  \"\\n`%matplotlib` prevents importing * from pylab and numpy\"\n"
     ]
    }
   ],
   "source": [
    "from jupyterthemes import jtplot\n",
    "%run visualizations.ipynb\n",
    "\n",
    "jtplot.style(grid=False, ticks=True, fscale=1.4)\n",
    "jtplot.figsize(10,5)"
   ]
  },
  {
   "cell_type": "code",
   "execution_count": 12,
   "metadata": {
    "collapsed": true
   },
   "outputs": [],
   "source": [
    "import matplotlib as mpl\n",
    "mpl.rcParams['legend.facecolor'] = 'inherit'"
   ]
  },
  {
   "cell_type": "code",
   "execution_count": 13,
   "metadata": {
    "collapsed": false
   },
   "outputs": [
    {
     "name": "stderr",
     "output_type": "stream",
     "text": [
      "/home/elg112/development/miniconda2/envs/rep3/lib/python3.4/site-packages/matplotlib/figure.py:1744: UserWarning: This figure includes Axes that are not compatible with tight_layout, so its results might be incorrect.\n",
      "  warnings.warn(\"This figure includes Axes that are not \"\n"
     ]
    },
    {
     "data": {
      "image/png": "[encoded data removed]",
      "text/plain": [
       "<matplotlib.figure.Figure at 0x7fbd39b77fd0>"
      ]
     },
     "metadata": {},
     "output_type": "display_data"
    }
   ],
   "source": [
    "bins_for_plots = 50\n",
    "plot_feature( np.log10(train_s.cdc.get_signal_hits()[train_s.cdc.edep_name] + 1), \n",
    "              np.log10(train_s.cdc.get_background_hits()[train_s.cdc.edep_name] + 1), \n",
    "              xlabel=\"log11(Charge Deposition [e])\", ylabel=\"Normalised Hit Count\", \n",
    "              xlog=False,\n",
    "              title=\"Charge Depostion\",\n",
    "              nbins=bins_for_plots)\n",
    "show()"
   ]
  },
  {
   "cell_type": "code",
   "execution_count": 14,
   "metadata": {
    "collapsed": false
   },
   "outputs": [
    {
     "name": "stderr",
     "output_type": "stream",
     "text": [
      "/home/elg112/development/miniconda2/envs/rep3/lib/python3.4/site-packages/matplotlib/figure.py:1744: UserWarning: This figure includes Axes that are not compatible with tight_layout, so its results might be incorrect.\n",
      "  warnings.warn(\"This figure includes Axes that are not \"\n"
     ]
    },
    {
     "data": {
      "image/png": "[encoded data removed]",
      "text/plain": [
       "<matplotlib.figure.Figure at 0x7fbd6c00a208>"
      ]
     },
     "metadata": {},
     "output_type": "display_data"
    }
   ],
   "source": [
    "bins_for_plots = 50\n",
    "powered_bins = np.array([3.150, \n",
    "                         10.000, 31.50,\n",
    "                         100.00, 315.0,\n",
    "                         1000.0])\n",
    "plot_feature( np.digitize(train_s.cdc.get_signal_hits()[train_s.cdc.edep_name], \n",
    "                          bins=powered_bins),\n",
    "              np.digitize(train_s.cdc.get_background_hits()[train_s.cdc.edep_name], \n",
    "                          bins=powered_bins),\n",
    "              xlabel=\"log10(Charge Deposition [e])\", ylabel=\"Normalised Hit Count\", \n",
    "              xlog=False,\n",
    "              title=\"Charge Depostion\", \n",
    "              nbins=7,\n",
    "              uniform_bins=False)\n",
    "show()"
   ]
  },
  {
   "cell_type": "code",
   "execution_count": 15,
   "metadata": {
    "collapsed": false
   },
   "outputs": [
    {
     "name": "stderr",
     "output_type": "stream",
     "text": [
      "/home/elg112/development/miniconda2/envs/rep3/lib/python3.4/site-packages/matplotlib/figure.py:1744: UserWarning: This figure includes Axes that are not compatible with tight_layout, so its results might be incorrect.\n",
      "  warnings.warn(\"This figure includes Axes that are not \"\n"
     ]
    },
    {
     "data": {
      "image/png": "[encoded data removed]",
      "text/plain": [
       "<matplotlib.figure.Figure at 0x7fbd46fd3a58>"
      ]
     },
     "metadata": {},
     "output_type": "display_data"
    }
   ],
   "source": [
    "bins_for_plots = 50\n",
    "powered_bins = np.array([31.5, 100])\n",
    "plot_feature( np.digitize(train_s.cdc.get_signal_hits()[train_s.cdc.edep_name], \n",
    "                          bins=powered_bins),\n",
    "              np.digitize(train_s.cdc.get_background_hits()[train_s.cdc.edep_name], \n",
    "                          bins=powered_bins),\n",
    "              xlabel=\"log10(Charge Deposition [e])\", ylabel=\"Normalised Hit Count\", \n",
    "              xlog=False,\n",
    "              title=\"Charge Depostion\", \n",
    "              nbins=3,\n",
    "              uniform_bins=False,\n",
    "              override_bins=None)\n",
    "show()"
   ]
  },
  {
   "cell_type": "code",
   "execution_count": 16,
   "metadata": {
    "collapsed": false
   },
   "outputs": [
    {
     "name": "stderr",
     "output_type": "stream",
     "text": [
      "/home/elg112/development/miniconda2/envs/rep3/lib/python3.4/site-packages/matplotlib/figure.py:1744: UserWarning: This figure includes Axes that are not compatible with tight_layout, so its results might be incorrect.\n",
      "  warnings.warn(\"This figure includes Axes that are not \"\n"
     ]
    },
    {
     "data": {
      "image/png": "[encoded data removed]",
      "text/plain": [
       "<matplotlib.figure.Figure at 0x7fbd394f98d0>"
      ]
     },
     "metadata": {},
     "output_type": "display_data"
    }
   ],
   "source": [
    "bins_for_plots = 50\n",
    "powered_bins = np.array([0.0, 31.5, 100])\n",
    "plot_feature( train_s.cdc.get_signal_hits()[train_s.cdc.edep_name],\n",
    "              train_s.cdc.get_background_hits()[train_s.cdc.edep_name], \n",
    "              xlabel=\"log10(Charge Deposition [e])\", ylabel=\"Normalised Hit Count\", \n",
    "              xlog=True,\n",
    "              title=\"Charge Depostion\", \n",
    "              nbins=10,\n",
    "              uniform_bins=True,\n",
    "              override_bins=powered_bins)\n",
    "show()"
   ]
  },
  {
   "cell_type": "code",
   "execution_count": 17,
   "metadata": {
    "collapsed": false
   },
   "outputs": [
    {
     "name": "stderr",
     "output_type": "stream",
     "text": [
      "/home/elg112/development/miniconda2/envs/rep3/lib/python3.4/site-packages/matplotlib/figure.py:1744: UserWarning: This figure includes Axes that are not compatible with tight_layout, so its results might be incorrect.\n",
      "  warnings.warn(\"This figure includes Axes that are not \"\n"
     ]
    },
    {
     "data": {
      "image/png": "[encoded data removed]",
      "text/plain": [
       "<matplotlib.figure.Figure at 0x7fbd43998fd0>"
      ]
     },
     "metadata": {},
     "output_type": "display_data"
    }
   ],
   "source": [
    "bins_for_plots = 50\n",
    "plot_feature( np.digitize(np.log10(train_s.cdc.get_signal_hits()[train_s.cdc.edep_name] ), \n",
    "                          bins=[2]),\n",
    "              np.digitize(np.log10(train_s.cdc.get_background_hits()[train_s.cdc.edep_name] ), \n",
    "                          bins=[2]),\n",
    "              xlabel=\"log10(Charge Deposition [e])\", ylabel=\"Normalised Hit Count\", \n",
    "              xlog=False,\n",
    "              title=\"Charge Depostion\", \n",
    "              nbins=2,\n",
    "              uniform_bins=False)\n",
    "show()"
   ]
  },
  {
   "cell_type": "code",
   "execution_count": 18,
   "metadata": {
    "collapsed": false
   },
   "outputs": [
    {
     "name": "stdout",
     "output_type": "stream",
     "text": [
      "[(0, 0, 0, 0, 0, 2) (0, 1, 0, 0, 0, 1) (0, 2, 0, 0, 0, 3) ...,\n",
      " (17, 297, 103, 5, 17, 43) (17, 298, 103, 5, 17, 45)\n",
      " (17, 299, 103, 5, 17, 47)]\n"
     ]
    }
   ],
   "source": [
    "print(recbe_positions)"
   ]
  },
  {
   "cell_type": "code",
   "execution_count": 19,
   "metadata": {
    "collapsed": false
   },
   "outputs": [
    {
     "name": "stderr",
     "output_type": "stream",
     "text": [
      "/home/elg112/development/miniconda2/envs/rep3/lib/python3.4/site-packages/matplotlib/figure.py:1744: UserWarning: This figure includes Axes that are not compatible with tight_layout, so its results might be incorrect.\n",
      "  warnings.warn(\"This figure includes Axes that are not \"\n"
     ]
    },
    {
     "data": {
      "image/png": "[encoded data removed]",
      "text/plain": [
       "<matplotlib.figure.Figure at 0x7fbd39b83438>"
      ]
     },
     "metadata": {},
     "output_type": "display_data"
    }
   ],
   "source": [
    "bins_for_plots = 50\n",
    "powered_bins = np.array([31.5, 100])\n",
    "plot_feature(recbe_positions[\"BoardID\"][train_s.cdc.get_signal_hits()[train_s.cdc.flat_name]],\n",
    "             recbe_positions[\"BoardID\"][train_s.cdc.get_background_hits()[train_s.cdc.flat_name]], \n",
    "              xlabel=\"RECBE Board ID\", ylabel=\"Normalised Hit Count\", \n",
    "              xlog=False,\n",
    "              title=\"RECBE Board ID\", \n",
    "              nbins=104,\n",
    "              uniform_bins=False)\n",
    "show()"
   ]
  },
  {
   "cell_type": "code",
   "execution_count": 20,
   "metadata": {
    "collapsed": false
   },
   "outputs": [
    {
     "name": "stdout",
     "output_type": "stream",
     "text": [
      "Sig Occ: 84.37643961829549 , Back Occ : 490.4300756827904\n",
      "All Occ: 574.8065153010859, 0.12824777226708745\n",
      "NumHits: 574.8065153010859\n",
      "MinChansMultiHit: 0.0\n"
     ]
    },
    {
     "name": "stderr",
     "output_type": "stream",
     "text": [
      "/home/elg112/development/miniconda2/envs/rep3/lib/python3.4/site-packages/matplotlib/figure.py:1744: UserWarning: This figure includes Axes that are not compatible with tight_layout, so its results might be incorrect.\n",
      "  warnings.warn(\"This figure includes Axes that are not \"\n"
     ]
    },
    {
     "data": {
      "image/png": "[encoded data removed]",
      "text/plain": [
       "<matplotlib.figure.Figure at 0x7fbd438f9668>"
      ]
     },
     "metadata": {},
     "output_type": "display_data"
    }
   ],
   "source": [
    "sig_occ, back_occ, occ = data_get_occupancy(test_s.cdc) \n",
    "plot_occupancies(sig_occ, back_occ, occ, x_pos=0.2, y_pos=0.76)"
   ]
  },
  {
   "cell_type": "markdown",
   "metadata": {},
   "source": [
    "## Define Wire Features "
   ]
  },
  {
   "cell_type": "code",
   "execution_count": 21,
   "metadata": {
    "collapsed": false
   },
   "outputs": [
    {
     "name": "stderr",
     "output_type": "stream",
     "text": [
      "/home/elg112/development/miniconda2/envs/rep3/lib/python3.4/site-packages/sklearn/cross_validation.py:44: DeprecationWarning: This module was deprecated in version 0.18 in favor of the model_selection module into which all the refactored classes and functions are moved. Also note that the interface of the new CV iterators are different from that of this module. This module will be removed in 0.20.\n",
      "  \"This module will be removed in 0.20.\", DeprecationWarning)\n"
     ]
    }
   ],
   "source": [
    "from rep.metaml.factory import ClassifiersFactory\n",
    "from rep.estimators import SklearnClassifier, TMVAClassifier\n",
    "from sklearn.ensemble import GradientBoostingClassifier\n",
    "from rep.report.metrics import RocAuc\n",
    "from pandas import DataFrame\n",
    "from sklearn.metrics import roc_auc_score, roc_curve"
   ]
  },
  {
   "cell_type": "code",
   "execution_count": 22,
   "metadata": {
    "collapsed": true
   },
   "outputs": [],
   "source": [
    "# Define Data\n",
    "energy_feature = \"Energy\"\n",
    "binary_energy = energy_feature + \"_one_bit\"\n",
    "binned_energy = energy_feature+ \"_two_bit\"\n",
    "high_bin_energy = energy_feature+ \"_three_bit\"\n",
    "energy_feature = energy_feature + \"_unbin\"\n",
    "board_id = \"RECBE_id\"\n",
    "board_layer = \"RECBE_layer\"\n",
    "layer_id = \"Layer_ID\"\n",
    "\n",
    "binary_wire_features = [binary_energy, \n",
    "                        binary_energy + \"_left\",\n",
    "                        binary_energy + \"_right\"]\n",
    "binned_wire_features = [binned_energy, \n",
    "                        binned_energy + \"_left\",\n",
    "                        binned_energy + \"_right\"]\n",
    "high_bin_wire_features = [high_bin_energy, \n",
    "                          high_bin_energy + \"_left\",\n",
    "                          high_bin_energy + \"_right\"]\n",
    "unbin_wire_features = [energy_feature, \n",
    "                       energy_feature + \"_left\",\n",
    "                       energy_feature + \"_right\"]\n",
    "all_features = binary_wire_features + \\\n",
    "               binned_wire_features + \\\n",
    "               high_bin_wire_features + \\\n",
    "               unbin_wire_features + \\\n",
    "               [board_id, board_layer, layer_id]"
   ]
  },
  {
   "cell_type": "code",
   "execution_count": 23,
   "metadata": {
    "collapsed": true
   },
   "outputs": [],
   "source": [
    "factory = ClassifiersFactory()\n",
    "\n",
    "# Define GBDT for ADC\n",
    "binary_energy = SklearnClassifier(GradientBoostingClassifier(n_estimators=100),\n",
    "                                  features=[energy_feature])\n",
    "factory.add_classifier('ADC', binary_energy)\n",
    "# Define GBDT for 1 bits\n",
    "binary_neighs = SklearnClassifier(GradientBoostingClassifier(n_estimators=100), \n",
    "                                 features=binary_wire_features + [board_id])\n",
    "factory.add_classifier('Binary', binary_neighs)\n",
    "# Define GBDT for 2 bits\n",
    "binned_neighs = SklearnClassifier(GradientBoostingClassifier(n_estimators=100), \n",
    "                                 features=binned_wire_features + [board_id])\n",
    "factory.add_classifier('Binned', binned_neighs)\n",
    "# Define GBDT for 2 bits\n",
    "high_binned_neighs = SklearnClassifier(GradientBoostingClassifier(n_estimators=100), \n",
    "                                 features=high_bin_wire_features + [board_id])\n",
    "factory.add_classifier('High_Binned', high_binned_neighs)\n",
    "# Define GBDT over unbinned wire features\n",
    "unbin_neighs = SklearnClassifier(GradientBoostingClassifier(n_estimators=100), \n",
    "                                 features=unbin_wire_features + [layer_id])\n",
    "factory.add_classifier('Unbinned', unbin_neighs)"
   ]
  },
  {
   "cell_type": "code",
   "execution_count": 24,
   "metadata": {
    "collapsed": false
   },
   "outputs": [
    {
     "name": "stdout",
     "output_type": "stream",
     "text": [
      "1636433 2856\n",
      "(1636433,)\n"
     ]
    }
   ],
   "source": [
    "print(train_s.cdc.n_hits, train_s.cdc.n_events)\n",
    "print(train_s.cdc.get_measurement(train_s.cdc.hit_type_name).shape)"
   ]
  },
  {
   "cell_type": "code",
   "execution_count": null,
   "metadata": {
    "collapsed": true
   },
   "outputs": [],
   "source": [
    "def get_data_frame(samp, events):\n",
    "    flat_ids = samp.cdc.get_measurement(samp.cdc.flat_name, events=events).astype(int)\n",
    "    return DataFrame(np.vstack(\n",
    "                   data_get_measurment_and_neighbours(samp.cdc, samp.cdc.edep_name, events,\n",
    "                                                      digitize=True, bins=[100], default=1) +\\\n",
    "                   data_get_measurment_and_neighbours(samp.cdc, samp.cdc.edep_name, events,\n",
    "                                                      digitize=True, bins=[1, 31.5, 100], \n",
    "                                                      default=0) +\\\n",
    "                   data_get_measurment_and_neighbours(samp.cdc, samp.cdc.edep_name, events,\n",
    "                                                      digitize=True, bins=[1.0000, 3.150, \n",
    "                                                                           10.000, 31.50,\n",
    "                                                                           100.00, 315.0,\n",
    "                                                                           1000.0], \n",
    "                                                      default=0) +\\\n",
    "                   data_get_measurment_and_neighbours(samp.cdc, samp.cdc.edep_name, events) +\\\n",
    "                        [recbe_positions[\"BoardID\" ][flat_ids]] +\\\n",
    "                        [recbe_positions[\"BrdLayID\"][flat_ids]] +\\\n",
    "                        [samp.cdc.geom.get_layers(flat_ids)]).T, columns=all_features)"
   ]
  },
  {
   "cell_type": "code",
   "execution_count": null,
   "metadata": {
    "collapsed": false
   },
   "outputs": [
    {
     "name": "stdout",
     "output_type": "stream",
     "text": [
      "model ADC          was trained in 91.28 seconds\n",
      "model Binary       was trained in 98.53 seconds\n",
      "model Binned       was trained in 113.54 seconds\n"
     ]
    }
   ],
   "source": [
    "# Train the classifier\n",
    "factory.fit(get_data_frame(train_s, evt_samp[0]),\n",
    "            train_s.cdc.get_measurement(train_s.cdc.hit_type_name, events=evt_samp[0]))"
   ]
  },
  {
   "cell_type": "code",
   "execution_count": null,
   "metadata": {
    "collapsed": true
   },
   "outputs": [],
   "source": [
    "# Test the classifier\n",
    "bbdt_diagnostics = \\\n",
    "    factory.test_on(get_data_frame(test_s, test_s_evt_samp[0]), \n",
    "                    test_s.cdc.get_measurement(test_s.cdc.hit_type_name, events=test_s_evt_samp[0]))"
   ]
  },
  {
   "cell_type": "code",
   "execution_count": null,
   "metadata": {
    "collapsed": false
   },
   "outputs": [],
   "source": [
    "bins_for_plots = 50\n",
    "plot_feature( bbdt_diagnostics.prediction[\"Unbinned\"][bbdt_diagnostics.target == 1.0,1],\n",
    "              bbdt_diagnostics.prediction[\"Unbinned\"][bbdt_diagnostics.target == 0.0,1],\n",
    "              xlabel=\"Classification Score\", ylabel=\"Normalised Hit Count\", \n",
    "              xlog=False,\n",
    "              title=\"Unbinned GBDT Score\", \n",
    "              nbins=bins_for_plots,\n",
    "              uniform_bins=True)\n",
    "show()"
   ]
  },
  {
   "cell_type": "code",
   "execution_count": null,
   "metadata": {
    "collapsed": false
   },
   "outputs": [],
   "source": [
    "f_size = 10\n",
    "plot_set_font(size=f_size)\n",
    "curve_dict = dict()\n",
    "\n",
    "cla_dict = {}\n",
    "cla_dict[\"ADC\"] = \"ADC Only (Unbinned)\"\n",
    "cla_dict[\"Binary\"] = \"ADC And Neighbours (2 bins)\"\n",
    "cla_dict[\"Binned\"] = \"ADC And Neighbours (4 bins)\"\n",
    "cla_dict[\"High_Binned\"] = \"ADC And Neighbours (8 bins)\"\n",
    "cla_dict[\"Unbinned\"] = \"ADC And Neighbours (Unbinned)\"\n",
    "threshold_dict = {}\n",
    "\n",
    "\n",
    "for cla in factory.keys():\n",
    "    pred = None\n",
    "    if cla == \"ADC\":\n",
    "        pred =  1/np.log10(1+test_s.cdc.get_measurement(test_s.cdc.edep_name, events=test_s_evt_samp[0]))\n",
    "    else:\n",
    "        pred = bbdt_diagnostics.prediction[cla][:,1]\n",
    "    plot_roc_curve(bbdt_diagnostics.target, \n",
    "                   pred,\n",
    "                   label=cla_dict[cla],\n",
    "                   zoom=True,\n",
    "                   zoom_x_lims=[80,100],\n",
    "                   zoom_y_lims=[50,100],\n",
    "                   datum_label=\"Hit\")\n",
    "\n",
    "    print(cla)\n",
    "    print(\"  {}\".format(roc_auc_score(bbdt_diagnostics.target, \n",
    "                                      pred)))\n",
    "    curve = roc_curve(bbdt_diagnostics.target,\n",
    "                                pred)\n",
    "    print(\"  {}\".format(np.array(curve).shape))\n",
    "    curve_dict[cla] = curve\n",
    "    threshold_dict[cla] = curve[2][np.argmin( np.abs(curve[1] - 0.80))]\n",
    "\n",
    "pprint(threshold_dict)\n",
    "plt.show()"
   ]
  },
  {
   "cell_type": "markdown",
   "metadata": {},
   "source": [
    "### New Plot\n",
    "\n",
    "Need (percentage of signal hits by event,\n",
    "      percentage of background hits by event,\n",
    "      score) \n",
    "\n",
    "Have (total signal hits,\n",
    "      total background hits\n",
    "      score)"
   ]
  },
  {
   "cell_type": "code",
   "execution_count": null,
   "metadata": {
    "collapsed": true
   },
   "outputs": [],
   "source": [
    "all_types = test_s.cdc.get_measurement(test_s.cdc.hit_type_name, events=test_s_evt_samp[0])\n",
    "beg_hits = 0\n",
    "end_hits = 0\n",
    "\n",
    "for evt in test_s_evt_samp[0]:\n",
    "    end_hits += test_s.cdc.event_to_n_hits[evt]\n",
    "    hit_types_1 = all_types[beg_hits:end_hits]\n",
    "    hit_types_2 = test_s.cdc.get_measurement(test_s.cdc.hit_type_name, events=evt)\n",
    "    #print beg_hits, end_hits\n",
    "    if not np.array_equal(hit_types_1, hit_types_2):\n",
    "        print(evt)\n",
    "        print(\"  {} {}\".format(hit_types_1.shape, hit_types_2.shape))\n",
    "        print(\"  {} {}\".format(sum(hit_types_1 == 0.0), sum(hit_types_2 == 0.0)))\n",
    "        print(\"  {} {}\".format(sum(hit_types_1 == 1.0), sum(hit_types_2 == 1.0)))\n",
    "    beg_hits += test_s.cdc.event_to_n_hits[evt]"
   ]
  },
  {
   "cell_type": "code",
   "execution_count": null,
   "metadata": {
    "collapsed": true
   },
   "outputs": [],
   "source": [
    "all_types = test_s.cdc.get_measurement(test_s.cdc.hit_type_name, events=test_s_evt_samp[0])\n",
    "beg_hits = 0\n",
    "end_hits = 0\n",
    "\n",
    "for evt in test_s_evt_samp[0]:\n",
    "    end_hits += test_s.cdc.event_to_n_hits[evt]\n",
    "    hit_types = all_types[beg_hits:end_hits]\n",
    "    same = np.array_equal(hit_types, \n",
    "                          test_s.cdc.get_measurement(test_s.cdc.hit_type_name, events=evt))\n",
    "    if not same:\n",
    "        print(evt, sum(hit_types==1), sum(hit_types==0), beg_hits, end_hits)\n",
    "    else:\n",
    "        hit_types[hit_types==1] = 1./sum(hit_types==1)\n",
    "        hit_types[hit_types==0] = 1./sum(hit_types==0)\n",
    "    beg_hits += test_s.cdc.event_to_n_hits[evt]"
   ]
  },
  {
   "cell_type": "code",
   "execution_count": null,
   "metadata": {
    "collapsed": true
   },
   "outputs": [],
   "source": [
    "beg_hits = 0\n",
    "end_hits = 0\n",
    "\n",
    "for evt in test_s_evt_samp[0]:\n",
    "    end_hits += test_s.cdc.event_to_n_hits[evt]\n",
    "    vals, index, counts =  np.unique(all_types[beg_hits:end_hits], \n",
    "                                     return_counts=True, return_index=True)\n",
    "    if np.unique(np.round(vals*counts).astype(int))[0] != 1:\n",
    "        print(evt)\n",
    "    beg_hits += test_s.cdc.event_to_n_hits[evt]"
   ]
  },
  {
   "cell_type": "code",
   "execution_count": null,
   "metadata": {
    "collapsed": false
   },
   "outputs": [],
   "source": [
    "for cla in factory.keys():\n",
    "    pred = None\n",
    "    if cla == \"ADC\":\n",
    "        pred =  1.0/np.log10(1+test_s.cdc.get_measurement(test_s.cdc.edep_name, events=test_s_evt_samp[0]))\n",
    "    else:\n",
    "        pred = bbdt_diagnostics.prediction[cla][:,1]\n",
    "    cla_label = cla_dict[cla] + \" event weight\"\n",
    "    plot_roc_curve(bbdt_diagnostics.target, \n",
    "                   pred,\n",
    "                   label=cla_label,\n",
    "                   zoom=True,\n",
    "                   zoom_x_lims=[80,100],\n",
    "                   zoom_y_lims=[80,100],\n",
    "                   datum_label=\"Hit\",\n",
    "                   weights=all_types)\n",
    "\n",
    "    print(cla_label)\n",
    "    print(\"  {}\".format(roc_auc_score(bbdt_diagnostics.target, pred, sample_weight=all_types)))\n",
    "    curve = roc_curve(bbdt_diagnostics.target, pred, sample_weight=all_types)\n",
    "    print(\"  {}\".format(np.array(curve).shape))\n",
    "    curve_dict[cla+\"_Evt_W\"] = curve\n",
    "    threshold_dict[cla+\"_Evt_W\"] = curve[2][np.argmin( np.abs(curve[1] - 0.80))]\n",
    "\n",
    "pprint(threshold_dict)\n",
    "plt.show()"
   ]
  },
  {
   "cell_type": "code",
   "execution_count": null,
   "metadata": {
    "collapsed": true
   },
   "outputs": [],
   "source": [
    "#train_s.cdc.data[train_s.cdc.prefix+pos[2]] = - (train_s.cdc.data[train_s.cdc.prefix+pos[2]]/10. - 765)\n",
    "#train_s.cdc.data[train_s.cdc.prefix+pos[1]] = train_s.cdc.data[train_s.cdc.prefix+pos[1]]/10.\n",
    "#train_s.cdc.data[train_s.cdc.prefix+pos[0]] = (train_s.cdc.data[train_s.cdc.prefix+pos[0]]/10. - 641)\n",
    "#train_s.cth.data[train_s.cth.prefix+pos[2]] = - (train_s.cth.data[train_s.cth.prefix+pos[2]]/10. - 765)\n",
    "#train_s.cth.data[train_s.cth.prefix+pos[1]] = train_s.cth.data[train_s.cth.prefix+pos[1]]/10.\n",
    "#train_s.cth.data[train_s.cth.prefix+pos[0]] = (train_s.cth.data[train_s.cth.prefix+pos[0]]/10. - 641)"
   ]
  },
  {
   "cell_type": "code",
   "execution_count": null,
   "metadata": {
    "collapsed": true
   },
   "outputs": [],
   "source": [
    "pos = list()\n",
    "pos += [\"MCPos.fP.fX\"]\n",
    "pos += [\"MCPos.fP.fY\"]\n",
    "pos += [\"MCPos.fP.fZ\"]\n",
    "\n",
    "p = dict()\n",
    "p[\"cdc\"] = dict()\n",
    "p[\"cdc\"][\"x\"] =  train_s.cdc.prefix + pos[2]\n",
    "p[\"cdc\"][\"y\"] =  train_s.cdc.prefix + pos[1]\n",
    "p[\"cdc\"][\"z\"] =  train_s.cdc.prefix + pos[0]\n",
    "p[\"cth\"] = dict()\n",
    "p[\"cth\"][\"x\"] =  train_s.cth.prefix + pos[2]\n",
    "p[\"cth\"][\"y\"] =  train_s.cth.prefix + pos[1]\n",
    "p[\"cth\"][\"z\"] =  train_s.cth.prefix + pos[0]"
   ]
  },
  {
   "cell_type": "code",
   "execution_count": null,
   "metadata": {
    "collapsed": false,
    "scrolled": false
   },
   "outputs": [],
   "source": [
    "classifier = \"Binned\"\n",
    "fig_s = (10,10)\n",
    "s_scale = 35\n",
    "plot_recbes = True\n",
    "for evt in range(1775,1778):\n",
    "    # Plot the output\n",
    "    output = np.zeros(4482)\n",
    "    geom_ids = test_s.cdc.get_measurement(test_s.cdc.flat_name, evt).astype(int)\n",
    "    output[geom_ids] = factory.predict_proba(get_data_frame(test_s, evt))[classifier][:,1]\n",
    "    cut = (output >= threshold_dict[classifier])\n",
    "\n",
    "    for output, outline in zip([output, cut], [True,False]): \n",
    "        if not outline:\n",
    "            plot_output(test_s.cdc.get_hit_types(evt),\n",
    "                                      test_s.cdc.geom, size=output*s_scale, figsize=fig_s,\n",
    "                        sig_color=\"Black\", bkg_color=\"Black\")\n",
    "        # Add hit outlines\n",
    "        if outline:\n",
    "            plot_output(test_s.cdc.get_hit_types(evt),\n",
    "                                      test_s.cdc.geom, size=output*s_scale, figsize=fig_s)\n",
    "            plot_add_outlines(test_s.cdc.get_hit_types(evt), \n",
    "                              test_s.cdc.geom, size=s_scale)\n",
    "        # Add volume outlines\n",
    "        plot_add_cth_outlines(test_s.cth.geom)\n",
    "        # Add the CTH vols with hits\n",
    "        cth_vol_types = test_s.cth.get_vol_types(evt)\n",
    "        plot_add_cth(cth_vol_types, test_s.cth.get_trig_vector(evt)[0], test_s.cth.geom)\n",
    "        cth_hits = test_s.cth.get_events(evt)\n",
    "        cdc_hits = test_s.cdc.get_events(evt)\n",
    "        plt.scatter(cth_hits[p[\"cth\"][\"x\"]], \n",
    "                    cth_hits[p[\"cth\"][\"y\"]], \n",
    "                    s=1, transform=gca().transData._b)\n",
    "        #plt.scatter(cdc_hits[p[\"cdc\"][\"x\"]], \n",
    "        #            cdc_hits[p[\"cdc\"][\"y\"]], \n",
    "        #            s=1, color=\"black\",\n",
    "        #            transform=gca().transData._b)\n",
    "        plt.show()\n",
    "    print(\"=====================================================================\")"
   ]
  },
  {
   "cell_type": "markdown",
   "metadata": {},
   "source": [
    "## Get board, wire mapping"
   ]
  },
  {
   "cell_type": "code",
   "execution_count": null,
   "metadata": {
    "collapsed": true
   },
   "outputs": [],
   "source": [
    "recbe_wiring_file = \"/home/elg112/development/ICEDUST/track_finding_standalone/\"+\\\n",
    "                    \"track_finding_yandex/data/chanmap_20160814.root\"\n",
    "recbe_positions = root_numpy.root2array(recbe_wiring_file, \n",
    "                                        selection=\"isSenseWire == 1 && LayerID > 0 && LayerID < 19\")\n",
    "recbe_positions[\"LayerID\"] = recbe_positions[\"LayerID\"] - 1"
   ]
  },
  {
   "cell_type": "code",
   "execution_count": null,
   "metadata": {
    "collapsed": true
   },
   "outputs": [],
   "source": [
    "wire_to_board = recbe_positions[\"BoardID\"][test_s.cdc.geom.point_lookup[recbe_positions[\"LayerID\"],\n",
    "                                             recbe_positions[\"CellID\"]]]\n",
    "vals, index, inv =  np.unique(wire_to_board, \n",
    "                                 return_inverse=True, return_index=True)\n",
    "board_to_wire = np.array([np.where(wire_to_board == val)[0] for val in vals])"
   ]
  },
  {
   "cell_type": "markdown",
   "metadata": {},
   "source": [
    "## Examine the Boards"
   ]
  },
  {
   "cell_type": "markdown",
   "metadata": {},
   "source": [
    "RECBE Level Classification:\n",
    "\n",
    "* Features:\n",
    "    * Sum of Scores (L/R)\n",
    "    * Number of wires (L/R)\n",
    "    * Layer ID\n",
    "* Approaches:\n",
    "    * Number of boards above threshold\n",
    "    * Shape-based analysis\n",
    "* Unused data:\n",
    "    * Information from CTH trigger"
   ]
  },
  {
   "cell_type": "markdown",
   "metadata": {},
   "source": [
    "## Import Event Sample"
   ]
  },
  {
   "cell_type": "code",
   "execution_count": null,
   "metadata": {
    "collapsed": false
   },
   "outputs": [],
   "source": [
    "sig_evts = data_import_sample(signal_files[2], back_files[2], \n",
    "                              these_cuts=[\"Trig\",\"Track\",\"700\"],\n",
    "                              branches=these_branches)\n",
    "bck_evts = data_import_sample(signal_files[2], back_files[2], \n",
    "                              these_cuts=[\"Trig\",\"Track\",\"700\"],\n",
    "                              branches=these_branches)"
   ]
  },
  {
   "cell_type": "code",
   "execution_count": null,
   "metadata": {
    "collapsed": true
   },
   "outputs": [],
   "source": [
    "# Take out all signal hits fromt the background events\n",
    "bck_evts.cdc.trim_hits(sig_evts.cdc.hit_type_name, values=[False])"
   ]
  },
  {
   "cell_type": "code",
   "execution_count": null,
   "metadata": {
    "collapsed": true
   },
   "outputs": [],
   "source": [
    "sig_evts.cth.set_trigger_time()\n",
    "bck_evts.cth.set_trigger_time()"
   ]
  },
  {
   "cell_type": "code",
   "execution_count": null,
   "metadata": {
    "collapsed": true
   },
   "outputs": [],
   "source": [
    "data_remove_coincidence(sig_evts)\n",
    "data_remove_coincidence(bck_evts)"
   ]
  },
  {
   "cell_type": "markdown",
   "metadata": {},
   "source": [
    "### Classify Event Sample"
   ]
  },
  {
   "cell_type": "code",
   "execution_count": null,
   "metadata": {
    "collapsed": true
   },
   "outputs": [],
   "source": [
    "evt_scores = {}\n",
    "evt_scores[\"Signal\"] = {}\n",
    "evt_scores[\"Background\"] = {}\n",
    "evt_scores[\"Signal\"][\"wires\"] = {}\n",
    "evt_scores[\"Background\"][\"wires\"] = {}\n",
    "evt_scores[\"Signal\"][\"boards\"] = {}\n",
    "evt_scores[\"Background\"][\"boards\"] = {}"
   ]
  },
  {
   "cell_type": "code",
   "execution_count": null,
   "metadata": {
    "collapsed": false
   },
   "outputs": [],
   "source": [
    "for etype, samp in zip([\"Signal\", \"Background\"],\n",
    "                       [sig_evts, bck_evts]):\n",
    "    for cla in factory.keys():\n",
    "        print(etype, cla)\n",
    "        evt_scores[etype][\"wires\"][cla] = np.array([factory[cla].predict_proba(get_data_frame(samp, evt))[:,1]\n",
    "                                                      for evt in range(samp.cdc.n_events)])"
   ]
  },
  {
   "cell_type": "code",
   "execution_count": null,
   "metadata": {
    "collapsed": false
   },
   "outputs": [],
   "source": [
    "for etype, samp in zip([\"Signal\", \"Background\"],\n",
    "                       [sig_evts, bck_evts]):\n",
    "    print(etype, cla)\n",
    "    evt_scores[etype][\"wires\"][\"ADC_2\"] = np.array([samp.cdc.get_measurement(samp.cdc.edep_name, \n",
    "                                                                         events=evt) < 100.0\n",
    "                                                   for evt in range(samp.cdc.n_events)])"
   ]
  },
  {
   "cell_type": "code",
   "execution_count": null,
   "metadata": {
    "collapsed": false
   },
   "outputs": [],
   "source": [
    "plot_feature( np.array([sum(score) for score in evt_scores[\"Signal\"][\"wires\"][\"ADC_2\"]]), \n",
    "              np.array([sum(score) for score in evt_scores[\"Background\"][\"wires\"][\"ADC_2\"]]),\n",
    "              xlabel=\"Number of Wires to Pass Cut\", ylabel=\"Normalised Event Count\", \n",
    "              xlog=False,\n",
    "              title=\"Event Scores to ADC Cut Classifier\", \n",
    "              nbins=bins_for_plots)"
   ]
  },
  {
   "cell_type": "code",
   "execution_count": null,
   "metadata": {
    "collapsed": false
   },
   "outputs": [],
   "source": [
    "plot_feature( np.array([sum(score) for score in evt_scores[\"Signal\"][\"wires\"][\"Unbinned\"]]), \n",
    "              np.array([sum(score) for score in evt_scores[\"Background\"][\"wires\"][\"Unbinned\"]]),\n",
    "              xlabel=\"Sum of Wire Score\", ylabel=\"Normalised Event Count\", \n",
    "              xlog=False,\n",
    "              title=\"Event Scores to Unbinned Classifier\", \n",
    "              nbins=bins_for_plots)"
   ]
  },
  {
   "cell_type": "code",
   "execution_count": null,
   "metadata": {
    "collapsed": false
   },
   "outputs": [],
   "source": [
    "cla_dict[\"ADC_2\"] = \"ADC Cut (adc < 100e)\"\n",
    "evt_curve_dict= {}\n",
    "\n",
    "labels = np.zeros(sig_evts.cdc.n_events + bck_evts.cdc.n_events)\n",
    "labels[:sig_evts.cdc.n_events] = 1\n",
    "for cla in evt_scores[\"Signal\"][\"wires\"].keys():\n",
    "    if cla == \"ADC\": continue\n",
    "    sig_score = np.array([sum(score) for score in evt_scores[\"Signal\"][\"wires\"][cla]])\n",
    "    bkg_score = np.array([sum(score) for score in evt_scores[\"Background\"][\"wires\"][cla]])\n",
    "    #sig_score = sig_score/n_hits\n",
    "    #bkg_score = bkg_score/n_hits\n",
    "    plot_roc_curve(labels, np.append(sig_score,bkg_score),\n",
    "                   label=cla_dict[cla], zoom=True,\n",
    "                   zoom_x_lims=[80,100], zoom_y_lims=[80,100],\n",
    "                   datum_label=\"Event\")\n",
    "    curve = roc_curve(labels, np.append(sig_score, bkg_score))\n",
    "    evt_curve_dict[cla] = curve\n",
    "plt.show()"
   ]
  },
  {
   "cell_type": "markdown",
   "metadata": {},
   "source": [
    "## Get Board Information"
   ]
  },
  {
   "cell_type": "code",
   "execution_count": null,
   "metadata": {
    "collapsed": true
   },
   "outputs": [],
   "source": [
    "def get_board_info(samp, samp_score, event):\n",
    "    # Get the wire IDs for all the hits\n",
    "    flt_ids = samp.cdc.get_measurement(samp.cdc.flat_name, events=event).astype(int)\n",
    "    # Get board scores by event\n",
    "    board_sum = np.zeros(board_to_wire.shape[0], dtype=float)\n",
    "    brd_ids = wire_to_board[flt_ids]\n",
    "    for bID, scr in zip(brd_ids, samp_score[event]):\n",
    "        board_sum[bID] += scr\n",
    "    # Get the number of hits per board\n",
    "    brd_nhits = np.zeros_like(board_sum)\n",
    "    vals, counts = np.unique(wire_to_board[samp.cdc.get_hit_vols(event)], return_counts=True)\n",
    "    brd_nhits[vals] += counts    \n",
    "    # Get the board labels as \"has signal hit\"\n",
    "    brd_label = np.zeros_like(board_sum)\n",
    "    brd_label[wire_to_board[samp.cdc.get_bkg_vols(event)]] = 2\n",
    "    brd_label[wire_to_board[samp.cdc.get_sig_vols(event)]] = 1\n",
    "    return board_sum, brd_nhits, brd_label"
   ]
  },
  {
   "cell_type": "code",
   "execution_count": null,
   "metadata": {
    "collapsed": true
   },
   "outputs": [],
   "source": [
    "for etype, samp in zip([\"Signal\", \"Background\"],\n",
    "                       [sig_evts, bck_evts]):\n",
    "    for cla in evt_scores[etype][\"wires\"].keys():\n",
    "        evt_scores[etype][\"boards\"][cla] = np.vstack([\n",
    "            np.dstack(get_board_info(samp, evt_scores[etype][\"wires\"][cla], evt)) \n",
    "            for evt in range(samp.cdc.n_events)])"
   ]
  },
  {
   "cell_type": "code",
   "execution_count": null,
   "metadata": {
    "collapsed": false,
    "scrolled": false
   },
   "outputs": [],
   "source": [
    "for cla in evt_scores[\"Signal\"][\"boards\"].keys():\n",
    "    board_labels = np.append(evt_scores[\"Signal\"][\"boards\"][cla].reshape(-1,3)[:,2],\n",
    "                             evt_scores[\"Background\"][\"boards\"][cla].reshape(-1,3)[:,2])\n",
    "    board_scores = np.append(evt_scores[\"Signal\"][\"boards\"][cla].reshape(-1,3)[:,0],\n",
    "                             evt_scores[\"Background\"][\"boards\"][cla].reshape(-1,3)[:,0])\n",
    "    print(numpy.unique(board_labels))\n",
    "    sig_scores = board_scores[board_labels == 1]\n",
    "    back_scores = board_scores[board_labels == 2]\n",
    "    plot_feature( sig_scores, back_scores, \n",
    "                  xlabel=\"Board Score\", ylabel=\"Number of Boards\", \n",
    "                  xlog=False,\n",
    "                  title=\"Board Scores for \"+cla, \n",
    "                  nbins=bins_for_plots)\n",
    "    plt.show()"
   ]
  },
  {
   "cell_type": "code",
   "execution_count": null,
   "metadata": {
    "collapsed": false,
    "scrolled": false
   },
   "outputs": [],
   "source": [
    "figsize(10,5)\n",
    "for cla in evt_scores[\"Signal\"][\"boards\"].keys():\n",
    "    board_labels = np.append(evt_scores[\"Signal\"][\"boards\"][cla].reshape(-1,3)[:,2],\n",
    "                             evt_scores[\"Background\"][\"boards\"][cla].reshape(-1,3)[:,2])\n",
    "    board_scores = np.append(evt_scores[\"Signal\"][\"boards\"][cla].reshape(-1,3)[:,0],\n",
    "                             evt_scores[\"Background\"][\"boards\"][cla].reshape(-1,3)[:,0])\n",
    "    board_nhits = np.append(evt_scores[\"Signal\"][\"boards\"][cla].reshape(-1,3)[:,1],\n",
    "                             evt_scores[\"Background\"][\"boards\"][cla].reshape(-1,3)[:,1])\n",
    "    #board_scores = board_scores/board_nhits\n",
    "    print(np.amax(board_scores))\n",
    "    # Get the signal and back only board scores (no empties)\n",
    "    sig_scores = board_scores[board_labels == 1]\n",
    "    back_scores = board_scores[board_labels == 2]\n",
    "    all_scores = np.append(sig_scores, back_scores)\n",
    "    labels = np.zeros_like(all_scores)\n",
    "    # Label these scores\n",
    "    labels[range(len(sig_scores))] = 1\n",
    "    plot_roc_curve(labels, all_scores,\n",
    "                   label=cla_dict[cla], zoom=True,\n",
    "                   zoom_x_lims=[80,100], zoom_y_lims=[50,100],\n",
    "                   datum_label=\"Board\")\n",
    "    curve = roc_curve(labels, all_scores)\n",
    "    print(roc_auc_score(labels, all_scores))\n",
    "    #evt_curve_dict[cla] = curve\n",
    "plt.show()"
   ]
  },
  {
   "cell_type": "markdown",
   "metadata": {},
   "source": [
    "## Classify Events Using Board Location Agreement"
   ]
  },
  {
   "cell_type": "code",
   "execution_count": null,
   "metadata": {
    "collapsed": true
   },
   "outputs": [],
   "source": [
    "figsize(10,5)\n",
    "pos_score = dict(dict())\n",
    "pos_score[\"Signal\"] = {}\n",
    "pos_score[\"Background\"] = {}\n",
    "\n",
    "\n",
    "for etype in [\"Signal\", \"Background\"]:\n",
    "    all_cla = evt_scores[etype][\"boards\"]\n",
    "    for cla in all_cla.keys():\n",
    "        # Store these values in a dictionary\n",
    "        pos_score[etype][cla] = np.zeros(all_cla[cla].shape[0])\n",
    "        for evt_idx, evt_brds in enumerate(all_cla[cla]):\n",
    "            evt_x_pos = 0.\n",
    "            evt_y_pos = 0.\n",
    "            for brd_id, brd in enumerate(evt_brds):\n",
    "                brd_phi = np.average(sig_evts.cdc.geom.point_phis[board_to_wire[brd_id]])\n",
    "                if brd[1] != 0:\n",
    "                    evt_x_pos += brd[0]*np.cos(brd_phi)\n",
    "                    evt_y_pos += brd[0]*np.sin(brd_phi)\n",
    "            pos_score[etype][cla][evt_idx] = np.sqrt(evt_x_pos*evt_x_pos + \\\n",
    "                                                     evt_y_pos*evt_y_pos)"
   ]
  },
  {
   "cell_type": "code",
   "execution_count": null,
   "metadata": {
    "collapsed": false,
    "scrolled": false
   },
   "outputs": [],
   "source": [
    "for cla in pos_score[\"Signal\"].keys():\n",
    "    sig_scores = pos_score[\"Signal\"][cla]\n",
    "    back_scores =  pos_score[\"Background\"][cla]\n",
    "    all_scores = np.append(sig_scores, back_scores)\n",
    "    labels = np.zeros_like(all_scores)\n",
    "    # Label these scores\n",
    "    labels[range(len(sig_scores))] = 1\n",
    "    plot_roc_curve(labels, all_scores,\n",
    "                   label=cla_dict[cla], zoom=True,\n",
    "                   zoom_x_lims=[80,100], zoom_y_lims=[50,100],\n",
    "                   datum_label=\"Event\")"
   ]
  },
  {
   "cell_type": "code",
   "execution_count": null,
   "metadata": {
    "collapsed": false
   },
   "outputs": [],
   "source": [
    "for cla in pos_score[\"Signal\"].keys():\n",
    "    sig_scores = pos_score[\"Signal\"][cla]\n",
    "    back_scores =  pos_score[\"Background\"][cla]\n",
    "    plot_feature( sig_scores, back_scores, \n",
    "                  xlabel=\"Board Score\", ylabel=\"Number of Boards\", \n",
    "                  xlog=False,\n",
    "                  title=\"Event Scores for Board Location Agreement based on \"+cla+\" weighting\", \n",
    "                  nbins=bins_for_plots)\n",
    "    plt.show()"
   ]
  },
  {
   "cell_type": "markdown",
   "metadata": {},
   "source": [
    "# Develop Board Hough"
   ]
  },
  {
   "cell_type": "code",
   "execution_count": null,
   "metadata": {
    "collapsed": true
   },
   "outputs": [],
   "source": [
    "import cylinder\n",
    "reload(cylinder)\n",
    "from cylinder import RECBE, CDC\n",
    "from scipy.spatial import ConvexHull"
   ]
  },
  {
   "cell_type": "code",
   "execution_count": null,
   "metadata": {
    "collapsed": true
   },
   "outputs": [],
   "source": [
    "recbe_wiring_file = \"/home/elg112/development/ICEDUST/track_finding_standalone/\"+\\\n",
    "                    \"track_finding_yandex/data/chanmap_20160814.root\"\n",
    "recbe_positions = root_numpy.root2array(recbe_wiring_file, \n",
    "                                        selection=\"isSenseWire == 1 && LayerID > 0 && LayerID < 19\")\n",
    "recbe_positions[\"LayerID\"] = recbe_positions[\"LayerID\"] - 1"
   ]
  },
  {
   "cell_type": "code",
   "execution_count": null,
   "metadata": {
    "collapsed": true
   },
   "outputs": [],
   "source": [
    "cydet_geom = sig_evts.cdc.geom\n",
    "cydet_geom = CDC(projection=0.0)\n",
    "new_recbe = RECBE(cydet_geom)\n",
    "all_colour = np.linspace(0,1,104)\n",
    "np.random.shuffle(all_colour)"
   ]
  },
  {
   "cell_type": "code",
   "execution_count": null,
   "metadata": {
    "collapsed": false
   },
   "outputs": [],
   "source": [
    "evt = 10\n",
    "board_info = evt_scores[\"Background\"][\"boards\"][\"High_Binned\"][evt]\n",
    "print(board_info.shape)"
   ]
  },
  {
   "cell_type": "markdown",
   "metadata": {},
   "source": [
    "# Hough Transform the Boards"
   ]
  },
  {
   "cell_type": "code",
   "execution_count": null,
   "metadata": {
    "collapsed": false
   },
   "outputs": [],
   "source": [
    "import tracking\n",
    "reload(tracking)"
   ]
  },
  {
   "cell_type": "code",
   "execution_count": null,
   "metadata": {
    "collapsed": true
   },
   "outputs": [],
   "source": [
    "from tracking import HoughSpace\n",
    "from scipy import sparse\n",
    "from tracking import HoughTransformer, HoughShifter"
   ]
  },
  {
   "cell_type": "code",
   "execution_count": null,
   "metadata": {
    "collapsed": true
   },
   "outputs": [],
   "source": [
    "default = [[31.5, 34, 34.5, 2]]\n",
    "submatrices = []\n",
    "\n",
    "# TODO test with several radii\n",
    "for rmin, rmean, rmax, rsgma in default: #[[30, 33, 35], [26, 29, 32]]:\n",
    "    # Try with default values\n",
    "    hough = HoughSpace(sig_evts.cdc.geom.recbe, sig_rho_min=rmin, sig_rho=rmean, sig_rho_max=rmax,\\\n",
    "                       sig_rho_sgma=rsgma, rho_bins=20, arc_bins=81, split=False)\n",
    "    corresp = hough.correspondence\n",
    "    submatrices.append(corresp)\n",
    "\n",
    "# Stack all submatricies horizontally\n",
    "new_correspondence = sparse.hstack(submatrices)"
   ]
  },
  {
   "cell_type": "code",
   "execution_count": null,
   "metadata": {
    "collapsed": false
   },
   "outputs": [],
   "source": [
    "new_correspondence.shape"
   ]
  },
  {
   "cell_type": "code",
   "execution_count": null,
   "metadata": {
    "collapsed": true
   },
   "outputs": [],
   "source": [
    "# Fit and transform the second data sample\n",
    "fit_class = evt_scores[\"Signal\"][\"boards\"][\"High_Binned\"]\n",
    "hough_transformer = HoughTransformer(new_correspondence, \\\n",
    "                                     hough.norm_track_neighs,\\\n",
    "                                     fit_class[:,:,0]/(fit_class[:,:,1]+1),\n",
    "                                     alpha_max=2., alpha_rw=1., min_percentile=0.97)"
   ]
  },
  {
   "cell_type": "code",
   "execution_count": null,
   "metadata": {
    "collapsed": false
   },
   "outputs": [],
   "source": [
    "for sig, bkg, key in zip(evt_scores[\"Signal\"][\"boards\"].itervalues(),\n",
    "                         evt_scores[\"Background\"][\"boards\"].itervalues(),\n",
    "                         evt_scores[\"Signal\"][\"boards\"].keys()):\n",
    "    # Labels \n",
    "    print(key)\n",
    "    labels = np.zeros(sig.shape[0] + bkg.shape[0])\n",
    "    labels[:sig.shape[0]] = 1\n",
    "    # Scores\n",
    "    scores = np.zeros_like(labels)\n",
    "    scores = np.vstack([scores,scores])\n",
    "    # Signal scores\n",
    "    score = sig[:,:,0]/(sig[:,:,1]+1)\n",
    "    trans_data, hough_images = \\\n",
    "            hough_transformer.transform(score, only_hits=False, flatten=False)\n",
    "    print(np.amax(trans_data), np.amax(hough_images))\n",
    "    scores[0,:sig.shape[0]]  = np.sum(trans_data, axis=1)\n",
    "    scores[1,:sig.shape[0]]  = np.sum(hough_images, axis=1)\n",
    "    # Background scroes\n",
    "    score = bkg[:,:,0]/(bkg[:,:,1]+1)\n",
    "    trans_data, hough_images = \\\n",
    "            hough_transformer.transform(score,only_hits=False, flatten=False)\n",
    "    scores[0,sig.shape[0]:]  = np.sum(trans_data, axis=1)\n",
    "    scores[1,sig.shape[0]:]  = np.sum(hough_images, axis=1)\n",
    "    plot_roc_curve(labels, scores[1,:],\n",
    "                   label=cla_dict[cla], zoom=True,\n",
    "                   zoom_x_lims=[80,100], zoom_y_lims=[80,100],\n",
    "                   datum_label=\"Event\") \n",
    "    print(key, roc_auc_score(labels, scores[0,:]))\n",
    "    print(key, roc_auc_score(labels, scores[1,:]))\n",
    "plt.show()"
   ]
  },
  {
   "cell_type": "code",
   "execution_count": null,
   "metadata": {
    "collapsed": false
   },
   "outputs": [],
   "source": [
    "hough_images.shape"
   ]
  },
  {
   "cell_type": "code",
   "execution_count": null,
   "metadata": {
    "collapsed": false
   },
   "outputs": [],
   "source": [
    "print(trans_data.shape,hough_images.shape)"
   ]
  },
  {
   "cell_type": "code",
   "execution_count": null,
   "metadata": {
    "collapsed": false
   },
   "outputs": [],
   "source": [
    "print np.amax(hough_images)"
   ]
  },
  {
   "cell_type": "code",
   "execution_count": null,
   "metadata": {
    "collapsed": false,
    "scrolled": false
   },
   "outputs": [],
   "source": [
    "classifier = \"High_Binned\"\n",
    "fig_s = (10,10)\n",
    "s_scale = 35\n",
    "plot_recbes = True\n",
    "geom = CDC(projection=0.0)\n",
    "for samp, title in zip([sig_evts, bck_evts],\n",
    "                       [\"Signal\", \"Background\"]):\n",
    "    for evt in range(1775,1778):\n",
    "        board_info = evt_scores[title][\"boards\"][classifier][evt]\n",
    "        recbe_alpha = board_info[:,0] / board_info[:,1]\n",
    "        # Plot the output\n",
    "        output = np.zeros(4482)\n",
    "        geom_ids = samp.cdc.get_measurement(samp.cdc.flat_name, evt).astype(int)\n",
    "        output[geom_ids] = factory.predict_proba(get_data_frame(samp, evt))[classifier][:,1]\n",
    "        # Add hit outlines\n",
    "        plot_output(samp.cdc.get_hit_types(evt), geom, size=output*s_scale, figsize=fig_s)\n",
    "        plot_add_recbe(samp.cdc.get_hit_types(evt),geom, recbe_labels=board_info[:,2], \n",
    "                                                         recbe_alpha=recbe_alpha)\n",
    "        plot_add_tracks(geom, hough, tolerance=0.0, \n",
    "                        size=plot_norm_size(hough_images[evt] - np.amin(hough_images[evt]),40))\n",
    "        # Add volume outlines\n",
    "        plot_add_cth_outlines(samp.cth.geom)\n",
    "        # Add the CTH vols with hits\n",
    "        cth_vol_types = samp.cth.get_vol_types(evt)\n",
    "        plot_add_cth(cth_vol_types, samp.cth.get_trig_vector(evt)[0], samp.cth.geom)\n",
    "        cth_hits = samp.cth.get_events(evt)\n",
    "        cdc_hits = samp.cdc.get_events(evt)\n",
    "        plt.scatter(cth_hits[p[\"cth\"][\"x\"]], \n",
    "                    cth_hits[p[\"cth\"][\"y\"]], \n",
    "                    s=1, transform=gca().transData._b)\n",
    "        plt.scatter(cdc_hits[p[\"cdc\"][\"x\"]], \n",
    "                    cdc_hits[p[\"cdc\"][\"y\"]], \n",
    "                    s=1, color=\"black\",\n",
    "                    transform=gca().transData._b)\n",
    "        plt.show()\n",
    "        print(\"=====================================================================\")"
   ]
  },
  {
   "cell_type": "markdown",
   "metadata": {},
   "source": [
    "# Scrap"
   ]
  },
  {
   "cell_type": "code",
   "execution_count": null,
   "metadata": {
    "collapsed": false
   },
   "outputs": [],
   "source": [
    "figsize(10, 5)\n",
    "fontsize=13\n",
    "for cla, ls in zip(['ADC','Binary','Binned','Unbinned'],\n",
    "                   #['-', ':', '--', '-.']):\n",
    "                   [':', '-.', '--', '-']):\n",
    "    tpr = np.array(evt_curve_dict[cla][1])\n",
    "    fpr = np.array(evt_curve_dict[cla][0])\n",
    "    datum_label = \"Event\"\n",
    "    label = cla_dict[cla]\n",
    "    zoom=True\n",
    "    zoom_x_lims=[80,100]\n",
    "    zoom_y_lims=[50,100]\n",
    "    fig = plt.figure(1)\n",
    "    \n",
    "    fpr *= 100.\n",
    "    tpr *= 100.\n",
    "    \n",
    "    array_vals = np.rec.fromarrays((tpr, 100-fpr),  dtype=[('SigHitKeep', float), ('BackHitKeep', float)])\n",
    "#    plt.plot(array_vals[\"SigHitKeep\"], array_vals[\"BackHitKeep\"])\n",
    "    filename = cla_dict[cla].replace(\" \", \"_\").replace(\"(\", \"\").replace(\")\",\"\") + \"_event.root\"\n",
    "    print filename\n",
    "    root_numpy.array2root(array_vals, filename)\n",
    "    \n",
    "    ax = fig.add_subplot(111)\n",
    "    ax.plot(tpr, 100-fpr, label=label, c=\"black\", linestyle=ls)\n",
    "    ax.xaxis.tick_top()\n",
    "    ax.set_xlabel('Signal '+datum_label+' Retention Efficiency', size=fontsize)\n",
    "    ax.xaxis.set_label_position('top') \n",
    "    ax.set_ylabel('Background '+datum_label+' Rejection Efficiency', size=fontsize)    \n",
    "    ax.grid(b=True, which='minor', color='grey', linestyle=':')\n",
    "    ax.grid(b=True, which='major', color='grey', linestyle='--')\n",
    "\n",
    "    fmt = '%.0f%%' # Format you want the ticks, e.g. '40%'\n",
    "    xticks = mtick.FormatStrFormatter(fmt)\n",
    "    ax.xaxis.set_major_formatter(xticks)\n",
    "    ax.yaxis.set_major_formatter(xticks)\n",
    "\n",
    "    ax.set_axisbelow(True)\n",
    "    if zoom:\n",
    "        ax.set_xlim(zoom_x_lims)\n",
    "        ax.set_ylim(zoom_y_lims)\n",
    "    ax.minorticks_on()\n",
    "    # Deal with the legend\n",
    "    ax.legend(loc=3, frameon=1, fontsize=fontsize)\n",
    "    leg = ax.get_legend()\n",
    "    frame = leg.get_frame()\n",
    "    frame.set_facecolor('white')"
   ]
  },
  {
   "cell_type": "code",
   "execution_count": null,
   "metadata": {
    "collapsed": true
   },
   "outputs": [],
   "source": [
    "figsize(7*1.5, 5*1.5)\n",
    "fontsize=13\n",
    "for cla, ls in zip(['ADC','Binary','Binned','Unbinned'],\n",
    "                   ['-', ':', '--', '-.']):\n",
    "                   #[':', '-.', '--', '-']):\n",
    "    tpr = np.array(curve_dict[cla][1])\n",
    "    fpr = np.array(curve_dict[cla][0])\n",
    "    datum_label = \"Hit\"\n",
    "    label = cla_dict[cla]\n",
    "    zoom=True\n",
    "    zoom_x_lims=[80,100]\n",
    "    zoom_y_lims=[50,100]\n",
    "    fig = plt.figure(1)\n",
    "    \n",
    "    fpr *= 100.\n",
    "    tpr *= 100.\n",
    "    \n",
    "    array_vals = np.rec.fromarrays((tpr, 100-fpr),  dtype=[('SigHitKeep', float), ('BackHitKeep', float)])\n",
    "#    plt.plot(array_vals[\"SigHitKeep\"], array_vals[\"BackHitKeep\"])\n",
    "    filename = cla_dict[cla].replace(\" \", \"_\").replace(\"(\", \"\").replace(\")\",\"\") + \".root\"\n",
    "    print filename\n",
    "    root_numpy.array2root(array_vals, filename)\n",
    "    \n",
    "    ax = fig.add_subplot(111)\n",
    "    ax.plot(tpr, 100-fpr, label=label, c=\"black\", linestyle=ls)\n",
    "    ax.xaxis.tick_top()\n",
    "    ax.set_xlabel('Signal '+datum_label+' Retention Efficiency', size=fontsize)\n",
    "    ax.xaxis.set_label_position('top') \n",
    "    ax.set_ylabel('Background '+datum_label+' Rejection Efficiency', size=fontsize)    \n",
    "    ax.grid(b=True, which='minor', color='grey', linestyle=':')\n",
    "    ax.grid(b=True, which='major', color='grey', linestyle='--')\n",
    "\n",
    "    fmt = '%.0f%%' # Format you want the ticks, e.g. '40%'\n",
    "    xticks = mtick.FormatStrFormatter(fmt)\n",
    "    ax.xaxis.set_major_formatter(xticks)\n",
    "    ax.yaxis.set_major_formatter(xticks)\n",
    "\n",
    "    ax.set_axisbelow(True)\n",
    "    if zoom:\n",
    "        ax.set_xlim(zoom_x_lims)\n",
    "        ax.set_ylim(zoom_y_lims)\n",
    "    ax.minorticks_on()\n",
    "    # Deal with the legend\n",
    "    ax.legend(loc=3, frameon=1, fontsize=fontsize)\n",
    "    leg = ax.get_legend()\n",
    "    frame = leg.get_frame()\n",
    "    frame.set_facecolor('white')"
   ]
  },
  {
   "cell_type": "code",
   "execution_count": null,
   "metadata": {
    "collapsed": true
   },
   "outputs": [],
   "source": []
  },
  {
   "cell_type": "code",
   "execution_count": null,
   "metadata": {
    "collapsed": true
   },
   "outputs": [],
   "source": []
  }
 ],
 "metadata": {
  "kernelspec": {
   "display_name": "rep3",
   "language": "python",
   "name": "rep3"
  },
  "language_info": {
   "codemirror_mode": {
    "name": "ipython",
    "version": 3
   },
   "file_extension": ".py",
   "mimetype": "text/x-python",
   "name": "python",
   "nbconvert_exporter": "python",
   "pygments_lexer": "ipython3",
   "version": "3.4.5"
  },
  "varInspector": {
   "cols": {
    "lenName": 16,
    "lenType": 16,
    "lenVar": 40
   },
   "kernels_config": {
    "python": {
     "delete_cmd_postfix": "",
     "delete_cmd_prefix": "del ",
     "library": "var_list.py",
     "varRefreshCmd": "print(var_dic_list())"
    },
    "r": {
     "delete_cmd_postfix": ") ",
     "delete_cmd_prefix": "rm(",
     "library": "var_list.r",
     "varRefreshCmd": "cat(var_dic_list()) "
    }
   },
   "types_to_exclude": [
    "module",
    "function",
    "builtin_function_or_method",
    "instance",
    "_Feature"
   ],
   "window_display": false
  }
 },
 "nbformat": 4,
 "nbformat_minor": 1
}
