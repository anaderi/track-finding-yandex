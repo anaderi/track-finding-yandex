{
 "cells": [
  {
   "cell_type": "code",
   "execution_count": 1,
   "metadata": {
    "collapsed": true
   },
   "outputs": [],
   "source": [
    "def test_get_measurement(samp, events, verbose=False):\n",
    "    return_value = True\n",
    "    for evt in events:\n",
    "        all_types = samp.cdc.get_events(events=evt)[samp.cdc.hit_type_name]\n",
    "        all_types_2 = samp.cdc.get_measurement(samp.cdc.hit_type_name, events=evt)\n",
    "        good = np.array_equal(all_types, all_types_2)\n",
    "        if not good:\n",
    "            print \"Event: {}\".format(evt)\n",
    "            if verbose:\n",
    "                print all_types.shape\n",
    "                print all_types_2.shape\n",
    "                print sum(samp.cdc.event_to_n_hits[evt])\n",
    "                print samp.cdc.event_to_hits[evt].shape\n",
    "            return_value = False\n",
    "    return return_value"
   ]
  }
 ],
 "metadata": {
  "kernelspec": {
   "display_name": "Python 2",
   "language": "python",
   "name": "python2"
  },
  "language_info": {
   "codemirror_mode": {
    "name": "ipython",
    "version": 2
   },
   "file_extension": ".py",
   "mimetype": "text/x-python",
   "name": "python",
   "nbconvert_exporter": "python",
   "pygments_lexer": "ipython2",
   "version": "2.7.12"
  }
 },
 "nbformat": 4,
 "nbformat_minor": 2
}
