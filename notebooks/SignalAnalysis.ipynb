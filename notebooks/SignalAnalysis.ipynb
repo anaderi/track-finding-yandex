{
 "cells": [
  {
   "cell_type": "code",
   "execution_count": 3,
   "metadata": {},
   "outputs": [],
   "source": [
    "import sys\n",
    "sys.path.insert(0, '../modules')\n",
    "from hits import CDCHits, CTHHits, CDCHits, FlatHits\n",
    "from memory_profiler import memory_usage\n",
    "from pprint import pprint\n",
    "from collections import Counter\n",
    "from root_numpy import list_branches\n",
    "%load_ext memory_profiler\n",
    "from tracking import HoughSpace\n",
    "from scipy import sparse\n",
    "from tracking import HoughTransformer, HoughShifter\n",
    "from cylinder import CDC"
   ]
  },
  {
   "cell_type": "code",
   "execution_count": 2,
   "metadata": {},
   "outputs": [],
   "source": [
    "import root_numpy"
   ]
  },
  {
   "cell_type": "code",
   "execution_count": 4,
   "metadata": {},
   "outputs": [
    {
     "name": "stdout",
     "output_type": "stream",
     "text": [
      "Populating the interactive namespace from numpy and matplotlib\n"
     ]
    }
   ],
   "source": [
    "# The most common are stored in these notebooks\n",
    "%run visualizations.ipynb\n",
    "%run data_tools.ipynb"
   ]
  },
  {
   "cell_type": "code",
   "execution_count": 5,
   "metadata": {},
   "outputs": [],
   "source": [
    "file_root = \"/home/five4three2/development/ICEDUST/\"\\\n",
    "            \"track-finding-yandex/data/MC4p/\"\n",
    "\n",
    "back_samples = [\"MC4p_background_sample_3bunch-train_1.root\",\n",
    "                \"MC4p_background_sample_3bunch-train_2.root\",\n",
    "                \"MC4p_background_sample_3bunch-train_3.root\",\n",
    "                \"MC4p_background_sample_3bunch-train_4.root\"]\n",
    "sig_samples = [\"oa_xx_xxx_09010000-0000_xerynzb6emaf_user-TrkTree_000_500signal-label.root\",\n",
    "               \"oa_xx_xxx_09110000-0000_2mdcao2ehzya_user-TrkTree_000_500signal-label.root\",\n",
    "               \"oa_xx_xxx_09210000-0000_opfmr3awxs2m_user-TrkTree_000_500signal-label.root\",\n",
    "               \"oa_xx_xxx_09310000-0000_v62e3u5ppkju_user-TrkTree_000_500signal-label.root\"]\n",
    "\n",
    "sig_samples = [\n",
    "    \"oa_xx_xxx_09010000-0000_xerynzb6emaf_user-TrkTree_000_500signal-label.root\",\n",
    "    \"oa_xx_xxx_09110000-0000_2mdcao2ehzya_user-TrkTree_000_500signal-label.root\",\n",
    "    \"oa_xx_xxx_09210000-0000_opfmr3awxs2m_user-TrkTree_000_500signal-label.root\",\n",
    "    \"oa_xx_xxx_09310000-0000_v62e3u5ppkju_user-TrkTree_000_500signal-label.root\",\n",
    "    \"oa_xx_xxx_09410000-0000_z2p5ysva45vx_user-TrkTree_000_500signal-label.root\",\n",
    "    \"oa_xx_xxx_09510000-0000_3eox62hw5ygi_user-TrkTree_000_500signal-label.root\",\n",
    "    \"oa_xx_xxx_09610000-0000_7ctgq54tptae_user-TrkTree_000_500signal-label.root\",\n",
    "    \"oa_xx_xxx_09710000-0000_kah3t5htgouf_user-TrkTree_000_500signal-label.root\",\n",
    "    \"oa_xx_xxx_09810000-0000_a4tlhqvqnv4p_user-TrkTree_000_500signal-label.root\",\n",
    "    \"oa_xx_xxx_09910000-0000_h6g347twij7d_user-TrkTree_000_500signal-label.root\"]\n",
    "\n",
    "sig_samples_700 = [\n",
    "    \"oa_xx_xxx_09010000-0000_bgd5wd5uhw2n_user-TrkTree_000_700signal-label.root\",\n",
    "    \"oa_xx_xxx_09110000-0000_fiey62djp4gd_user-TrkTree_000_700signal-label.root\",\n",
    "    \"oa_xx_xxx_09210000-0000_chqno3g2fxqs_user-TrkTree_000_700signal-label.root\",\n",
    "    \"oa_xx_xxx_09310000-0000_paynw633hzqk_user-TrkTree_000_700signal-label.root\",\n",
    "    \"oa_xx_xxx_09410000-0000_kd234xkjqddc_user-TrkTree_000_700signal-label.root\",\n",
    "    \"oa_xx_xxx_09510000-0000_lpd33ym64roi_user-TrkTree_000_700signal-label.root\",\n",
    "    \"oa_xx_xxx_09610000-0000_i37ocps322kr_user-TrkTree_000_700signal-label.root\",\n",
    "    \"oa_xx_xxx_09710000-0000_t2l7rgghqqdq_user-TrkTree_000_700signal-label.root\",\n",
    "    \"oa_xx_xxx_09810000-0000_mzoackf2gbk7_user-TrkTree_000_700signal-label.root\",\n",
    "    \"oa_xx_xxx_09910000-0000_cbwuzp2l4inz_user-TrkTree_000_700signal-label.root\"]\n",
    "\n",
    "back_samples = [file_root + this_file for this_file in back_samples]\n",
    "sig_samples = [file_root + this_file for this_file in sig_samples]"
   ]
  },
  {
   "cell_type": "markdown",
   "metadata": {},
   "source": [
    "## Import the signal file"
   ]
  },
  {
   "cell_type": "code",
   "execution_count": 6,
   "metadata": {},
   "outputs": [
    {
     "ename": "SyntaxError",
     "evalue": "invalid syntax (<ipython-input-6-5f37cadbaaad>, line 1)",
     "output_type": "error",
     "traceback": [
      "\u001b[0;36m  File \u001b[0;32m\"<ipython-input-6-5f37cadbaaad>\"\u001b[0;36m, line \u001b[0;32m1\u001b[0m\n\u001b[0;31m    sig_hits = data_import_file(, signal=True,\u001b[0m\n\u001b[0m                                ^\u001b[0m\n\u001b[0;31mSyntaxError\u001b[0m\u001b[0;31m:\u001b[0m invalid syntax\n"
     ]
    }
   ],
   "source": [
    "sig_hits = data_import_file(, signal=True,\n",
    "                            use_cuts=these_cuts, branches=branches,\n",
    "                            empty_branches=empty_branches)"
   ]
  },
  {
   "cell_type": "code",
   "execution_count": 104,
   "metadata": {},
   "outputs": [
    {
     "data": {
      "image/png": "[encoded data removed]",
      "text/plain": [
       "<Figure size 720x720 with 2 Axes>"
      ]
     },
     "metadata": {},
     "output_type": "display_data"
    }
   ],
   "source": [
    "import math\n",
    "import numpy as np\n",
    "figsize(10,10)\n",
    "\n",
    "def nCr(n,r):\n",
    "    f = math.factorial\n",
    "    return f(n) / f(r) / f(n-r)\n",
    "nN = 100\n",
    "an_array = np.zeros((nN, nN))\n",
    "\n",
    "for n in range(0,nN):\n",
    "    for r in range(0,n+1):#\n",
    "        an_array[n,r] = nCr(n,r)\n",
    "an_array = (an_array.astype(float).T / (np.amax(an_array, axis=1)).astype(float)).T\n",
    "plt.imshow(an_array, interpolation='nearest', origin='low',\n",
    "           extent=[0, nN, 0, nN])\n",
    "plt.colorbar()\n",
    "plt.title(\"nCr / max_r(nCr) \\n for a given n vs. (n,r)\")\n",
    "plt.xlabel(\"r\")\n",
    "plt.ylabel(\"n\")\n",
    "plt.show()"
   ]
  },
  {
   "cell_type": "code",
   "execution_count": null,
   "metadata": {},
   "outputs": [],
   "source": []
  }
 ],
 "metadata": {
  "kernelspec": {
   "display_name": "tfy2",
   "language": "python",
   "name": "tfy2"
  },
  "language_info": {
   "codemirror_mode": {
    "name": "ipython",
    "version": 2
   },
   "file_extension": ".py",
   "mimetype": "text/x-python",
   "name": "python",
   "nbconvert_exporter": "python",
   "pygments_lexer": "ipython2",
   "version": "2.7.14"
  }
 },
 "nbformat": 4,
 "nbformat_minor": 2
}
